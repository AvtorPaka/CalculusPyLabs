{
  "cells": [
    {
      "cell_type": "code",
      "execution_count": 110,
      "metadata": {
        "id": "QmiHX8WPqmAN"
      },
      "outputs": [],
      "source": [
        "import sympy\n",
        "from sympy import Symbol, symbols, S, Function, integrate, Integral, diff, solve, latex, simplify, Eq, Piecewise, plot\n",
        "from IPython.display import display, Latex"
      ]
    },
    {
      "cell_type": "markdown",
      "metadata": {
        "id": "61doZhC6qmAO"
      },
      "source": [
        "## Занятие 9-10\n",
        "## Математический анализ\n",
        "## Интегрирование функции: первообразная и неопределенный интеграл\n",
        "https://docs.sympy.org/1.5.1/modules/integrals/integrals.html\n",
        "\n",
        "https://ru.wikipedia.org/wiki/%D0%9F%D0%B5%D1%80%D0%B2%D0%BE%D0%BE%D0%B1%D1%80%D0%B0%D0%B7%D0%BD%D0%B0%D1%8F\n",
        "\n",
        "https://ru.wikipedia.org/wiki/%D0%A1%D0%BF%D0%B8%D1%81%D0%BE%D0%BA_%D0%B8%D0%BD%D1%82%D0%B5%D0%B3%D1%80%D0%B0%D0%BB%D0%BE%D0%B2_%D1%8D%D0%BB%D0%B5%D0%BC%D0%B5%D0%BD%D1%82%D0%B0%D1%80%D0%BD%D1%8B%D1%85_%D1%84%D1%83%D0%BD%D0%BA%D1%86%D0%B8%D0%B9"
      ]
    },
    {
      "cell_type": "markdown",
      "metadata": {
        "id": "gi6ebF7TqmAP"
      },
      "source": [
        "### Задача 1.\n",
        "Вычислить определенные интегралы:\n",
        "$$\n",
        "1)\\ \\int_2^3 \\frac{1}{\\sqrt{x-2}},\\ 2) \\int_1^6 \\frac{1}{(x-1)^3},\\ 3)\\ \\int_2^\\infty \\frac{1}{(x-1)^3}\n",
        "$$"
      ]
    },
    {
      "cell_type": "code",
      "execution_count": null,
      "metadata": {
        "colab": {
          "base_uri": "https://localhost:8080/",
          "height": 146
        },
        "id": "o1CdybZOqmAP",
        "outputId": "f09e8e1e-c6af-476d-974e-abcd6dc304b8"
      },
      "outputs": [],
      "source": [
        "x, C = symbols('x C')\n",
        "\n",
        "# Функия для нахождения определённого интеграла\n",
        "def Find_Def_Integral(func, left_lim, right_lim, sym = x):\n",
        "  return integrate(func, (sym, left_lim, right_lim))\n",
        "\n",
        "func_1 = S(1)/sympy.sqrt(x - 2)\n",
        "func_2 = S(1)/(x - 1)**3\n",
        "\n",
        "display(Latex(fr\"{latex(Integral(func_1, (x, 2, 3)))} = {latex(Find_Def_Integral(func_1, 2, 3))}\"))\n",
        "display(Latex(fr\"{latex(Integral(func_2, (x, 1, 6)))} = {latex(Find_Def_Integral(func_2, 1, 6))}\"))\n",
        "display(Latex(fr\"{latex(Integral(func_2, (x, 1, sympy.oo)))} = {latex(Find_Def_Integral(func_2, 1, sympy.oo))}\"))"
      ]
    },
    {
      "cell_type": "markdown",
      "metadata": {
        "id": "w-RId9TGqmAP"
      },
      "source": [
        "### Задача 2\n",
        "Описать функцию, находящую неопределенный интеграл $\\int f(x)\\,dx$ в виде $F(x)+C$.\n",
        "\n",
        "Использовать эту функцию для интегрирования $\\sin(3x+5)$, $x{\\rm tg}(x^2)$, $(e^{\\sin x})\\cos x$, $x^2e^{x^3}$"
      ]
    },
    {
      "cell_type": "code",
      "execution_count": null,
      "metadata": {
        "colab": {
          "base_uri": "https://localhost:8080/",
          "height": 188
        },
        "id": "eOCfonyLqmAP",
        "outputId": "838fccfd-b322-4c77-a153-71309ed8f2e0"
      },
      "outputs": [],
      "source": [
        "# Фунция для нахождения неопределённого интеграла\n",
        "def Find_Indef_Integral(func, sym = x):\n",
        "  return integrate(func, sym) + C\n",
        "\n",
        "lst_funcs = [sympy.sin(3 * x + 5), x * sympy.tan(x**2), (sympy.E ** sympy.sin(x)) * sympy.cos(x), x**2 * sympy.E**(x**3)]\n",
        "for i in range(len(lst_funcs)):\n",
        "  display(Latex(fr\"{latex(Integral(lst_funcs[i], x))} = {latex(Find_Indef_Integral(lst_funcs[i], x))} \\quad , \\  \" + r\"C \\in \\mathbb{R}\"))\n",
        "  print()"
      ]
    },
    {
      "cell_type": "markdown",
      "metadata": {
        "id": "RkzgIO2-qmAQ"
      },
      "source": [
        "### Задача 3.\n",
        "Найти первообразную функции $\\frac{x-3}{(x+1)^2}$, график которой проходит через начало координат."
      ]
    },
    {
      "cell_type": "code",
      "execution_count": null,
      "metadata": {
        "colab": {
          "base_uri": "https://localhost:8080/",
          "height": 52
        },
        "id": "-UnJUjwEqmAQ",
        "outputId": "2a843bb6-f8ff-438a-d4b6-03fe6bece118"
      },
      "outputs": [],
      "source": [
        "func = (x - 3)/(x + 1)**2\n",
        "display(Find_Indef_Integral(func, x).subs({ C : solve(Eq(Find_Indef_Integral(func, x).subs({x : 0}), 0), C)[0]}))"
      ]
    },
    {
      "cell_type": "markdown",
      "metadata": {
        "id": "Wp5Cu_DOqmAQ"
      },
      "source": [
        "### Задача 4.\n",
        "Описать функцию, вычисляющую неопределенный интеграл от $\\frac{1}{\\sqrt{x^2+a}}$ по формуле \"длинного логарифма\":\n",
        "$$\n",
        "\\int\\frac{1}{\\sqrt{x^2+a}} = \\ln|x + \\sqrt{x^2 + a}| + C,\\quad a \\neq 0.\n",
        "$$\n",
        "Функция возвращает $\\ln|x| + C$ при $a = 0$. Аргументы функции - переменная интегрирования $x$ и параметр $a$.\n",
        "\n",
        "Вызвать функцию при $a = 0, 1, 4$. Сравнить с результатом integrate.\n",
        "\n",
        "Проверить дифференцированием, при необходимости использовать simplyfy для того, чтобы упростить выражение.\n",
        "\n",
        "Рекомендется создавать положительные символы, чтобы не было неоднозначности."
      ]
    },
    {
      "cell_type": "code",
      "execution_count": null,
      "metadata": {
        "colab": {
          "base_uri": "https://localhost:8080/",
          "height": 636
        },
        "id": "iE7w71kXqmAR",
        "outputId": "5252aa3b-c6f1-4a1d-93a4-3705e5f8a476"
      },
      "outputs": [],
      "source": [
        "x_pos, a = symbols('x a', positive = True)\n",
        "\n",
        "# Функия вычисляющая неопределённый интеграл по формуле \"длинного логарифма\"\n",
        "def Find_Indef_Int_Log(a, x_sym = x_pos):\n",
        "  if (a == 0):\n",
        "    return sympy.log(abs(x_sym)) + C\n",
        "  return sympy.log(abs(x_sym + sympy.sqrt(x_sym ** 2 + a))) + C\n",
        "\n",
        "func_param_a = S(1)/sympy.sqrt(x_pos**2 + a)\n",
        "\n",
        "lst_params_a = [0, 1, 4]\n",
        "for i in range(len(lst_params_a)):\n",
        "  indef_int_cur = Find_Indef_Int_Log(lst_params_a[i])\n",
        "  display(Latex(fr\"[{latex(i + 1)}]. A = {latex(lst_params_a[i])}\"))\n",
        "  display(Latex(fr\"\\text{{Значение неопределённого интеграла через описанную функцию :}}\"))\n",
        "  display(Latex(fr\"{latex(Integral(func_param_a.subs({a : lst_params_a[i]})))} = {latex(indef_int_cur)}\"))\n",
        "  print()\n",
        "  display(Latex(fr\"\\text{{Значение неопределённого интеграла через integrate:}}\"))\n",
        "  display(Latex(fr\"{latex(Integral(func_param_a.subs({a : lst_params_a[i]})))} = {latex(Find_Indef_Integral(func_param_a.subs({a : lst_params_a[i]}), x_pos))}\"))\n",
        "  print()\n",
        "  display(Latex(fr\"\\text{{Проверка дифференцированием: }}\"))\n",
        "  display(Latex(fr\"({latex(indef_int_cur)})' = {latex(simplify(diff(indef_int_cur - C, x_pos)))}\"))\n",
        "  print()\n"
      ]
    },
    {
      "cell_type": "markdown",
      "metadata": {
        "id": "74nJQuaJqmAR"
      },
      "source": [
        "### Задача 5.\n",
        "Провести замену переменной $y = x^2$ в интеграле $\\int x e^{x^2}\\,dx$."
      ]
    },
    {
      "cell_type": "code",
      "execution_count": null,
      "metadata": {
        "colab": {
          "base_uri": "https://localhost:8080/",
          "height": 62
        },
        "id": "MfupRWeZqmAR",
        "outputId": "88343406-b748-4f7f-a787-8ad2dfc53d11"
      },
      "outputs": [],
      "source": [
        "y = Symbol('y')\n",
        "\n",
        "func_3 = x * sympy.E**(x**2)\n",
        "display(Latex(fr\"\\text{{Замена перемнной  }} y = x^2 : \"))\n",
        "I = Integral(func_3, x)\n",
        "display(Latex(fr\"{latex(I)} = {latex(I.transform(x**2, y))} \"))"
      ]
    },
    {
      "cell_type": "markdown",
      "metadata": {
        "id": "9bqGIy8kqtPB"
      },
      "source": [
        "### Задача 6.\n",
        "$$\n",
        "sign(x)=\\left\\{\\begin{matrix}\n",
        "-1,\\quad x<0\\\\\n",
        "0,\\quad x=0\\\\\n",
        "1,\\quad x>0\n",
        "\\end{matrix}\\right.\n",
        "$$\n",
        "Описать кусочную функцию $sign(x)$ и функцию $F(x)=\\int_{-1}^x sign(t)\\,dt$, аргумент обеих функций $x$. Построить график $sign(x)$ красной сплошной линией и $F(x)$ зеленой в одной плоскости на интервале $[-1, 2]$."
      ]
    },
    {
      "cell_type": "code",
      "execution_count": 198,
      "metadata": {
        "colab": {
          "base_uri": "https://localhost:8080/",
          "height": 487
        },
        "id": "T-0dDTFnqud7",
        "outputId": "a0a0f5e0-4287-4c98-9ffd-bc300a27e6c6"
      },
      "outputs": [
        {
          "data": {
            "image/png": "[encoded data removed]",
            "text/plain": [
              "<Figure size 640x480 with 1 Axes>"
            ]
          },
          "metadata": {},
          "output_type": "display_data"
        }
      ],
      "source": [
        "t, x = symbols('t x')\n",
        "\n",
        "func_sgn = Piecewise((-1, x < 0), (1 , x > 0), (0, True))\n",
        "int_func_sgn = integrate(func_sgn.subs({x : t}), (t, -1, x))\n",
        "\n",
        "plt_1 = plot(func_sgn, (x, -1, 2), line_color = \"red\", legend = True, label = r\"$sgn(x)$\", xlabel = r\"$x$\", ylabel = r\"$y$\", show = False)\n",
        "plt_1.append(plot(int_func_sgn, (x, -1, 2), line_color = \"green\",  legend = True, label = r\"$F(x)$\", xlabel = r\"$x$\", ylabel = r\"$y$\", show = False)[0])\n",
        "plt_1.show()"
      ]
    },
    {
      "cell_type": "markdown",
      "metadata": {
        "id": "BlGdwq-Qq1bZ"
      },
      "source": [
        "### Задача 7.\n",
        "В неопределенном интеграле $\\int \\frac1{2\\sqrt x}e^{\\sqrt x},\\,dx$ провести замену переменной $x=u^2$, вычислить полученный интеграл, сделать обратную замену и проверить правильность полученного результата дифференцированием.\n",
        "#### Указание.\n",
        "Нужно использовать положительный символ $u$."
      ]
    },
    {
      "cell_type": "code",
      "execution_count": null,
      "metadata": {
        "colab": {
          "base_uri": "https://localhost:8080/",
          "height": 192
        },
        "id": "ylmw2Vvgq3NJ",
        "outputId": "679ebb51-383a-4a05-949a-e4b97920ec8f"
      },
      "outputs": [],
      "source": [
        "u = Symbol('u', positive = True)\n",
        "\n",
        "func_7 = S(sympy.E**(sympy.sqrt(x)))/(2 * sympy.sqrt(x))\n",
        "I_7 = Integral(func_7, x)\n",
        "I_trans = I_7.transform(sympy.sqrt(x), u)\n",
        "Int_def = I_trans.doit()\n",
        "Int_zamen = Int_def.subs({u : sympy.sqrt(x)})\n",
        "\n",
        "display(Latex(fr\"\\text{{Замена перемнной  }} u^2 = x : \"))\n",
        "display(Latex(fr\"{latex(I_7)} = {latex(I_trans)}\"))\n",
        "print()\n",
        "display(Latex(fr\"\\text{{Вычисление интеграла и обратная замена: }}\"))\n",
        "display(Latex(fr\"{latex(I_trans)} = {latex(Int_def + C)} = {latex(Int_zamen + C)}\"))\n",
        "print()\n",
        "display(Latex(fr\"\\text{{Проверка дифференцированием: }}\"))\n",
        "display(Latex(fr\"({latex(Int_zamen + C)})' = {latex(diff(Int_zamen, x))}\"))"
      ]
    },
    {
      "cell_type": "markdown",
      "metadata": {
        "id": "y32maC7WqmAR"
      },
      "source": [
        "### Индивидуальное задание\n",
        "Провести замену переменных в определенном интеграле, представить результат в виде двух уравнений, как в примере:\n",
        "\\begin{align*}\n",
        "\\int_1^4 \\frac{dx}{\\sqrt{x}\\left(\\sqrt{x}+1\\right)} = \\int_1^2 \\frac{2\\,dy}{y + 1}\\\\\n",
        "\\int_1^2 \\frac{2\\,dy}{y + 1} = 2(\\ln 3 - \\ln 2)\n",
        "\\end{align*}\n",
        "(с точностью до перестановки слагаемых и сомножителей)\n",
        "\n",
        "Вариант №134\n",
        "\n",
        "$$\\int\\limits_{2}^{3} e^{\\sin{\\left(x \\right)}} \\cos{\\left(x \\right)}\\, dx$$\n",
        "замена $y = \\sin{\\left(x \\right)}$"
      ]
    },
    {
      "cell_type": "code",
      "execution_count": null,
      "metadata": {
        "colab": {
          "base_uri": "https://localhost:8080/",
          "height": 118
        },
        "id": "WAzWmbrRqmAR",
        "outputId": "fc24d75d-68dc-4461-877b-22b7b5ac2759"
      },
      "outputs": [],
      "source": [
        "y = Symbol('y')\n",
        "\n",
        "func_ind = sympy.E**(sympy.sin(x)) * sympy.cos(x)\n",
        "I_ind = Integral(func_ind, (x, 2, 3))\n",
        "I_ind_transf = I_ind.transform(sympy.sin(x), y)\n",
        "I_ind_val = integrate(simplify(I_ind_transf.function), I_ind_transf.limits)\n",
        "display(Latex(fr\"{latex(I_ind)} = {latex(I_ind_transf)}\"))\n",
        "display(Latex(fr\"{latex(I_ind_transf)} = {latex(I_ind_val)}\"))"
      ]
    }
  ],
  "metadata": {
    "colab": {
      "provenance": []
    },
    "kernelspec": {
      "display_name": "Python 3",
      "language": "python",
      "name": "python3"
    },
    "language_info": {
      "codemirror_mode": {
        "name": "ipython",
        "version": 3
      },
      "file_extension": ".py",
      "mimetype": "text/x-python",
      "name": "python",
      "nbconvert_exporter": "python",
      "pygments_lexer": "ipython3",
      "version": "3.7.3"
    }
  },
  "nbformat": 4,
  "nbformat_minor": 0
}

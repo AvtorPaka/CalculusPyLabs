{
  "cells": [
    {
      "cell_type": "code",
      "execution_count": 4,
      "metadata": {
        "id": "YWe4a9hmr1KJ"
      },
      "outputs": [],
      "source": [
        "import numpy as np\n",
        "import matplotlib.pyplot as plt\n",
        "import sympy\n",
        "from sympy import Symbol, diff, solve, nsolve, solveset, latex, S, simplify, fraction, Union, Interval, intersection, limit\n",
        "from sympy.calculus.util import continuous_domain\n",
        "from sympy import sin as Sin\n",
        "from sympy import cos as Cos\n",
        "from sympy import pi as Pi\n",
        "from IPython.display import display, Latex\n",
        "%matplotlib inline"
      ]
    },
    {
      "cell_type": "markdown",
      "metadata": {
        "id": "ZXqqbb69r1KJ"
      },
      "source": [
        "## Занятие 8\n",
        "## Математический анализ\n",
        "## Дифференцирование функции, заданной параметрически\n",
        "Пусть зависимость $y$ от $x$ задана параметрически:\n",
        "$$\n",
        "\\left\\{\n",
        "\\begin{matrix}\n",
        "x = \\varphi(t)\\\\\n",
        "y = \\psi(t)\n",
        "\\end{matrix}\n",
        "\\right.\n",
        "$$\n",
        "тогда производная $y$ по $x$  находится по формуле\n",
        "$$\n",
        "y'_x = \\frac{y'_t}{x'_t} = \\frac{\\psi'_t}{\\varphi'_t}\n",
        "$$\n",
        "Вторая производная:\n",
        "$$\n",
        "y''_{xx} = \\frac{x'_t y''_{tt}-x''_{tt}y'_t}{(x'_t)^3}  = \\frac{\\varphi'_t \\psi''_{tt}-\\varphi''_{tt}\\psi'_t}{(\\varphi'_t)^3}\n",
        "$$\n",
        "### Задание 1\n",
        "Найти производные 1 и 2 порядка функции\n",
        "$$\n",
        "\\left\\{\n",
        "\\begin{matrix}\n",
        "x = \\sin(t) - t\\cos(t)\\\\\n",
        "y = \\cos(t) + t\\sin(t)\n",
        "\\end{matrix}\n",
        "\\right.\n",
        "$$"
      ]
    },
    {
      "cell_type": "code",
      "execution_count": null,
      "metadata": {
        "colab": {
          "base_uri": "https://localhost:8080/",
          "height": 66
        },
        "id": "MYnmkzURr1KK",
        "outputId": "1f1acda5-87d1-43f2-b578-ad2d387e93ab"
      },
      "outputs": [],
      "source": [
        "t = Symbol('t')\n",
        "\n",
        "def Find_Derivative_Parametric(func_x, func_y, order = 1):\n",
        "  t = Symbol('t')\n",
        "  dx_cur = diff(func_x, t)\n",
        "  dy_cur = diff(func_y, t)\n",
        "  if (order == 1):\n",
        "    return dy_cur/dx_cur\n",
        "  else:\n",
        "    dx2_cur = diff(func_x, t, 2)\n",
        "    dy2_cur = diff(func_y, t, 2)\n",
        "    return (dx_cur * dy2_cur - dx2_cur * dy_cur)/ (dx_cur**3)\n",
        "\n",
        "def x(t):\n",
        "  return Sin(t) - t * Cos(t)\n",
        "def y(t):\n",
        "  return Cos(t) + t * Sin(t)\n",
        "\n",
        "dx_y = Find_Derivative_Parametric(x(t), y(t), 1)\n",
        "dx2_y = Find_Derivative_Parametric(x(t), y(t), 2)\n",
        "display(Latex(fr\"\\text{{Прозводная первого порядка: }} {latex(simplify(dy_x))}\"))\n",
        "display(Latex(fr\"\\text{{Прозводная второго порядка: }} {latex(simplify(dy2_x))}\"))"
      ]
    },
    {
      "cell_type": "markdown",
      "metadata": {
        "id": "gVe1_gtjr1KK"
      },
      "source": [
        "### Задание 2.\n",
        "Найти нули производных первого и второго порядка, а также точки, в которых эти производные не существуют, для функции\n",
        "$$\n",
        "\\left\\{\n",
        "\\begin{matrix}\n",
        "x = t^2 - 2t\\\\\n",
        "y = t^2 + 2t\n",
        "\\end{matrix}\n",
        "\\right.\n",
        "$$"
      ]
    },
    {
      "cell_type": "code",
      "execution_count": null,
      "metadata": {
        "colab": {
          "base_uri": "https://localhost:8080/",
          "height": 98
        },
        "id": "broPydXhr1KK",
        "outputId": "620edafe-b4d3-4cf3-a25b-95d4e5e1df9b"
      },
      "outputs": [],
      "source": [
        "def x(t):\n",
        "  return t**2 - 2 * t\n",
        "def y(t):\n",
        "  return t**2 + 2 * t\n",
        "\n",
        "dx_y = Find_Derivative_Parametric(x(t), y(t), 1)\n",
        "dx2_y = Find_Derivative_Parametric(x(t), y(t), 2)\n",
        "dx_y_num, dx_y_denum = fraction(dx_y)\n",
        "dx2_y_num, dx2_y_denum = fraction(dx2_y)\n",
        "dx_y_num_null = solveset(dx_y_num, domain = S.Reals)\n",
        "dx_y_denum_null = solveset(dx_y_denum, domain = S.Reals)\n",
        "dx2_y_num_null = solveset(dx2_y_num, domain = S.Reals)\n",
        "dx2_y_denum_null = solveset(dx2_y_denum, domain = S.Reals)\n",
        "display(Latex(fr\"\\text{{Нули производной первого порядка: }}{latex(dx_y_num_null if len(dx_y_num_null) !=0 else 'None')}\"))\n",
        "display(Latex(fr\"\\text{{Сингулярные точки производной первого порядка: }}{latex(dx_y_denum_null if len(dx_y_denum_null) !=0 else 'None')}\"))\n",
        "display(Latex(fr\"\\text{{Нули производной второго порядка: }}{latex(dx2_y_num_null if len(dx2_y_num_null) !=0 else 'None')}\"))\n",
        "display(Latex(fr\"\\text{{Сингулярные точки производной второго порядка: }}{latex(dx2_y_denum_null if len(dx2_y_denum_null) !=0 else 'None')}\"))"
      ]
    },
    {
      "cell_type": "markdown",
      "metadata": {
        "id": "iXMbj5XKr1KK"
      },
      "source": [
        "### Задание 3.\n",
        "Найти точки экстремума и точки перегиба функции Задания 2."
      ]
    },
    {
      "cell_type": "code",
      "execution_count": null,
      "metadata": {
        "colab": {
          "base_uri": "https://localhost:8080/",
          "height": 78
        },
        "id": "afXMOHJYr1KL",
        "outputId": "ca2e4731-e459-433f-965c-3d6bd3b8cb4f"
      },
      "outputs": [],
      "source": [
        "crit_points = sorted([*Union(dx_y_num_null, dx_y_denum_null)])\n",
        "lst_extr_interval = [crit_points[0] - 0.5] + [(crit_points[i] + crit_points[i + 1])/ 2 for i in range(len(crit_points) - 1)] + [crit_points[-1] + 0.5]\n",
        "inflect_points = sorted([*Union(dx2_y_num_null, dx2_y_denum_null)])\n",
        "lst_inflect_interval = [inflect_points[0] - 0.5] + [(inflect_points[i] + inflect_points[i + 1])/ 2 for i in range(len(inflect_points) - 1)] + [inflect_points[-1] + 0.5]\n",
        "\n",
        "lst_maxs = []\n",
        "lst_mins = []\n",
        "for i in range(len(crit_points)):\n",
        "  cur_point = crit_points[i]\n",
        "  if cur_point in dx_y_num_null:\n",
        "    dif_val_left = dx_y.subs({t : lst_extr_interval[i]})\n",
        "    dif_val_right = dx_y.subs({t :lst_extr_interval[i + 1]})\n",
        "    x_val_left = float(x(lst_extr_interval[i]))\n",
        "    x_val_right = float(x(lst_extr_interval[i + 1]))\n",
        "    if (dif_val_left < 0 and dif_val_right > 0 and x_val_left < x_val_right) or (dif_val_left > 0 and dif_val_right < 0 and x_val_left > x_val_right):\n",
        "      lst_mins.append(cur_point)\n",
        "    elif (dif_val_left > 0 and dif_val_right < 0 and x_val_left < x_val_right) or (dif_val_left < 0 and dif_val_right > 0 and x_val_left > x_val_right):\n",
        "      lst_maxs.append(cur_point)\n",
        "\n",
        "lst_inflect_points = []\n",
        "for i in range(len(inflect_points)):\n",
        "  cur_point = inflect_points[i]\n",
        "  if (cur_point in dx2_y_num_null):\n",
        "    dif_val_left = dx2_y.subs({t: lst_inflect_interval[i]})\n",
        "    dif_val_right = dx2_y.subs({t : lst_inflect_interval[i + 1]})\n",
        "    if (dif_val_left * dif_val_right < 0):\n",
        "      lst_inflect_points.append(cur_point)\n",
        "\n",
        "\n",
        "display(Latex(fr\"\\text{{Точки локального макисмума функции : }}{latex(lst_maxs if len(lst_maxs) != 0 else 'None')}\"))\n",
        "display(Latex(fr\"\\text{{Точки локального минимума функции : }}{latex(lst_mins if len(lst_mins) != 0 else 'None')}\"))\n",
        "display(Latex(fr\"\\text{{Точки перегиба функции : }}{latex(lst_inflect_points if len(lst_inflect_points) != 0 else 'None')}\"))"
      ]
    },
    {
      "cell_type": "markdown",
      "metadata": {
        "id": "b-vs7pCnr1KL"
      },
      "source": [
        "### Задание 4. Точки перегиба\n",
        "Найти точки перегиба функции, график строить не нужно.\n",
        "$$\n",
        "\\left\\{\n",
        "\\begin{matrix}\n",
        "x = e^t\\\\\n",
        "y = te^{2t}\n",
        "\\end{matrix}\n",
        "\\right.\n",
        "$$"
      ]
    },
    {
      "cell_type": "code",
      "execution_count": null,
      "metadata": {
        "colab": {
          "base_uri": "https://localhost:8080/",
          "height": 38
        },
        "id": "34eu1CKwr1KL",
        "outputId": "38b753e5-8d0a-456e-911d-38454140a0c3"
      },
      "outputs": [],
      "source": [
        "def x(t):\n",
        "  return sympy.E**t\n",
        "def y(t):\n",
        "  return t * sympy.E**(2 * t)\n",
        "\n",
        "dx2_y = Find_Derivative_Parametric(x(t), y(t), 2)\n",
        "dx2_num_y, dx2_denum_y = fraction(dx2_y)\n",
        "dx2_num_null = solveset(dx2_num_y, domain = S.Reals)\n",
        "dx2_denum_null = solveset(dx2_denum_y, domain = S.Reals)\n",
        "lst_posible_inflect = sorted([*Union(dx2_num_null, dx2_denum_null)])\n",
        "lst_inflect_intervals = [lst_posible_inflect[0] - 0.5] + [(lst_posible_inflect[i] + lst_posible_inflect[i + 1])/ 2 for i in range(len(lst_posible_inflect) - 1)] + [lst_posible_inflect[-1] + 0.5]\n",
        "\n",
        "lst_inflect = []\n",
        "for i in range(len(lst_posible_inflect)):\n",
        "  cur_point = lst_posible_inflect[i]\n",
        "  if cur_point in dx2_num_null:\n",
        "    diff_val_left = dx2_y.subs({t : lst_inflect_intervals[i]})\n",
        "    diff_val_right = dx2_y.subs({t : lst_inflect_intervals[i + 1]})\n",
        "    if (diff_val_left * diff_val_right < 0):\n",
        "      lst_inflect.append(cur_point)\n",
        "\n",
        "display(Latex(fr\"\\text{{Точки перегиба функции : }}{latex(*lst_inflect if len(lst_inflect) != 0 else 'None')}\"))"
      ]
    },
    {
      "cell_type": "markdown",
      "metadata": {
        "id": "RumUGzwcr1KL"
      },
      "source": [
        "## Асимптоты параметрически заданной функции\n",
        "Пусть зависимость $y$ от $x$ задана параметрически:\n",
        "$$\n",
        "\\left\\{\n",
        "\\begin{matrix}\n",
        "x = \\varphi(t)\\\\\n",
        "y = \\psi(t)\n",
        "\\end{matrix}\n",
        "\\right.\n",
        "$$\n",
        "Сначала нужно определить, нет ли таких значений параметра $t$, при которых одна из функций $\\varphi(t)$ или $\\psi(t)$ обращается в бесконечность, а другая остается конечной. При $\\varphi(t_0) = \\infty$, а $\\psi(t_0) = c$ кривая имеет горизонтальную асимптоту  $y = c$. При  $\\psi(t_0) = \\infty$, а $\\varphi(t_0) = c$ кривая имеет вертикальную асимптоту $x = c$.\n",
        "\n",
        "Если $\\varphi(t_0) = \\psi(t_0) = \\infty$ и\n",
        "$$\n",
        "\\lim_{t\\to t_0} \\frac{\\psi(t)}{\\varphi(t)} = k;\\qquad \\lim_{t\\to t_0} [\\psi(t) - k\\varphi(t)] = b,\n",
        "$$\n",
        "то   кривая имеет наклонную асимптоту  $y = kx + b$.\n",
        "\n",
        "### Индивидуальное задание.\n",
        "Найти асимптоты параметрически заданной функции и изобразить на графике функцию и ее асимптоты.\n",
        "\n",
        "Варинат №134\n",
        "\n",
        "\n",
        "$x = 5 e^{t} + 5 e^{- t}$\n",
        "\n",
        "$y = 5 e^{t} - 5 e^{- t}$"
      ]
    },
    {
      "cell_type": "code",
      "execution_count": 117,
      "metadata": {
        "colab": {
          "base_uri": "https://localhost:8080/",
          "height": 834
        },
        "id": "4SV6c3Ysr1KL",
        "outputId": "5cf6f688-6580-4427-f8c9-cbcabda80458"
      },
      "outputs": [
        {
          "data": {
            "text/latex": [
              "x(t) = 5 e^{t} + 5 e^{- t}"
            ],
            "text/plain": [
              "<IPython.core.display.Latex object>"
            ]
          },
          "metadata": {},
          "output_type": "display_data"
        },
        {
          "data": {
            "text/latex": [
              "y(t) = 5 e^{t} - 5 e^{- t}"
            ],
            "text/plain": [
              "<IPython.core.display.Latex object>"
            ]
          },
          "metadata": {},
          "output_type": "display_data"
        },
        {
          "name": "stdout",
          "output_type": "stream",
          "text": [
            "\n"
          ]
        },
        {
          "data": {
            "text/latex": [
              "\\text{{При }} t \\to +\\infty"
            ],
            "text/plain": [
              "<IPython.core.display.Latex object>"
            ]
          },
          "metadata": {},
          "output_type": "display_data"
        },
        {
          "data": {
            "text/latex": [
              "\\lim\\limits_{t\\to +\\infty} x(t) = \\infty"
            ],
            "text/plain": [
              "<IPython.core.display.Latex object>"
            ]
          },
          "metadata": {},
          "output_type": "display_data"
        },
        {
          "data": {
            "text/latex": [
              "\\lim\\limits_{t\\to +\\infty} y(t) = \\infty"
            ],
            "text/plain": [
              "<IPython.core.display.Latex object>"
            ]
          },
          "metadata": {},
          "output_type": "display_data"
        },
        {
          "data": {
            "text/latex": [
              "\\lim\\limits_{t\\to +\\infty} \\frac{y(t)}{x(t)} = 1 = k"
            ],
            "text/plain": [
              "<IPython.core.display.Latex object>"
            ]
          },
          "metadata": {},
          "output_type": "display_data"
        },
        {
          "data": {
            "text/latex": [
              "\\lim\\limits_{t\\to +\\infty} (y(t) - k * x(t)) = 0 = b"
            ],
            "text/plain": [
              "<IPython.core.display.Latex object>"
            ]
          },
          "metadata": {},
          "output_type": "display_data"
        },
        {
          "data": {
            "text/latex": [
              "\\Rightarrow у = x  - \\text{{Наклонная ассимтота функции}}"
            ],
            "text/plain": [
              "<IPython.core.display.Latex object>"
            ]
          },
          "metadata": {},
          "output_type": "display_data"
        },
        {
          "name": "stdout",
          "output_type": "stream",
          "text": [
            "\n"
          ]
        },
        {
          "data": {
            "text/latex": [
              "\\text{{При }} t \\to -\\infty"
            ],
            "text/plain": [
              "<IPython.core.display.Latex object>"
            ]
          },
          "metadata": {},
          "output_type": "display_data"
        },
        {
          "data": {
            "text/latex": [
              "\\lim\\limits_{t\\to -\\infty} x(t) = \\infty"
            ],
            "text/plain": [
              "<IPython.core.display.Latex object>"
            ]
          },
          "metadata": {},
          "output_type": "display_data"
        },
        {
          "data": {
            "text/latex": [
              "\\lim\\limits_{t\\to -\\infty} y(t) = -\\infty"
            ],
            "text/plain": [
              "<IPython.core.display.Latex object>"
            ]
          },
          "metadata": {},
          "output_type": "display_data"
        },
        {
          "data": {
            "text/latex": [
              "\\lim\\limits_{t\\to -\\infty} \\frac{y(t)}{x(t)} = -1 = k"
            ],
            "text/plain": [
              "<IPython.core.display.Latex object>"
            ]
          },
          "metadata": {},
          "output_type": "display_data"
        },
        {
          "data": {
            "text/latex": [
              "\\lim\\limits_{t\\to -\\infty} (y(t) - k * x(t)) = 0 = b"
            ],
            "text/plain": [
              "<IPython.core.display.Latex object>"
            ]
          },
          "metadata": {},
          "output_type": "display_data"
        },
        {
          "data": {
            "text/latex": [
              "\\Rightarrow у = -x  - \\text{{Наклонная ассимтота функции}}"
            ],
            "text/plain": [
              "<IPython.core.display.Latex object>"
            ]
          },
          "metadata": {},
          "output_type": "display_data"
        },
        {
          "data": {
            "text/plain": [
              "<matplotlib.legend.Legend at 0x7c21bdf95150>"
            ]
          },
          "execution_count": 117,
          "metadata": {},
          "output_type": "execute_result"
        },
        {
          "data": {
            "image/png": "[encoded data removed]",
            "text/plain": [
              "<Figure size 640x480 with 1 Axes>"
            ]
          },
          "metadata": {},
          "output_type": "display_data"
        }
      ],
      "source": [
        "def x(t, lib = \"sympy\"):\n",
        "  if (lib == \"sympy\"):\n",
        "    return 5 * sympy.E**t + 5 * sympy.E **(-t)\n",
        "  else:\n",
        "    return 5 * np.e**t + 5 * np.e ** (-t)\n",
        "\n",
        "def y(t, lib = \"sympy\"):\n",
        "  if (lib == \"sympy\"):\n",
        "    return 5 * sympy.E**t - 5 * sympy.E **(-t)\n",
        "  else:\n",
        "    return 5 * np.e**t - 5 * np.e ** (-t)\n",
        "\n",
        "\n",
        "# Заметим,что x -> +inf и y -> +inf при t -> +inf\n",
        "# А также, что x -> +inf и y -> -inf при t -> -inf\n",
        "# Вертикальных и горизональных ассимптот нет\n",
        "display(Latex(fr\"x(t) = {latex(x(t))}\"))\n",
        "display(Latex(fr\"y(t) = {latex(y(t))}\"))\n",
        "\n",
        "print()\n",
        "display(Latex(r\"\\text{{При }} t \\to +\\infty\"))\n",
        "display(Latex(r\"\\lim\\limits_{t\\to +\\infty} x(t) = \" + fr\"{latex(limit(x(t), t, +sympy.oo))}\"))\n",
        "display(Latex(r\"\\lim\\limits_{t\\to +\\infty} y(t) = \" + fr\"{latex(limit(y(t), t, +sympy.oo))}\"))\n",
        "\n",
        "k_1 = limit(y(t)/x(t), t, +sympy.oo)\n",
        "b_1 = limit((y(t) - k_1 * x(t)), t, +sympy.oo)\n",
        "display(Latex(r\"\\lim\\limits_{t\\to +\\infty} \\frac{y(t)}{x(t)} = \" + fr\"{latex(k_1)}\" + \" = k\"))\n",
        "display(Latex(r\"\\lim\\limits_{t\\to +\\infty} (y(t) - k * x(t)) = \" + fr\"{latex(b_1)}\" + \" = b\"))\n",
        "display(Latex(r\"\\Rightarrow у = x  - \\text{{Наклонная ассимтота функции}}\"))\n",
        "\n",
        "print()\n",
        "display(Latex(r\"\\text{{При }} t \\to -\\infty\"))\n",
        "display(Latex(r\"\\lim\\limits_{t\\to -\\infty} x(t) = \" + fr\"{latex(limit(x(t), t, -sympy.oo))}\"))\n",
        "display(Latex(r\"\\lim\\limits_{t\\to -\\infty} y(t) = \" + fr\"{latex(limit(y(t), t, -sympy.oo))}\"))\n",
        "\n",
        "k_2 = limit(y(t)/x(t), t, -sympy.oo)\n",
        "b_2 = limit((y(t) - k_2 * x(t)), t, -sympy.oo)\n",
        "display(Latex(r\"\\lim\\limits_{t\\to -\\infty} \\frac{y(t)}{x(t)} = \" + fr\"{latex(k_2)}\" + \" = k\"))\n",
        "display(Latex(r\"\\lim\\limits_{t\\to -\\infty} (y(t) - k * x(t)) = \" + fr\"{latex(b_2)}\" + \" = b\"))\n",
        "display(Latex(r\"\\Rightarrow у = -x  - \\text{{Наклонная ассимтота функции}}\"))\n",
        "\n",
        "T = np.linspace(-5, 5, 200)\n",
        "X = np.linspace(-20, 100, 200)\n",
        "ax = plt.gca()\n",
        "ax.plot(x(T, \"numpy\"), y(T, \"numpy\"), color = \"black\", label = f'$ x(t) = {latex(x(t))}, y(t) = {latex(y(t))}$')\n",
        "ax.plot(X, k_1 * X + b_1, color = \"red\", linestyle = '--', label=f'$asympt. y= x$')\n",
        "ax.plot(X, k_2 * X + b_2, color = \"red\", linestyle = '--', label=f'$asympt. y= -x$')\n",
        "ax.axis('equal')\n",
        "ax.set_xlim(-20, 80)\n",
        "ax.set_ylim(-100, 100)\n",
        "ax.spines['right'].set_color('none')\n",
        "ax.spines['top'].set_color('none')\n",
        "ax.spines['bottom'].set_position(('data', 0))\n",
        "ax.spines['left'].set_position(('data', 0))\n",
        "ax.legend()"
      ]
    }
  ],
  "metadata": {
    "colab": {
      "provenance": []
    },
    "kernelspec": {
      "display_name": "Python 3",
      "language": "python",
      "name": "python3"
    },
    "language_info": {
      "codemirror_mode": {
        "name": "ipython",
        "version": 3
      },
      "file_extension": ".py",
      "mimetype": "text/x-python",
      "name": "python",
      "nbconvert_exporter": "python",
      "pygments_lexer": "ipython3",
      "version": "3.7.3"
    }
  },
  "nbformat": 4,
  "nbformat_minor": 0
}

{
  "cells": [
    {
      "cell_type": "markdown",
      "metadata": {
        "id": "w0GRuG-g2oq-"
      },
      "source": [
        "## Занятие 6\n",
        "## Математический анализ\n",
        "## Дифференцирование"
      ]
    },
    {
      "cell_type": "code",
      "execution_count": 227,
      "metadata": {
        "id": "ZMYoUZj32orA"
      },
      "outputs": [],
      "source": [
        "import numpy as np\n",
        "import matplotlib.pyplot as plt\n",
        "import sympy\n",
        "from sympy import diff, solve, nsolve, solveset, latex, S, simplify, fraction, Symbol, symbols, Eq, Intersection\n",
        "from sympy import sin as Sin\n",
        "from sympy.calculus.util import continuous_domain\n",
        "from IPython.display import display, Latex\n",
        "import math\n",
        "%matplotlib inline"
      ]
    },
    {
      "cell_type": "markdown",
      "metadata": {
        "id": "qxqQndg52orB"
      },
      "source": [
        "## Лабораторная работа 6\n",
        "## Математический анализ\n",
        "## Задание 1\n",
        "Исследовать функцию с помощью производной, найти необходимые пределы и решить уравнения.\n",
        "\n",
        "Построить график функции и асимптот, отметить и подписать точки экстремума и точки перегиба,\n",
        "включить функцию и асимптоты в легенду.\n",
        "$$\n",
        "y = x^2e^{-x}\n",
        "$$"
      ]
    },
    {
      "cell_type": "code",
      "source": [
        "# @title Сперва определим основные функции, которыми будем пользоваться во всех заданиях\n",
        "x, y = symbols('x y')\n",
        "\n",
        "# Функция для нахождения области определения функции\n",
        "def Find_Domain(func):\n",
        "  return continuous_domain(func, x , domain = S.Reals)\n",
        "\n",
        "# Функция для нахождения нулей функции\n",
        "def Find_Solutions(func, solution_way, lst_nsolve = []):\n",
        "  if solution_way == \"solveset\":\n",
        "    lst_posib = sorted([*solveset(func, x, domain = Find_Domain(func))])\n",
        "  elif solution_way == \"solve\":\n",
        "    lst_posib = sorted(solve(func, x))\n",
        "  elif solution_way == \"nsolve\":\n",
        "    lst_posib = sorted([*set(nsolve(func, x, x_0) for x_0 in lst_nsolve)])\n",
        "  elif solution_way == \"solveset_1\":\n",
        "    lst_posib = solveset(func, x, domain = Find_Domain(func))\n",
        "  return lst_posib\n",
        "\n",
        "# Функция для нахождения наклонной(в том числе горизонтальной ассимототы) ассимптоты,возвращает массив с уравнениями\n",
        "# наклонных ассмимтот на +б и -б\n",
        "def Find_Oblqiq_Assi(func):\n",
        "  lst_assi = []\n",
        "  k_pos = sympy.limit(func/x , x, +sympy.oo)\n",
        "  k_neg = sympy.limit(func/x, x, -sympy.oo)\n",
        "  if (k_neg == k_pos):\n",
        "    k = k_neg\n",
        "    b = sympy.limit(func - k * x, x, sympy.oo)\n",
        "    lst_assi.append(k*x + b)\n",
        "  else:\n",
        "    if (k_pos != +sympy.oo and k_pos != -sympy.oo):\n",
        "      b_pos = sympy.limit(func - k_pos * x, x, +sympy.oo)\n",
        "      lst_assi.append(k_pos * x + b_pos)\n",
        "    if (k_neg != sympy.oo and k_neg != -sympy.oo):\n",
        "      b_neg = sympy.limit(func - k_neg * x, x, -sympy.oo)\n",
        "      lst_assi.append(k_neg * x + b_neg)\n",
        "  return lst_assi\n",
        "\n",
        "# Функция для нахождения вертикальной ассимптоты\n",
        "def Find_Vert_Assi(func):\n",
        "  fnum, fdenum = sympy.fraction(func)\n",
        "  cur_domain = Find_Domain(func)\n",
        "  lst_posib_vas = [*sympy.solveset(fdenum, x, domain = S.Reals)]\n",
        "  lst_vas = [dot for dot in lst_posib_vas if sympy.limit(func, x, dot) == sympy.oo]\n",
        "\n",
        "  lst_gouged_points = [x for x in range(-100, 100) if (x in cur_domain) == False]\n",
        "  for point in lst_gouged_points:\n",
        "    cur_lim_plus = sympy.limit(func, x, point, '+')\n",
        "    cur_lim_min = sympy.limit(func, x, point, \"-\")\n",
        "    if (cur_lim_min == sympy.oo or cur_lim_plus == sympy.oo):\n",
        "      lst_vas.append(point)\n",
        "\n",
        "  return lst_vas\n",
        "\n",
        "\n",
        "# Функиция для анализа производной 1ой и 2ой степени, нахождения нулей производной,\n",
        "# точек локального мин. и макс. , точек перегиба\n",
        "def Diff_Analysys(func, der_num = 1, sol_param = \"solveset\", nsolve_lst = []):\n",
        "  diff_func = simplify(diff(func, x , der_num))\n",
        "  cur_domain = Find_Domain(diff_func)\n",
        "  lst_x_extr = Find_Solutions(diff_func, sol_param, nsolve_lst)\n",
        "\n",
        "  if (len(lst_x_extr) != 0):\n",
        "    lst_check_x = [lst_x_extr[0] - 0.5]\n",
        "    lst_check_x.extend([((lst_x_extr[i] + lst_x_extr[i + 1]) / 2) + 0.01 for i in range(len(lst_x_extr) - 1)])\n",
        "    lst_check_x.append(lst_x_extr[-1] + 0.5)\n",
        "    lst_check_x.sort()\n",
        "    lst_func_check = [diff_func.subs({x : var}) for var in lst_check_x]\n",
        "\n",
        "    if der_num == 1:\n",
        "      lst_maxs = []\n",
        "      lst_mins = []\n",
        "      for i in range(len(lst_x_extr)):\n",
        "        if lst_func_check[i] > 0 and lst_func_check[i + 1] < 0:\n",
        "          lst_maxs.append(lst_x_extr[i])\n",
        "        elif lst_func_check[i] < 0 and lst_func_check[i + 1] > 0:\n",
        "          lst_mins.append(lst_x_extr[i])\n",
        "\n",
        "      return (diff_func, lst_x_extr, lst_maxs, lst_mins)\n",
        "\n",
        "    elif der_num == 2:\n",
        "      lst_dot_inflect = []\n",
        "      for i in range(len(lst_x_extr)):\n",
        "        if (lst_func_check[i] > 0 and lst_func_check[i + 1] < 0) or (lst_func_check[i] < 0 and lst_func_check[i + 1] > 0):\n",
        "          lst_dot_inflect.append(lst_x_extr[i])\n",
        "\n",
        "      return (diff_func, lst_x_extr, lst_dot_inflect)\n",
        "\n",
        "    else:\n",
        "      display(Latex(fr\"\\text{{Недопустимый параметр для анализа производной.}}\"))\n",
        "  else:\n",
        "    return (diff_func ,lst_x_extr, [])"
      ],
      "metadata": {
        "id": "4_EGgLJV3Dmk"
      },
      "execution_count": 228,
      "outputs": []
    },
    {
      "cell_type": "code",
      "execution_count": 229,
      "metadata": {
        "colab": {
          "base_uri": "https://localhost:8080/",
          "height": 631
        },
        "id": "8HUp8jGS2orB",
        "outputId": "7e6a96f2-fb1d-454d-a849-3e4a16344b1a"
      },
      "outputs": [
        {
          "output_type": "display_data",
          "data": {
            "text/plain": [
              "<IPython.core.display.Latex object>"
            ],
            "text/latex": "\\text{f(x) = }x^{2} e^{- x}"
          },
          "metadata": {}
        },
        {
          "output_type": "display_data",
          "data": {
            "text/plain": [
              "<IPython.core.display.Latex object>"
            ],
            "text/latex": "\\text{Область определения f(x) : }\\mathbb{R}"
          },
          "metadata": {}
        },
        {
          "output_type": "display_data",
          "data": {
            "text/plain": [
              "<IPython.core.display.Latex object>"
            ],
            "text/latex": "\\text{Нули f(x) : }0"
          },
          "metadata": {}
        },
        {
          "output_type": "display_data",
          "data": {
            "text/plain": [
              "<IPython.core.display.Latex object>"
            ],
            "text/latex": "\\text{Вертикальные ассимототы f(x) : }\\mathtt{\\text{None}}"
          },
          "metadata": {}
        },
        {
          "output_type": "display_data",
          "data": {
            "text/plain": [
              "<IPython.core.display.Latex object>"
            ],
            "text/latex": "\\text{Наклонные и горизонтальные ассимототы f(x) : }y = 0"
          },
          "metadata": {}
        },
        {
          "output_type": "display_data",
          "data": {
            "text/plain": [
              "<IPython.core.display.Latex object>"
            ],
            "text/latex": "\\text{Точки экстремума f(x) : }\\left[ 0, \\  2\\right]"
          },
          "metadata": {}
        },
        {
          "output_type": "display_data",
          "data": {
            "text/plain": [
              "<IPython.core.display.Latex object>"
            ],
            "text/latex": "\\text{Точки локального максимума f(x): }2"
          },
          "metadata": {}
        },
        {
          "output_type": "display_data",
          "data": {
            "text/plain": [
              "<IPython.core.display.Latex object>"
            ],
            "text/latex": "\\text{Точки локального минимума f(x) : }0"
          },
          "metadata": {}
        },
        {
          "output_type": "display_data",
          "data": {
            "text/plain": [
              "<IPython.core.display.Latex object>"
            ],
            "text/latex": "\\text{Нули второй производной f(x) : }\\left[ 2 - \\sqrt{2}, \\  \\sqrt{2} + 2\\right]"
          },
          "metadata": {}
        },
        {
          "output_type": "display_data",
          "data": {
            "text/plain": [
              "<IPython.core.display.Latex object>"
            ],
            "text/latex": "\\text{Точки перегиба f(x) : }\\left[ 2 - \\sqrt{2}, \\  \\sqrt{2} + 2\\right]"
          },
          "metadata": {}
        },
        {
          "output_type": "display_data",
          "data": {
            "text/plain": [
              "<Figure size 640x480 with 1 Axes>"
            ],
            "image/png": "[encoded data removed]"
          },
          "metadata": {}
        }
      ],
      "source": [
        "def f(x, lib = \"sympy\"):\n",
        "  if lib == \"numpy\":\n",
        "    return x**2 * (np.e**(-x))\n",
        "  elif lib == \"sympy\":\n",
        "    return x**2 * sympy.E**(-x)\n",
        "  return 0\n",
        "\n",
        "# Вывод информации из полученного анализа функции\n",
        "domain_1 = Find_Domain(f(x))\n",
        "lst_x_null = Find_Solutions(f(x), \"solveset\")\n",
        "lst_vert_assi = Find_Vert_Assi(f(x))\n",
        "lst_obl_assi = Find_Oblqiq_Assi(f(x))\n",
        "dif_func_1_1, lst_extr_1_1, lst_maxs_1 , lst_mins_1 = Diff_Analysys(f(x))\n",
        "dif_finc_2_1, lst_extr_2_1, lst_inflect_1 = Diff_Analysys(f(x), 2)\n",
        "display(Latex(fr\"\\text{{f(x) = }}{latex(f(x))}\"))\n",
        "display(Latex(fr\"\\text{{Область определения f(x) : }}{latex(domain_1)}\"))\n",
        "display(Latex(fr\"\\text{{Нули f(x) : }}{latex(*lst_x_null)}\"))\n",
        "display(Latex(fr\"\\text{{Вертикальные ассимототы f(x) : }}{latex(lst_vert_assi if len(lst_vert_assi) !=0 else 'None')}\"))\n",
        "display(Latex(fr\"\\text{{Наклонные и горизонтальные ассимототы f(x) : }}{latex(*[Eq(y, f) for f in lst_obl_assi])}\"))\n",
        "display(Latex(fr\"\\text{{Точки экстремума f(x) : }}{latex(lst_extr_1_1)}\"))\n",
        "display(Latex(fr\"\\text{{Точки локального максимума f(x): }}{latex(*lst_maxs_1)}\"))\n",
        "display(Latex(fr\"\\text{{Точки локального минимума f(x) : }}{latex(*lst_mins_1)}\"))\n",
        "display(Latex(fr\"\\text{{Нули второй производной f(x) : }}{latex(lst_extr_2_1)}\"))\n",
        "display(Latex(fr\"\\text{{Точки перегиба f(x) : }}{latex(lst_inflect_1)}\"))\n",
        "\n",
        "# Построение графика функции\n",
        "ax = plt.gca()\n",
        "\n",
        "for i in range(len(lst_vert_assi)):\n",
        "  ax.axvline(x = lst_vert_assi[i], color = \"red\", linestyle = '--', label = r\"$asympt. x =\" + sympy.latex(lst_vert_assi[i]) + r\"$\")\n",
        "\n",
        "\n",
        "X_1 = np.linspace(-5, 10, 200)\n",
        "X_1_d = [x for x in X_1 if x in domain_1]\n",
        "\n",
        "ax.plot(X_1, f(X_1, \"numpy\"), color = \"#4682B4\", label = r\"$f(x) = \" + sympy.latex(f(x)) + r\"$\")\n",
        "ax.axhline(y = lst_obl_assi[0], color = \"red\", linestyle = '--', label = r\"$asympt. y =\" + sympy.latex(lst_obl_assi[0]) + r\"$\")\n",
        "\n",
        "for i in range(len(lst_extr_1_1)):\n",
        "  x_cur = lst_extr_1_1[i]\n",
        "  y_cur = f(x_cur)\n",
        "  ax.scatter([x_cur], [y_cur], color = \"red\", s = 12)\n",
        "  ax.annotate(f\"({x_cur},{round(y_cur, 3)})\", xy = (x_cur, y_cur), xycoords='data',\n",
        "                xytext = (x_cur + 0.4, y_cur - 2), textcoords = 'data',\n",
        "                arrowprops=dict(arrowstyle=\"->\", connectionstyle=\"arc3\"))\n",
        "  ax.annotate(r'$E_' + str(i + 1) + r'$', xy=(x_cur, y_cur), xycoords='data',\n",
        "              xytext=(-12, 7), textcoords='offset points', fontsize=10)\n",
        "\n",
        "for i in range(len(lst_inflect_1)):\n",
        "  x_cur = lst_inflect_1[i]\n",
        "  y_cur = simplify(f(x_cur))\n",
        "  ax.scatter([x_cur], [y_cur], color = \"red\", s = 12)\n",
        "  ax.annotate(f\"({round(x_cur, 3)},{round(y_cur, 3)})\", xy = (x_cur, y_cur), xycoords='data',\n",
        "                xytext = (x_cur + 0.7, y_cur +4), textcoords = 'data',\n",
        "                arrowprops=dict(arrowstyle=\"->\", connectionstyle=\"arc3\"))\n",
        "  ax.annotate(r'$P_' + str(i + 1) + r'$', xy=(x_cur, y_cur), xycoords='data',\n",
        "              xytext=(-11, 5), textcoords='offset points', fontsize=10)\n",
        "\n",
        "x_lim = (-5,10)\n",
        "y_lim = (-2, 12)\n",
        "ax.legend(loc = \"best\")\n",
        "ax.spines['right'].set_color('none')\n",
        "ax.spines['top'].set_color('none')\n",
        "ax.spines['bottom'].set_position(('data', 0))\n",
        "ax.spines['left'].set_position(('data', 0))\n",
        "ax.plot(1, 0, \">k\", transform=ax.get_yaxis_transform(), clip_on=False)\n",
        "ax.plot(0, 1, \"^k\", transform=ax.get_xaxis_transform(), clip_on=False)\n",
        "ax.set(ylim = y_lim, xlim = x_lim)\n",
        "ax.set_xlabel(r\"$x$\")\n",
        "ax.set_ylabel(r\"$y$\", rotation = 0)\n",
        "ax.xaxis.set_label_coords(1.005, 0.2)\n",
        "ax.yaxis.set_label_coords(0.36, 0.980)"
      ]
    },
    {
      "cell_type": "markdown",
      "metadata": {
        "id": "MBA7xPhq2orB"
      },
      "source": [
        "## Задание 2\n",
        "Исследовать функцию с помощью производной, найти необходимые пределы и решить уравнения.\n",
        "\n",
        "Построить график функции и асимптот, отметить и подписать точки экстремума и точки перегиба,\n",
        "включить функцию и асимптоты в легенду.\n",
        "$$\n",
        "y=xe^{2/x} + 1\n",
        "$$"
      ]
    },
    {
      "cell_type": "code",
      "execution_count": 230,
      "metadata": {
        "id": "6BM-KjuS2orC",
        "colab": {
          "base_uri": "https://localhost:8080/",
          "height": 652
        },
        "outputId": "545e0ff8-40ad-4981-ab52-c1d762e11006"
      },
      "outputs": [
        {
          "output_type": "display_data",
          "data": {
            "text/plain": [
              "<IPython.core.display.Latex object>"
            ],
            "text/latex": "\\text{g(x) = }x e^{\\frac{2}{x}} + 1"
          },
          "metadata": {}
        },
        {
          "output_type": "display_data",
          "data": {
            "text/plain": [
              "<IPython.core.display.Latex object>"
            ],
            "text/latex": "\\text{Область определения g(x) : }\\left(-\\infty, 0\\right) \\cup \\left(0, \\infty\\right)"
          },
          "metadata": {}
        },
        {
          "output_type": "display_data",
          "data": {
            "text/plain": [
              "<IPython.core.display.Latex object>"
            ],
            "text/latex": "\\text{Нули g(x) : }-2.34575075492277"
          },
          "metadata": {}
        },
        {
          "output_type": "display_data",
          "data": {
            "text/plain": [
              "<IPython.core.display.Latex object>"
            ],
            "text/latex": "\\text{Вертикальные ассимототы g(x) : }0"
          },
          "metadata": {}
        },
        {
          "output_type": "display_data",
          "data": {
            "text/plain": [
              "<IPython.core.display.Latex object>"
            ],
            "text/latex": "\\text{Наклонные и горизонтальные ассимототы g(x) : }y = x + 3"
          },
          "metadata": {}
        },
        {
          "output_type": "display_data",
          "data": {
            "text/plain": [
              "<IPython.core.display.Latex object>"
            ],
            "text/latex": "\\text{Точки экстремума g(x) : }2.0"
          },
          "metadata": {}
        },
        {
          "output_type": "display_data",
          "data": {
            "text/plain": [
              "<IPython.core.display.Latex object>"
            ],
            "text/latex": "\\text{Точки локального максимума g(x) : }\\mathtt{\\text{None}}"
          },
          "metadata": {}
        },
        {
          "output_type": "display_data",
          "data": {
            "text/plain": [
              "<IPython.core.display.Latex object>"
            ],
            "text/latex": "\\text{Точки локального минимума g(x) : }2.0"
          },
          "metadata": {}
        },
        {
          "output_type": "display_data",
          "data": {
            "text/plain": [
              "<IPython.core.display.Latex object>"
            ],
            "text/latex": "\\text{Нули второй производной g(x) : }\\mathtt{\\text{None}}"
          },
          "metadata": {}
        },
        {
          "output_type": "display_data",
          "data": {
            "text/plain": [
              "<IPython.core.display.Latex object>"
            ],
            "text/latex": "\\text{Точки перегиба g(x) : }\\mathtt{\\text{None}}"
          },
          "metadata": {}
        },
        {
          "output_type": "stream",
          "name": "stderr",
          "text": [
            "<ipython-input-230-f16c465cd165>:3: RuntimeWarning: overflow encountered in power\n",
            "  return x * np.e**(2/x) + 1\n"
          ]
        },
        {
          "output_type": "display_data",
          "data": {
            "text/plain": [
              "<Figure size 640x480 with 1 Axes>"
            ],
            "image/png": "[encoded data removed]"
          },
          "metadata": {}
        }
      ],
      "source": [
        "def g(x, lib = \"sympy\"):\n",
        "  if lib == \"numpy\":\n",
        "    return x * np.e**(2/x) + 1\n",
        "  elif lib == \"sympy\":\n",
        "    return x * (sympy.E**(2/x)) + 1\n",
        "  return 0\n",
        "\n",
        "# Вывод информации из полученного анализа функции\n",
        "domain_2 = Find_Domain(g(x))\n",
        "lst_checked = [i/10 for i in range(-100, -10) if i/10 in domain_2]\n",
        "lst_x_null_2 = Find_Solutions(g(x), \"nsolve\",  lst_checked)\n",
        "lst_vert_assi_2 = Find_Vert_Assi(g(x))\n",
        "lst_obl_assi_2 = Find_Oblqiq_Assi(g(x))\n",
        "dif_func_1_2, lst_extr_1_2, lst_maxs_2 , lst_mins_2 = Diff_Analysys(g(x), 1, \"nsolve\", [1, 2])\n",
        "dif_func_2_2, lst_extr_2_2, lst_inflect_2 = Diff_Analysys(g(x), 2)\n",
        "display(Latex(fr\"\\text{{g(x) = }}{latex(g(x))}\"))\n",
        "display(Latex(fr\"\\text{{Область определения g(x) : }}{latex(domain_2)}\"))\n",
        "display(Latex(fr\"\\text{{Нули g(x) : }}{latex(*lst_x_null_2)}\"))\n",
        "display(Latex(fr\"\\text{{Вертикальные ассимототы g(x) : }}{latex(*lst_vert_assi_2)}\"))\n",
        "display(Latex(fr\"\\text{{Наклонные и горизонтальные ассимототы g(x) : }}{latex(*[Eq(y, f) for f in lst_obl_assi_2])}\"))\n",
        "display(Latex(fr\"\\text{{Точки экстремума g(x) : }}{latex(*lst_extr_1_2)}\"))\n",
        "display(Latex(fr\"\\text{{Точки локального максимума g(x) : }}{latex(lst_maxs_2 if len(lst_maxs_2) != 0 else 'None')}\"))\n",
        "display(Latex(fr\"\\text{{Точки локального минимума g(x) : }}{latex(*lst_mins_2)}\"))\n",
        "display(Latex(fr\"\\text{{Нули второй производной g(x) : }}{latex(lst_extr_2_2 if len(lst_extr_2_2 ) != 0 else 'None')}\"))\n",
        "display(Latex(fr\"\\text{{Точки перегиба g(x) : }}{latex(lst_inflect_2 if len(lst_inflect_2) != 0 else 'None')}\"))\n",
        "\n",
        "# Построение графика функции\n",
        "ax = plt.gca()\n",
        "\n",
        "X_1 = np.linspace(-10, -0.001 , 100)\n",
        "X_2 = np.linspace(0.001, 10, 100)\n",
        "X_3 = np.linspace(-10, 10, 200)\n",
        "ax.plot(X_1, g(X_1, \"numpy\"), color = \"black\", label = r\"$f(x) = \" + sympy.latex(g(x)) + r\"$\")\n",
        "ax.plot(X_2, g(X_2, \"numpy\"), color = \"black\")\n",
        "\n",
        "for func_nakl in lst_obl_assi_2:\n",
        "  ax.plot(X_3, [func_nakl.subs({x : var}) for var in X_3], color = \"green\", linestyle = \"--\", label = r\"$asympt. y =\" + sympy.latex(func_nakl) + r\"$\")\n",
        "\n",
        "for i in range(len(lst_vert_assi_2)):\n",
        "  ax.axvline(x = lst_vert_assi_2[i], color = \"red\", linestyle = '--', label = r\"$asympt. x =\" + sympy.latex(lst_vert_assi_2[i]) + r\"$\")\n",
        "\n",
        "for i in range(len(lst_extr_1_2)):\n",
        "  x_cur = lst_extr_1_2[i]\n",
        "  y_cur = g(x_cur)\n",
        "  ax.scatter([x_cur], [y_cur], color = \"red\", s = 11)\n",
        "  ax.annotate(f\"({math.trunc(x_cur)}.0,{round(y_cur, 3)})\", xy = (x_cur, y_cur), xycoords='data',\n",
        "                xytext = (x_cur + 0.35, y_cur + 2.8), textcoords = 'data',\n",
        "                arrowprops=dict(arrowstyle=\"->\", connectionstyle=\"arc3\"))\n",
        "  ax.annotate(r'$E_' + str(i + 1) + r'$', xy=(x_cur, y_cur), xycoords='data',\n",
        "              xytext=(-10, 7), textcoords='offset points', fontsize=10)\n",
        "\n",
        "x_lim = (-10,10)\n",
        "y_lim = (-8, 18)\n",
        "ax.legend(loc = \"best\")\n",
        "ax.spines['right'].set_color('none')\n",
        "ax.spines['top'].set_color('none')\n",
        "ax.spines['bottom'].set_position(('data', 0))\n",
        "ax.spines['left'].set_position(('data', 0))\n",
        "ax.plot(1, 0, \">k\", transform=ax.get_yaxis_transform(), clip_on=False)\n",
        "ax.plot(0, 1, \"^k\", transform=ax.get_xaxis_transform(), clip_on=False)\n",
        "ax.set(ylim = y_lim, xlim = x_lim)\n",
        "ax.set_xlabel(r\"$x$\")\n",
        "ax.set_ylabel(r\"$y$\", rotation = 0)\n",
        "ax.xaxis.set_label_coords(1.005, 0.36)\n",
        "ax.yaxis.set_label_coords(0.48, 0.980)"
      ]
    },
    {
      "cell_type": "markdown",
      "metadata": {
        "id": "cJlYLJ6p2orC"
      },
      "source": [
        "## Индивидуальное задание\n",
        "Исследовать функцию с помощью производной, найти необходимые пределы и решить уравнения.\n",
        "\n",
        "Построить график функции и асимптот (если есть), отметить и подписать точки экстремума и точки перегиба (если есть),\n",
        "включить функцию и асимптоты (если есть) в легенду.\n",
        "\n",
        "Вариант 134\n",
        "\n",
        "$f(x) = \\frac{(2x - 4)(3x - 6)}{4x-  3}$"
      ]
    },
    {
      "cell_type": "code",
      "execution_count": 231,
      "metadata": {
        "id": "Ktyh_nDK2orC",
        "colab": {
          "base_uri": "https://localhost:8080/",
          "height": 634
        },
        "outputId": "f60951ff-cf73-4e23-e09b-d0c97b5bd913"
      },
      "outputs": [
        {
          "output_type": "display_data",
          "data": {
            "text/plain": [
              "<IPython.core.display.Latex object>"
            ],
            "text/latex": "\\text{f(x) = }\\frac{\\left(2 x - 4\\right) \\left(3 x - 6\\right)}{4 x - 3}"
          },
          "metadata": {}
        },
        {
          "output_type": "display_data",
          "data": {
            "text/plain": [
              "<IPython.core.display.Latex object>"
            ],
            "text/latex": "\\text{Область определения f(x) : }\\left(-\\infty, \\frac{3}{4}\\right) \\cup \\left(\\frac{3}{4}, \\infty\\right)"
          },
          "metadata": {}
        },
        {
          "output_type": "display_data",
          "data": {
            "text/plain": [
              "<IPython.core.display.Latex object>"
            ],
            "text/latex": "\\text{Нули f(x) : }2"
          },
          "metadata": {}
        },
        {
          "output_type": "display_data",
          "data": {
            "text/plain": [
              "<IPython.core.display.Latex object>"
            ],
            "text/latex": "\\text{Вертикальные ассимототы f(x) : }\\frac{3}{4}"
          },
          "metadata": {}
        },
        {
          "output_type": "display_data",
          "data": {
            "text/plain": [
              "<IPython.core.display.Latex object>"
            ],
            "text/latex": "\\text{Наклонные и горизонтальные ассимототы f(x) : }y = \\frac{3 x}{2} - \\frac{39}{8}"
          },
          "metadata": {}
        },
        {
          "output_type": "display_data",
          "data": {
            "text/plain": [
              "<IPython.core.display.Latex object>"
            ],
            "text/latex": "\\text{Точки экстремума f(x) : }\\left[ - \\frac{1}{2}, \\  2\\right]"
          },
          "metadata": {}
        },
        {
          "output_type": "display_data",
          "data": {
            "text/plain": [
              "<IPython.core.display.Latex object>"
            ],
            "text/latex": "\\text{Точки локального максимума f(x) : }- \\frac{1}{2}"
          },
          "metadata": {}
        },
        {
          "output_type": "display_data",
          "data": {
            "text/plain": [
              "<IPython.core.display.Latex object>"
            ],
            "text/latex": "\\text{Точки локального минимума f(x) : }2"
          },
          "metadata": {}
        },
        {
          "output_type": "display_data",
          "data": {
            "text/plain": [
              "<IPython.core.display.Latex object>"
            ],
            "text/latex": "\\text{Нули второй производной f(x) : }\\mathtt{\\text{None}}"
          },
          "metadata": {}
        },
        {
          "output_type": "display_data",
          "data": {
            "text/plain": [
              "<IPython.core.display.Latex object>"
            ],
            "text/latex": "\\text{Точки перегиба f(x) : }\\mathtt{\\text{None}}"
          },
          "metadata": {}
        },
        {
          "output_type": "display_data",
          "data": {
            "text/plain": [
              "<Figure size 640x480 with 1 Axes>"
            ],
            "image/png": "[encoded data removed]"
          },
          "metadata": {}
        }
      ],
      "source": [
        "def f_1(x):\n",
        "  return ((2 * x - 4) * (3 * x - 6))/(4 * x - 3)\n",
        "\n",
        "\n",
        "# Вывод информации из полученного анализа функции\n",
        "domain_3 = Find_Domain(f_1(x))\n",
        "lst_x_null_3 = Find_Solutions(f_1(x), \"solveset\")\n",
        "lst_vert_assi_3 = Find_Vert_Assi(f_1(x))\n",
        "lst_obl_assi_3 = Find_Oblqiq_Assi(f_1(x))\n",
        "dif_func_1_3, lst_extr_1_3, lst_maxs_3 , lst_mins_3 = Diff_Analysys(f_1(x), 1, \"solve\")\n",
        "dif_func_2_3, lst_extr_2_3, lst_inflect_3 = Diff_Analysys(f_1(x), 2)\n",
        "display(Latex(fr\"\\text{{f(x) = }}{latex(f_1(x))}\"))\n",
        "display(Latex(fr\"\\text{{Область определения f(x) : }}{latex(domain_3)}\"))\n",
        "display(Latex(fr\"\\text{{Нули f(x) : }}{latex(*lst_x_null_3)}\"))\n",
        "display(Latex(fr\"\\text{{Вертикальные ассимототы f(x) : }}{latex(*lst_vert_assi_3)}\"))\n",
        "display(Latex(fr\"\\text{{Наклонные и горизонтальные ассимототы f(x) : }}{latex(*[Eq(y, f) for f in lst_obl_assi_3])}\"))\n",
        "display(Latex(fr\"\\text{{Точки экстремума f(x) : }}{latex(lst_extr_1_3)}\"))\n",
        "display(Latex(fr\"\\text{{Точки локального максимума f(x) : }}{latex(*lst_maxs_3 if len(lst_maxs_3) != 0 else 'None')}\"))\n",
        "display(Latex(fr\"\\text{{Точки локального минимума f(x) : }}{latex(*lst_mins_3)}\"))\n",
        "display(Latex(fr\"\\text{{Нули второй производной f(x) : }}{latex(lst_extr_2_3 if len(lst_extr_2_3 ) != 0 else 'None')}\"))\n",
        "display(Latex(fr\"\\text{{Точки перегиба f(x) : }}{latex(lst_inflect_3 if len(lst_inflect_3) != 0 else 'None')}\"))\n",
        "\n",
        "# Построение графика функции\n",
        "ax = plt.gca()\n",
        "\n",
        "X_1 = np.linspace(-10, -0.001 + 3/4 , 100)\n",
        "X_2 = np.linspace(3/4 + 0.001, 10, 100)\n",
        "X_3 = np.linspace(-10, 10, 200)\n",
        "ax.plot(X_1, f_1(X_1), color = \"black\", label = r\"$f(x) = \" + sympy.latex(f_1(x)) + r\"$\")\n",
        "ax.plot(X_2, f_1(X_2), color = \"black\")\n",
        "\n",
        "for func_nakl in lst_obl_assi_3:\n",
        "  ax.plot(X_3, [func_nakl.subs({x : var}) for var in X_3], color = \"green\", linestyle = \"--\", label = r\"$asympt. y =\" + sympy.latex(func_nakl) + r\"$\")\n",
        "\n",
        "for i in range(len(lst_vert_assi_3)):\n",
        "  ax.axvline(x = lst_vert_assi_3[i], color = \"red\", linestyle = '--', label = r\"$asympt. x =\" + sympy.latex(lst_vert_assi_3[i]) + r\"$\")\n",
        "\n",
        "for i in range(len(lst_extr_1_3)):\n",
        "  x_cur = lst_extr_1_3[i]\n",
        "  y_cur = f_1(x_cur)\n",
        "  ax.scatter([x_cur], [y_cur], color = \"red\", s = 11)\n",
        "  if x_cur > 0:\n",
        "    ax.annotate(f\"({x_cur},{round(y_cur, 3)})\", xy = (x_cur, y_cur), xycoords='data',\n",
        "                  xytext = (x_cur + 0.35, y_cur + 2.8), textcoords = 'data',\n",
        "                  arrowprops=dict(arrowstyle=\"->\", connectionstyle=\"arc3\"))\n",
        "    ax.annotate(r'$E_' + str(i + 1) + r'$', xy=(x_cur, y_cur), xycoords='data',\n",
        "                xytext=(-10, 7), textcoords='offset points', fontsize=10)\n",
        "  else:\n",
        "    ax.annotate(f\"({x_cur},{round(y_cur, 1)})\", xy = (x_cur, y_cur), xycoords='data',\n",
        "                  xytext = (x_cur -6, y_cur + 1.5), textcoords = 'data',\n",
        "                  arrowprops=dict(arrowstyle=\"->\", connectionstyle=\"arc3\"))\n",
        "    ax.annotate(r'$E_' + str(i + 1) + r'$', xy=(x_cur, y_cur), xycoords='data',\n",
        "                xytext=(-6, -11), textcoords='offset points', fontsize=10)\n",
        "\n",
        "x_lim = (-10,10)\n",
        "y_lim = (-20, 20)\n",
        "ax.legend(loc = \"best\")\n",
        "ax.spines['right'].set_color('none')\n",
        "ax.spines['top'].set_color('none')\n",
        "ax.spines['bottom'].set_position(('data', 0))\n",
        "ax.spines['left'].set_position(('data', 0))\n",
        "ax.plot(1, 0, \">k\", transform=ax.get_yaxis_transform(), clip_on=False)\n",
        "ax.plot(0, 1, \"^k\", transform=ax.get_xaxis_transform(), clip_on=False)\n",
        "ax.set(ylim = y_lim, xlim = x_lim)\n",
        "ax.set_xlabel(r\"$x$\")\n",
        "ax.set_ylabel(r\"$y$\", rotation = 0)\n",
        "ax.xaxis.set_label_coords(1.005, 0.55)\n",
        "ax.yaxis.set_label_coords(0.52, 0.980)"
      ]
    }
  ],
  "metadata": {
    "kernelspec": {
      "display_name": "Python 3",
      "language": "python",
      "name": "python3"
    },
    "language_info": {
      "codemirror_mode": {
        "name": "ipython",
        "version": 3
      },
      "file_extension": ".py",
      "mimetype": "text/x-python",
      "name": "python",
      "nbconvert_exporter": "python",
      "pygments_lexer": "ipython3",
      "version": "3.7.3"
    },
    "colab": {
      "provenance": []
    }
  },
  "nbformat": 4,
  "nbformat_minor": 0
}
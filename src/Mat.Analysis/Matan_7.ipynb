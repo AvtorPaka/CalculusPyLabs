{
  "cells": [
    {
      "cell_type": "markdown",
      "metadata": {
        "id": "qfDDHZCN41Nv"
      },
      "source": [
        "## Занятие 7\n",
        "## Математический анализ\n",
        "## Исследование функции с sympy.calculus.util и sympy.calculus.singularities"
      ]
    },
    {
      "cell_type": "code",
      "execution_count": null,
      "metadata": {
        "id": "rmZvySQY41Nx"
      },
      "outputs": [],
      "source": [
        "import sympy\n",
        "import math\n",
        "from sympy import diff, solve, nsolve, solveset, latex, S, simplify, fraction, Symbol, symbols, Eq, Intersection\n",
        "from sympy import S, Interval, plot\n",
        "from sympy import sin as Sin\n",
        "from sympy import cos as Cos\n",
        "from sympy import exp as Exp\n",
        "from sympy import log as Log\n",
        "from sympy import pi as Pi\n",
        "from sympy.calculus.util import continuous_domain, function_range, periodicity, stationary_points, maximum, minimum, AccumBounds\n",
        "from sympy.calculus.singularities import singularities, is_increasing, is_decreasing, is_monotonic\n",
        "from sympy.calculus.singularities import is_strictly_increasing, is_strictly_decreasing\n",
        "from IPython.display import display, Latex\n",
        "%matplotlib inline"
      ]
    },
    {
      "cell_type": "code",
      "execution_count": null,
      "metadata": {
        "id": "Y1dtDdtF-JNZ"
      },
      "outputs": [],
      "source": [
        "# @title Определим основные функции для дальнейшей работы\n",
        "x = symbols('x')\n",
        "\n",
        "# Функция для нахождения области определния функции на заданном интервале\n",
        "def Find_Domain(func, domain_period = S.Reals, text_nedable = True):\n",
        "  cur_domain = continuous_domain(func, x, domain_period)\n",
        "  if (text_nedable):\n",
        "    display(Latex(fr\"\\text{{Область определения при }}x \\in {latex(domain_period )}\\ :\\ {latex(cur_domain)}\"))\n",
        "  return cur_domain\n",
        "\n",
        "# Функция для нахождения сингулярных точек функции на заданном интервале\n",
        "def Find_Singular_Points(func, domain_cur = S.Reals, text_nedable = True):\n",
        "  singular_p = singularities(func, x, domain_cur)\n",
        "  if (text_nedable):\n",
        "    display(Latex(fr\"\\text{{Сингулярные точки фунции при }}x \\in {latex(domain_cur)}\\ :\\ {latex(singular_p)}\"))\n",
        "  return singular_p\n",
        "\n",
        "# Функция для нахождения область значния функции на заданном интервале\n",
        "def Find_Func_Range(func, domain_cur = S.Reals, text_nedable = True):\n",
        "  func_range_cur = function_range(func, x, domain_cur)\n",
        "  if (text_nedable):\n",
        "    display(Latex(fr\"\\text{{Область значения функции при }}x \\in {latex(domain_cur)}\\ :\\ {latex(func_range_cur)}\"))\n",
        "  return func_range_cur\n",
        "\n",
        "# Фунция для определния периодичности функции\n",
        "def Find_Periodic(func):\n",
        "  period_cur = periodicity(func, x, check = False)\n",
        "  display(Latex(fr\"\\text{{Период функции : }}{latex(period_cur)}\"))\n",
        "  return period_cur\n",
        "\n",
        "# Функция для нахождения стационарных точек функции на заданном интервале\n",
        "def Find_Stationary_Points(func, domain_cur = S.Reals, text_nedable = True):\n",
        "  stationary_cur = stationary_points(func, x, domain_cur)\n",
        "  if (text_nedable):\n",
        "    display(Latex(fr\"\\text{{Стационарные точки функции при }}x \\in {latex(domain_cur)}\\ :\\ {latex(stationary_cur)}\"))\n",
        "  return stationary_cur\n",
        "\n",
        "# Фунция для нахждения максимального и минимального значения функции на заданном интервале\n",
        "def Find_MM_points(func, left_lim = -sympy.oo, right_lim = +sympy.oo):\n",
        "  f_AccB_cur = func.subs({x : AccumBounds(left_lim, right_lim)})\n",
        "  maxi_cur, mini_cur = f_AccB_cur.max, f_AccB_cur.min\n",
        "  interval_cur = Interval(left_lim, right_lim)\n",
        "  display(Latex(fr\"\\text{{Макс. и мин значение функции при }}x \\in {latex(interval_cur)}\\ :\\ {latex(maxi_cur)}\\ , \\ {latex(mini_cur)}\"))\n",
        "  return (maxi_cur, mini_cur)\n",
        "\n",
        "# Функция для нахождения открытых интвервалов фунции, на которые заданный интервал разбивается стационарными и сингулярными точками\n",
        "def Find_Monotonic_Intervals(func, left_lim = -sympy.oo, right_lim = +sympy.oo):\n",
        "  interval_cur = Interval(left_lim, right_lim)\n",
        "  lst_sign_points = [left_lim, right_lim]\n",
        "\n",
        "  singular_points_cur = Find_Singular_Points(func, interval_cur, False)\n",
        "  if len(singular_points_cur) != 0:\n",
        "    lst_sign_points.extend([*singular_points_cur])\n",
        "  station_points_cur = Find_Stationary_Points(func, interval_cur, False)\n",
        "  if len(station_points_cur) != 0:\n",
        "    lst_sign_points.extend([*station_points_cur])\n",
        "  lst_sign_points.sort()\n",
        "\n",
        "  lst_monton_intervals = [(lst_sign_points[i], lst_sign_points[i + 1]) for i in range(len(lst_sign_points) - 1)]\n",
        "  return lst_monton_intervals\n",
        "\n",
        "# Функция для определения характера монотонности функции на интервале\n",
        "def Find_Monotonic_Behavior(func, left_lim = -sympy.oo, right_lim = +sympy.oo, delt = 0):\n",
        "  cur_interval = Interval.open(left_lim + delt, right_lim - delt)\n",
        "  increas_cur, stric_increas_cur = is_increasing(func, interval = cur_interval), is_strictly_increasing(func, interval = cur_interval)\n",
        "  decreas_cur, stric_decreas_cur = is_decreasing(func, interval = cur_interval), is_strictly_decreasing(func, interval = cur_interval)\n",
        "  if (increas_cur or stric_increas_cur):\n",
        "    display(Latex(fr\"\\text{{Функция }}{latex('не' * (not stric_increas_cur))}\\text{{строго возрастает при }}\\ x \\in {latex(cur_interval)}\"))\n",
        "    return True\n",
        "  elif (decreas_cur or stric_decreas_cur):\n",
        "    display(Latex(fr\"\\text{{Функция }}{latex('не' * (not stric_decreas_cur))}\\text{{строго убывает при }}\\ x \\in {latex(cur_interval)}\"))\n",
        "    return False"
      ]
    },
    {
      "cell_type": "markdown",
      "metadata": {
        "id": "Y0fLPHYp41Ny"
      },
      "source": [
        "## Схема анализа функции.\n",
        "1. Область определения\n",
        "\n",
        "sympy.calculus.util.continuous_domain(f, symbol, domain)\n",
        "\n",
        "f - выражение, описывающее функцию,\n",
        "\n",
        "symbol - переменная, от которой зависит исследуемая функция,\n",
        "\n",
        "domain - область значений переменной, на которой рассматривается функция,\n",
        "\n",
        "если функция рассматривается на всей вещественной прямой, то domain=S.Reals\n",
        "\n",
        "Сингулярные точки (точки, в которых функция не существует) находятся с помощью\n",
        "\n",
        "sympy.calculus.singularities.singularities(f, symbol, domain=None)\n",
        "\n",
        "2. Область значений\n",
        "\n",
        "sympy.calculus.util.function_range(f, symbol, domain)\n",
        "\n",
        "3. Периодичность\n",
        "\n",
        "sympy.calculus.util.periodicity(f, symbol, check=False)\n",
        "\n",
        "4. Стационарные точки\n",
        "\n",
        "sympy.calculus.util.stationary_points(f, symbol, domain=Reals)\n",
        "\n",
        "5. Точки экстремума\n",
        "\n",
        "sympy.calculus.util.maximum(f, symbol, domain=Reals)\n",
        "\n",
        "sympy.calculus.util.minimum(f, symbol, domain=Reals)\n",
        "\n",
        "6. Монотонность\n",
        "\n",
        "sympy.calculus.singularities.is_decreasing(f, interval=Reals, symbol=None)\n",
        "\n",
        "sympy.calculus.singularities.is_increasing(f, interval=Reals, symbol=None)\n",
        "\n",
        "sympy.calculus.singularities.is_monotonic(f, interval=Reals, symbol=None)\n",
        "\n",
        "sympy.calculus.singularities.is_strictly_decreasing(f, interval=Reals, symbol=None)\n",
        "\n",
        "sympy.calculus.singularities.is_strictly_increasing(f, interval=Reals, symbol=None)\n",
        "\n",
        "7. Минимальное и максимальное значение функции на интервале\n",
        "\n",
        "sympy.calculus.util.AccumulationBounds(min, max)\n",
        "\n",
        "Свойства: delta, max, min, mid\n",
        "\n",
        "### Задание 1.  \n",
        "Исследовать функцию по п.1 - 5 на области определения и по п. 1 - 7 на одном периоде, построить график.\n",
        "$$\n",
        "f(x) = e^{\\sin(x)}.\n",
        "$$\n",
        "###### 1. Область определения"
      ]
    },
    {
      "cell_type": "code",
      "execution_count": null,
      "metadata": {
        "colab": {
          "base_uri": "https://localhost:8080/",
          "height": 39
        },
        "id": "I9T3Kzsm41Nz",
        "outputId": "bbd70e20-9e3f-43a3-82cd-2e6f7c18ae8f"
      },
      "outputs": [],
      "source": [
        "def f(x):\n",
        "  return sympy.E**(sympy.sin(x))\n",
        "\n",
        "domain_f_1 = Find_Domain(f(x))"
      ]
    },
    {
      "cell_type": "markdown",
      "metadata": {
        "id": "3Z4h0F_n41Nz"
      },
      "source": [
        "Сингулярные точки (точки, где функция не определена)"
      ]
    },
    {
      "cell_type": "code",
      "execution_count": null,
      "metadata": {
        "colab": {
          "base_uri": "https://localhost:8080/",
          "height": 39
        },
        "id": "f90KpyQP41Nz",
        "outputId": "2a976d58-e7ce-4be5-ac4a-e1e01c9bc509"
      },
      "outputs": [],
      "source": [
        "singular_f_1 = Find_Singular_Points(f(x))"
      ]
    },
    {
      "cell_type": "markdown",
      "metadata": {
        "id": "yEHSFooy41Nz"
      },
      "source": [
        "###### 2. Область значений"
      ]
    },
    {
      "cell_type": "code",
      "execution_count": null,
      "metadata": {
        "colab": {
          "base_uri": "https://localhost:8080/",
          "height": 39
        },
        "id": "vmHLSl-541Nz",
        "outputId": "9f83c61c-4739-4c8b-a301-9d94bc53438e"
      },
      "outputs": [],
      "source": [
        "func_range_f_1 = Find_Func_Range(f(x))"
      ]
    },
    {
      "cell_type": "markdown",
      "metadata": {
        "id": "yWttX6W441Nz"
      },
      "source": [
        "###### 3. Периодичность"
      ]
    },
    {
      "cell_type": "code",
      "execution_count": null,
      "metadata": {
        "colab": {
          "base_uri": "https://localhost:8080/",
          "height": 39
        },
        "id": "He2ut3t841Nz",
        "outputId": "270493c9-879b-41c2-913b-85117861b684"
      },
      "outputs": [],
      "source": [
        "period_f_1 = Find_Periodic(f(x))"
      ]
    },
    {
      "cell_type": "markdown",
      "metadata": {
        "id": "-oKgIi6141N0"
      },
      "source": [
        "###### 4. Стационарные точки"
      ]
    },
    {
      "cell_type": "code",
      "execution_count": null,
      "metadata": {
        "colab": {
          "base_uri": "https://localhost:8080/",
          "height": 39
        },
        "id": "pNDjk9vN41N0",
        "outputId": "325847fa-47d3-4926-a369-6e482c07daab"
      },
      "outputs": [],
      "source": [
        "station_f_1 = Find_Stationary_Points(f(x), domain_f_1)"
      ]
    },
    {
      "cell_type": "markdown",
      "metadata": {
        "id": "jKUoE-4a41N0"
      },
      "source": [
        "###### 5. Максимальное и минимальное значения функции"
      ]
    },
    {
      "cell_type": "code",
      "execution_count": null,
      "metadata": {
        "colab": {
          "base_uri": "https://localhost:8080/",
          "height": 39
        },
        "id": "x8k9EX2z41N0",
        "outputId": "4d8b4133-1689-4d90-df41-49acace09071"
      },
      "outputs": [],
      "source": [
        "maxi_f_1, mini_f_1 = Find_MM_points(f(x))"
      ]
    },
    {
      "cell_type": "markdown",
      "metadata": {
        "id": "1hycZGR_41N0"
      },
      "source": [
        "##### Исследование периодической функции на одном периоде.\n",
        "Найти пересечение с периодом области определения, множества сингулярных точек и стационарных точек.\n",
        "###### 1. Область определения"
      ]
    },
    {
      "cell_type": "code",
      "execution_count": null,
      "metadata": {
        "colab": {
          "base_uri": "https://localhost:8080/",
          "height": 39
        },
        "id": "lbkyEfjs41N0",
        "outputId": "4599f6a8-4c02-4198-a6bf-a2e250635a41"
      },
      "outputs": [],
      "source": [
        "period_f_1 = Interval(0, 2 * Pi)\n",
        "domain_f_per_1 = Find_Domain(f(x), period_f_1)"
      ]
    },
    {
      "cell_type": "markdown",
      "metadata": {
        "id": "38TDooIi41N0"
      },
      "source": [
        "Сингулярные точки (точки, где функция не определена)"
      ]
    },
    {
      "cell_type": "code",
      "execution_count": null,
      "metadata": {
        "colab": {
          "base_uri": "https://localhost:8080/",
          "height": 39
        },
        "id": "Zm5dvrlH41N0",
        "outputId": "4827e30f-041e-45af-d3c0-5848b8cb978d"
      },
      "outputs": [],
      "source": [
        "singular_f_per_1 = Find_Singular_Points(f(x), domain_f_per_1)"
      ]
    },
    {
      "cell_type": "markdown",
      "metadata": {
        "id": "UHhuB88C41N0"
      },
      "source": [
        "###### 2. Область значений"
      ]
    },
    {
      "cell_type": "code",
      "execution_count": null,
      "metadata": {
        "colab": {
          "base_uri": "https://localhost:8080/",
          "height": 39
        },
        "id": "PmtjFtEf41N0",
        "outputId": "c2bb880a-2af8-45fc-95df-3a391ef5a798"
      },
      "outputs": [],
      "source": [
        "func_range_f_per_1 = Find_Func_Range(f(x), domain_f_per_1)"
      ]
    },
    {
      "cell_type": "markdown",
      "metadata": {
        "id": "80081J7p41N0"
      },
      "source": [
        "###### 4. Стационарные точки"
      ]
    },
    {
      "cell_type": "code",
      "execution_count": null,
      "metadata": {
        "colab": {
          "base_uri": "https://localhost:8080/",
          "height": 39
        },
        "id": "RWlZwZxj41N0",
        "outputId": "08890f7b-91ee-4297-91aa-fd29de51a061"
      },
      "outputs": [],
      "source": [
        "station_f_per_1 = Find_Stationary_Points(f(x), domain_f_per_1)"
      ]
    },
    {
      "cell_type": "markdown",
      "metadata": {
        "id": "77K-BtK241N0"
      },
      "source": [
        "###### 5. Максимальное и минимальное значения функции"
      ]
    },
    {
      "cell_type": "code",
      "execution_count": null,
      "metadata": {
        "colab": {
          "base_uri": "https://localhost:8080/",
          "height": 39
        },
        "id": "l2s-5pSi41N0",
        "outputId": "d99f4b4a-1125-4de1-aecc-2b07fed9548e"
      },
      "outputs": [],
      "source": [
        "maxi_f_per_1, mini_f_per_1 = Find_MM_points(f(x), 0, 2 * Pi)"
      ]
    },
    {
      "cell_type": "markdown",
      "metadata": {
        "id": "3quTaK6j41N0"
      },
      "source": [
        "###### 6. Монотонность\n",
        "Исследовать на периоде открытые интервалы (Interval.open), на которые период разбивают стационарные точки."
      ]
    },
    {
      "cell_type": "code",
      "execution_count": null,
      "metadata": {
        "colab": {
          "base_uri": "https://localhost:8080/",
          "height": 83
        },
        "id": "0bJEv-xT41N0",
        "outputId": "2ce938bf-d829-4d74-db85-fef6b0a89d4a"
      },
      "outputs": [],
      "source": [
        "lst_monoton_int_f_1 = Find_Monotonic_Intervals(f(x), 0, 2 * Pi)\n",
        "for interval in lst_monoton_int_f_1:\n",
        "  left_cur, right_cur = interval[0], interval[1]\n",
        "  monoton_behave = Find_Monotonic_Behavior(f(x), left_cur, right_cur)"
      ]
    },
    {
      "cell_type": "markdown",
      "metadata": {
        "id": "ATw5S9Vj41N1"
      },
      "source": [
        "###### 7. Минимальное и максимальное значение функции на интервале\n",
        "Найти максимальное и минимальное значение функции на каждом из интервалов монотонности в пределах одного периода"
      ]
    },
    {
      "cell_type": "code",
      "execution_count": null,
      "metadata": {
        "colab": {
          "base_uri": "https://localhost:8080/",
          "height": 83
        },
        "id": "VVUlYVc841N1",
        "outputId": "b32e52d2-abec-4076-fa65-5b7bb2d5ec88"
      },
      "outputs": [],
      "source": [
        "for interval in lst_monoton_int_f_1:\n",
        "  left_cur, right_cur = interval[0], interval[1]\n",
        "  max_cur_int, min_cur_int = Find_MM_points(f(x), left_cur, right_cur)"
      ]
    },
    {
      "cell_type": "markdown",
      "metadata": {
        "id": "bloMSGBe41N1"
      },
      "source": [
        "###### График функции на одном периоде."
      ]
    },
    {
      "cell_type": "code",
      "execution_count": null,
      "metadata": {
        "colab": {
          "base_uri": "https://localhost:8080/",
          "height": 504
        },
        "id": "dMhZYHFU41N1",
        "outputId": "049a5fe8-c044-4a74-9045-bed1478daaf9"
      },
      "outputs": [],
      "source": [
        "plot(f(x), (x, 0, 2 * Pi))"
      ]
    },
    {
      "cell_type": "markdown",
      "metadata": {
        "id": "-hPHpT5l41N1"
      },
      "source": [
        "### Задание 2.  \n",
        "Исследовать функцию по п.1 - 5 на области определения и по п. 1 - 7  на одном периоде, построить график.\n",
        "$$\n",
        "f(x) = \\frac{1}{\\sin(x) + \\cos(x)}.\n",
        "$$\n",
        "###### 1. Область определения"
      ]
    },
    {
      "cell_type": "code",
      "execution_count": null,
      "metadata": {
        "colab": {
          "base_uri": "https://localhost:8080/",
          "height": 39
        },
        "id": "bHpazqiS41N1",
        "outputId": "e09f4fdb-9762-44f0-d338-577f5f2b493c"
      },
      "outputs": [],
      "source": [
        "def g(x):\n",
        "  return 1/(sympy.sin(x) + sympy.cos(x))\n",
        "\n",
        "domain_g_1 = Find_Domain(g(x))"
      ]
    },
    {
      "cell_type": "markdown",
      "metadata": {
        "id": "lwQFbh8h41N1"
      },
      "source": [
        "Сингулярные точки (точки, где функция не определена)"
      ]
    },
    {
      "cell_type": "code",
      "execution_count": null,
      "metadata": {
        "colab": {
          "base_uri": "https://localhost:8080/",
          "height": 39
        },
        "id": "BL9DcH6T41N1",
        "outputId": "639c2810-0a81-4896-e79b-e8fbbba50d7b"
      },
      "outputs": [],
      "source": [
        "singular_g_1 = Find_Singular_Points(g(x))"
      ]
    },
    {
      "cell_type": "markdown",
      "metadata": {
        "id": "9YUAxTGA41N1"
      },
      "source": [
        "###### 2. Область значений"
      ]
    },
    {
      "cell_type": "code",
      "execution_count": null,
      "metadata": {
        "colab": {
          "base_uri": "https://localhost:8080/",
          "height": 47
        },
        "id": "09S3vvLP41N1",
        "outputId": "0a799c94-1b12-4495-ae06-3d569fef6a6f"
      },
      "outputs": [],
      "source": [
        "func_range_g_1 = Find_Func_Range(g(x))"
      ]
    },
    {
      "cell_type": "markdown",
      "metadata": {
        "id": "wb1L8pM241N1"
      },
      "source": [
        "###### 3. Периодичность"
      ]
    },
    {
      "cell_type": "code",
      "execution_count": null,
      "metadata": {
        "colab": {
          "base_uri": "https://localhost:8080/",
          "height": 39
        },
        "id": "oLPn6vm041N1",
        "outputId": "2fe0dfec-010f-4794-a325-1b2ea582a3d5"
      },
      "outputs": [],
      "source": [
        "period_g = Find_Periodic(g(x))"
      ]
    },
    {
      "cell_type": "markdown",
      "metadata": {
        "id": "ucpqr-mm41N1"
      },
      "source": [
        "###### 4. Стационарные точки"
      ]
    },
    {
      "cell_type": "code",
      "execution_count": null,
      "metadata": {
        "colab": {
          "base_uri": "https://localhost:8080/",
          "height": 61
        },
        "id": "bCg2BfPp41N6",
        "outputId": "b99c10db-d089-48d8-9a5b-a246e759af60"
      },
      "outputs": [],
      "source": [
        "station_g_1 = Find_Stationary_Points(g(x), domain_g_1)"
      ]
    },
    {
      "cell_type": "markdown",
      "metadata": {
        "id": "C7mGdbhi41N6"
      },
      "source": [
        "###### 5. Максимальное и минимальное значения функции"
      ]
    },
    {
      "cell_type": "code",
      "execution_count": null,
      "metadata": {
        "colab": {
          "base_uri": "https://localhost:8080/",
          "height": 39
        },
        "id": "KbZYqlw341N6",
        "outputId": "1dc73620-1875-46c9-cab9-15bc1c1a2c0a"
      },
      "outputs": [],
      "source": [
        "maxi_g_1, mini_g_1 = Find_MM_points(g(x))"
      ]
    },
    {
      "cell_type": "markdown",
      "metadata": {
        "id": "T-n7fqKy41N6"
      },
      "source": [
        "##### Исследование периодической функции на одном периоде.\n",
        "Найти пересечение с периодом области определения, множества сингулярных точек и стационарных точек.\n",
        "###### 1. Область определения"
      ]
    },
    {
      "cell_type": "code",
      "execution_count": null,
      "metadata": {
        "colab": {
          "base_uri": "https://localhost:8080/",
          "height": 39
        },
        "id": "VyGhpWSC41N7",
        "outputId": "207883d3-ffe8-41c7-9e4a-227d3c449a0f"
      },
      "outputs": [],
      "source": [
        "period_g = Interval(0, 2 * Pi)\n",
        "domain_g_per = Find_Domain(g(x), period_g)"
      ]
    },
    {
      "cell_type": "markdown",
      "metadata": {
        "id": "ZGoV5vC841N7"
      },
      "source": [
        "Сингулярные точки (точки, где функция не определена)"
      ]
    },
    {
      "cell_type": "code",
      "execution_count": null,
      "metadata": {
        "colab": {
          "base_uri": "https://localhost:8080/",
          "height": 39
        },
        "id": "Etwiio1s41N7",
        "outputId": "d9ffc57c-495e-4f7b-cc06-cde53229019f"
      },
      "outputs": [],
      "source": [
        "singular_g_per = Find_Singular_Points(g(x), period_g)"
      ]
    },
    {
      "cell_type": "markdown",
      "metadata": {
        "id": "0zpS8w2641N7"
      },
      "source": [
        "###### 2. Область значений"
      ]
    },
    {
      "cell_type": "code",
      "execution_count": null,
      "metadata": {
        "colab": {
          "base_uri": "https://localhost:8080/",
          "height": 47
        },
        "id": "0sitLPqh41N7",
        "outputId": "043c2ff8-4e03-4473-a1db-1c05d659bf64"
      },
      "outputs": [],
      "source": [
        "func_range_g_per = Find_Func_Range(g(x), domain_g_per)"
      ]
    },
    {
      "cell_type": "markdown",
      "metadata": {
        "id": "poDW6t7J41N7"
      },
      "source": [
        "###### 4. Стационарные точки"
      ]
    },
    {
      "cell_type": "code",
      "execution_count": null,
      "metadata": {
        "colab": {
          "base_uri": "https://localhost:8080/",
          "height": 39
        },
        "id": "KBptV0xO41N7",
        "outputId": "e0303c22-9748-4652-e079-84a3cf5b0dcf"
      },
      "outputs": [],
      "source": [
        "stationar_g_per = Find_Stationary_Points(g(x), domain_g_per)"
      ]
    },
    {
      "cell_type": "markdown",
      "metadata": {
        "id": "awbiG5aJ41N7"
      },
      "source": [
        "###### 5. Максимальное и минимальное значения функции"
      ]
    },
    {
      "cell_type": "code",
      "execution_count": null,
      "metadata": {
        "colab": {
          "base_uri": "https://localhost:8080/",
          "height": 39
        },
        "id": "Muz_mDph41N7",
        "outputId": "7b8c6ae6-2dda-406b-8c07-466c338af607"
      },
      "outputs": [],
      "source": [
        "maxi_g_per, mini_g_per = Find_MM_points(g(x), 0, 2 * Pi)"
      ]
    },
    {
      "cell_type": "markdown",
      "metadata": {
        "id": "U4LwaI2b41N7"
      },
      "source": [
        "###### 6. Монотонность"
      ]
    },
    {
      "cell_type": "code",
      "execution_count": null,
      "metadata": {
        "colab": {
          "base_uri": "https://localhost:8080/",
          "height": 127
        },
        "id": "l-K3xaCu41N7",
        "outputId": "9b1ee1b8-9f7b-43d1-9a7c-44d28e17369e"
      },
      "outputs": [],
      "source": [
        "lst_monoton_per_g_1 = Find_Monotonic_Intervals(g(x), 0, 2 * Pi)\n",
        "for interval in lst_monoton_per_g_1:\n",
        "  left_cur, right_cur = interval[0], interval[1]\n",
        "  monoton_behave = Find_Monotonic_Behavior(g(x), left_cur, right_cur)"
      ]
    },
    {
      "cell_type": "markdown",
      "metadata": {
        "id": "vhdXRiG841N7"
      },
      "source": [
        "###### 7. Минимальное и максимальное значение функции на периоде"
      ]
    },
    {
      "cell_type": "code",
      "execution_count": null,
      "metadata": {
        "colab": {
          "base_uri": "https://localhost:8080/",
          "height": 155
        },
        "id": "TQ9ZlaJf41N7",
        "outputId": "7d724c79-2ab2-4d85-827c-20c0789b393a"
      },
      "outputs": [],
      "source": [
        "for interval in lst_monoton_per_g_1:\n",
        "  left_cur, right_cur = interval[0], interval[1]\n",
        "  max_g_cur, min_g_cur = Find_MM_points(g(x), left_cur, right_cur)"
      ]
    },
    {
      "cell_type": "markdown",
      "metadata": {
        "id": "1OSKy8GM41N7"
      },
      "source": [
        "###### График"
      ]
    },
    {
      "cell_type": "code",
      "execution_count": null,
      "metadata": {
        "colab": {
          "base_uri": "https://localhost:8080/",
          "height": 487
        },
        "id": "pSiE2Syl41N7",
        "outputId": "c6f1cb71-1b89-4a68-8ed5-3cadb6f7ac5a"
      },
      "outputs": [],
      "source": [
        "plt_1 = plot((g(x), (x, 0 , 3/4 * Pi - 0.01)),(g(x), (x, 3/4 * Pi + 0.01 , 7/4 * Pi - 0.01)),(g(x), (x, 7/4 * Pi + 0.01 , 2 * Pi)) , xlim = (-20, 30), ylim = (-15, 15), line_color = \"blue\", show = False)\n",
        "for i in range(-3, 6):\n",
        "  delt = 2 * i * Pi\n",
        "  plt_1.append(plot((g(x), (x, 0 + delt, 3/4 * Pi - 0.01 + delt)), show = False, line_color = \"blue\")[0])\n",
        "  plt_1.append(plot((g(x), (x, 3/4 * Pi + 0.01 + delt , 7/4 * Pi - 0.01 + delt)), show = False, line_color = \"blue\")[0])\n",
        "  plt_1.append(plot((g(x), (x, 7/4 * Pi + 0.01 + delt , 2 * Pi + delt)), show = False, line_color = \"blue\")[0])\n",
        "plt_1.show()"
      ]
    },
    {
      "cell_type": "markdown",
      "metadata": {
        "id": "ZtUSFchd41N7"
      },
      "source": [
        "### Индивидуальное задание.  \n",
        "Исследовать функцию $f(x)$, найти минимальное и максимальное значение на каком-нибудь конечном интервале, не содержащем точек разрыва, построить график.\n",
        "\n",
        "Вариант 134\n",
        "\n",
        "$f(x) = 2\\sqrt{1 - 4cos(x)}$\n",
        "\n",
        "###### 1. Область определения\n"
      ]
    },
    {
      "cell_type": "code",
      "execution_count": null,
      "metadata": {
        "colab": {
          "base_uri": "https://localhost:8080/",
          "height": 61
        },
        "id": "klUDefbT41N8",
        "outputId": "e77758b2-2bc0-4397-f345-472cda102c8f"
      },
      "outputs": [],
      "source": [
        "k = Symbol('k')\n",
        "\n",
        "def h(x):\n",
        "  return 2 * sympy.sqrt(1 -4 * sympy.cos(x))\n",
        "\n",
        "h_left_lim, h_right_lim = sympy.atan(sympy.sqrt(15)), 2 * Pi - sympy.atan(sympy.sqrt(15))\n",
        "interval_h = Interval(h_left_lim, h_right_lim)\n",
        "\n",
        "domain_h = Find_Domain(h(x), interval_h)\n",
        "display(Latex(fr\"\\text{{Область определения при }}x \\in {latex(S.Reals)} \\ : \\  [{latex(h_left_lim + 2 * Pi * k)},{latex(h_right_lim + 2 * Pi * k)}] , \\ k \\in {latex(S.Integers)}\"))"
      ]
    },
    {
      "cell_type": "markdown",
      "metadata": {
        "id": "h664vIC_41N8"
      },
      "source": [
        "Сингулярные точки (точки, где функция не определена)"
      ]
    },
    {
      "cell_type": "code",
      "execution_count": null,
      "metadata": {
        "colab": {
          "base_uri": "https://localhost:8080/",
          "height": 61
        },
        "id": "_HXx99fq41N8",
        "outputId": "d900669c-a2f4-4108-8351-b62bcd8e3dbf"
      },
      "outputs": [],
      "source": [
        "singular_h = Find_Singular_Points(h(x), interval_h)\n",
        "singular_interval = solveset((1 - 4 * sympy.cos(x)) < 0, x, S.Reals)\n",
        "display(Latex(fr\"\\text{{Сингулярные точки фунции при }}x \\in {latex(S.Reals)}\\ :\\ [{latex(0 + 2 * Pi * k)},{latex(h_left_lim + 2 * Pi * k)}) \\cup ({latex(h_right_lim + 2 * Pi * k)},{latex(2 * Pi + 2 * Pi * k)}) , \\ k \\in {latex(S.Integers)}\"))"
      ]
    },
    {
      "cell_type": "markdown",
      "metadata": {
        "id": "ahc9hHJx41N8"
      },
      "source": [
        "###### 2. Область значений"
      ]
    },
    {
      "cell_type": "code",
      "execution_count": null,
      "metadata": {
        "colab": {
          "base_uri": "https://localhost:8080/",
          "height": 61
        },
        "id": "m4udK8jF41N8",
        "outputId": "04a72398-cd5c-40e3-810a-ac422dac54b1"
      },
      "outputs": [],
      "source": [
        "func_range_h_1 = Find_Func_Range(h(x), interval_h)\n",
        "func_range_h = Find_Func_Range(h(x))"
      ]
    },
    {
      "cell_type": "markdown",
      "metadata": {
        "id": "QSe5lDXE41N8"
      },
      "source": [
        "###### 3. Периодичность"
      ]
    },
    {
      "cell_type": "code",
      "execution_count": null,
      "metadata": {
        "colab": {
          "base_uri": "https://localhost:8080/",
          "height": 39
        },
        "id": "Myt_CMOh41N8",
        "outputId": "48b9acea-516f-42b8-b46c-fc6857316e6d"
      },
      "outputs": [],
      "source": [
        "period_h = Find_Periodic(h(x))"
      ]
    },
    {
      "cell_type": "markdown",
      "metadata": {
        "id": "o4PSBi2n41N8"
      },
      "source": [
        "###### 4. Стационарные точки"
      ]
    },
    {
      "cell_type": "code",
      "execution_count": null,
      "metadata": {
        "colab": {
          "base_uri": "https://localhost:8080/",
          "height": 61
        },
        "id": "khjmkT1V41N8",
        "outputId": "8246c8d4-c99a-4982-b48f-b09fa7ce6414"
      },
      "outputs": [],
      "source": [
        "stationar_h = Find_Stationary_Points(h(x), domain_h)\n",
        "display(Latex(fr\"\\text{{Стационарные точки функции при }}x \\in {latex(S.Reals)}\\ :\\ {latex(Pi + 2 * Pi * k)} , \\ k \\in {latex(S.Integers)}\"))"
      ]
    },
    {
      "cell_type": "markdown",
      "metadata": {
        "id": "tsbREYLP41N8"
      },
      "source": [
        "###### 5. Максимальное и минимальное значения функции"
      ]
    },
    {
      "cell_type": "code",
      "execution_count": null,
      "metadata": {
        "colab": {
          "base_uri": "https://localhost:8080/",
          "height": 61
        },
        "id": "das0OTVz41N8",
        "outputId": "fb4c9942-6046-4ca2-cad1-c0c32da1d0fa"
      },
      "outputs": [],
      "source": [
        "max_h_per, min_h_per = Find_MM_points(h(x), h_left_lim, h_right_lim)\n",
        "display(Latex(fr\"\\text{{Макс. и мин значение функции при }}x \\in {latex(S.Reals)}\\ :\\ {latex(max_h_per)}\\ , \\ {latex(min_h_per)}\"))"
      ]
    },
    {
      "cell_type": "markdown",
      "metadata": {
        "id": "t06DhClz41N8"
      },
      "source": [
        "###### 6. Монотонность  "
      ]
    },
    {
      "cell_type": "code",
      "execution_count": null,
      "metadata": {
        "colab": {
          "base_uri": "https://localhost:8080/",
          "height": 61
        },
        "id": "re2U02FS41N8",
        "outputId": "4e8230d1-7b25-49ca-bc0f-cfd0023f8ffa"
      },
      "outputs": [],
      "source": [
        "lst_monoton_int_h_1 = Find_Monotonic_Intervals(h(x), h_left_lim, h_right_lim)\n",
        "for interval in lst_monoton_int_h_1:\n",
        "  left_cur, right_cur = interval[0], interval[1]\n",
        "\n",
        "display(Latex(fr\"\\text{{Функция }}\\text{{строго возрастает при }}\\ x \\in [{latex(h_left_lim + 2 * Pi * k)},{latex(Pi + 2 * Pi * k)}] , \\ k \\in {latex(S.Integers)}\"))\n",
        "display(Latex(fr\"\\text{{Функция }}\\text{{строго убывает при }}\\ x \\in [{latex(Pi + 2 * Pi * k)},{latex(h_right_lim + 2 * Pi * k)}] , \\ k \\in {latex(S.Integers)}\"))"
      ]
    },
    {
      "cell_type": "markdown",
      "metadata": {
        "id": "KibR3PHP41N8"
      },
      "source": [
        "###### 7. Минимальное и максимальное значение функции на интервале"
      ]
    },
    {
      "cell_type": "code",
      "execution_count": null,
      "metadata": {
        "colab": {
          "base_uri": "https://localhost:8080/",
          "height": 83
        },
        "id": "LN5ixTOo41N8",
        "outputId": "f5e90d3c-9e36-45d3-de7e-71787b2f56af"
      },
      "outputs": [],
      "source": [
        "max_h_per, min_h_per = Find_MM_points(h(x), h_left_lim, h_right_lim)\n",
        "for interval in lst_monoton_int_h_1:\n",
        "  left_cur, right_cur = interval[0], interval[1]\n",
        "  max_g_cur, min_g_cur = Find_MM_points(h(x), left_cur, right_cur)"
      ]
    },
    {
      "cell_type": "markdown",
      "metadata": {
        "id": "VIwnJwIm41N8"
      },
      "source": [
        "###### График"
      ]
    },
    {
      "cell_type": "code",
      "execution_count": null,
      "metadata": {
        "colab": {
          "base_uri": "https://localhost:8080/",
          "height": 487
        },
        "id": "q3hgbfZG41N8",
        "outputId": "b65aa85b-c286-43b8-92df-0cfec4353c48"
      },
      "outputs": [],
      "source": [
        "plt = plot((h(x), (x, h_left_lim, h_right_lim)), xlim= (-18, 18), ylim = (-1, 7), line_color = \"blue\", show = False)\n",
        "for i in range(-3, 5):\n",
        "  plt.append(plot((h(x), (x, h_left_lim + i * 2 * Pi, h_right_lim + i * 2 * Pi)), show = False, line_color = \"blue\")[0])\n",
        "plt.show()"
      ]
    }
  ],
  "metadata": {
    "colab": {
      "provenance": []
    },
    "kernelspec": {
      "display_name": "Python 3",
      "language": "python",
      "name": "python3"
    },
    "language_info": {
      "codemirror_mode": {
        "name": "ipython",
        "version": 3
      },
      "file_extension": ".py",
      "mimetype": "text/x-python",
      "name": "python",
      "nbconvert_exporter": "python",
      "pygments_lexer": "ipython3",
      "version": "3.7.3"
    }
  },
  "nbformat": 4,
  "nbformat_minor": 0
}

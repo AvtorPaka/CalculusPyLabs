{
  "cells": [
    {
      "cell_type": "markdown",
      "metadata": {
        "id": "DViLHwKwmXUS"
      },
      "source": [
        "## Занятие 3\n",
        "## Математический анализ\n",
        "## Решение нелинейных уравнений в Sympy. Solve и solveset.\n",
        "https://docs.sympy.org/latest/modules/solvers/solveset.html"
      ]
    },
    {
      "cell_type": "code",
      "execution_count": 52,
      "metadata": {
        "id": "iL2I5gzrmXUV"
      },
      "outputs": [],
      "source": [
        "from sympy import Symbol, symbols, S, solve, solveset, Intersection, Interval, EmptySet, Union, Eq, latex, pi, E, imageset, plot\n",
        "from sympy.calculus.util import continuous_domain\n",
        "import sympy\n",
        "from IPython.display import Latex\n",
        "# Продолжим использовать магию\n",
        "%matplotlib inline"
      ]
    },
    {
      "cell_type": "markdown",
      "metadata": {
        "id": "tQHOzsEImXUW"
      },
      "source": [
        "### Задание 1\n",
        "Решить уравнение $6x^4 + 9x^3 - 99x^2 - 66x + 360 = 0$ с помощью solve и solveset."
      ]
    },
    {
      "cell_type": "code",
      "execution_count": null,
      "metadata": {
        "colab": {
          "base_uri": "https://localhost:8080/",
          "height": 78
        },
        "id": "Rbuaz1mEmXUW",
        "outputId": "c3e78927-ac31-4891-8ba6-2825f5777c61"
      },
      "outputs": [],
      "source": [
        "x, k, y = sympy.symbols(\"x k y\")\n",
        "eq = 6 * x**4 + 9 * x**3 - 99 * x**2 - 66 * x + 360\n",
        "lst_solve = solve(eq)\n",
        "lst_from_solveset = [*solveset(eq)]\n",
        "display(Latex(f\"Решение\\ c\\ помощью\\ solve : {latex(lst_solve)}\"))\n",
        "print()\n",
        "display(Latex(f\"Решение\\ c\\ помощью\\ solveset : {latex(lst_from_solveset)}\"))"
      ]
    },
    {
      "cell_type": "markdown",
      "metadata": {
        "id": "p2Sf_v7emXUW"
      },
      "source": [
        "### Задание 2.\n",
        "Найти только вещественные решения уравнения $12x^8 + 32x^6 + 21x^4 - 2x^2 - 3 = 0$."
      ]
    },
    {
      "cell_type": "code",
      "execution_count": null,
      "metadata": {
        "colab": {
          "base_uri": "https://localhost:8080/",
          "height": 39
        },
        "id": "9i5_ALK0mXUW",
        "outputId": "c4aaf9b3-94cc-4686-f5eb-bdede39ab8bf"
      },
      "outputs": [],
      "source": [
        "eq_2 = 12 * x**8 + 32 * x**6 + 21 * x**4 - 2 * x**2 - 3\n",
        "lst_real_ans = [*solveset(eq, domain = S.Reals)]\n",
        "display(Latex(f\"Вещественные\\ решения\\ уравнения\\ {latex(Eq(eq_2, 0))}\\ : {latex(lst_real_ans)}\"))"
      ]
    },
    {
      "cell_type": "markdown",
      "metadata": {
        "id": "whDSK_M5mXUW"
      },
      "source": [
        "### Задание 3.\n",
        "Решить уравнение $\\log_2(\\sin(x))=-1$."
      ]
    },
    {
      "cell_type": "code",
      "execution_count": null,
      "metadata": {
        "colab": {
          "base_uri": "https://localhost:8080/",
          "height": 43
        },
        "id": "KIPgU8yimXUW",
        "outputId": "83ca3124-4ecc-48b6-d77f-400b51cee855"
      },
      "outputs": [],
      "source": [
        "eq_3 = sympy.log(sympy.sin(x), 2) + 1\n",
        "lst_ans_eq3 = solveset(eq_3)\n",
        "display(Latex(f\"Решения\\ уравнения\\ {latex(Eq(eq_3 - 1, -1))}\\ : {latex(lst_ans_eq3)}\"))"
      ]
    },
    {
      "cell_type": "markdown",
      "metadata": {
        "id": "TgqehIbcmXUW"
      },
      "source": [
        "### Задание 4.\n",
        "Найти решения уравнения $2{\\rm tg}^2(x) - 3{\\rm tg}(x) - 5 = 0$ на открытом интервале  $(-5\\pi/4, 11\\pi/4)$."
      ]
    },
    {
      "cell_type": "code",
      "execution_count": null,
      "metadata": {
        "colab": {
          "base_uri": "https://localhost:8080/",
          "height": 39
        },
        "id": "gbIeZtKvmXUX",
        "outputId": "698a7f5a-8ff2-4a1c-bd98-cd0557e08eba"
      },
      "outputs": [],
      "source": [
        "eq_4 = 2 * sympy.tan(x) ** 2 - 3 * sympy.tan(x) - 5\n",
        "lst_ans_interval = Intersection(solveset(eq_4), Interval.open( -pi * S(5)/4, pi * S(11)/4))\n",
        "display(Latex(f\"Решения\\ уравнения\\ {latex(Eq(eq_4, 0))}\\ : {latex(lst_ans_interval)}\"))"
      ]
    },
    {
      "cell_type": "markdown",
      "metadata": {
        "id": "Bow268V-mXUX"
      },
      "source": [
        "### Задание 5.\n",
        "Найти область определения функции $\\sqrt{\\sin^2 x - 1}$."
      ]
    },
    {
      "cell_type": "code",
      "execution_count": null,
      "metadata": {
        "colab": {
          "base_uri": "https://localhost:8080/",
          "height": 48
        },
        "id": "LJshteWqmXUX",
        "outputId": "88fb42ae-cdc0-4ac2-dfe3-0f53d05ecda2"
      },
      "outputs": [],
      "source": [
        "func_1 = sympy.sqrt(sympy.sin(x) ** 2 - 1)\n",
        "domain_not_inf = continuous_domain(func_1, x, domain = S.Reals)\n",
        "inf_domain_lst = {imageset(k, num + 2 * pi * k, S.Integers) for num in domain_not_inf}\n",
        "domain_inf = Union(*inf_domain_lst)\n",
        "display(Latex(f\"Область\\ определения\\ функции\\ {latex(func_1)} : {latex(domain_inf)}\"))"
      ]
    },
    {
      "cell_type": "markdown",
      "metadata": {
        "id": "ztTfvfaXmXUX"
      },
      "source": [
        "### Задание 6.\n",
        "Найти решение уравнения $\\frac{(x^3 + 5 x^2 - 3 x - 15)\\ln(x^2 - 3)}{x^2 - 3 x + 2} = 0$. Выполнить проверку подстановкой subs.\n",
        "#### Указание.\n",
        "Решение нужно разбить на части. Нужно учесть область определения выражения в левой части уравнения."
      ]
    },
    {
      "cell_type": "code",
      "execution_count": null,
      "metadata": {
        "colab": {
          "base_uri": "https://localhost:8080/",
          "height": 87
        },
        "id": "OmpV_garmXUX",
        "outputId": "a5daf3d6-f2ce-47a2-af72-68ce3d28318c"
      },
      "outputs": [],
      "source": [
        "# Функция для проверки корректности найденных решений с помощью подстановки и проверка на вхождение в область определния.\n",
        "def CheckSolutionSubs(func, param, var_num):\n",
        "  cur_domain = continuous_domain(func, param, domain = S.Reals)\n",
        "  eq_checked = sympy.simplify(func.subs({param : var_num}))\n",
        "  if (eq_checked == 0) and (len(Intersection(cur_domain, {var_num})) > 0):\n",
        "    display(Latex(f\"{latex(var_num)}\\ является\\ решением\\ уравнения\"))\n",
        "  else:\n",
        "    display(Latex(f\"{latex(var_num)}\\ не\\ является\\ решением\\ уравнения\"))\n",
        "\n",
        "eq = (x**3 + 5 * x **2 - 3 * x - 15) * sympy.log(x**2 - 3, E) / (x **2 - 3 * x + 2)\n",
        "lst_ans = [*solveset(eq, domain = S.Reals)]\n",
        "\n",
        "\n",
        "display(Latex(f\"Проверка\\ полученных\\ решений\\ для\\ уравнения\\ {latex(Eq(eq, 0))}\\ подстановкой\\ :\"))\n",
        "for i in range(len(lst_ans)):\n",
        "  CheckSolutionSubs(eq, x, lst_ans[i])\n"
      ]
    },
    {
      "cell_type": "markdown",
      "metadata": {
        "id": "6gg9cRfzmXUX"
      },
      "source": [
        "### Индивидуальное задание.\n",
        "Через все точки пересечения графиков функций $f(x)$ и $g(x)$ провести горизонтальные прямые. Изобразить на графике $f(x)$ зеленым цветом, $g(x)$ красным, горизонтальные линии черным.\n",
        "Формулы для $f(x)$ и $g(x)$ включить в легенду.\n",
        "\n",
        "Вариант №134\n",
        "\n",
        "$\\begin{matrix}\n",
        "&f(x) = -x^{2} - 8 \\\\\n",
        "&g(x) = -\\frac{7x^{2}}{2} + \\frac{5x}{2} - 3\n",
        "\\end{matrix}$"
      ]
    },
    {
      "cell_type": "code",
      "execution_count": 106,
      "metadata": {
        "colab": {
          "base_uri": "https://localhost:8080/",
          "height": 487
        },
        "id": "ubpsQOZzmXUX",
        "outputId": "264e5d92-67a5-41bd-cd4b-4779c97051dc"
      },
      "outputs": [
        {
          "data": {
            "image/png": "[encoded data removed]",
            "text/plain": [
              "<Figure size 640x480 with 1 Axes>"
            ]
          },
          "metadata": {},
          "output_type": "display_data"
        }
      ],
      "source": [
        "func_1 = -x**2 - 8\n",
        "func_2 = - x**2 * S(7)/2 + x * S(5)/2 - 3\n",
        "lst_x_val = [*solveset(func_1 - func_2, domain = S.Reals)]\n",
        "lst_points = [(param, func_1.subs({x : param})) for param in lst_x_val]\n",
        "x_lim = (x, min(lst_x_val) - 1.5, max(lst_x_val) + 1.5)\n",
        "\n",
        "plt_all = plot(func_1, x_lim, xlabel = r\"$x$\", ylabel = r\"$y$\", line_color = \"green\",\n",
        "               legend = True, label = r\"$f(x) = -x^{2} - 8$\", show = False)\n",
        "plt_all.append(plot(func_2, x_lim, line_color = \"red\", label = r\"$g(x) = -\\frac{7x^{2}}{2} + \\frac{5x}{2} - 3$\", show = False)[0])\n",
        "\n",
        "for i in range(len(lst_points)):\n",
        "  plt_all.append(plot(lst_points[i][1], x_lim, line_color = \"black\", show = False, label = f\"$y = {lst_points[i][1]}$\", linestyle=\"--\")[0])\n",
        "\n",
        "plt_all.show()"
      ]
    }
  ],
  "metadata": {
    "colab": {
      "provenance": []
    },
    "kernelspec": {
      "display_name": "Python 3",
      "language": "python",
      "name": "python3"
    },
    "language_info": {
      "codemirror_mode": {
        "name": "ipython",
        "version": 3
      },
      "file_extension": ".py",
      "mimetype": "text/x-python",
      "name": "python",
      "nbconvert_exporter": "python",
      "pygments_lexer": "ipython3",
      "version": "3.7.3"
    }
  },
  "nbformat": 4,
  "nbformat_minor": 0
}

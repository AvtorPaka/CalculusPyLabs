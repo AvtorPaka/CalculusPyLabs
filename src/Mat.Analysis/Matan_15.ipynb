{
  "cells": [
    {
      "cell_type": "code",
      "execution_count": null,
      "metadata": {
        "id": "IoczFPnAZyH7"
      },
      "outputs": [],
      "source": [
        "import sympy\n",
        "from sympy import S, Symbol, symbols, simplify, nonlinsolve, Matrix, diff, factor, latex\n",
        "from sympy.calculus.util import continuous_domain\n",
        "from IPython.display import display, Latex"
      ]
    },
    {
      "cell_type": "markdown",
      "metadata": {
        "id": "ox46QmvlZyH8"
      },
      "source": [
        "## Занятие 15\n",
        "## Математический анализ\n",
        "## Экстремум функции нескольких переменных\n",
        "### Задание 1\n",
        "Найти точки экстремума:\n",
        "\n",
        "1) $z = x^2 + xy + y^2 - 2x - y$\n",
        "\n",
        "2) $z = x^3y^2(6 - x - y)$, $(x, y > 0)$\n",
        "\n",
        "3) $z = \\frac{8}{x} + \\frac{x}{y} + y$\n",
        "\n",
        "4) $z = \\frac{1 + x - y}{\\sqrt{1 + x^2 + y^2}}$\n",
        "###### Указание.\n",
        "Вначале найти стационарные точки. Составить определитель из вторых производных в произвольной точке. Подставляя найденные (вещественные) стационарные точки, решить вопрос о наличии экстремума."
      ]
    },
    {
      "cell_type": "code",
      "execution_count": null,
      "metadata": {
        "id": "BpJwKIdNZyH9"
      },
      "outputs": [],
      "source": [
        "# Функция для нахождения знака определителя матрицы определния точек экстремума\n",
        "def Extr_Point_Det_Positive(func, x_v, y_v, x_cur, y_cur):\n",
        "  matrix_det = Matrix([[func.diff(x_v, 2), func.diff(x_v, y_v)], [func.diff(x_v, y_v), func.diff(y_v, 2)]]).det().subs({x_v: x_cur, y_v: y_cur})\n",
        "  return matrix_det > 0\n",
        "\n",
        "# Функция для нахождения стационарных точек из поля вещественных чисел\n",
        "def Get_Stat_Points(func, x_v, y_v, bug_case = False):\n",
        "  if (not bug_case):\n",
        "    stat_points = [point for point in nonlinsolve([func.diff(x_v), func.diff(y_v)], [x_v, y_v]) if all([coord.is_real for coord in point])]\n",
        "  else:\n",
        "    stat_points = [(point[x_v], point[y_v]) for point in sympy.solve([func.diff(x_v), func.diff(y_v)], x_v, y_v, dict=True, manual=True) if y_v in point.keys() ]\n",
        "  cont_dom_x = continuous_domain(func, x_v, S.Reals)\n",
        "  cont_dom_y = continuous_domain(func, y_v, S.Reals)\n",
        "  stat_points_checked = [point for point in stat_points if (point[0] in cont_dom_x and point[1] in cont_dom_y)]\n",
        "  return stat_points_checked\n",
        "\n",
        "# Функция для нахождения точек экстремума функции\n",
        "def Get_Extr_Points(func, x_v, y_v, shit_bug_case = False):\n",
        "  lst_stat_points = Get_Stat_Points(func, x_v, y_v, shit_bug_case)\n",
        "  lst_loc_max = []\n",
        "  lst_loc_min = []\n",
        "  for point in lst_stat_points:\n",
        "    x_cur, y_cur = point\n",
        "    if (Extr_Point_Det_Positive(func, x_v, y_v, x_cur, y_cur)):\n",
        "      a = func.diff(x_v, 2).subs({x_v:x_cur, y_v:y_cur})\n",
        "      b = func.diff(y_v, 2).subs({x_v:x_cur, y_v:y_cur})\n",
        "      if (a > 0 or b > 0):\n",
        "        lst_loc_min.append(point)\n",
        "      elif (a < 0 or b < 0):\n",
        "        lst_loc_max.append(point)\n",
        "  if (len(lst_loc_max) == 0):\n",
        "    lst_loc_max = None\n",
        "  if (len(lst_loc_min) == 0):\n",
        "    lst_loc_min = None\n",
        "  return (lst_loc_min, lst_loc_max)\n"
      ]
    },
    {
      "cell_type": "code",
      "execution_count": null,
      "metadata": {
        "colab": {
          "base_uri": "https://localhost:8080/",
          "height": 439
        },
        "id": "3OGQkih9zcan",
        "outputId": "aa3f24c3-b52c-4db3-fc81-8c7deaa91541"
      },
      "outputs": [],
      "source": [
        "# При вызове nonlinsolve для уравнения под номером 4, происходит баг со стороны метода nonlinsolve\n",
        "# не имеющий решения(официального) на данный момент :D\n",
        "x, y, z = sympy.symbols('x y z', real = True)\n",
        "x_p, y_p = sympy.symbols('x y', positive = True, real = True)\n",
        "\n",
        "lst_func_data = [(x**2 + x * y + y**2 - 2 * x - y, x, y), (x_p**3 * y_p**2 * (6 - x_p - y_p), x_p, y_p), (S(8)/x + S(x)/y + y, x, y), (S(1 + x - y)/(sympy.sqrt(1 + x**2 + y**2)), x, y)]\n",
        "for i in range(len(lst_func_data)):\n",
        "  func_cur, x_v_c, y_v_c = lst_func_data[i]\n",
        "  shit_2_b_c = False\n",
        "  if (i == 3 or i == 1):\n",
        "    shit_2_b_c = True\n",
        "  lst_min_cur, lst_max_cur = Get_Extr_Points(func_cur, x_v_c, y_v_c, shit_2_b_c)\n",
        "\n",
        "  display(Latex(f\"[{i + 1}]. \\n\"))\n",
        "  display(Latex(fr\"\\text{{Func: }} {latex(sympy.Eq(z, func_cur))}\"))\n",
        "  display(Latex(fr\"\\text{{Стационарные точки : }} {latex(Get_Stat_Points(func_cur, x_v_c, y_v_c, shit_2_b_c))}\"))\n",
        "  display(Latex(fr\"\\text{{Точки локального минимума: }} {latex(lst_min_cur)}\"))\n",
        "  display(Latex(fr\"\\text{{Точки локального максимума: }} {latex(lst_max_cur)}\"))"
      ]
    },
    {
      "cell_type": "markdown",
      "metadata": {
        "id": "fgdvpuheZyH9"
      },
      "source": [
        "### Задание 2.\n",
        "С помощью метода Лагранжа найти условный экстремум функции\n",
        "$z = x + 2y$ при условии $x^2 + y^2 = 5$."
      ]
    },
    {
      "cell_type": "code",
      "execution_count": null,
      "metadata": {
        "colab": {
          "base_uri": "https://localhost:8080/",
          "height": 105
        },
        "id": "KTjH4CuPZyH9",
        "outputId": "48658cca-e01a-4938-a0ff-d4878883563d"
      },
      "outputs": [],
      "source": [
        "x, y, lam = sympy.symbols(\"x y lambda\")\n",
        "dx, dy, dx2, dy2 = symbols('dx dy dx^2 dy^2')\n",
        "lst_syms = [x, y, lam]\n",
        "func_p_2 = x + 2 * y\n",
        "res_func_2 = x**2 + y**2 - 5\n",
        "func_2 = func_p_2 + lam * res_func_2\n",
        "\n",
        "lst_stat_2 = [point for point in nonlinsolve([func_2.diff(var) for var in lst_syms], lst_syms) if all([coord.is_real for coord in point])]\n",
        "diff_func_2 = sympy.factor(func_2.diff(x, 2) * dx2 + 2 * func_2.diff(x, y) * dx * dy + func_2.diff(y, 2) * dy2)\n",
        "\n",
        "display(*[Latex(fr\"{latex(sympy.Eq(lam, point[-1]))} \\ : \\ {latex(diff_func_2.subs({lam: point[-1]}))}\") for point in lst_stat_2])\n",
        "display(Latex(fr\"\\bullet \\ При \\  {latex(sympy.Eq(lam, 1/2))} \\text{{ значение производной знакопостоянно и положительно }} {latex(lst_stat_2[0][:-1])} \\text{{ - точка максимума}}\"))\n",
        "display(Latex(fr\"\\bullet \\ При \\  {latex(sympy.Eq(lam, -1/2))} \\text{{ значение производной знакопостоянно и отрицательно }} {latex(lst_stat_2[1][:-1])} \\text{{ - точка минимума}}\"))"
      ]
    },
    {
      "cell_type": "markdown",
      "metadata": {
        "id": "X39uEAK3ZyH9"
      },
      "source": [
        "### Задание 3.\n",
        "С помощью метода Лагранжа найти условный экстремум функции\n",
        "$z=x^2+y^2$ при условии $\\frac{x}{2}+\\frac{y}{3}=1$."
      ]
    },
    {
      "cell_type": "code",
      "execution_count": null,
      "metadata": {
        "colab": {
          "base_uri": "https://localhost:8080/",
          "height": 61
        },
        "id": "zkgN8WGmZyH9",
        "outputId": "70faa426-d02e-4f8b-81b5-ef74b6aa0083"
      },
      "outputs": [],
      "source": [
        "lst_syms = [x, y, lam]\n",
        "func_p_3 = x**2 + y**2\n",
        "res_func_3 = S(x)/2 + S(y)/3 - 1\n",
        "func_3 = func_p_3 + lam * res_func_3\n",
        "\n",
        "lst_stat_3 = [point for point in nonlinsolve([func_3.diff(var) for var in lst_syms], lst_syms) if all([coord.is_real for coord in point])]\n",
        "diff_func_3 = sympy.factor(func_3.diff(x, 2) * dx2 + 2 * func_3.diff(x, y) * dx * dy + func_3.diff(y, 2) * dy2)\n",
        "\n",
        "display(*[Latex(fr\"{latex(sympy.Eq(lam, point[-1]))} \\ : \\ {latex(diff_func_3.subs({lam: point[-1]}))}\") for point in lst_stat_3])\n",
        "display(Latex(fr\"\\bullet \\ При \\  {latex(sympy.Eq(lam, S(-72)/13))} \\text{{ значение производной знакопостоянно и положительно }} {latex(lst_stat_3[0][:-1])} \\text{{ - точка максимума}}\"))"
      ]
    },
    {
      "cell_type": "markdown",
      "metadata": {
        "id": "XF9WSZtUZyH9"
      },
      "source": [
        "### Задание 4.\n",
        "С помощью метода Лагранжа найти экстремум функции $u = x - 2y + 2z$ при условии $x^2 + y^2 + z^2 = 9$."
      ]
    },
    {
      "cell_type": "code",
      "execution_count": null,
      "metadata": {
        "colab": {
          "base_uri": "https://localhost:8080/",
          "height": 105
        },
        "id": "ayAYhwAOZyH9",
        "outputId": "ad8e53bb-20d7-488a-ca25-91d5bd820e1c"
      },
      "outputs": [],
      "source": [
        "x, y, z, lam = sympy.symbols('x y z lambda')\n",
        "dx, dy, dz, dx2, dy2, dz2 = symbols('dx dy dz dx^2 dy^2 dz^2')\n",
        "lst_syms = [x, y, z, lam]\n",
        "func_p_4 = x - 2 * y + 2 * z\n",
        "res_func_4 = x**2 + y**2 + z**2 - 9\n",
        "func_4 = func_p_4 + lam * res_func_4\n",
        "\n",
        "lst_stat_4 = [point for point in nonlinsolve([func_4.diff(var) for var in lst_syms], lst_syms) if all([coord.is_real for coord in point])]\n",
        "\n",
        "diff_func_4 = 0\n",
        "diffs = {x: (dx, dx2), y: (dy, dy2), z: (dz, dz2)}\n",
        "for i, var in enumerate(lst_syms[:-1]):\n",
        "    diff_func_4+= func_4.diff(var, 2)*diffs[var][1]\n",
        "    for j in range(i + 1, 3):\n",
        "      diff_func_4 += 2*func_4.diff(var, lst_syms[j])*diffs[var][0]*diffs[lst_syms[j]][0]\n",
        "\n",
        "display(*[Latex(fr\"{latex(sympy.Eq(lam, point[-1]))} \\ : \\ {latex(diff_func_4.subs({lam: point[-1]}))}\") for point in lst_stat_4])\n",
        "display(Latex(fr\"\\bullet \\ При \\  {latex(sympy.Eq(lam, 1/2))} \\text{{ значение производной знакопостоянно и положительно }} {latex(lst_stat_4[0][:-1])} \\text{{ - точка максимума}}\"))\n",
        "display(Latex(fr\"\\bullet \\ При \\  {latex(sympy.Eq(lam, -1/2))} \\text{{ значение производной знакопостоянно и отрицательно }} {latex(lst_stat_4[1][:-1])} \\text{{ - точка минимума}}\"))"
      ]
    },
    {
      "cell_type": "markdown",
      "metadata": {
        "id": "UH-o96tTZyH9"
      },
      "source": [
        "### Индивидуальное задание\n",
        "Найти точки экстремума $u = x^2 + y^2 + z^2 - xy + x - 2z$.\n",
        "\n",
        "Варинат №134\n",
        "\n",
        "\\begin{align*}\n",
        "    f(x, y, z) = - 19 x^{2} + 7 x y + 4 x z - 8 x - 14 y^{2} + 7 y z + 3 y + z^{2} + 6 z\n",
        "\\end{align*}"
      ]
    },
    {
      "cell_type": "code",
      "execution_count": null,
      "metadata": {
        "id": "JxJUXvKSoiAU"
      },
      "outputs": [],
      "source": [
        "# Функция для нахождения знака определителя матрицы определния точек экстремума для функции от 3х переменных\n",
        "def Extr_Point_Det_Positive_3(func, x_v, y_v, z_v, x_cur, y_cur, z_cur):\n",
        "  matrix_det = Matrix([[func.diff(x_v, 2), func.diff(x_v, y_v), func.diff(x_v, z_v)], [func.diff(y_v, x_v), func.diff(y_v, 2), func.diff(y_v, z_v)], [func.diff(z_v, x_v), func.diff(z_v, y_v), func.diff(z_v, 2)]]).det().subs({x_v: x_cur, y_v: y_cur, z_v: z_cur})\n",
        "  return matrix_det > 0\n",
        "\n",
        "# Функция для нахождения стационарных точек функции от 3х переменных из поля вещественных чисел\n",
        "def Get_Stat_Points_3(func, x_v, y_v, z_v, bug_case = False):\n",
        "  if (not bug_case):\n",
        "    stat_points = [point for point in nonlinsolve([func.diff(x_v), func.diff(y_v), func.diff(z_v)], [x_v, y_v, z_v]) if all([coord.is_real for coord in point])]\n",
        "  else:\n",
        "    stat_points = [(point[x_v], point[y_v], point[z_v]) for point in sympy.solve([func.diff(x_v), func.diff(y_v), func.diff(z_v)], x_v, y_v, z_v, dict=True, manual=True) if all([sym in point.keys() for sym in [x_v, y_v, z_v]])]\n",
        "  cont_dom_x = continuous_domain(func, x_v, S.Reals)\n",
        "  cont_dom_y = continuous_domain(func, y_v, S.Reals)\n",
        "  cont_dom_z = continuous_domain(func, z_v, S.Reals)\n",
        "  stat_points_checked = [point for point in stat_points if (point[0] in cont_dom_x and point[1] in cont_dom_y and point[2] in cont_dom_z)]\n",
        "  return stat_points_checked\n",
        "\n",
        "# Функция для нахождения точек экстремума функции от 3х переменных\n",
        "def Get_Extr_Points_3(func, x_v, y_v, z_v, shit_bug_case = False):\n",
        "  lst_stat_points = Get_Stat_Points_3(func, x_v, y_v, z_v, shit_bug_case)\n",
        "  lst_loc_max = []\n",
        "  lst_loc_min = []\n",
        "  for point in lst_stat_points:\n",
        "    x_cur, y_cur, z_cur = point\n",
        "    if (Extr_Point_Det_Positive_3(func, x_v, y_v, z_v, x_cur, y_cur, z_cur)):\n",
        "      a = func.diff(x_v, 2).subs({x_v:x_cur, y_v:y_cur, z_v:z_cur})\n",
        "      b = func.diff(y_v, 2).subs({x_v:x_cur, y_v:y_cur, z_v:z_cur})\n",
        "      c = func.diff(z_v, 2).subs({x_v:x_cur, y_v:y_cur, z_v:z_cur})\n",
        "      if (a > 0 or b > 0 or c > 0):\n",
        "        lst_loc_min.append(point)\n",
        "      elif (a < 0 or b < 0 or c < 0):\n",
        "        lst_loc_max.append(point)\n",
        "  if (len(lst_loc_max) == 0):\n",
        "    lst_loc_max = None\n",
        "  if (len(lst_loc_min) == 0):\n",
        "    lst_loc_min = None\n",
        "  return (lst_loc_min, lst_loc_max)"
      ]
    },
    {
      "cell_type": "code",
      "execution_count": null,
      "metadata": {
        "colab": {
          "base_uri": "https://localhost:8080/",
          "height": 103
        },
        "id": "M7PVnOuBZyH9",
        "outputId": "b9e70dea-b946-46fd-8cc0-380e759d7307"
      },
      "outputs": [],
      "source": [
        "x, y, z, u = sympy.symbols('x y z u', real = True)\n",
        "func_ind = -19 * x**2 + 7 * x * y + 4 * x * z - 8 * x - 14 * y**2 + 7 * y * z + 3 * y + z**2 + 6 * z\n",
        "lst_ind_min, lst_ind_max = Get_Extr_Points_3(func_ind, x, y, z)\n",
        "\n",
        "display(Latex(fr\"\\text{{Func: }} {latex(sympy.Eq(u, func_ind))}\"))\n",
        "display(Latex(fr\"\\text{{Стационарные точки : }} {latex(Get_Stat_Points_3(func_ind, x, y, z))}\"))\n",
        "display(Latex(fr\"\\text{{Точки локального минимума: }} {latex(lst_ind_min)}\"))\n",
        "display(Latex(fr\"\\text{{Точки локального максимума: }} {latex(lst_ind_max)}\"))"
      ]
    }
  ],
  "metadata": {
    "colab": {
      "provenance": []
    },
    "kernelspec": {
      "display_name": "Python 3",
      "language": "python",
      "name": "python3"
    },
    "language_info": {
      "codemirror_mode": {
        "name": "ipython",
        "version": 3
      },
      "file_extension": ".py",
      "mimetype": "text/x-python",
      "name": "python",
      "nbconvert_exporter": "python",
      "pygments_lexer": "ipython3",
      "version": "3.7.3"
    }
  },
  "nbformat": 4,
  "nbformat_minor": 0
}

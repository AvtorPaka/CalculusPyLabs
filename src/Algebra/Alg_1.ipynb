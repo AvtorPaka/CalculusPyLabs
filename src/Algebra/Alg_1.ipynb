{
  "cells": [
    {
      "cell_type": "markdown",
      "metadata": {
        "id": "NWxN--Ciycml"
      },
      "source": [
        "# Практическое занятие 1\n",
        "# Компьютерный практикум по алгебре на Python"
      ]
    },
    {
      "cell_type": "markdown",
      "metadata": {
        "id": "JITt7G7iycmp"
      },
      "source": [
        "https://docs.sympy.org/latest/tutorial/intro.html"
      ]
    },
    {
      "cell_type": "code",
      "execution_count": null,
      "metadata": {
        "id": "VKvRy_UGycmq"
      },
      "outputs": [],
      "source": [
        "from sympy import sqrt, sin, cos, tan, atan, pi, E, Symbol, symbols, Matrix\n",
        "from sympy import expand, simplify, factor, collect, zeros, ones, eye, diag\n",
        "from sympy.solvers.solveset import linsolve"
      ]
    },
    {
      "cell_type": "markdown",
      "metadata": {
        "id": "x3mNO8qJycmr"
      },
      "source": [
        "## Действия с числами, числовые выражения\n",
        "Об основных типах данных Python 3.10 читайте здесь:\n",
        "https://docs.python.org/3/reference/datamodel.html#index-19\n",
        "\n",
        "Сейчас нам понадобятся типы:\n",
        "\n",
        "int - целое число (насколько большим оно может быть, зависит только от объема доступной памяти)\n",
        "\n",
        "float - вещественное число (double precision floating point numbers)\n",
        "\n",
        "### Задание 1.\n",
        "Вычислите значение выражения\n",
        "$$\n",
        "3\\left(2^{4}+6\\sin\\frac{\\pi}{4}-5\\sqrt{2}\\right)\n",
        "$$"
      ]
    },
    {
      "cell_type": "code",
      "execution_count": null,
      "metadata": {
        "colab": {
          "base_uri": "https://localhost:8080/"
        },
        "id": "B2Mnu-x8j3P4",
        "outputId": "01c104a9-6db3-4023-b900-1fbae210f7ee"
      },
      "outputs": [],
      "source": [
        "x = 3 * (sin(2**4 + 6 * sin(pi/4) - 5 * sqrt(2)))\n",
        "print(f\"{x} = {x.evalf()}\")"
      ]
    },
    {
      "cell_type": "markdown",
      "metadata": {
        "id": "G3b9I6dNycmr"
      },
      "source": [
        "## Символы, символьные выражения\n",
        "Для аналитических преобразований в sympy используется класс Symbol\n",
        "\n",
        "https://docs.sympy.org/latest/modules/core.html?highlight=symbol#module-sympy.core.symbol\n",
        "\n",
        "В этом классе есть метод Symbol для создания одного символа.\n",
        "###  Задание 2.\n",
        "Создайте символ $t$ и составьте выражение $\\frac{\\sqrt{t}+t^3}{t-1}$"
      ]
    },
    {
      "cell_type": "code",
      "execution_count": null,
      "metadata": {
        "colab": {
          "base_uri": "https://localhost:8080/",
          "height": 57
        },
        "id": "mQW8Ur0Bj5jN",
        "outputId": "e0f78c2b-a556-484c-ef8d-75fc6b8b98ad"
      },
      "outputs": [],
      "source": [
        "sym = Symbol('t')\n",
        "display((sqrt(sym) + sym**3)/(sym - 1))"
      ]
    },
    {
      "cell_type": "markdown",
      "metadata": {
        "id": "qMlP2YM5ycms"
      },
      "source": [
        "## Операции с символьными выражениями: simplify, expand,factor,collect\n",
        "#### simplify\n",
        "используется для упрощения выражения\n",
        "#### expand\n",
        "используется для раскрытия скобок\n",
        "#### factor\n",
        "для разложения на множители\n",
        "#### collect\n",
        "для группировки по степеням переменной\n",
        "###  Задание 3.\n",
        "Упростите выражение\n",
        "$$\n",
        "\\frac{(u+v)^2-4uv}{u-v}+2v-1\n",
        "$$"
      ]
    },
    {
      "cell_type": "code",
      "execution_count": null,
      "metadata": {
        "colab": {
          "base_uri": "https://localhost:8080/",
          "height": 114
        },
        "id": "cF45EuOyj7RH",
        "outputId": "80d33973-b2ec-499c-c9a4-e460e50c34e5"
      },
      "outputs": [],
      "source": [
        "sym1, sym2 = symbols(\"u v\")\n",
        "expr1 = ((sym1 + sym2)**2 - 4 * sym1 * sym2 )/(sym1 - sym2) + 2 * sym1 - 1\n",
        "expr_simp  = simplify(expr1)\n",
        "print(\"Выражение до преобразваний:\")\n",
        "display(expr1)\n",
        "print(\"Выражение после преобразований:\")\n",
        "display(expr_simp)"
      ]
    },
    {
      "cell_type": "markdown",
      "metadata": {
        "id": "gasezWy-ycmt"
      },
      "source": [
        "###  Задание 4.\n",
        "Раскройте скобки в выражении $(a_1+a_2+a_3)^3-(a_1-a_2)^2$"
      ]
    },
    {
      "cell_type": "code",
      "execution_count": null,
      "metadata": {
        "colab": {
          "base_uri": "https://localhost:8080/",
          "height": 96
        },
        "id": "AzNkVzdUj8c3",
        "outputId": "50889c8d-11ac-445c-e8db-08feb8b4d55b"
      },
      "outputs": [],
      "source": [
        "A = symbols('a1:4')\n",
        "expr1 = (A[0] + A[1] + A[2])**3\n",
        "expr2 = (A[0] - A[1])**2\n",
        "print(\"Выражение до преобразваний:\")\n",
        "display(expr1 - expr2)\n",
        "expr1_exp = expand(expr1)\n",
        "expr2_exp = expand(expr2)\n",
        "print(\"Выражение после преобразований:\")\n",
        "display(simplify(expr1_exp - expr2_exp))"
      ]
    },
    {
      "cell_type": "markdown",
      "metadata": {
        "id": "d9_rZkk7ycmt"
      },
      "source": [
        "###  Задание 5.\n",
        "Разложите на множители\n",
        "$2u^4+3u^3v-2u^2v^2-2u^2v-3uv^2+2v^3$"
      ]
    },
    {
      "cell_type": "code",
      "execution_count": null,
      "metadata": {
        "colab": {
          "base_uri": "https://localhost:8080/",
          "height": 96
        },
        "id": "SN2UoNe0j9tn",
        "outputId": "437e7fdc-8e68-4855-b67d-b25ed24da26e"
      },
      "outputs": [],
      "source": [
        "u, v = symbols(\"u v\")\n",
        "expr1 = 2 * u**4 + 3 * u**3 * v - 2 * u**2 * v - 2 * u**2 * v**2 - 3 *u * v**2 + 2 * v**3\n",
        "print(\"Выражение до преобразваний:\")\n",
        "display(expr1)\n",
        "expr_factor = factor(expr1)\n",
        "print(\"Выражение после преобразований:\")\n",
        "display(expr_factor)"
      ]
    },
    {
      "cell_type": "markdown",
      "metadata": {
        "id": "Cnm5vka3ycmu"
      },
      "source": [
        "###  Задание 6.\n",
        "Сгруппируйте выражение из Задания 5 по степеням $u$."
      ]
    },
    {
      "cell_type": "code",
      "execution_count": null,
      "metadata": {
        "colab": {
          "base_uri": "https://localhost:8080/",
          "height": 96
        },
        "id": "lIdg0LGAj_Dn",
        "outputId": "4b65a04f-9239-4e93-9f83-1a67e68d7f7f"
      },
      "outputs": [],
      "source": [
        "u, v = symbols(\"u v\")\n",
        "expr1 = 2 * u**4 + 3 * u**3 * v - 2 * u**2 * v - 2 * u**2 * v**2 - 3 *u * v**2 + 2 * v**3\n",
        "print(\"Выражение до преобразваний:\")\n",
        "display(expr1)\n",
        "print(\"Выражение после преобразований:\")\n",
        "display(collect(expr1, u))"
      ]
    },
    {
      "cell_type": "markdown",
      "metadata": {
        "id": "nvztFMwyycmv"
      },
      "source": [
        "## Списки и кортежи\n",
        "Нам понадобятся два итерируемых типа\n",
        "\n",
        "#### списки list\n",
        "изменяемый тип\n",
        "#### кортежи tuple\n",
        "неизменяемый тип\n",
        "\n",
        "### Задание 7\n",
        "Создайте список $Powers$ из трех кортежей, состоящих из символов $x$, $y$ и $z$ в степени, равной номеру кортежа в списке."
      ]
    },
    {
      "cell_type": "code",
      "execution_count": null,
      "metadata": {
        "colab": {
          "base_uri": "https://localhost:8080/",
          "height": 130
        },
        "id": "eB3M6rKYkAMu",
        "outputId": "8e9a8b1e-9b3b-432f-9ad5-7079f32ac44c"
      },
      "outputs": [],
      "source": [
        "#Считаем, что нумерация кортежей в списке идёт с единицы\n",
        "x, y, z = symbols('x, y, z')\n",
        "lst_powers = []\n",
        "for i in range(3):\n",
        "  lst_powers.append((x ** (i + 1), y ** (i + 1), z ** (i + 1)))\n",
        "display(lst_powers)\n",
        "print('\\n')\n",
        "display(Matrix(lst_powers))"
      ]
    },
    {
      "cell_type": "markdown",
      "metadata": {
        "id": "sE10eEvqycmv"
      },
      "source": [
        "### Задание 8\n",
        "В списке Powers Задания 7 заменить $(x^2,y^2,z^2)$ на (0,0,0)."
      ]
    },
    {
      "cell_type": "code",
      "execution_count": null,
      "metadata": {
        "colab": {
          "base_uri": "https://localhost:8080/",
          "height": 130
        },
        "id": "MWU-uGoKkBl4",
        "outputId": "5e5de31a-e259-40cd-d5d8-8cf0e6ab858f"
      },
      "outputs": [],
      "source": [
        "for i in range(len(lst_powers)):\n",
        "  if (i == 1):\n",
        "    lst_powers[i] = (0,0,0)\n",
        "\n",
        "display(lst_powers)\n",
        "print('\\n')\n",
        "display(Matrix(lst_powers))"
      ]
    },
    {
      "cell_type": "markdown",
      "metadata": {
        "id": "PmrUn7iVycmw"
      },
      "source": [
        "## Матрицы\n",
        "### Задание 9\n",
        "Составить матрицу  $A_{3\\times 4}$ из чисел вида $3k+1$, $k=1,2,...$:\n",
        "$$\n",
        "A=\n",
        "\\left(\n",
        "\\begin{matrix}\n",
        "4& 7& 10& 13\\\\\n",
        "16& 19& 22& 25\\\\\n",
        "28& 31& 34& 37\n",
        "\\end{matrix}\n",
        "\\right)\n",
        "$$"
      ]
    },
    {
      "cell_type": "code",
      "execution_count": null,
      "metadata": {
        "colab": {
          "base_uri": "https://localhost:8080/",
          "height": 113
        },
        "id": "czeVDc4bkCva",
        "outputId": "d6409711-d6bb-4749-d2f2-e240b0041713"
      },
      "outputs": [],
      "source": [
        "x, y = [int(i) for i in input().split()]#3 4\n",
        "matrix = [[0 for i in range(y)] for i in range(x)]\n",
        "cnt = 1\n",
        "for i in range(x):\n",
        "  for j in range(y):\n",
        "      matrix[i][j] = 3 * cnt + 1\n",
        "      cnt+=1\n",
        "A = Matrix(matrix)\n",
        "print(\"A:\")\n",
        "display(A)"
      ]
    },
    {
      "cell_type": "markdown",
      "metadata": {
        "id": "lU6I_nCJycmw"
      },
      "source": [
        "### Задание 10\n",
        "В матрице А задания 9 удалить вторую строку и вставить третий столбец между первым и вторым (сам третий столбец не удалять!), должно получиться\n",
        "$$\n",
        "A=\n",
        "\\left(\n",
        "\\begin{matrix}\n",
        "4& 10& 7& 10& 13\\\\\n",
        "28& 34& 31& 34& 37\n",
        "\\end{matrix}\n",
        "\\right)\n",
        "$$"
      ]
    },
    {
      "cell_type": "code",
      "execution_count": null,
      "metadata": {
        "colab": {
          "base_uri": "https://localhost:8080/",
          "height": 75
        },
        "id": "544NU03jkHOc",
        "outputId": "95539f81-d6d4-40c5-f087-8a4e4bb1ce5d"
      },
      "outputs": [],
      "source": [
        "shp = A.shape\n",
        "if (A.shape[0] >= 2 and A.shape[1] >= 3):\n",
        "  A.row_del(1)\n",
        "  A2 = A.col_insert(1 , Matrix(A.col(2)))\n",
        "  print(\"A:\")\n",
        "  display(A2)\n",
        "else:\n",
        "  print(f\"Матрица A имеет неподходиящий разамер {A.shape}\")"
      ]
    },
    {
      "cell_type": "markdown",
      "metadata": {
        "id": "bSKQcn87ycmx"
      },
      "source": [
        "### Индивидуальное задание\n",
        "Составить матрицу левой части СЛАУ, вектор-столбец переменных, вектор-столбец правой части, вектор-столбец $X_0$. Показать, что $X_0$ является решением данной СЛАУ."
      ]
    },
    {
      "cell_type": "code",
      "execution_count": null,
      "metadata": {
        "colab": {
          "base_uri": "https://localhost:8080/",
          "height": 727
        },
        "id": "HBmdwIp7kLmJ",
        "outputId": "be251bf5-5fdb-4cfe-c12e-c2d8431b5a4a"
      },
      "outputs": [],
      "source": [
        "# @title Варинат 43\n",
        "matrixA = [[7, 0 , 3, - 5],\n",
        "           [8, -3, -2, -1],\n",
        "           [0, -3, -7, -4]]\n",
        "\n",
        "A = Matrix(matrixA)\n",
        "variables = Matrix(symbols('x1:5'))\n",
        "X0 = Matrix([-2, -7, 6, 0])\n",
        "B = Matrix([4, -7, -21])\n",
        "\n",
        "print(\"\\nМатрица коэфицентов A:\\n\")\n",
        "display(A)\n",
        "print(\"\\nВектор-столбец перменных:\\n\")\n",
        "display(variables)\n",
        "print(\"\\nВектор-столбец значений B:\\n\")\n",
        "display(B)\n",
        "print('\\nВектор-столбец X0:\\n')\n",
        "display(X0)\n",
        "print(\"\\nПроверим,является ли X0 решением данной СЛАУ, для этого вычислим A*X0 и покажем что A*X0=B.\\n\")\n",
        "print(\"A * X0 = \\n\")\n",
        "display(A * X0)\n",
        "print(\"\\n=B\")\n",
        "print(\"\\nМы показали, что A*X0=B, значит X0 является решением данной СЛАУ\")\n"
      ]
    }
  ],
  "metadata": {
    "colab": {
      "provenance": []
    },
    "kernelspec": {
      "display_name": "Python 3",
      "language": "python",
      "name": "python3"
    },
    "language_info": {
      "codemirror_mode": {
        "name": "ipython",
        "version": 3
      },
      "file_extension": ".py",
      "mimetype": "text/x-python",
      "name": "python",
      "nbconvert_exporter": "python",
      "pygments_lexer": "ipython3",
      "version": "3.7.3"
    }
  },
  "nbformat": 4,
  "nbformat_minor": 0
}

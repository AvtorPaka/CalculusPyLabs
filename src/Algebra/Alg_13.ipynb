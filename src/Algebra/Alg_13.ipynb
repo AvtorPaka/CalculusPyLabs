{
  "cells": [
    {
      "cell_type": "code",
      "execution_count": 189,
      "metadata": {
        "id": "N4mLs7g4G85I"
      },
      "outputs": [],
      "source": [
        "import sympy\n",
        "import numpy as np\n",
        "from sympy import Matrix, latex, evalf\n",
        "from sympy import pi as Pi\n",
        "from sympy import cos as Cos\n",
        "from sympy import sin as Sin\n",
        "import matplotlib.pyplot as plt\n",
        "from IPython.display import Latex\n",
        "from google.colab import files\n",
        "import pandas as pd"
      ]
    },
    {
      "cell_type": "markdown",
      "metadata": {
        "id": "L53ZTfO2G85R"
      },
      "source": [
        "# Практическое занятие 13\n",
        "# Компьютерный практикум по алгебре на Python\n",
        "## Линейные операторы на плоскости и в пространстве\n",
        "### Задание 1.\n",
        "Написать функцию, составляющую матрицу линейного оператора поворота на $\\alpha$ градусов или радиан **по** или **против часовой стрелки** на плоскости. Параметры: обязательные - угол поворота, необязательные - тип меры угла (градусы или радианы), направление поворота (по или против часовой стрелки). Значения по умолчанию - против часовой стрелки в радианах.\n",
        "\n",
        "Использовать полученную функцию для выведения на экран координат векторов, полученных поворотом вектора [1, 2]\n",
        "\n",
        "1) на 10, 20, 45 градусов **по  часовой стрелке**\n",
        "\n",
        "2) на $\\pi/3$ радиан **против часовой стрелки**."
      ]
    },
    {
      "cell_type": "code",
      "execution_count": null,
      "metadata": {
        "colab": {
          "base_uri": "https://localhost:8080/",
          "height": 311
        },
        "id": "OYv_qCtZY8xJ",
        "outputId": "c8eb0aec-0598-4ce8-b13e-e2891b872b38"
      },
      "outputs": [],
      "source": [
        "alpha = sympy.Symbol(\"alpha\")\n",
        "\n",
        "def LineralRotationOperator(alpha_var, radians = True, clockwise = False):\n",
        "  if (radians == False):\n",
        "    alpha_var = sympy.simplify(sympy.pi * alpha_var/180)\n",
        "  if (clockwise == True):\n",
        "    alpha_var = -alpha_var\n",
        "  A = Matrix([[Cos(alpha_var), -Sin(alpha_var)], [Sin(alpha_var), Cos(alpha_var)]])\n",
        "  return A\n",
        "\n",
        "vec_1 = Matrix([1, 2])\n",
        "lst_params = [(10, False, True), (20, False, True), (45, False, True), (sympy.S(sympy.pi)/3, True, False)]\n",
        "\n",
        "display(Latex(fr\"V = {latex(vec_1)}\"))\n",
        "for i in range(len(lst_params)):\n",
        "  val, radsBool, clockwiseBool = lst_params[i]\n",
        "  vec_new = sympy.simplify(LineralRotationOperator(val, radsBool, clockwiseBool) * vec_1)\n",
        "  display(Latex(fr\"[{latex(i + 1)}]. \\ V_{{new}}\\ = {latex(vec_new)}\"))\n",
        "  print()\n"
      ]
    },
    {
      "cell_type": "markdown",
      "metadata": {
        "id": "oqFUkn1SG85T"
      },
      "source": [
        "### Задание 2.\n",
        "Найти собственные числа и собственные векторы линейного оператора, заданного матрицей\n",
        "$$\n",
        "\\left(\\begin{matrix}\n",
        "-34&20&-5\\\\\n",
        "-40&56&-20\\\\\n",
        "20&-8&50\n",
        "\\end{matrix}\\right)\n",
        "$$\n",
        "Воспользоваться eigenvals и eigenvects, проверить выполнение равенства нулю характеристического многочлена $|A-\\lambda E|$ и условия $Ax=\\lambda x$.\n"
      ]
    },
    {
      "cell_type": "code",
      "execution_count": null,
      "metadata": {
        "colab": {
          "base_uri": "https://localhost:8080/",
          "height": 401
        },
        "id": "d_hrb3duY9wa",
        "outputId": "f7ebaeef-c1d5-482c-8b57-1b2458a11844"
      },
      "outputs": [],
      "source": [
        "# Функция проверки числа на собственность матрице\n",
        "def CheckEigenvalue(mx, var_num):\n",
        "  numIsCorrect = False\n",
        "  if ((mx - var_num * sympy.eye(mx.shape[0])).det() == 0):\n",
        "    numIsCorrect = True\n",
        "  display(Latex(f\"Число \\  {var_num} {'не' * (not numIsCorrect)} \\  является \\  собственным.\"))\n",
        "\n",
        "# Функция проверки вектора на собственность матрицы\n",
        "def CheckEigenvector(mx, eValue, eVector):\n",
        "  vecIsCorrect = False\n",
        "  if (mx * eVector == eValue * eVector):\n",
        "    vecIsCorrect = True\n",
        "  display(Latex(f\"Вектор {latex(eVector.T)} {'не' * (not vecIsCorrect)} \\ является \\  собственным.\"))\n",
        "\n",
        "mx_2 = Matrix([[-34, 20, -5], [-40, 56, -20], [20, -8, 50]])\n",
        "display(Latex(fr\"A = {latex(mx_2)}\"))\n",
        "print()\n",
        "lstEigenData = mx_2.eigenvects()\n",
        "for i in range(len(lstEigenData)):\n",
        "  eNum, eNumNum, lstEVecs = lstEigenData[i]\n",
        "  display(Latex(fr\"[{latex(i + 1)}]\\   {latex(eNum)}\"))\n",
        "  CheckEigenvalue(mx_2, eNum)\n",
        "  for j in range(len(lstEVecs)):\n",
        "    curVec = lstEVecs[j]\n",
        "    display(Latex(fr\"[{latex(i + 1 + ((j + 1)/10))}]. {latex(curVec.T)}\"))\n",
        "    CheckEigenvector(mx_2, eNum, curVec)\n",
        "  print()"
      ]
    },
    {
      "cell_type": "markdown",
      "metadata": {
        "id": "4sQHp6cxG85U"
      },
      "source": [
        "### Задание 3.\n",
        "Построить матрицу оператора из задания 2 в базисе из векторов $(1,1,1)$, $(0,5,3)$ и $(1,6,0)$.Вывести на экран матрицу перехода к новому базису и матрицу оператора в новом базисе.\n"
      ]
    },
    {
      "cell_type": "code",
      "execution_count": null,
      "metadata": {
        "colab": {
          "base_uri": "https://localhost:8080/",
          "height": 139
        },
        "id": "4xj45fAfY-rj",
        "outputId": "24801ef0-cb28-4e1b-a4cc-7430a0376c4a"
      },
      "outputs": [],
      "source": [
        "P_3 = Matrix([[1, 1, 1], [0, 5, 3], [1, 6, 0]]).T\n",
        "A_3_new = P_3.inv() * mx_2 * P_3\n",
        "display(Latex(fr\"A = {latex(mx_2)}\"))\n",
        "display(Latex(fr\"\\text{{Матрица перехода P = }} {latex(P_3)} \\ , \\  A_{{new}} = {latex(A_3_new)}\"))"
      ]
    },
    {
      "cell_type": "markdown",
      "metadata": {
        "id": "q0SjtudQG85V"
      },
      "source": [
        "### Задание 4.\n",
        "Построить матрицу оператора из задания 2 в базисе из собственных векторов с помощью eigenvects и матрицы перехода. Сравнить диагональные элементы с собственными числами."
      ]
    },
    {
      "cell_type": "code",
      "execution_count": null,
      "metadata": {
        "colab": {
          "base_uri": "https://localhost:8080/",
          "height": 113
        },
        "id": "tZv0-9uCY_wO",
        "outputId": "a9e844d9-c0a3-47cd-845b-220ff601a26a"
      },
      "outputs": [],
      "source": [
        "# Функция для нахождения матрицы перехода в базис из собственных векторов\n",
        "def EigenTransitionMx(mx):\n",
        "  lstEigenData = mx.eigenvects()\n",
        "  transitionMx = Matrix()\n",
        "  for i in range(len(lstEigenData)):\n",
        "    for eVec in lstEigenData[i][2]:\n",
        "      transitionMx = transitionMx.row_join(eVec)\n",
        "  return transitionMx\n",
        "\n",
        "# Функция для сравнения диагональных эл-тов матрицы в базисе из собственных векторов\n",
        "# и собственных чисел матрицы\n",
        "def CheckDiagElemetsETM(mx, etm):\n",
        "  setEnums = set([mx.eigenvects()[i][0] for i in range(len(mx.eigenvects()))])\n",
        "  setDiagNums = set([etm[i, i] for i in range(etm.shape[0])])\n",
        "  print(f\"\\nДиагональные элементы {'не' * (setEnums != setDiagNums)}совпадают с собственными числами\")\n",
        "\n",
        "\n",
        "P_4 = EigenTransitionMx(mx_2)\n",
        "A_4_new = P_4.inv() * mx_2 * P_4\n",
        "display(Latex(fr\"A = {latex(mx_2)}, A_{{new}} = {latex(A_4_new)}\"))\n",
        "CheckDiagElemetsETM(mx_2, A_4_new)"
      ]
    },
    {
      "cell_type": "markdown",
      "metadata": {
        "id": "jKkKLf6xOi7N"
      },
      "source": [
        "### Задание 5*.\n",
        "Изобразить на графике вектор $a(-1, 1)$ и результаты его поворота\n",
        "\n",
        "1) на 30, 45, 90 градусов **по  часовой стрелке** (имена $v_1$, $v_2$, $v_3$)\n",
        "\n",
        "2) на $\\pi/6$ и $2\\pi/3$ радиан **против часовой стрелки** (имена $w_1$, $w_2$).\n",
        "\n",
        "**Указание:** описать функцию, возвращающую угол поворота на плоскости против часовой стрелки в радианах. Агрументы функции: угол поворота, тип меры угла (градусы или радианы), направление поворота (по или против часовой стрелки). С помощью этой функции  составить словарь с ключами - именами векторов, значениями - углами  поворота против часовой стрелки в радианах, использовать в цикле этот словарь для изображения векторов на графике.\n",
        "\n",
        "В легенде графика для каждого вектора указать его имя и координаты. Для корректного представления координат в легенде нужно отдельно выделить каждую координату."
      ]
    },
    {
      "cell_type": "code",
      "execution_count": 160,
      "metadata": {
        "colab": {
          "base_uri": "https://localhost:8080/",
          "height": 447
        },
        "id": "4eOGGJ_5ZAmc",
        "outputId": "acff661b-53c7-494d-c5b7-46ac6dbca618"
      },
      "outputs": [
        {
          "data": {
            "text/plain": [
              "<matplotlib.legend.Legend at 0x7cb20d7a7070>"
            ]
          },
          "execution_count": 160,
          "metadata": {},
          "output_type": "execute_result"
        },
        {
          "data": {
            "image/png": "[encoded data removed]",
            "text/plain": [
              "<Figure size 640x480 with 1 Axes>"
            ]
          },
          "metadata": {},
          "output_type": "display_data"
        }
      ],
      "source": [
        "v1, v2, v3, w1, w2, a = sympy.symbols(\"v1, v2, v3, w1, w2 a\")\n",
        "# Функция для конвертации угла поворота в угол поворота по часовой стрелке в радианах\n",
        "def ConvertAngle(alpha_var, radians = True, clockwise = False):\n",
        "  if (radians == False):\n",
        "    alpha_var = sympy.simplify(sympy.pi * alpha_var/180)\n",
        "  if (clockwise == True):\n",
        "    alpha_var = -alpha_var\n",
        "  return alpha_var\n",
        "\n",
        "ax = plt.gca()\n",
        "# Функция для изображения вектора на графике\n",
        "def plotVec(vect, color_var, name, axCur):\n",
        "    x, y = [float(item) for item in vect]\n",
        "    axCur.plot([0, x], [0, y], color = color_var, label = fr\"${latex(name)} ({latex(round(x, 2))}, {latex(round(y, 2))})$\")\n",
        "    axCur.arrow(0, 0, x, y, head_width=0.05, color = color_var)\n",
        "\n",
        "vec_a = Matrix([-1, 1])\n",
        "lstRandomColors = [\"red\", \"blue\", \"green\", \"purple\", \"orange\", \"black\"]\n",
        "lstAngleData = [(30, False, True, v1), (45, False, True, v2), (90, False, True, v3), (sympy.S(sympy.pi)/6, True, False, w1), (2 * sympy.S(sympy.pi)/3, True, False, w2)]\n",
        "dctAngles = {angleData[3]:ConvertAngle(angleData[0], angleData[1], angleData[2]) for angleData in lstAngleData}\n",
        "dctAngles[a] = 0\n",
        "\n",
        "cnt = 0\n",
        "for i in dctAngles.keys():\n",
        "  new_vec = LineralRotationOperator(dctAngles[i]) * vec_a\n",
        "  plotVec(new_vec, lstRandomColors[cnt], i, ax)\n",
        "  cnt += 1\n",
        "ax.legend(loc = \"best\")"
      ]
    },
    {
      "cell_type": "markdown",
      "metadata": {
        "id": "eXSlGWqS9axu"
      },
      "source": [
        "# Задание 6*\n",
        "Считать из файла \"task_13_6.xlsx\" координаты векторов на плоскости и углы поворота (крайний левый столбец в файле содержит имена векторов, следующие два - координаты векторов, затем угол поворота и последний столбец содержит текст \"rad\" или \"deg\", т.е. угол в радианах или градусах).\n",
        "\n",
        "Для каждого вектора найти координаты вектора, полученного в результате поворота, затем записать в файл  \"task_13_6_ans.xlsx\" имена векторов  из файла \"task_13_6.xlsx\" и координаты  векторов, полученных в результате поворота. В файле  \"task_13_6_ans.xlsx\" подписи строк - имена векторов, подписи столбцов - имена координат, т.е. \"x\" и \"y\".\n",
        "\n",
        "Изобразить на графике вектор [1, 2] из Задания 1 и результаты его поворота (по Заданию 1). В легенде графика для каждого вектора, кроме [1, 2] указать матрицу поворота, а для [1, 2] единичную матрицу."
      ]
    },
    {
      "cell_type": "code",
      "execution_count": 174,
      "metadata": {
        "colab": {
          "base_uri": "https://localhost:8080/",
          "height": 73
        },
        "id": "r49uih_5YtiA",
        "outputId": "5ab4a661-2482-4faa-c72d-4954b532d3fa"
      },
      "outputs": [
        {
          "data": {
            "text/html": [
              "\n",
              "     <input type=\"file\" id=\"files-8dbb6039-f09b-41c4-8805-b55bc64a5b36\" name=\"files[]\" multiple disabled\n",
              "        style=\"border:none\" />\n",
              "     <output id=\"result-8dbb6039-f09b-41c4-8805-b55bc64a5b36\">\n",
              "      Upload widget is only available when the cell has been executed in the\n",
              "      current browser session. Please rerun this cell to enable.\n",
              "      </output>\n",
              "      <script>// Copyright 2017 Google LLC\n",
              "//\n",
              "// Licensed under the Apache License, Version 2.0 (the \"License\");\n",
              "// you may not use this file except in compliance with the License.\n",
              "// You may obtain a copy of the License at\n",
              "//\n",
              "//      http://www.apache.org/licenses/LICENSE-2.0\n",
              "//\n",
              "// Unless required by applicable law or agreed to in writing, software\n",
              "// distributed under the License is distributed on an \"AS IS\" BASIS,\n",
              "// WITHOUT WARRANTIES OR CONDITIONS OF ANY KIND, either express or implied.\n",
              "// See the License for the specific language governing permissions and\n",
              "// limitations under the License.\n",
              "\n",
              "/**\n",
              " * @fileoverview Helpers for google.colab Python module.\n",
              " */\n",
              "(function(scope) {\n",
              "function span(text, styleAttributes = {}) {\n",
              "  const element = document.createElement('span');\n",
              "  element.textContent = text;\n",
              "  for (const key of Object.keys(styleAttributes)) {\n",
              "    element.style[key] = styleAttributes[key];\n",
              "  }\n",
              "  return element;\n",
              "}\n",
              "\n",
              "// Max number of bytes which will be uploaded at a time.\n",
              "const MAX_PAYLOAD_SIZE = 100 * 1024;\n",
              "\n",
              "function _uploadFiles(inputId, outputId) {\n",
              "  const steps = uploadFilesStep(inputId, outputId);\n",
              "  const outputElement = document.getElementById(outputId);\n",
              "  // Cache steps on the outputElement to make it available for the next call\n",
              "  // to uploadFilesContinue from Python.\n",
              "  outputElement.steps = steps;\n",
              "\n",
              "  return _uploadFilesContinue(outputId);\n",
              "}\n",
              "\n",
              "// This is roughly an async generator (not supported in the browser yet),\n",
              "// where there are multiple asynchronous steps and the Python side is going\n",
              "// to poll for completion of each step.\n",
              "// This uses a Promise to block the python side on completion of each step,\n",
              "// then passes the result of the previous step as the input to the next step.\n",
              "function _uploadFilesContinue(outputId) {\n",
              "  const outputElement = document.getElementById(outputId);\n",
              "  const steps = outputElement.steps;\n",
              "\n",
              "  const next = steps.next(outputElement.lastPromiseValue);\n",
              "  return Promise.resolve(next.value.promise).then((value) => {\n",
              "    // Cache the last promise value to make it available to the next\n",
              "    // step of the generator.\n",
              "    outputElement.lastPromiseValue = value;\n",
              "    return next.value.response;\n",
              "  });\n",
              "}\n",
              "\n",
              "/**\n",
              " * Generator function which is called between each async step of the upload\n",
              " * process.\n",
              " * @param {string} inputId Element ID of the input file picker element.\n",
              " * @param {string} outputId Element ID of the output display.\n",
              " * @return {!Iterable<!Object>} Iterable of next steps.\n",
              " */\n",
              "function* uploadFilesStep(inputId, outputId) {\n",
              "  const inputElement = document.getElementById(inputId);\n",
              "  inputElement.disabled = false;\n",
              "\n",
              "  const outputElement = document.getElementById(outputId);\n",
              "  outputElement.innerHTML = '';\n",
              "\n",
              "  const pickedPromise = new Promise((resolve) => {\n",
              "    inputElement.addEventListener('change', (e) => {\n",
              "      resolve(e.target.files);\n",
              "    });\n",
              "  });\n",
              "\n",
              "  const cancel = document.createElement('button');\n",
              "  inputElement.parentElement.appendChild(cancel);\n",
              "  cancel.textContent = 'Cancel upload';\n",
              "  const cancelPromise = new Promise((resolve) => {\n",
              "    cancel.onclick = () => {\n",
              "      resolve(null);\n",
              "    };\n",
              "  });\n",
              "\n",
              "  // Wait for the user to pick the files.\n",
              "  const files = yield {\n",
              "    promise: Promise.race([pickedPromise, cancelPromise]),\n",
              "    response: {\n",
              "      action: 'starting',\n",
              "    }\n",
              "  };\n",
              "\n",
              "  cancel.remove();\n",
              "\n",
              "  // Disable the input element since further picks are not allowed.\n",
              "  inputElement.disabled = true;\n",
              "\n",
              "  if (!files) {\n",
              "    return {\n",
              "      response: {\n",
              "        action: 'complete',\n",
              "      }\n",
              "    };\n",
              "  }\n",
              "\n",
              "  for (const file of files) {\n",
              "    const li = document.createElement('li');\n",
              "    li.append(span(file.name, {fontWeight: 'bold'}));\n",
              "    li.append(span(\n",
              "        `(${file.type || 'n/a'}) - ${file.size} bytes, ` +\n",
              "        `last modified: ${\n",
              "            file.lastModifiedDate ? file.lastModifiedDate.toLocaleDateString() :\n",
              "                                    'n/a'} - `));\n",
              "    const percent = span('0% done');\n",
              "    li.appendChild(percent);\n",
              "\n",
              "    outputElement.appendChild(li);\n",
              "\n",
              "    const fileDataPromise = new Promise((resolve) => {\n",
              "      const reader = new FileReader();\n",
              "      reader.onload = (e) => {\n",
              "        resolve(e.target.result);\n",
              "      };\n",
              "      reader.readAsArrayBuffer(file);\n",
              "    });\n",
              "    // Wait for the data to be ready.\n",
              "    let fileData = yield {\n",
              "      promise: fileDataPromise,\n",
              "      response: {\n",
              "        action: 'continue',\n",
              "      }\n",
              "    };\n",
              "\n",
              "    // Use a chunked sending to avoid message size limits. See b/62115660.\n",
              "    let position = 0;\n",
              "    do {\n",
              "      const length = Math.min(fileData.byteLength - position, MAX_PAYLOAD_SIZE);\n",
              "      const chunk = new Uint8Array(fileData, position, length);\n",
              "      position += length;\n",
              "\n",
              "      const base64 = btoa(String.fromCharCode.apply(null, chunk));\n",
              "      yield {\n",
              "        response: {\n",
              "          action: 'append',\n",
              "          file: file.name,\n",
              "          data: base64,\n",
              "        },\n",
              "      };\n",
              "\n",
              "      let percentDone = fileData.byteLength === 0 ?\n",
              "          100 :\n",
              "          Math.round((position / fileData.byteLength) * 100);\n",
              "      percent.textContent = `${percentDone}% done`;\n",
              "\n",
              "    } while (position < fileData.byteLength);\n",
              "  }\n",
              "\n",
              "  // All done.\n",
              "  yield {\n",
              "    response: {\n",
              "      action: 'complete',\n",
              "    }\n",
              "  };\n",
              "}\n",
              "\n",
              "scope.google = scope.google || {};\n",
              "scope.google.colab = scope.google.colab || {};\n",
              "scope.google.colab._files = {\n",
              "  _uploadFiles,\n",
              "  _uploadFilesContinue,\n",
              "};\n",
              "})(self);\n",
              "</script> "
            ],
            "text/plain": [
              "<IPython.core.display.HTML object>"
            ]
          },
          "metadata": {},
          "output_type": "display_data"
        },
        {
          "name": "stdout",
          "output_type": "stream",
          "text": [
            "Saving task_13_6.xlsx to task_13_6 (1).xlsx\n"
          ]
        }
      ],
      "source": [
        "uploaded_files_dct = files.upload()\n",
        "file_name = [name for name in uploaded_files_dct.keys()][0]\n",
        "vectors_df = pd.read_excel(file_name, sheet_name = \"Sheet1\")"
      ]
    },
    {
      "cell_type": "code",
      "execution_count": 198,
      "metadata": {
        "colab": {
          "base_uri": "https://localhost:8080/",
          "height": 17
        },
        "id": "yeAyoiKG6rzt",
        "outputId": "95b69ee9-a474-4a3d-c8f8-92b6a138d764"
      },
      "outputs": [
        {
          "data": {
            "application/javascript": "\n    async function download(id, filename, size) {\n      if (!google.colab.kernel.accessAllowed) {\n        return;\n      }\n      const div = document.createElement('div');\n      const label = document.createElement('label');\n      label.textContent = `Downloading \"${filename}\": `;\n      div.appendChild(label);\n      const progress = document.createElement('progress');\n      progress.max = size;\n      div.appendChild(progress);\n      document.body.appendChild(div);\n\n      const buffers = [];\n      let downloaded = 0;\n\n      const channel = await google.colab.kernel.comms.open(id);\n      // Send a message to notify the kernel that we're ready.\n      channel.send({})\n\n      for await (const message of channel.messages) {\n        // Send a message to notify the kernel that we're ready.\n        channel.send({})\n        if (message.buffers) {\n          for (const buffer of message.buffers) {\n            buffers.push(buffer);\n            downloaded += buffer.byteLength;\n            progress.value = downloaded;\n          }\n        }\n      }\n      const blob = new Blob(buffers, {type: 'application/binary'});\n      const a = document.createElement('a');\n      a.href = window.URL.createObjectURL(blob);\n      a.download = filename;\n      div.appendChild(a);\n      a.click();\n      div.remove();\n    }\n  ",
            "text/plain": [
              "<IPython.core.display.Javascript object>"
            ]
          },
          "metadata": {},
          "output_type": "display_data"
        },
        {
          "data": {
            "application/javascript": "download(\"download_ddaf9680-55dd-4011-b44a-f50239f01521\", \"task_13_6_ans.xlsx\", 5477)",
            "text/plain": [
              "<IPython.core.display.Javascript object>"
            ]
          },
          "metadata": {},
          "output_type": "display_data"
        }
      ],
      "source": [
        "vectors_df.head()\n",
        "\n",
        "lst_vec_names = [vectors_df[\"Unnamed: 0\"].iloc[i] for i in range(len(vectors_df))]\n",
        "lst_coords_data = [Matrix([vectors_df['x'].iloc[i], vectors_df['y'].iloc[i]]) for i in range(len(vectors_df))]\n",
        "lst_angle_data = [ConvertAngle(vectors_df['angle'].iloc[i], (vectors_df['type'].iloc[i] == 'rad')) for i in range(len(vectors_df))]\n",
        "lst_x_new = []\n",
        "lst_y_new = []\n",
        "\n",
        "for i in range(len(lst_coords_data)):\n",
        "  cur_vec = lst_coords_data[i]\n",
        "  cur_angle = lst_angle_data[i]\n",
        "  vec_new = (LineralRotationOperator(cur_angle) * cur_vec).evalf(5)\n",
        "  lst_x_new.append(vec_new[0,0])\n",
        "  lst_y_new.append(vec_new[1, 0])\n",
        "\n",
        "new_vecs_dct = {\"x\": lst_x_new, \"y\": lst_y_new}\n",
        "new_vecs_df = pd.DataFrame(data = new_vecs_dct, index = lst_vec_names)\n",
        "\n",
        "file_name_cur = \"task_13_6_ans.xlsx\"\n",
        "with pd.ExcelWriter(file_name_cur, mode = \"w\") as witer_w:\n",
        "  df_plug = pd.DataFrame([])\n",
        "  df_plug.to_excel(witer_w, sheet_name = 'Blank', header = False, index = False)\n",
        "with pd.ExcelWriter(file_name_cur, mode = \"a\") as writer_2:\n",
        "  new_vecs_df.to_excel(writer_2, sheet_name = \"Ans\")\n",
        "\n",
        "files.download(file_name_cur)"
      ]
    },
    {
      "cell_type": "code",
      "execution_count": 169,
      "metadata": {
        "colab": {
          "base_uri": "https://localhost:8080/",
          "height": 672
        },
        "id": "UMZlzMKWzr6H",
        "outputId": "f163d0bf-74de-4b27-88b4-d083f6609451"
      },
      "outputs": [
        {
          "data": {
            "text/latex": [
              "v_{2} \\text{ Rotation Matrix = } \\left[\\begin{matrix}\\cos{\\left(\\frac{\\pi}{18} \\right)} & \\sin{\\left(\\frac{\\pi}{18} \\right)}\\\\- \\sin{\\left(\\frac{\\pi}{18} \\right)} & \\cos{\\left(\\frac{\\pi}{18} \\right)}\\end{matrix}\\right]"
            ],
            "text/plain": [
              "<IPython.core.display.Latex object>"
            ]
          },
          "metadata": {},
          "output_type": "display_data"
        },
        {
          "data": {
            "text/latex": [
              "v_{3} \\text{ Rotation Matrix = } \\left[\\begin{matrix}\\cos{\\left(\\frac{\\pi}{9} \\right)} & \\sin{\\left(\\frac{\\pi}{9} \\right)}\\\\- \\sin{\\left(\\frac{\\pi}{9} \\right)} & \\cos{\\left(\\frac{\\pi}{9} \\right)}\\end{matrix}\\right]"
            ],
            "text/plain": [
              "<IPython.core.display.Latex object>"
            ]
          },
          "metadata": {},
          "output_type": "display_data"
        },
        {
          "data": {
            "text/latex": [
              "v_{4} \\text{ Rotation Matrix = } \\left[\\begin{matrix}\\frac{\\sqrt{2}}{2} & \\frac{\\sqrt{2}}{2}\\\\- \\frac{\\sqrt{2}}{2} & \\frac{\\sqrt{2}}{2}\\end{matrix}\\right]"
            ],
            "text/plain": [
              "<IPython.core.display.Latex object>"
            ]
          },
          "metadata": {},
          "output_type": "display_data"
        },
        {
          "data": {
            "text/latex": [
              "v_{5} \\text{ Rotation Matrix = } \\left[\\begin{matrix}\\frac{1}{2} & - \\frac{\\sqrt{3}}{2}\\\\\\frac{\\sqrt{3}}{2} & \\frac{1}{2}\\end{matrix}\\right]"
            ],
            "text/plain": [
              "<IPython.core.display.Latex object>"
            ]
          },
          "metadata": {},
          "output_type": "display_data"
        },
        {
          "data": {
            "text/latex": [
              "v_{1} \\text{ Rotation Matrix = } \\left[\\begin{matrix}1 & 0\\\\0 & 1\\end{matrix}\\right]"
            ],
            "text/plain": [
              "<IPython.core.display.Latex object>"
            ]
          },
          "metadata": {},
          "output_type": "display_data"
        },
        {
          "data": {
            "text/plain": [
              "<matplotlib.legend.Legend at 0x7cb20d6e25f0>"
            ]
          },
          "execution_count": 169,
          "metadata": {},
          "output_type": "execute_result"
        },
        {
          "data": {
            "image/png": "[encoded data removed]",
            "text/plain": [
              "<Figure size 640x480 with 1 Axes>"
            ]
          },
          "metadata": {},
          "output_type": "display_data"
        }
      ],
      "source": [
        "# Функция для изображения вектора на графике\n",
        "def plotVec(vect, color_var, name, rtMx, axCur):\n",
        "    x, y = [float(item) for item in vect]\n",
        "    axCur.plot([0, x], [0, y], color = color_var, label = fr\"${latex(name)}$\") #label = sympy.latex(rtMx, mode = \"inline\")\n",
        "    axCur.arrow(0, 0, x, y, head_width=0.05, color = color_var)\n",
        "    display(Latex(fr\"{latex(name)} \\text{{ Rotation Matrix = }} {latex(rtMx)}\"))\n",
        "\n",
        "v1, v2, v3, v4, v5 = sympy.symbols('v1:6')\n",
        "vec_1 = Matrix([1, 2])\n",
        "lstAngleData= [(10, False, True, v2), (20, False, True, v3), (45, False, True, v4), (sympy.S(sympy.pi)/3, True, False, v5)]\n",
        "dctAngles2 = {angleData[3]:ConvertAngle(angleData[0], angleData[1], angleData[2]) for angleData in lstAngleData}\n",
        "lstRandomColors = [\"red\", \"blue\", \"green\", \"purple\", \"black\"]\n",
        "dctAngles2[v1] = 0\n",
        "\n",
        "ax2 = plt.gca()\n",
        "\n",
        "cnt = 0\n",
        "for i in dctAngles2.keys():\n",
        "  rotationMx = LineralRotationOperator(dctAngles2[i])\n",
        "  new_vec = rotationMx * vec_a\n",
        "  plotVec(new_vec, lstRandomColors[cnt], i, rotationMx, ax2)\n",
        "  cnt += 1\n",
        "ax2.legend(loc = \"best\")"
      ]
    },
    {
      "cell_type": "markdown",
      "metadata": {
        "id": "DeW-9Q28G85W"
      },
      "source": [
        "###  Индивидуальное задание\n",
        "Найти собственные числа и собственные векторы линейного оператора. Построить матрицу оператора в заданном базисе. Построить матрицу оператора в базисе из собственных векторов.\n",
        "\n",
        "Вывести на экран матрицу оператора А, матрицу перехода к базису ($e_1$, $e_2$, $e_3$), матрицу оператора в базисе ($e_1$, $e_2$, $e_3$), матрицу перехода к базису из собственных векторов, матрицу оператора в базисе из собственных векторов.\n",
        "\n",
        "Даны матрица оператора A, векторы базиса $e_1$, $e_2$, $e_3$.\n",
        "\n",
        "\n",
        "Варинат №43\n",
        "\n",
        "$$A = \\left[\\begin{matrix}19 & 445 & -348\\\\63 & 81 & -204\\\\37 & 43 & -228\\end{matrix}\\right],\\quad e_1 = \\left[\\begin{matrix}-1\\\\-1\\\\1\\end{matrix}\\right],\\quad e_2 = \\left[\\begin{matrix}3\\\\-4\\\\-1\\end{matrix}\\right],\\quad e_3 = \\left[\\begin{matrix}-2\\\\3\\\\-4\\end{matrix}\\right]$$"
      ]
    },
    {
      "cell_type": "code",
      "execution_count": null,
      "metadata": {
        "colab": {
          "base_uri": "https://localhost:8080/",
          "height": 434
        },
        "id": "TzC0pyPzZCUq",
        "outputId": "27abcba7-a0e5-4920-a8ef-84c1979428bb"
      },
      "outputs": [],
      "source": [
        "A_ind = Matrix([[19, 445, -348], [63, 81, -204], [37, 43, -228]])\n",
        "P_ind = Matrix([[-1, -1, 1], [3, -4, -1], [-2, 3, -4]]).T\n",
        "A_new_ind_1 = P_ind.inv() * A_ind * P_ind\n",
        "P_ind_eigen = EigenTransitionMx(A_ind)\n",
        "A_new_ind_2 = P_ind_eigen.inv() * A_ind * P_ind_eigen\n",
        "lstEData = A_ind.eigenvects()\n",
        "\n",
        "display(Latex(fr\"A = {latex(A_ind)}\"))\n",
        "display(Latex(fr\"\\text{{Собственные числа и собственные векторы A:}}\"))\n",
        "print()\n",
        "for i in range(len(lstEData)):\n",
        "  display(Latex(fr\"[{latex(i + 1)}]. \\text{{Собственное число  }}  {latex(lstEData[i][0])}\"))\n",
        "  for j in range(len(lstEData[i][2])):\n",
        "    display(Latex(fr\"[{latex(i + 1 + (j + 1)/10)}]. \\text{{Собственный вектор для числа }} {latex(lstEData[i][0])}: {latex(lstEData[i][2][j].T)}\"))\n",
        "  print()\n",
        "display(Latex(fr\"\\text{{Матрица перехода к базису }} (e_{{1}},e_{{2}},e_{{3}}) \\ = {latex(P_ind)} \\ , \\  A_{{new1}} = {latex(A_new_ind_1)}\"))\n",
        "print()\n",
        "display(Latex(fr\"\\text{{Матрица перехода к базису собственных векторов = }} {latex(P_ind_eigen)} \\ , \\  A_{{new2}} = {latex(A_new_ind_2)}\"))"
      ]
    }
  ],
  "metadata": {
    "colab": {
      "provenance": []
    },
    "kernelspec": {
      "display_name": "Python 3",
      "language": "python",
      "name": "python3"
    },
    "language_info": {
      "codemirror_mode": {
        "name": "ipython",
        "version": 3
      },
      "file_extension": ".py",
      "mimetype": "text/x-python",
      "name": "python",
      "nbconvert_exporter": "python",
      "pygments_lexer": "ipython3",
      "version": "3.7.3"
    }
  },
  "nbformat": 4,
  "nbformat_minor": 0
}

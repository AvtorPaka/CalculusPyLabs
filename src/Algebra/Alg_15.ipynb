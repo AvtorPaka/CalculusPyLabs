{
  "cells": [
    {
      "cell_type": "code",
      "execution_count": 27,
      "metadata": {
        "id": "9TQ50NoSQIPp"
      },
      "outputs": [],
      "source": [
        "import sympy\n",
        "from sympy import Ellipse, Point, S, Eq, latex, plot_implicit, solve\n",
        "from sympy import symbols, simplify, Rational, Matrix, Line\n",
        "from sympy import cos as Cos\n",
        "from sympy import sin as Sin\n",
        "from IPython.display import Latex"
      ]
    },
    {
      "cell_type": "markdown",
      "metadata": {
        "id": "lMQdka37QIPr"
      },
      "source": [
        "# Практическое занятие 15, Демченко Георгий\n",
        "# Компьютерный практикум по алгебре на Python\n",
        "### Задание 1.\n",
        "Построить эллипс с центром в точке А(1, 2), полуосями 3 и 2. Вычислить и вывести на экран эксцентриситет, площадь и длину дуги полученного эллипса, центр, полуоси, periapsis, apoapsis, межфокусное расстояние и фокусы.\n",
        "\n",
        "Указание: составить словарь с ключами - названиями ('center', 'hradius', 'vradius' и т.п.) и значениями - атрибутами эллипса (.center, .hradius, ...), затем в цикле вывести все значения атрибутов из словаря вместе с названиями, например, \"hradius=3\"."
      ]
    },
    {
      "cell_type": "code",
      "execution_count": null,
      "metadata": {
        "colab": {
          "base_uri": "https://localhost:8080/",
          "height": 228
        },
        "id": "llO4kYB1lJno",
        "outputId": "9daa14fe-1881-45a6-8d21-f8987246e97d"
      },
      "outputs": [],
      "source": [
        "El_1 = Ellipse(Point(1, 2), hradius = 3, vradius = 2)\n",
        "dct_el_params = {\"center\": El_1.center,\n",
        "                 \"hradius\": El_1.hradius,\n",
        "                 \"vradius\": El_1.vradius,\n",
        "                 \"eccentricity\": El_1.eccentricity,\n",
        "                 \"area\": El_1.area,\n",
        "                 \"circumference\": El_1.circumference,\n",
        "                 \"periapsis\": El_1.periapsis,\n",
        "                 \"apoapsis\": El_1.apoapsis,\n",
        "                 \"focus-distance\": El_1.focus_distance,\n",
        "                 \"foci\": El_1.foci}\n",
        "display(*[Latex(fr\"{latex(key)} = {latex(dct_el_params[key])}\") for key in dct_el_params.keys()])"
      ]
    },
    {
      "cell_type": "markdown",
      "metadata": {
        "id": "psl_l7iEQIPv"
      },
      "source": [
        "### Задание 2.\n",
        "Вывести на экран **уравнение** эллипса из задания 1, повернутого на 30 градусов против часовой стрелки относительно его центра,  переменные $u$ и $v$.\n",
        "\n",
        "Изобразить на общем графике эллипс и повернутый эллипс.\n",
        "\n",
        "**Указание:** по углу определить значение _slope аргумента метода equation (это тангенс угла наклона), использовать plot_implicit."
      ]
    },
    {
      "cell_type": "code",
      "execution_count": null,
      "metadata": {
        "colab": {
          "base_uri": "https://localhost:8080/",
          "height": 488
        },
        "id": "lkSRLJCDlKjY",
        "outputId": "38f55723-bdc8-4010-e88f-62978c2c7d83"
      },
      "outputs": [
        {
          "data": {
            "text/latex": [
              "\\text{Уравнение исходного эллипспа: } \\left(\\frac{u}{3} - \\frac{1}{3}\\right)^{2} + \\left(\\frac{v}{2} - 1\\right)^{2} = 1"
            ],
            "text/plain": [
              "<IPython.core.display.Latex object>"
            ]
          },
          "metadata": {},
          "output_type": "display_data"
        },
        {
          "data": {
            "text/latex": [
              "\\text{Уравнение повернутого эллипса: } \\frac{\\left(3 u + \\sqrt{3} \\left(v - 2\\right) - 3\\right)^{2}}{108} + \\frac{\\left(- 3 v + \\sqrt{3} \\left(u - 1\\right) + 6\\right)^{2}}{48} = 1"
            ],
            "text/plain": [
              "<IPython.core.display.Latex object>"
            ]
          },
          "metadata": {},
          "output_type": "display_data"
        },
        {
          "name": "stdout",
          "output_type": "stream",
          "text": [
            "\n"
          ]
        },
        {
          "data": {
            "image/png": "[encoded data removed]",
            "text/plain": [
              "<Figure size 640x480 with 1 Axes>"
            ]
          },
          "metadata": {},
          "output_type": "display_data"
        }
      ],
      "source": [
        "u, v = sympy.symbols('u v')\n",
        "expr_1 = El_1.equation(x = u, y = v)\n",
        "free_coef_1 = -expr_1.subs({u : 1}).subs({v : 2})\n",
        "expr_1_f = Eq(expr_1 + free_coef_1, free_coef_1)\n",
        "expr_2 = sympy.simplify(El_1.equation(x = u, y = v, _slope = sympy.S(1)/sympy.sqrt(3)))\n",
        "free_coef_2 = -expr_2.as_coeff_add()[0]\n",
        "expr_2_f = Eq(expr_2 + free_coef_2, free_coef_2)\n",
        "\n",
        "display(Latex(fr\"\\text{{Уравнение исходного эллипспа: }} {latex(expr_1_f)}\"))\n",
        "display(Latex(fr\"\\text{{Уравнение повернутого эллипса: }} {latex(expr_2_f)}\"))\n",
        "print()\n",
        "\n",
        "plt = plot_implicit(expr_1_f, (u, -5, 5), (v, -1, 5), aspect_ratio = (1, 1),\n",
        "                    line_color = \"blue\", xlabel='$u$', ylabel='$v$', show = False)\n",
        "plt.append(plot_implicit(expr_2_f, (u, -5, 5), (v, -1, 5), aspect_ratio = (1, 1),\n",
        "                    line_color = \"red\", show = False)[0])\n",
        "plt.show()"
      ]
    },
    {
      "cell_type": "markdown",
      "metadata": {
        "id": "-XxIo-1_QIPw"
      },
      "source": [
        "### Задание 3.\n",
        "Найти вершины эллипса из Задания 1.\n",
        "\n",
        "**Указание:** вершины эллипса искать как решение системы уравнений, составленной из уравнения эллипса и уравнения прямой, проходящей через форкусы (воспользоваться Line и методом equation()); вторую пару вершин получить как решение системы из уравнения эллипса и прямой, проходящей через центр эллипса перпендикулярно прямой, проходящей через фокусы."
      ]
    },
    {
      "cell_type": "code",
      "execution_count": null,
      "metadata": {
        "colab": {
          "base_uri": "https://localhost:8080/",
          "height": 119
        },
        "id": "E0tpAb0olLfE",
        "outputId": "3826c79d-8268-42f7-d615-5ae83e40d58a"
      },
      "outputs": [],
      "source": [
        "x, y = sympy.symbols('x y')\n",
        "\n",
        "def Find_Ellipse_Vertices(El_cur):\n",
        "  ellipse_eq = El_cur.equation(x = x, y = y)\n",
        "  f_point_1, f_point_2 = El_cur.foci\n",
        "  focus_line = Line(f_point_1, f_point_2)\n",
        "  focus_line_eq = focus_line.equation(x = x, y = y)\n",
        "  smal_diag_eq = focus_line.perpendicular_line(El_cur.center).equation(x = x, y = y)\n",
        "  lst_el_vert = [dot_cur for eq_cur in [focus_line_eq, smal_diag_eq] for dot_cur in sympy.solve([Eq(ellipse_eq, 0), Eq(eq_cur, 0)], (x, y), domain = S.Reals)]\n",
        "  return lst_el_vert\n",
        "\n",
        "lst_el_3_dots = Find_Ellipse_Vertices(El_1)\n",
        "display(Latex(fr\"\\text{{Вершины Эллипса:}}\"))\n",
        "display(*[Latex(f\"[{i + 1}]. {latex(lst_el_3_dots[i])}\") for i in range(len(lst_el_3_dots))])"
      ]
    },
    {
      "cell_type": "markdown",
      "metadata": {
        "id": "LbEzVL4I32vR"
      },
      "source": [
        "### Задание 4.\n",
        "Провести касательные к эллипсу из Задания 1 через его вершины.\n",
        "\n",
        "Указание: использовать equation прямых Line, plot_implicit. Для корректного изображения на графике горизонтальных прямых в plot_implicit указывать диапазоны значений и переменной $x$ и переменной $y$."
      ]
    },
    {
      "cell_type": "code",
      "execution_count": null,
      "metadata": {
        "colab": {
          "base_uri": "https://localhost:8080/",
          "height": 383
        },
        "id": "gKn8A-ddlMTw",
        "outputId": "4db6eee1-8ae1-4531-a1a0-ce639922f916"
      },
      "outputs": [
        {
          "data": {
            "image/png": "[encoded data removed]",
            "text/plain": [
              "<Figure size 640x480 with 1 Axes>"
            ]
          },
          "metadata": {},
          "output_type": "display_data"
        }
      ],
      "source": [
        "big_diag = Line(El_1.foci[0], El_1.foci[1])\n",
        "smal_diag = big_diag .perpendicular_line(El_1.center)\n",
        "lst_tangent_eq = [big_diag.perpendicular_line(lst_el_3_dots[i]).equation(x = x, y = y) if i < 2 else smal_diag.perpendicular_line(lst_el_3_dots[i]).equation(x = x, y = y)  for i in range(len(lst_el_3_dots))]\n",
        "\n",
        "plt_4 = plot_implicit(El_1.equation(x = x, y = y), (x, -4.5, 6.5), (y, -1, 5), aspect_ratio = (1, 1),\n",
        "                    line_color = \"blue\", xlabel='$x$', ylabel='$y$', show = False)\n",
        "for eq in lst_tangent_eq:\n",
        "  plt_4.append(plot_implicit(Eq(eq, 0), (x, -4.5, 6.5), (y, -1, 5), aspect_ratio = (1, 1),\n",
        "                line_color = \"red\", show = False)[0])\n",
        "plt_4.show()"
      ]
    },
    {
      "cell_type": "markdown",
      "metadata": {
        "id": "luiSqwlDvx-F"
      },
      "source": [
        "### Задание 5**.\n",
        "Построить дочерний класс эллипсов Ellipse_rot, в этом классе должна быть переменная угол поворота, по умолчанию 0 и матрица поворота rot_matr__, по умолчанию None. По умолчанию центр эллипса в начале координат, но при построении экземпляра пользователь может задать другой центр. При построении экземпляра класса пользователь должен иметь возможность задать угол поворота. Матрица поворота - внутренняя переменная, она должна изменяться только при вызове метода change_angle, изменяющего угол поворота.\n",
        "\n",
        "**Атрибуты класса:**\n",
        "\n",
        "**focus_distance** фокусное расстояние $c = \\sqrt{a^2 - b^2}$\n",
        "\n",
        "**foci фокусы** в виде кортежа из точек Point\n",
        "\n",
        "**angle** угол наклона в радианах\n",
        "\n",
        "**slope** тангенс угла наклона (None для угла, кратного $\\pi / 2$, угол от $- 2 \\pi$ до $2 \\pi$)\n",
        "\n",
        "**rot_matr** (не путать с rot_matr__!!!) - матрица поворота $\\left(\\begin{matrix}\\cos\\alpha&-\\sin\\alpha\\\\ \\sin\\alpha&\\cos\\alpha\\end{matrix}\\right).$\n",
        "\n",
        "\n",
        "**Методы:**\n",
        "\n",
        "**change_angle** аргумент - новое значение угла поворота, метод изменяет переменную angle и матрицу поворота\n",
        "\n",
        "**equation** возвращает уравнение эллипса, соответствующее углу поворота эллипса, у этого метода необязательные аргументы - имена переменных, по умолчанию $x$ и $y$.\n",
        "\n",
        "\n",
        "Протестировать полученный класс так: создать эллипс с осями 12 и 9, центр в точке $(-1, 2)$, угол поворота $\\pi / 3$, вывести на экран его эксцентриситет, фокусное расстояние, фокусы, тангенс угла наклона, матрицу поворота и уравнение. Затем заменить угол поворота на $\\pi / 4$ и вывести на экран те же атрибуты и результаты работы методов, только уравнение вывести с переменными $u$ и $v$."
      ]
    },
    {
      "cell_type": "code",
      "execution_count": null,
      "metadata": {
        "colab": {
          "base_uri": "https://localhost:8080/",
          "height": 442
        },
        "id": "G_rvM2QnlNSq",
        "outputId": "fa417557-0af2-49bc-9019-89b42e640c95"
      },
      "outputs": [],
      "source": [
        "x, y = sympy.symbols('x y')\n",
        "\n",
        "class Ellipse_rot(Ellipse):\n",
        "  def __new__(cls, center=Point(0, 0), hradius = None, vradius = None,\n",
        "              eccentricity=None, angle = 0, rot_matr__ = None, **kwargs):\n",
        "    return super().__new__(cls, center, hradius, vradius, eccentricity, **kwargs)\n",
        "\n",
        "  def __init__(self, center=Point(0, 0), hradius = None, vradius = None,\n",
        "              eccentricity=None, angle = 0, rot_matr__ = None, **kwargs):\n",
        "    self.change_angle(angle)\n",
        "\n",
        "  @property\n",
        "  def slope(self):\n",
        "    tg_val = sympy.tan(self.angle)\n",
        "    if (abs(self.angle % S(sympy.pi)) == S(sympy.pi)/2):\n",
        "      tg_val = None\n",
        "    return tg_val\n",
        "\n",
        "  @property\n",
        "  def focus_distance(self):\n",
        "    return sympy.sqrt(self.hradius ** 2 - self.vradius ** 2)\n",
        "\n",
        "  @property\n",
        "  def rot_matr(self):\n",
        "    return self.rot_matr__\n",
        "\n",
        "  @property\n",
        "  def foci(self):\n",
        "    c = self.focus_distance\n",
        "    alpha = self.angle\n",
        "    if alpha == 0:\n",
        "        return tuple([Point((c_val, 0)) for c_val in (-c, c)])\n",
        "    F1, F2 = [Matrix((c_val, 0)) for c_val in (-c, c)]\n",
        "    return tuple([Point(*(self.rot_matr__ * F)) for F in (F1, F2)])\n",
        "\n",
        "  def change_angle(self, new_angle):\n",
        "    self.angle = new_angle\n",
        "    self.rot_matr__ = Matrix([[Cos(new_angle), -Sin(new_angle)], [Sin(new_angle), Cos(new_angle)]])\n",
        "\n",
        "  def equation(self, x_var = x, y_var = y):\n",
        "    # eq_tmp =  sympy.simplify(super().equation(x = x_var, y = y_var, _slope = self.angle))\n",
        "    # free_c = -eq_tmp.as_coeff_add()[0]\n",
        "    # return Eq(eq_tmp + free_c, free_c)\n",
        "    return Eq(super().equation(x = x_var, y = y_var, _slope = self.angle), 0)\n",
        "\n",
        "\n",
        "test_ellipse = Ellipse_rot(center = Point(-1, 2), hradius=12, vradius = 9, angle = S(sympy.pi)/3)\n",
        "display(Latex(fr\"\\text{{[1]. Параметры изначального эллипса:}}\"))\n",
        "display(Latex(f\"eccentricity: {latex(test_ellipse.eccentricity)}\"))\n",
        "display(Latex(f\"focus-distance: {latex(test_ellipse.focus_distance)} \"))\n",
        "display(Latex(f\"foci : {latex(test_ellipse.foci)} \"))\n",
        "display(Latex(f\"Tangent\\  of \\  the\\  angle\\  of\\  inclination: {latex(test_ellipse.slope)} \"))\n",
        "display(Latex(f\"Rotation\\ matrix: {latex(test_ellipse.rot_matr)} \"))\n",
        "display(Latex(f\"Equation : {latex(test_ellipse.equation())} \"))\n",
        "test_ellipse.change_angle(S(sympy.pi)/4)\n",
        "print()\n",
        "display(Latex(fr\"\\text{{[2]. Параметры эллипса после изменения угла:}}\"))\n",
        "display(Latex(f\"eccentricity: {latex(test_ellipse.eccentricity)}\"))\n",
        "display(Latex(f\"focus-distance: {latex(test_ellipse.focus_distance)} \"))\n",
        "display(Latex(f\"foci : {latex(test_ellipse.foci)} \"))\n",
        "display(Latex(f\"Tangent\\  of \\  the\\  angle\\  of\\  inclination: {latex(test_ellipse.slope)} \"))\n",
        "display(Latex(f\"Rotation\\ matrix: {latex(test_ellipse.rot_matr)} \"))\n",
        "display(Latex(f\"Equation : {latex(test_ellipse.equation())} \"))"
      ]
    },
    {
      "cell_type": "markdown",
      "metadata": {
        "id": "Z558wMoUQIPx"
      },
      "source": [
        "###  Индивидуальное задание\n",
        "Эллипс с центром $A$, вертикальной полуосью $b$ и эксцентриситетом $\\varepsilon$.\n",
        "Изобразить на графике эллипс, а также эллипс, повернутый на угол $\\alpha$ градусов против часовой стрелки.\n",
        "\n",
        "Вывести на экран центр и фокусы эллипса, длины полуосей, уравнение эллипса, вершины эллипса.\n",
        "\n",
        "Вариант №43\n",
        "\n",
        "Центр $\\operatorname{Point2D}\\left(1, 1\\right)$, вертикальная полуось $2$, эксцентриситет $1 / 3$, угол поворота $\\pi / 6$, по часовой стрелке."
      ]
    },
    {
      "cell_type": "code",
      "execution_count": null,
      "metadata": {
        "colab": {
          "base_uri": "https://localhost:8080/",
          "height": 573
        },
        "id": "kxflF0NalPfk",
        "outputId": "009fb5b7-365b-41a8-ce75-04e67b2fda89"
      },
      "outputs": [
        {
          "data": {
            "image/png": "[encoded data removed]",
            "text/plain": [
              "<Figure size 640x480 with 1 Axes>"
            ]
          },
          "metadata": {},
          "output_type": "display_data"
        },
        {
          "data": {
            "text/latex": [
              "\\text{Параметры Эллипса:}"
            ],
            "text/plain": [
              "<IPython.core.display.Latex object>"
            ]
          },
          "metadata": {},
          "output_type": "display_data"
        },
        {
          "data": {
            "text/latex": [
              "\\mathtt{\\text{center}} : \\operatorname{Point2D}\\left(1, 1\\right)"
            ],
            "text/plain": [
              "<IPython.core.display.Latex object>"
            ]
          },
          "metadata": {},
          "output_type": "display_data"
        },
        {
          "data": {
            "text/latex": [
              "\\mathtt{\\text{foci}} : \\left( \\operatorname{Point2D}\\left(1 - \\frac{\\sqrt{2}}{2}, 1\\right), \\  \\operatorname{Point2D}\\left(\\frac{\\sqrt{2}}{2} + 1, 1\\right)\\right)"
            ],
            "text/plain": [
              "<IPython.core.display.Latex object>"
            ]
          },
          "metadata": {},
          "output_type": "display_data"
        },
        {
          "data": {
            "text/latex": [
              "\\mathtt{\\text{hradius}} : \\frac{3 \\sqrt{2}}{2}"
            ],
            "text/plain": [
              "<IPython.core.display.Latex object>"
            ]
          },
          "metadata": {},
          "output_type": "display_data"
        },
        {
          "data": {
            "text/latex": [
              "\\mathtt{\\text{vradius}} : 2"
            ],
            "text/plain": [
              "<IPython.core.display.Latex object>"
            ]
          },
          "metadata": {},
          "output_type": "display_data"
        },
        {
          "data": {
            "text/latex": [
              "\\mathtt{\\text{equation}} : \\frac{2 \\left(x - 1\\right)^{2}}{9} + \\left(\\frac{y}{2} - \\frac{1}{2}\\right)^{2} = 1"
            ],
            "text/plain": [
              "<IPython.core.display.Latex object>"
            ]
          },
          "metadata": {},
          "output_type": "display_data"
        },
        {
          "data": {
            "text/latex": [
              "\\mathtt{\\text{vertices}} : \\left[ \\left( 1 - \\frac{3 \\sqrt{2}}{2}, \\  1\\right), \\  \\left( 1 + \\frac{3 \\sqrt{2}}{2}, \\  1\\right), \\  \\left( 1, \\  -1\\right), \\  \\left( 1, \\  3\\right)\\right]"
            ],
            "text/plain": [
              "<IPython.core.display.Latex object>"
            ]
          },
          "metadata": {},
          "output_type": "display_data"
        }
      ],
      "source": [
        "def Get_Ellipse_Data(El_cur):\n",
        "  dct_el_params = {\"center\": El_cur.center,\n",
        "                 \"hradius\": El_cur.hradius,\n",
        "                 \"vradius\": El_cur.vradius,\n",
        "                 \"eccentricity\": El_cur.eccentricity,\n",
        "                 \"area\": El_cur.area,\n",
        "                 \"circumference\": El_cur.circumference,\n",
        "                 \"periapsis\": El_cur.periapsis,\n",
        "                 \"apoapsis\": El_cur.apoapsis,\n",
        "                 \"focus\\_distance\": El_cur.focus_distance,\n",
        "                 \"foci\": El_cur.foci}\n",
        "  El_cur_eq = El_cur.equation(x = x, y= y)\n",
        "  El_cur_free_c = -El_cur_eq.as_coeff_add()[0]\n",
        "  dct_el_params[\"equation\"] = Eq(El_cur_eq + El_cur_free_c, El_cur_free_c)\n",
        "  dct_el_params[\"vertices\"] = Find_Ellipse_Vertices(El_cur)\n",
        "  return dct_el_params\n",
        "\n",
        "Center_ind_p = Point(1, 1)\n",
        "El_ind = Ellipse(Point(1, 1), vradius= 2, eccentricity = Rational(1, 3))\n",
        "dct_el_ind_data = Get_Ellipse_Data(El_ind)\n",
        "El_ind_rotation_eq = sympy.simplify(El_ind.equation(x = x,y = y, _slope = -sympy.S(1)/sympy.sqrt(3)))\n",
        "\n",
        "plt_ind = plot_implicit(dct_el_ind_data[\"equation\"], (x, -4.5, 6.5), (y, -1.5, 5), aspect_ratio = (1, 1),\n",
        "                    line_color = \"blue\", xlabel='$x$', ylabel='$y$', show = False)\n",
        "plt_ind.append(plot_implicit(El_ind_rotation_eq, (x, -4.5, 6.5), (y, -1.5, 5), aspect_ratio = (1, 1),\n",
        "                    line_color = \"red\", show = False)[0])\n",
        "plt_ind.show()\n",
        "\n",
        "display(Latex(fr\"\\text{{Параметры Эллипса:}}\"))\n",
        "display(*[Latex(fr\"{latex(key)} : {latex(dct_el_ind_data[key])}\") for key in [\"center\", \"foci\", \"hradius\", \"vradius\", \"equation\", \"vertices\"]])"
      ]
    }
  ],
  "metadata": {
    "colab": {
      "provenance": []
    },
    "kernelspec": {
      "display_name": "Python 3",
      "language": "python",
      "name": "python3"
    },
    "language_info": {
      "codemirror_mode": {
        "name": "ipython",
        "version": 3
      },
      "file_extension": ".py",
      "mimetype": "text/x-python",
      "name": "python",
      "nbconvert_exporter": "python",
      "pygments_lexer": "ipython3",
      "version": "3.7.3"
    }
  },
  "nbformat": 4,
  "nbformat_minor": 0
}

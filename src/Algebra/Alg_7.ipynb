{
  "cells": [
    {
      "cell_type": "code",
      "execution_count": null,
      "metadata": {
        "id": "8eFsGTqm2yYh"
      },
      "outputs": [],
      "source": [
        "import sympy\n",
        "from sympy import  Symbol, symbols, S, Point, Line, Plane, Point3D,\\\n",
        "Matrix, Eq, latex, simplify, Subs\n",
        "from itertools import combinations, permutations\n",
        "from IPython.display import display, Latex"
      ]
    },
    {
      "cell_type": "markdown",
      "metadata": {
        "id": "QsFfXQQN2yYq"
      },
      "source": [
        "# Практическое занятие 7\n",
        "# Компьютерный практикум по алгебре на Python\n",
        "https://docs.sympy.org/latest/search.html?q=geometry\n",
        "\n",
        "## Прямые и плоскости в пространстве. Модуль Geometry\n",
        "### Задание 1.\n",
        "Даны точки: $A(3, -2, 3)$,  $B(-2, 3, 1)$, $C(1, -8, 6)$, $D(1, 2, 4)$, $F(-7, 8, -1)$.\n",
        "\n",
        "Составить словарь точек (ключи - точки, значения - имена точек).\n",
        "\n",
        "Вывести на экран значения записей словаря (т.е. имена точек).\n",
        "\n",
        "Проверить, различны ли прямые $AB$ и $AF$, $AB$ и $AC$, плоскости $ABC$ и $ACF$, $ABC$ и $ACD$.\n",
        "\n",
        "Вывести на экран текст вида \"$AB$ и $AF$ одинаковы\" (или \"не одинаковы\")."
      ]
    },
    {
      "cell_type": "code",
      "execution_count": null,
      "metadata": {
        "colab": {
          "base_uri": "https://localhost:8080/",
          "height": 211
        },
        "id": "0-OuJjONkSYp",
        "outputId": "0e8f2d8b-30fb-4361-85eb-7009f3a1db6f"
      },
      "outputs": [],
      "source": [
        "lst_data = [(Point(3, -2, 3), \"A\"), (Point(-2, 3, 1), \"B\"), (Point(1, -8, 6), \"C\"), (Point(1, 2, 4), \"D\"), (Point(-7, 8, -1), 'F')]\n",
        "dct_points_useles_shit = {point[0] : point[1] for point in lst_data}\n",
        "dct_points = {point[1] : point[0] for point in lst_data}\n",
        "\n",
        "# Функция построения плоскости по 3-м точкам в случае если они не лежат на одной прямой\n",
        "def Create_Plane(p1, p2, p3):\n",
        "  if Point3D.are_collinear(p1, p2, p3):\n",
        "    return \"N/a\"\n",
        "  else:\n",
        "    cur_plane = Plane(p1, p2, p3)\n",
        "    return cur_plane\n",
        "\n",
        "# Функия для определения являются ли геометрические объекты одинаковые\n",
        "def Are_Eq_Obj(obj_data_1, obj_name_1, obj_data_2, obj_name_2):\n",
        "  print(f\"{'Прямые' if len(obj_name_1) == 2 else 'Плоскости'} {obj_name_1} и {obj_name_2} {'не' * (not obj_data_1.equals(obj_data_2))} одинаковы.\")\n",
        "\n",
        "# Составим словари всех возможных прямых из 2х точек и плоскостей их 3х точек используяю библиотеку itertools\n",
        "dct_lines = {cline[1] : cline[0] for cline in [(Line(p_data[0][0], p_data[1][0]), f\"{p_data[0][1]}{p_data[1][1]}\") for p_data in combinations(lst_data, 2)]}\n",
        "dct_planes = {cplane[1]: cplane[0] for cplane in [(Create_Plane(pd[0][0], pd[1][0], pd[2][0]), f\"{pd[0][1]}{pd[1][1]}{pd[2][1]}\") for pd in combinations(lst_data, 3)]}\n",
        "\n",
        "display(Latex(fr\"\\text{{Значения точек из словаря:}}\"))\n",
        "for i in dct_points_useles_shit.keys():\n",
        "  print(f\"{i} : {dct_points_useles_shit[i]}\")\n",
        "print()\n",
        "\n",
        "Are_Eq_Obj(dct_lines[\"AB\"], \"AB\", dct_lines[\"AF\"], \"AF\")\n",
        "Are_Eq_Obj(dct_lines[\"AB\"], \"AB\", dct_lines[\"AC\"], \"AC\")\n",
        "Are_Eq_Obj(dct_planes[\"ABC\"], \"ABC\", dct_planes[\"ACF\"], \"ACF\")\n",
        "Are_Eq_Obj(dct_planes[\"ABC\"], \"ABC\", dct_planes[\"ACD\"], \"ACD\")"
      ]
    },
    {
      "cell_type": "markdown",
      "metadata": {
        "id": "DFLIFpCO2yYz"
      },
      "source": [
        "###  Задание 2\n",
        "Вывести на экран уравнение плоскости ACD и расстояние от оставшихся точек до этой плоскости."
      ]
    },
    {
      "cell_type": "code",
      "execution_count": null,
      "metadata": {
        "colab": {
          "base_uri": "https://localhost:8080/",
          "height": 86
        },
        "id": "kT5dPcM3kTTw",
        "outputId": "fe13ce9f-067d-40f5-984c-df3c436ff91e"
      },
      "outputs": [],
      "source": [
        "# Функция для определения лежит ли точка в заданной плоскости\n",
        "def Point_In_Plane(plane_cur, dot_cur):\n",
        "  in_Plane_bool = False\n",
        "  if plane_cur.distance(dot_cur) == 0:\n",
        "    in_Plane_bool = True\n",
        "  return in_Plane_bool\n",
        "\n",
        "# Функция для составления списка точек не лежащих в данной плоскости\n",
        "def Create_Not_In_Plane_PList(plane_cur, lst_posib_points):\n",
        "  lst_req_points = [point_data for point_data in lst_data if not Point_In_Plane(plane_cur, point_data[0])]\n",
        "  if len(lst_req_points) == 0:\n",
        "    display(Latex(fr\"\\text{{Все из предоставленных точек лежат в заданной плоскости.}}\"))\n",
        "  return lst_req_points\n",
        "\n",
        "lst_rest_points_acd = Create_Not_In_Plane_PList(dct_planes[\"ACD\"], lst_data)\n",
        "display(Latex(fr\"\\text{{Уравнение плоскости ACD:}}\\  {latex(Eq(dct_planes['ACD'].equation(), 0))}\"))\n",
        "for point in lst_rest_points_acd:\n",
        "  display(Latex(fr\"\\text{{Расстояние от плоскости ACD до точки }}{latex(point[1])}\\ = {latex(dct_planes['ACD'].distance(point[0]))}\"))"
      ]
    },
    {
      "cell_type": "markdown",
      "metadata": {
        "id": "szAjbRFeJ724"
      },
      "source": [
        "###  Задание 2*\n",
        "Вывести на экран уравнения плоскостей, в которых лежит ровно три точки из Задания 1. Затем вывести на экран расстояние от оставшихся точек до каждой их этих плоскостей.\n",
        "\n",
        "Можно по желанию воспользоваться результатами Задания 1 для упрощения поиска."
      ]
    },
    {
      "cell_type": "code",
      "execution_count": null,
      "metadata": {
        "colab": {
          "base_uri": "https://localhost:8080/",
          "height": 153
        },
        "id": "-sAzy-77kUSZ",
        "outputId": "25100bdb-9f03-4d4b-d6bc-98758c0cc080"
      },
      "outputs": [],
      "source": [
        "# Будем пользоваться функциями и данными определёнынми в предыдущих номерах\n",
        "for p_name in dct_planes.keys():\n",
        "  if (type(dct_planes[p_name]) is str) == False:\n",
        "    lst_req_points = Create_Not_In_Plane_PList(dct_planes[p_name], lst_data)\n",
        "    if len(lst_req_points) == len(lst_data) - 3:\n",
        "      for point in lst_req_points:\n",
        "        display(Latex(fr\"\\text{{Расстояние от плоскости}}\\  {latex(p_name)}\\  \\text{{до точки }}{latex(point[1])}\\ = {latex(dct_planes[p_name].distance(point[0]))}\"))\n"
      ]
    },
    {
      "cell_type": "markdown",
      "metadata": {
        "id": "Y9SJb76H2yY1"
      },
      "source": [
        "###  Задание 3\n",
        "Построить плоскость, перпендикулярную плоскости $ABC$, проходящую через $D$ и начало координат. Найти линию пересечения $ABC$ и этой плоскости.\n",
        "\n",
        "Вывести на экран уравнение полученной плоскости и уравнения линии пересечения $ABC$ и этой плоскости."
      ]
    },
    {
      "cell_type": "code",
      "execution_count": null,
      "metadata": {
        "colab": {
          "base_uri": "https://localhost:8080/",
          "height": 103
        },
        "id": "zTVVOyZMkVxb",
        "outputId": "9e9a8742-af2c-463c-8d85-b89b7bef2954"
      },
      "outputs": [],
      "source": [
        "plane_ABC = dct_planes[\"ABC\"]\n",
        "point_D = dct_points[\"D\"]\n",
        "point_zeros = Point(0,0,0)\n",
        "plane_perp = plane_ABC.perpendicular_plane(point_D, point_zeros)\n",
        "line_abc_perp = Plane.intersection(plane_ABC, plane_perp)[0]\n",
        "display(Latex(fr\"\\text{{Уравнение полученной плоскости:}}\\  {latex(Eq(plane_perp.equation(),0))}\"))\n",
        "display(Latex(fr\"\\text{{Уравнение прямой пересечения ABC и полученной плоскости в общем виде:}}\"))\n",
        "for i in range(len(line_abc_perp.equation())):\n",
        "  display(Latex(fr\"\\text{{Plane}}\\  {latex(i + 1)}\\ : \\ {latex(Eq(line_abc_perp.equation()[i], 0))}\"))"
      ]
    },
    {
      "cell_type": "markdown",
      "metadata": {
        "id": "rBqOF-CW2yY3"
      },
      "source": [
        "###  Задание 4\n",
        "Найти пересечение плоскости $ABC$ и прямой $DK$, где $K(3,-2, 3)$. Проверить с помощью словаря точек, не является ли точка пересечения одной из заданных точек."
      ]
    },
    {
      "cell_type": "code",
      "execution_count": null,
      "metadata": {
        "colab": {
          "base_uri": "https://localhost:8080/",
          "height": 37
        },
        "id": "0KyZc7fSkW5J",
        "outputId": "72a626fd-b68c-4602-8810-c14e3d0d46ea"
      },
      "outputs": [],
      "source": [
        "point_K = Point(3, -2, 3)\n",
        "plane_ABC = dct_planes[\"ABC\"]\n",
        "point_D = dct_points[\"D\"]\n",
        "line_DK = Line(point_D, point_K)\n",
        "point_abc_dk = Plane.intersection(plane_ABC, line_DK)[0]\n",
        "for p_name in dct_points.keys():\n",
        "  cur_point = dct_points[p_name]\n",
        "  if (cur_point.equals(point_abc_dk)):\n",
        "    display(Latex(fr\"\\text{{Точка пересечение плоскости ABC и прямой DK является заданной точкой}}\\ {latex(p_name)}{latex(cur_point.coordinates)}\"))\n",
        "    break\n",
        "  display(Latex(fr\"\\text{{Точка пересечение плоскости ABC и прямой DK не является заданной точкой}}\"))"
      ]
    },
    {
      "cell_type": "markdown",
      "metadata": {
        "id": "R5udVUCQ2yY5"
      },
      "source": [
        "###  Задание 5\n",
        "Построить плоскость, параллельную плоскости $ABC$, проходящую через точку $M(-1, 6, 3)$, вывести на экран ее уравнение.\n",
        "\n",
        "Найти и вывести на экран расстояние от прямой $AB$ до построенной плоскости."
      ]
    },
    {
      "cell_type": "code",
      "execution_count": null,
      "metadata": {
        "colab": {
          "base_uri": "https://localhost:8080/",
          "height": 62
        },
        "id": "OmuHXd09kYcJ",
        "outputId": "2969dd98-2580-4ea2-9fdc-926a5d6acb6f"
      },
      "outputs": [],
      "source": [
        "plane_ABC = dct_planes[\"ABC\"]\n",
        "point_M = Point(-1, 6, 3)\n",
        "plane_paralel = plane_ABC.parallel_plane(point_M)\n",
        "distance_plane_ab = Plane.distance(plane_paralel, dct_lines[\"AB\"])\n",
        "display(Latex(fr\"\\text{{Уравнение плоскости паралелльной плоскости ABC и проходящей через точку M:}}\\ {latex(Eq(plane_paralel.equation(), 0))}\"))\n",
        "display(Latex(fr\"\\text{{Расстояния от прямой AB до построенной плоскости =}}\\  {latex(distance_plane_ab)}\"))"
      ]
    },
    {
      "cell_type": "markdown",
      "metadata": {
        "id": "YQtDk8082yY6"
      },
      "source": [
        "###  Задание 6*\n",
        "Даны точки: $A(3, -2, 3)$,  $B(-2, 3, 1)$, $C(1, -8, 6)$, $D(1, 2, 4)$, $F(-7, 8, -1)$.\n",
        "\n",
        "Составить словарь всех прямых (в нем должны быть и прямая $AB$, и $BA$!), каждая из которых проходит хотя бы через две заданные точки, ключ - сама прямая (Line), значение - список из имен ВСЕХ точек, лежащих на этой прямой. Вывести на экран имена только тех прямых, на которых лежит не менее трех точек из условия, а также список точек, лежащих на прямой."
      ]
    },
    {
      "cell_type": "code",
      "execution_count": null,
      "metadata": {
        "colab": {
          "base_uri": "https://localhost:8080/",
          "height": 159
        },
        "id": "37WPKZppkZbo",
        "outputId": "4cb15986-4e1c-45b9-f3b9-fdc73a5350bf"
      },
      "outputs": [],
      "source": [
        "# В Задании 1 мы уже определили словарь из всех возможных прямых для заданных точек - dct_lines\n",
        "dct_lines_copy = {cline[1] : cline[0] for cline in [(Line(p_data[0][0], p_data[1][0]), f\"{p_data[0][1]}{p_data[1][1]}\") for p_data in combinations(lst_data, 2)]}\n",
        "\n",
        "# Добавим для каждой прямой оттуда её очень уникальную и неповторимую,\n",
        "# абсолютно ничем не отлючающуюся от исходной и бесполензейщую прямую вида AB-BA. Ура, мы поменяли буковки местами!!!!!\n",
        "for l_name in dct_lines.keys():\n",
        "  new_super_original_not_a_single_time_usless_line_name = l_name[::-1]\n",
        "  p1 = dct_lines[l_name].p2\n",
        "  p2 = dct_lines[l_name].p1\n",
        "  dct_lines_copy[new_super_original_not_a_single_time_usless_line_name] = Line(p1, p2)\n",
        "\n",
        "# Функия для составления списка имён всех точек лежащих на данной прямой из заданных\n",
        "def Find_Points_On_Line(line_cur, lst_points):\n",
        "  p1_cur = line_cur.p1\n",
        "  p2_cur = line_cur.p2\n",
        "  lst_dots_on_line = [point_data[1] for point_data in lst_points if Point3D.are_collinear(p1_cur, p2_cur, point_data[0])]\n",
        "  return lst_dots_on_line\n",
        "\n",
        "# Поменяем формат словаря на требуемый\n",
        "dct_lines_shit_format = {dct_lines_copy[l_name]: (l_name, Find_Points_On_Line(dct_lines_copy[l_name], lst_data)) for l_name in dct_lines_copy.keys()}\n",
        "\n",
        "display(Latex(fr\"\\text{{Прямые на которых лежат не менее трех точек:}}\"))\n",
        "for line_data in dct_lines_shit_format.values():\n",
        "  if len(line_data[1]) >= 3:\n",
        "    display(Latex(fr\"{latex(line_data[0])}:\\ {latex(line_data[1])}\"))"
      ]
    },
    {
      "cell_type": "markdown",
      "metadata": {
        "id": "RyK8Ftfp2yY7"
      },
      "source": [
        "### Индивидуальное задание\n",
        "Вариант N 43\n",
        "\n",
        "Даны точки: F (4, 3, -3), K (3, -2, 1), L (7, 18, -15), Q (5, -3, -4), R (4, -4, 2).\n",
        "Составить словарь с ключами - точками (например, Point3D(3, 2, 1)) и значениями - именами точек (F, K и т.д.).\n",
        "\n",
        "\n",
        "Найти и вывести на экран\n",
        "\n",
        "\n",
        "расстояние от точек R и L до плоскости FKQ,\n",
        "\n",
        "\n",
        "уравнение плоскости FKQ,\n",
        "\n",
        "\n",
        "параметрические уравнения прямой RL.\n",
        "\n",
        "\n",
        "Определить и вывести на экран, какие 4 из заданных точек лежат в одной плоскости (пользуясь словарем точек, вывести имена точек).\n",
        "\n",
        "\n",
        "Определить и вывести на экран, какие 3 из заданных точек лежат на одной прямой (пользуясь словарем точек, вывести имена точек)."
      ]
    },
    {
      "cell_type": "code",
      "execution_count": null,
      "metadata": {
        "colab": {
          "base_uri": "https://localhost:8080/",
          "height": 206
        },
        "id": "_NxtwwT1kamB",
        "outputId": "98ebe217-7857-4a66-8d77-b581a5d0afe8"
      },
      "outputs": [],
      "source": [
        "x, y, z, t = symbols('x y z t')\n",
        "lst_points_data = [(Point(4 ,3, -3), \"F\"), (Point(3, -2, 1), \"K\"), (Point(7, 18, -15), \"L\"), (Point(5, -3, -4), \"Q\"), (Point(4, -3, 2), \"R\")]\n",
        "dct_points_useless_format_ind = {p_data[0]: p_data[1] for p_data in lst_points_data}\n",
        "dct_points_ind = {p_data[1]: p_data[0] for p_data in lst_points_data}\n",
        "\n",
        "# Функция для составления параметрического уравнения прямой\n",
        "def Find_Parametric_Eq(line_cur):\n",
        "  lst_syms = Matrix([x, y, z])\n",
        "  vec_dir = Matrix([*line_cur.direction])\n",
        "  point_val = line_cur.p1.coordinates\n",
        "  lst_eq_parametric = [Eq(lst_syms[i], vec_dir[i] * t + point_val[i]) for i in range(len(vec_dir))]\n",
        "  return lst_eq_parametric\n",
        "\n",
        "#Как в Задании 1 составим словарь из всех возможных прямых по 2м точкам и всех возможных плоскостях по 3м точкам\n",
        "dct_lines_ind = {cline[1] : cline[0] for cline in [(Line(p_data[0][0], p_data[1][0]), f\"{p_data[0][1]}{p_data[1][1]}\") for p_data in combinations(lst_point_data, 2)]}\n",
        "dct_planes_ind = {cplane[1]: cplane[0] for cplane in [(Create_Plane(pd[0][0], pd[1][0], pd[2][0]), f\"{pd[0][1]}{pd[1][1]}{pd[2][1]}\") for pd in combinations(lst_points_data, 3)]}\n",
        "\n",
        "distance_fkq_r = Plane.distance(dct_planes_ind[\"FKQ\"], dct_points_ind[\"R\"])\n",
        "distance_fkq_l = Plane.distance(dct_planes_ind[\"FKQ\"], dct_points_ind[\"L\"])\n",
        "eq_fkq = Eq(dct_planes_ind[\"FKQ\"].equation(), 0)\n",
        "eq_parametric_rl = Find_Parametric_Eq(dct_lines_ind[\"LR\"])\n",
        "\n",
        "lst_collin_points = [points for points in [x for x in combinations(lst_points_data, 3)] if Point3D.are_collinear(points[0][0], points[1][0], points[2][0])]\n",
        "lst_coplanar_points = [points for points in [x for x in combinations(lst_points_data, 4)] if Point3D.are_coplanar(points[0][0], points[1][0], points[2][0], points[3][0])]\n",
        "\n",
        "display(Latex(fr\"\\text{{Расстояние от точки R до плоскости FKQ = }}{latex(distance_fkq_r)}\"))\n",
        "display(Latex(fr\"\\text{{Расстояние от точки L до плоскости FKQ = }}{latex(distance_fkq_l)}\"))\n",
        "display(Latex(fr\"\\text{{Уравнение плоскости FKQ: }}{latex(eq_fkq)}\"))\n",
        "display(Latex(fr\"\\text{{Параметрическое уравнение прямой RL: }}{latex(eq_parametric_rl)}\"))\n",
        "display(Latex(fr\"\\text{{Точки лежащие на одной прямой:}}\"))\n",
        "for i in range(len(lst_collin_points)):\n",
        "  p1_data, p2_data, p3_data = lst_collin_points[i]\n",
        "  display(Latex(fr\"[{latex(i + 1)}]. \\ {latex(dct_points_useless_format_ind[p1_data[0]])}{latex(p1_data[0].coordinates)},\\  {latex(dct_points_useless_format_ind[p2_data[0]])}{latex(p2_data[0].coordinates)},\\  {latex(dct_points_useless_format_ind[p3_data[0]])}{latex(p3_data[0].coordinates)}\"))\n",
        "\n",
        "display(Latex(fr\"\\text{{Точки лежащие в одной плоскости:}}\"))\n",
        "for i in range(len(lst_coplanar_points)):\n",
        "  p1_data, p2_data, p3_data, p4_data = lst_coplanar_points[i]\n",
        "  display(Latex(fr\"[{latex(i + 1)}]. \\ {latex(dct_points_useless_format_ind[p1_data[0]])}{latex(p1_data[0].coordinates)},\\  {latex(dct_points_useless_format_ind[p2_data[0]])}{latex(p2_data[0].coordinates)},\\  {latex(dct_points_useless_format_ind[p3_data[0]])}{latex(p3_data[0].coordinates)},\\  {latex(dct_points_useless_format_ind[p4_data[0]])}{latex(p4_data[0].coordinates)}\"))"
      ]
    }
  ],
  "metadata": {
    "colab": {
      "provenance": []
    },
    "kernelspec": {
      "display_name": "Python 3",
      "language": "python",
      "name": "python3"
    },
    "language_info": {
      "codemirror_mode": {
        "name": "ipython",
        "version": 3
      },
      "file_extension": ".py",
      "mimetype": "text/x-python",
      "name": "python",
      "nbconvert_exporter": "python",
      "pygments_lexer": "ipython3",
      "version": "3.7.3"
    }
  },
  "nbformat": 4,
  "nbformat_minor": 0
}

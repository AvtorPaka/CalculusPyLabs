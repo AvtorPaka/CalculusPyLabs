{
  "cells": [
    {
      "cell_type": "markdown",
      "metadata": {
        "id": "V1qo8kCJaU1a"
      },
      "source": [
        "# Практическое занятие 2\n",
        "# Компьютерный практикум по алгебре на Python"
      ]
    },
    {
      "cell_type": "markdown",
      "metadata": {
        "id": "nrNldgTvaU1k"
      },
      "source": [
        "## Матрицы. Подстановки, действия над строками, столбцами и элементами. Формулы Крамера для решения СЛАУ.\n",
        "\n",
        "https://docs.sympy.org/latest/tutorial/matrices.html\n",
        "\n",
        "С помощью конструктора класса Matrix можно создавать матрицы, элементами которых служат не только числа или числовые выражения, но и символы Symbol, играющие роль математических переменных. Переменные могут принимать какие-то значения, эти значения можно подставлять в матрицы (и не только в них!) с помощью метода subs."
      ]
    },
    {
      "cell_type": "code",
      "execution_count": null,
      "metadata": {
        "id": "DW7G-QrZaU1l"
      },
      "outputs": [],
      "source": [
        "import sympy as sym\n",
        "from sympy import Symbol, symbols, Matrix, pi\n",
        "from sympy import sqrt, sin, cos, tan, atan, pi, E, Symbol, symbols, Matrix\n",
        "from sympy import expand, simplify, factor, collect, zeros, ones, eye, diag\n",
        "sym.init_printing()"
      ]
    },
    {
      "cell_type": "markdown",
      "metadata": {
        "id": "pebe8gBxaU1n"
      },
      "source": [
        "### Задание 1\n",
        "Решить по формулам Крамера СЛАУ\n",
        "\\begin{align*}\n",
        "\\left\\{\\begin{matrix} 2 x_{1} +  x_{3}  = -8\n",
        "\\\\- 4 x_{1} + 5 x_{2}  = 20\n",
        "\\\\- 6 x_{2} + x_{3}  = 2\n",
        "\\end{matrix}\\right.\n",
        " \\end{align*}\n",
        "Проверить правильность найденного решения подстановкой (в математическом смысле! subs не нужно использовать).\n",
        "\n",
        "Под проверкой правильности понимается проверка выполнения равенства $AX=b$ или $AX-b=\\bar 0$."
      ]
    },
    {
      "cell_type": "code",
      "execution_count": null,
      "metadata": {
        "colab": {
          "base_uri": "https://localhost:8080/",
          "height": 150
        },
        "id": "0sM4zx8bc_2W",
        "outputId": "95cf7be0-8d16-410d-8a70-0dd58f30b413"
      },
      "outputs": [],
      "source": [
        "A = Matrix([[2, 0 ,1], [-4, 5, 0], [0, -6 , 1]])\n",
        "A_det = A.det()\n",
        "B = Matrix([-8, 20, 2])\n",
        "X = Matrix([0 for i in range(A.shape[0])])\n",
        "for i in range(A.shape[0]):\n",
        "  Ai = A.copy()\n",
        "  Ai.col_del(i)\n",
        "  X[i] = Ai.col_insert(i, B).det() / A_det\n",
        "\n",
        "print(\"Полученное решение X:\\n\")\n",
        "display(X.T)\n",
        "print(\"\\nУбедимся в том , что полуенное решение X является верным:\\n\")\n",
        "display((A * X - B).T)\n",
        "\n"
      ]
    },
    {
      "cell_type": "markdown",
      "metadata": {
        "id": "WfVS2gyDaU1r"
      },
      "source": [
        "### Задание 2\n",
        "Решить по формулам Крамера СЛАУ с параметром\n",
        "\\begin{align*}\n",
        "\\left\\{\\begin{matrix} a x_{1} + 2 x_{2}  = -7\n",
        "\\\\- 4 x_{1} + 5 x_{2} + 3 x_{3} = 9\n",
        "\\\\ 3 x_{1} + x_{3}  = 2\n",
        "\\end{matrix}\\right.\n",
        " \\end{align*}\n",
        "Проверить правильность найденного решения подстановкой.\n",
        "\n",
        "Составить матрицу $S$, столбцы которой являются решениями данной СЛАУ при $a = -1, 0, 3$.\n",
        "\n",
        "**Указание.**\n",
        "\n",
        "Оформить решение по формулам Крамера в виде функции.\n",
        "\n",
        "Параметр $a$ описать как символ.\n",
        "\n",
        "Использовать подстановки **subs** для построения матриц данной СЛАУ при $a = -1, 0, 3$ на основе матрицы с параметром.\n",
        "\n",
        "Воспользоваться **simplify** для того, чтобы упростить выражение при проверке."
      ]
    },
    {
      "cell_type": "code",
      "execution_count": null,
      "metadata": {
        "colab": {
          "base_uri": "https://localhost:8080/",
          "height": 920
        },
        "id": "IzlvJIPmdBtu",
        "outputId": "02c545ea-9b9e-4da0-f1ba-22afdfbc4c83"
      },
      "outputs": [],
      "source": [
        "a_sym = Symbol('a')\n",
        "S = Matrix([[a_sym, 2 , 0], [-4, 5, 3], [3, 0, 1]])\n",
        "B = Matrix([-7, 9, 2])\n",
        "\n",
        "def KramerSolverWithParams(mxToSolve, a_param, b_vektor):\n",
        "  n = mxToSolve.shape[0]\n",
        "  S_changed = mxToSolve.copy().subs(a_sym, a_param)\n",
        "  S_det = S_changed.det()\n",
        "  X = Matrix([0 for i in range(n)])\n",
        "  for i in range(n):\n",
        "    S_i = S_changed.copy()\n",
        "    S_i.col_del(i)\n",
        "    X[i] = S_i.col_insert(i , b_vektor).det() / S_det\n",
        "  return X, S_changed\n",
        "\n",
        "lst_a = [-1, 0, 3]\n",
        "for i in range(len(lst_a)):\n",
        "  Xi, S_Ch = KramerSolverWithParams(S, lst_a[i], B)\n",
        "  print(f\"[{i + 1}].{a_sym} = {lst_a[i]}\\nМатрица S при {a_sym} = {lst_a[i]}\\n\")\n",
        "  display(S_Ch)\n",
        "  print(\"\\nРешение:\\n\")\n",
        "  display(Xi.T)\n",
        "  print(f\"\\nПроверим, действительно ли оно является решением при {a_sym} = {lst_a[i]}, подставив его в исходную СЛАУ:\\n\")\n",
        "  display((S_Ch * Xi).T)\n",
        "  print('\\n')\n"
      ]
    },
    {
      "cell_type": "markdown",
      "metadata": {
        "id": "Ufm8BDgxaU1t"
      },
      "source": [
        "### Задание 3.\n",
        "Решить по формулам Крамера СЛАУ с параметрами\n",
        "\\begin{align*}\n",
        "\\left\\{\\begin{matrix} x_{1} + a_{12} x_{2}  = b_1\n",
        "\\\\ x_{1} + a_{22} x_{2}  = b_2\n",
        "\\end{matrix}\\right.\n",
        "\\end{align*}\n",
        "Проверить правильность найденного решения подстановкой.\n",
        "\n",
        "Найти такие наборы параметров, для которых полученное решение неприменимо (подсказка - из-за деления на ноль).\n",
        "\n",
        "Показать, что для этих наборов определитель матрицы левой части равен нулю, использовать подстановки subs."
      ]
    },
    {
      "cell_type": "code",
      "execution_count": null,
      "metadata": {
        "colab": {
          "base_uri": "https://localhost:8080/",
          "height": 442
        },
        "id": "mtMc4R3ddDAG",
        "outputId": "83c8c62c-488e-4893-b976-86a417ce2b3c"
      },
      "outputs": [],
      "source": [
        "x1, x2, b1, b2, a12, a22 = symbols('x1:3, b1:3, a12, a22')\n",
        "A = Matrix([[1, a12], [1, a22]])\n",
        "B = Matrix([b1, b2])\n",
        "\n",
        "A_det = A.det()\n",
        "\n",
        "def KramerSolver(matrixToSolve, B_vector, det):\n",
        "  n = matrixToSolve.shape[0]\n",
        "  X = Matrix([0 for i in range(n)])\n",
        "  for i in range(n):\n",
        "    tmpM = matrixToSolve.copy()\n",
        "    tmpM.col_del(i)\n",
        "    X[i] = tmpM.col_insert(i, B_vector).det()/ det\n",
        "  return X\n",
        "\n",
        "\n",
        "X_common = KramerSolver(A, B, A_det)\n",
        "print(\"Найденное общее решение СЛАУ:\\n\")\n",
        "display(X_common.T)\n",
        "print(\"\\nПроверим правильность данного решение, подставив его в исходную СЛАУ:\\n\")\n",
        "display(simplify(A * X_common))\n",
        "\n",
        "print(\"\\nТак как формулами Крамера для некой матрицы M, можно пользоваться только когда det(M) != 0,\\nто \\\n",
        "р-рим определитель матрицы коэфицентов и найдём такие наборы параметров, когда решение будет являться недействительным.\\n\")\n",
        "print(\"Определитель матрицы коэфицентов:\")\n",
        "display(A_det)\n",
        "print(f\"\\nПри {a12} = {a22}, det(A) =\")\n",
        "display(A.subs(a12, a22).det())\n",
        "print(f\"\\nТогда наоборы параметров при которых данное решение является недействительным:\\n({a12},{a22}) =\")\n",
        "display((a12, a12), (a22, a22))"
      ]
    },
    {
      "cell_type": "markdown",
      "metadata": {
        "id": "bsNtxeRDaU1w"
      },
      "source": [
        "### Задание 4.\n",
        "Дана матрица\n",
        "\\begin{align*}\n",
        "M =\n",
        "\\left(\\begin{matrix}\n",
        "p & 1 & 0 \\\\\n",
        "1 & q & 1 \\\\\n",
        "0 & 1 & r\n",
        "\\end{matrix}\\right)\n",
        "\\end{align*}\n",
        "Вычислить определитель этой матрицы.\n",
        "Найти целочисленные наборы параметров $p$, $q$, $r$, для которых определитель $M$ равен нулю. Рассматривать целые числа от 0 до 12 (НЕ включительно). Использовать подстановки subs в заранее вычисленный определитель.\n",
        "\n",
        "Из найденных наборов, содержащих равный 0 элемент, как столбцов составить матрицу $P$.\n",
        "\n",
        "Из найденных наборов, состоящих только из положительных элементов, как строк составить матрицу $R$."
      ]
    },
    {
      "cell_type": "code",
      "execution_count": null,
      "metadata": {
        "colab": {
          "base_uri": "https://localhost:8080/",
          "height": 304
        },
        "id": "3cagI3UOdEn3",
        "outputId": "55216510-c683-4534-8e2d-60ad6faad053"
      },
      "outputs": [],
      "source": [
        "p, q, r = symbols('p q r')\n",
        "M = Matrix([[p , 1, 0], [1, q , 1], [0, 1, r]])\n",
        "sym_Matrix = Matrix([p, q, r])\n",
        "det_M = M.det()\n",
        "P = Matrix([])\n",
        "R = Matrix([])\n",
        "\n",
        "print(\"Определитель матрицы M:\\n\")\n",
        "display(det_M)\n",
        "\n",
        "def DetSolver(det, p_p, p_q, p_r):\n",
        "  new_det = det.subs({p : p_p, q: p_q, r: p_r})\n",
        "  return new_det\n",
        "\n",
        "for i in range(0, 12):\n",
        "  for j in range(0, 12):\n",
        "    for z in range(0, 12):\n",
        "      cur_det = DetSolver(det_M, i, j, z)\n",
        "      lst_params = [i, j, z]\n",
        "      if (cur_det == 0):\n",
        "        if (any([x == 0 for x in lst_params])):\n",
        "          P = P.col_insert(0, Matrix(lst_params))\n",
        "        else:\n",
        "          R = R.row_insert(0, Matrix(lst_params).T)\n",
        "\n",
        "P = P.col_insert(0, sym_Matrix)\n",
        "R = R.row_insert(0, sym_Matrix.T)\n",
        "print(\"\\nПолучившаяся матрица P:\\n\")\n",
        "display(P)\n",
        "print(\"\\nПолучившаяся матрица R:\\n\")\n",
        "display(R)"
      ]
    },
    {
      "cell_type": "markdown",
      "metadata": {
        "id": "sr7hz7rNaU1y"
      },
      "source": [
        "### Индивидуальное задание.\n",
        "1) В матрице $A$ выполнить заданную подстановку.\n",
        "\n",
        "2) В матрице $B$\n",
        "выполнить подстановки в форме списка,\n",
        "а также выполнить подстановки в форме словаря.\n",
        "\n",
        "Подстановки в форме словаря выполнить одновременно и не одновременно.\n",
        "\n",
        "\n",
        "Результат каждой подстановки выводить в виде отдельной матрицы.\n",
        "\n",
        "№ 43\n",
        "\n",
        "1) В матрице\n",
        "\\begin{align*}\n",
        "\\left[\\begin{matrix}18 & s - 2 & 4\\\\4 & 6 & 4\\\\18 & 1 & 16\\\\3 & x + 2 & 1\\\\14 & 4 & 4\\end{matrix}\\right]\n",
        "\\end{align*}\n",
        "выполнить подстановку $s=\\frac{2 x}{s}$\n",
        "\n",
        "\n",
        "    2) В матрице\n",
        "\\begin{align*}\n",
        "\\left[\\begin{matrix}p + 1 & 17 & 12 & 15 & w + 1 & 19 & 6\\\\5 & 15 & 13 & t & 0 & 16 & 3\\\\4 & 15 & f + 2 & 6 & 9 & u + 2 & 14\\\\19 & 18 & 16 & 19 & 18 & 17 & 15\\\\14 & 1 & 6 & 9 & 17 & 2 & 1\\end{matrix}\\right]\n",
        "\\end{align*}\n",
        "\n",
        "выполнить подстановки в форме списка\n",
        "\n",
        "$u=\\frac{3 f}{u}$,\n",
        "\n",
        "$f=\\frac{f}{u}$,\n",
        "\n",
        "$w=\\frac{7 f}{u}$\n",
        "\n",
        "а также выполнить следующие подстановки в форме словаря:\n",
        "\n",
        "$u=f - 3$,\n",
        "\n",
        "$f=u - 2$\n",
        "\n",
        "\n",
        "    Подстановки в форме словаря выполнить одновременно и не одновременно\n",
        "\n",
        "\n",
        "    Результат каждой подстановки выводить в виде отдельной матрицы\n"
      ]
    },
    {
      "cell_type": "code",
      "execution_count": null,
      "metadata": {
        "colab": {
          "base_uri": "https://localhost:8080/",
          "height": 623
        },
        "id": "nEIxbQPIri1B",
        "outputId": "10f972cd-ae66-4d16-d7cd-3025afd2c9b1"
      },
      "outputs": [],
      "source": [
        "x, s = symbols('x s')\n",
        "p, u, w, f, t = symbols('p u w f t')\n",
        "\n",
        "A = Matrix([[18, s-2, 4], [4, 6, 4], [18, 1, 16], [3, x + 2, 1], [14, 4, 4]])\n",
        "B = Matrix([[p + 1, 17 , 12, 15, w + 1, 19, 6],\n",
        "            [5, 15, 13, t, 0, 16, 3],\n",
        "            [4, 15, f+2, 6, 9, u + 2, 14],\n",
        "            [19, 18, 16, 19, 18, 17, 15],\n",
        "            [14, 1, 6, 9, 17, 2, 1]])\n",
        "\n",
        "A_sub1 = A.subs(s, 2 * x/ s)\n",
        "\n",
        "lst_subs = [(u , 3*f/ u), (f, f/u), (w, 7 * f/ u)]\n",
        "dct_subs = {u: f-3, f: u - 2}\n",
        "\n",
        "B_sub_lst = B.subs(lst_subs)\n",
        "B_sub_dct_sync = B.subs(dct_subs, simultaneous=True)\n",
        "B_sub_dct_async = B.subs(dct_subs)\n",
        "\n",
        "print(\"Матрица A полсе замены переменной:\\n\")\n",
        "display(A_sub1)\n",
        "print(\"\\nМатрица B после замены перменных по списку:\\n\")\n",
        "display(simplify(B_sub_lst))\n",
        "print(\"\\nМатрица B после синхронной замены переменных по словарю:\\n\")\n",
        "display(simplify(B_sub_dct_sync))\n",
        "print(\"\\nМатрица B после aсинхронной замены переменных по словарю:\\n\")\n",
        "display(simplify(B_sub_dct_async))\n"
      ]
    }
  ],
  "metadata": {
    "colab": {
      "provenance": []
    },
    "kernelspec": {
      "display_name": "Python 3",
      "language": "python",
      "name": "python3"
    },
    "language_info": {
      "codemirror_mode": {
        "name": "ipython",
        "version": 3
      },
      "file_extension": ".py",
      "mimetype": "text/x-python",
      "name": "python",
      "nbconvert_exporter": "python",
      "pygments_lexer": "ipython3",
      "version": "3.7.3"
    }
  },
  "nbformat": 4,
  "nbformat_minor": 0
}

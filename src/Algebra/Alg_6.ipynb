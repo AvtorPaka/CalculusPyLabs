{
  "cells": [
    {
      "cell_type": "code",
      "execution_count": null,
      "metadata": {
        "id": "7VmodJtRlts5"
      },
      "outputs": [],
      "source": [
        "import sympy\n",
        "from sympy import  Symbol, symbols, S, Point, Line, Plane, Point3D,\\\n",
        "Matrix, Eq, latex, simplify, Subs\n",
        "from itertools import combinations, permutations\n",
        "from IPython.display import display, Latex"
      ]
    },
    {
      "cell_type": "markdown",
      "metadata": {
        "id": "AUjRxXCzlts-"
      },
      "source": [
        "# Практическое занятие 6\n",
        "# Компьютерный практикум по алгебре на Python\n",
        "##  Прямые и плоскости в пространстве. Geometry.\n",
        "### Задание 1.\n",
        "Задать точки $A(-1, 2, -4)$,\n",
        "$B(2, -2, 1)$,\n",
        "$C(5, 3, -6)$,\n",
        "$D(0, 3, -6)$ как Point из Geometry и\n",
        "найти с помощью  **angle_between** угол между плоскостями $ABC$ и  $ABD$.\n"
      ]
    },
    {
      "cell_type": "code",
      "execution_count": null,
      "metadata": {
        "colab": {
          "base_uri": "https://localhost:8080/",
          "height": 47
        },
        "id": "DBnpC8QWA8Eo",
        "outputId": "cb441816-a9ee-4b07-c11d-f69f80297824"
      },
      "outputs": [],
      "source": [
        "A = Point(-1, 2, -4)\n",
        "B = Point(2, -2, 1)\n",
        "C = Point(5, 3, -6)\n",
        "D = Point(0, 3, -6)\n",
        "\n",
        "\n",
        "# Функция построения плоскости по 3-м точкам в случае если они не лежат на одной прямой\n",
        "def Create_Plane(dot_1, dot_2, dot_3):\n",
        "  if Point3D.are_collinear(dot_1, dot_2, dot_3):\n",
        "    display(Latex(fr\"\\text{{Точки лежат на одной прямой.}}\"))\n",
        "  else:\n",
        "    cur_plane = Plane(dot_1, dot_2, dot_3)\n",
        "    return cur_plane\n",
        "\n",
        "# Функция возвращающая правильный угол между плоскостями,\n",
        "# считая через вектора нормали\n",
        "def Find_Angle_Between_Planes(plane_1, plane_2):\n",
        "  nv_1 = Matrix([*plane_1.normal_vector])\n",
        "  nv_2 = Matrix([*plane_2.normal_vector])\n",
        "  cos_angle_pp = abs(nv_1.dot(nv_2)) / sympy.sqrt((nv_1.dot(nv_1)) * (nv_2.dot(nv_2)))\n",
        "  angle_pp = sympy.acos(cos_angle_pp)\n",
        "  return angle_pp\n",
        "\n",
        "plane_abc = Create_Plane(A, B, C)\n",
        "plane_abd = Create_Plane(A, B, D)\n",
        "angle_abc_abd = Find_Angle_Between_Planes(plane_abc, plane_abd)\n",
        "display(Latex(fr\"\\text{{Угол между плоскостями ABC и ABD :}}{latex(angle_abc_abd)}\\approx {latex(round(angle_abc_abd, 4))}\"))"
      ]
    },
    {
      "cell_type": "markdown",
      "metadata": {
        "id": "wg9WwHnwlttE"
      },
      "source": [
        "### Задание 2.\n",
        "Найти угол между прямой, проходящей через точки $A(-3,5,1)$ и $B(5,2,-3)$ и плоскостью, в которой лежат точки\n",
        "$K(4,3,0)$, $M(2,4,-2)$ и $N(-2,2,-1)$."
      ]
    },
    {
      "cell_type": "code",
      "execution_count": null,
      "metadata": {
        "colab": {
          "base_uri": "https://localhost:8080/",
          "height": 47
        },
        "id": "WlYRPVNMA8__",
        "outputId": "7f694947-a683-457e-9529-5c68dfe99b54"
      },
      "outputs": [],
      "source": [
        "# Пользуемся функцией создания плоскости из Задания 1\n",
        "A = Point(-3, 5, 1)\n",
        "B = Point(5, 2, -3)\n",
        "K = Point(4, 3, 0)\n",
        "M = (2, 4, -2)\n",
        "N = (-2, 2, 1)\n",
        "\n",
        "line_ab = Line(A, B)\n",
        "plane_kmn = Create_Plane(K, M, N)\n",
        "\n",
        "# Функция возвращающая правильный угол между плоскостью и прямой,\n",
        "# считая через вектор нормали и направлящий вектор\n",
        "def Find_Angle_Between_Line_Plane(line_c, plane_c):\n",
        "  nv_1 = Matrix([*plane_c.normal_vector])\n",
        "  vec_dir = Matrix([*line_c.direction])\n",
        "  cos_angle_pl = abs(nv_1.dot(vec_dir)) / sympy.sqrt((nv_1.dot(nv_1)) * (vec_dir.dot(vec_dir)))\n",
        "  angle_pl = sympy.asin(cos_angle_pl)\n",
        "  return angle_pl\n",
        "\n",
        "angle_ab_kmn = Find_Angle_Between_Line_Plane(line_ab, plane_kmn)\n",
        "display(Latex(fr\"\\text{{Угол между прямой AB и плоскостью KMN :}}{latex(angle_ab_kmn)}\\approx {latex(round(angle_ab_kmn, 4))}\"))"
      ]
    },
    {
      "cell_type": "markdown",
      "metadata": {
        "id": "1D0Y4l43lttF"
      },
      "source": [
        "### Задание 3.\n",
        "Проверить, лежат ли точки в одной плоскости\n",
        "\n",
        "а) $A(3, 2, -1)$, $B(2, -1, 0)$, $C(5, 2, -6)$, $D(6, 5, -7)$\n",
        "\n",
        "b) $A(-1, 5, -4)$, $B(7, -2, 1)$, $C(6, 3, -8)$, $D(0, 3, 0)$\n",
        "\n",
        "Вывести на экран сообщение \"Точки лежат в одной плоскости\" или \"Точки не лежат в одной плоскости\"."
      ]
    },
    {
      "cell_type": "code",
      "execution_count": null,
      "metadata": {
        "colab": {
          "base_uri": "https://localhost:8080/"
        },
        "id": "1VHHADUOA-Vn",
        "outputId": "2b4c2df4-46fc-4acb-d09a-c5a4f9c856f6"
      },
      "outputs": [],
      "source": [
        "tup_points_1 = (Point(3, 2, -1), Point(2, -1, 0), Point(5, 2, -6), Point(6, 5, -7))\n",
        "tup_points_2 = (Point(-1, 5, -4), Point(7, -2, 1), Point(6, 3, -8), Point(0, 3, 0))\n",
        "\n",
        "# Фунция для определения лежат ли точки в одной плоскости\n",
        "# Сделал 2 параметра вывода для Задания 3 и Задания 6\n",
        "# - в текстовом и булевом формате\n",
        "def Points_In_Same_Plane(tup_w_points, out_param):\n",
        "  in_same_plane_bl = Point3D.are_coplanar(*tup_w_points)\n",
        "  if out_param == \"text\":\n",
        "    print(f\"Точки {'не' * (not in_same_plane_bl)} лежат в одной плоскости.\")\n",
        "  elif out_param == \"val\":\n",
        "    return in_same_plane_bl\n",
        "\n",
        "print(\"[A]:\")\n",
        "Points_In_Same_Plane(tup_points_1, \"text\")\n",
        "print(\"[B]:\")\n",
        "Points_In_Same_Plane(tup_points_2, \"text\")"
      ]
    },
    {
      "cell_type": "markdown",
      "metadata": {
        "id": "e3a-OT4B8RUG"
      },
      "source": [
        "###  Задание 4.\n",
        "Для плоскостей Задания 1 найти векторы нормали (воспользоваться свойством normal_vector), преобразовать их в матрицы-столбцы и вычислить угол между плоскостями с помощью скалярного произведения. Сравнить с результатом Задания 1."
      ]
    },
    {
      "cell_type": "code",
      "execution_count": null,
      "metadata": {
        "colab": {
          "base_uri": "https://localhost:8080/",
          "height": 78
        },
        "id": "zTsI-FcIA_To",
        "outputId": "a85ef961-bb91-4197-9750-87f01ac06d7e"
      },
      "outputs": [],
      "source": [
        "# Функция Find_Angle_Between_Planes для поиска угла между плоскостиями из Задания 1\n",
        "# реализиует поиск угла через вектора нормали, будем пользоваться ей\n",
        "\n",
        "angle_abc_abd_2 = Find_Angle_Between_Planes(plane_abc, plane_abd)\n",
        "angle_sympy_func = plane_abc.angle_between(plane_abd)\n",
        "display(Latex(fr\"\\text{{Угол между плоскостями ABC и ABD через вектора нормалей :}}{latex(angle_abc_abd_2)}\\approx {latex(round(angle_abc_abd_2, 4))}\"))\n",
        "display(Latex(fr\"\\text{{Угол между плоскостями ABC и ABD через функцию симпая:}}{(latex(angle_sympy_func ))}\\approx {latex(round(angle_sympy_func, 4))}\"))"
      ]
    },
    {
      "cell_type": "markdown",
      "metadata": {
        "id": "giXGCDt2lttH"
      },
      "source": [
        "###  Задание 5.\n",
        "Прямая задана параметрическими уравнениями:\n",
        "$$\n",
        "\\left\\{\\begin{matrix}\n",
        "x=2+5t\\\\\n",
        "y=-1-2t\\\\\n",
        "z=4-3t\n",
        "\\end{matrix}\\right..\n",
        "$$\n",
        "Представить прямую в виде линии пересечения двух плоскостей (вывести на экран уравнения плоскостей),\n",
        "одна из которых проходит через начало координат, а вторая плоскость перпендикулярна первой плоскости.\n",
        "\n",
        "**Указание:** сначала найти две различные точки на прямой и далее решить средствами для работы с прямыми и плоскостями из модуля Geometry."
      ]
    },
    {
      "cell_type": "code",
      "execution_count": null,
      "metadata": {
        "colab": {
          "base_uri": "https://localhost:8080/",
          "height": 61
        },
        "id": "sYEF6uteBAVg",
        "outputId": "8692b35d-53d9-4fec-ccb6-0987da2dceb0"
      },
      "outputs": [],
      "source": [
        "t = Symbol('t')\n",
        "point_parametric = Point(2 + 5 * t, -1 - 2 * t, 4 - 3 * t)\n",
        "point_1 = point_parametric.subs({t : 0})\n",
        "point_2 = point_parametric.subs({t : 1})\n",
        "point_zeros = Point(0, 0, 0)\n",
        "plane_1 = Create_Plane(point_1, point_2, point_zeros)\n",
        "plane_2 = plane_1.perpendicular_plane(point_1, point_2)\n",
        "display(Latex(fr\"\\text{{Уравнение первой плоскости: }}{latex(Eq(plane_1.equation(), 0))}\"))\n",
        "display(Latex(fr\"\\text{{Уравнение второй плоскости: }}{latex(Eq(plane_2.equation(), 0))}\"))"
      ]
    },
    {
      "cell_type": "markdown",
      "metadata": {
        "id": "vrK0LeOdlttJ"
      },
      "source": [
        "###  Задание 6*.\n",
        "Даны точки  пространстве\n",
        "$A(-2, 7, -5)$, $B(6, 2, -4)$, $C(14, -3, -2)$, $D(22, -8, -2)$, $K(30, -7, -4)$,\n",
        "$M(94, -35, -2)$.\n",
        "\n",
        "Определить, какие тройки точек лежат на одной прямой, какие четверки - в одной плоскости.\n",
        "\n",
        "Для проверки того, что три точки лежат на одной прямой использовать Point3D.are_collinear.\n",
        "\n",
        "Вывести на экран тройки точек, лежащие на одной прямой и четверки точек, лежащих в одной плоскости."
      ]
    },
    {
      "cell_type": "code",
      "execution_count": null,
      "metadata": {
        "colab": {
          "base_uri": "https://localhost:8080/",
          "height": 241
        },
        "id": "Muwz7xCcBBmg",
        "outputId": "70ed09ec-1f16-4a20-c454-11a17c31989f"
      },
      "outputs": [],
      "source": [
        "lst_points = [(Point(-2, 7, -5), \"A\"), (Point(6, 2, -4), \"B\"), (Point(14, -3, -2), 'C'),\n",
        "              (Point(22, -8, -2), \"D\"), (Point(30, -7, -4), \"K\"), (Point(94, -35, -2), \"M\")]\n",
        "lst_of_3_p = [x for x in combinations(lst_points, 3)]\n",
        "lst_of_4_p = [x for x in combinations(lst_points, 4)]\n",
        "lst_collin_points = [points for points in lst_of_3_p if Point3D.are_collinear(points[0][0], points[1][0], points[2][0])]\n",
        "lst_coplanar_points = [points for points in lst_of_4_p if Point3D.are_coplanar(points[0][0], points[1][0], points[2][0], points[3][0])]\n",
        "\n",
        "display(Latex(fr\"\\text{{Точки лежащие на одной прямой:}}\"))\n",
        "for i in range(len(lst_collin_points)):\n",
        "  p1_data, p2_data, p3_data = lst_collin_points[i]\n",
        "  display(Latex(fr\"[{latex(i + 1)}]. \\ {latex(p1_data[1])}{latex(p1_data[0].coordinates)},\\  {latex(p2_data[1])}{latex(p2_data[0].coordinates)},\\  {latex(p3_data[1])}{latex(p3_data[0].coordinates)}\"))\n",
        "\n",
        "display(Latex(fr\"\\text{{Точки лежащие в одной плоскости:}}\"))\n",
        "for i in range(len(lst_coplanar_points)):\n",
        "  p1_data, p2_data, p3_data, p4_data = lst_coplanar_points[i]\n",
        "  display(Latex(fr\"[{latex(i + 1)}]. \\ {latex(p1_data[1])}{latex(p1_data[0].coordinates)},\\  {latex(p2_data[1])}{latex(p2_data[0].coordinates)},\\  {latex(p3_data[1])}{latex(p3_data[0].coordinates)},\\  {latex(p4_data[1])}{latex(p4_data[0].coordinates)}\"))"
      ]
    },
    {
      "cell_type": "markdown",
      "metadata": {
        "id": "FE1XD5JYlttL"
      },
      "source": [
        "###  Задание 7*.\n",
        "Составить уравнения всех (различных!) плоскостей, определяемых точками задания 1.\n",
        "\n",
        "Указание: решать аналогично Примеру 11, проверить, что $A$, $B$, $C$ не лежат на одной прямой и составить плоскость $ABC$, включить ее в список плоскостей."
      ]
    },
    {
      "cell_type": "code",
      "execution_count": null,
      "metadata": {
        "colab": {
          "base_uri": "https://localhost:8080/",
          "height": 125
        },
        "id": "6-imt_zJBDZp",
        "outputId": "c2e91de0-bebe-42fc-8a72-5a08bd2804ef"
      },
      "outputs": [],
      "source": [
        "lst_points = [(Point(-1, 2, -4), \"A\"), (Point(2, -2, 1), \"B\"), (Point(5, 3, -6), \"C\"), (Point(0, 3, -6), \"D\")]\n",
        "lst_posible_planes = [(Plane(p[0][0], p[1][0], p[2][0]), f\"{p[0][1]}{p[1][1]}{p[2][1]}\") for p in combinations(lst_points, 3) if (not Point3D.are_collinear(p[0][0], p[1][0], p[2][0]))]\n",
        "display(Latex(fr\"\\text{{Уравнения всех возможных плоскостей, составленных по 3-м точкам из Задания 1:}}\"))\n",
        "for i in range(len(lst_posible_planes)):\n",
        "  plane, plane_name = lst_posible_planes[i]\n",
        "  display(Latex(fr\"[{latex(i + 1)}]. \\ {latex(plane_name)}\\ : {latex(Eq(plane.equation(), 0))}\"))"
      ]
    },
    {
      "cell_type": "markdown",
      "metadata": {
        "id": "ZWS39VoElttM"
      },
      "source": [
        "### Индивидуальное задание\n",
        "Даны точки в пространстве\n",
        "$A$, $B$, $C$ и\n",
        "$M$.\n",
        "\n",
        "Вариант N 43\n",
        "\n",
        "Точки: A (-1, -2, -1), B (-2, 2, -4), C (2, 4, -2), D (0, 1, -3) и M (1, 1, -4).\n",
        "\n",
        "\n",
        "Найти угол между прямой $AB$ и плоскостью $CDM$, угол между $AC$ и $CM$, угол между плоскостями $ABC$ и $CDM$.\n",
        "\n",
        "Составить уравнение:\n",
        "\n",
        "a) плоскости, параллельной $ABC$ и проходящей через $M$,\n",
        "\n",
        "b) плоскости, перпендикулярной $ABC$ и проходящей через $A$ и $M$,\n",
        "\n",
        "c) прямой (параметрическое!), перпендикулярной $ABC$ и проходящей через $C$."
      ]
    },
    {
      "cell_type": "code",
      "execution_count": null,
      "metadata": {
        "colab": {
          "base_uri": "https://localhost:8080/",
          "height": 195
        },
        "id": "GC247453BEy3",
        "outputId": "e8e6e21a-5915-4007-c5d1-c5313e7eefcf"
      },
      "outputs": [],
      "source": [
        "# Будем пользоваться всеми функциями определёнными ранее в заданиях\n",
        "x, y, z, t = symbols('x y z t')\n",
        "A = Point(-1, -2, -1)\n",
        "B = Point(-2, 2, -4)\n",
        "C = Point(2, 4, -2)\n",
        "D = Point(0, 1, -3)\n",
        "M = Point(1, 1, -4)\n",
        "\n",
        "# Функция для составления канонического уравнения прямой\n",
        "def Find_Parametric_Eq(line_cur):\n",
        "  lst_syms = Matrix([x, y, z])\n",
        "  vec_dir = Matrix([*line_cur.direction])\n",
        "  point_val = line_cur.p1.coordinates\n",
        "  lst_eq_parametric = [Eq(lst_syms[i], vec_dir[i] * t + point_val[i]) for i in range(len(vec_dir))]\n",
        "  return lst_eq_parametric\n",
        "\n",
        "line_ab, line_ac, line_cm = Line(A, B), Line(A, C), Line(C, M)\n",
        "plane_cdm, plane_abc = Create_Plane(C, D, M), Create_Plane(A, B, C)\n",
        "angle_ab_cdm = Find_Angle_Between_Line_Plane(line_ac, plane_cdm)\n",
        "angle_ac_cm = line_ac.angle_between(line_cm)\n",
        "angle_abc_cdm = Find_Angle_Between_Planes(plane_abc, plane_cdm)\n",
        "plane_abc_m = plane_abc.parallel_plane(M)\n",
        "plane_abc_a_m = plane_abc.perpendicular_plane(A, M)\n",
        "line_abc_c = plane_abc.perpendicular_line(C)\n",
        "\n",
        "\n",
        "display(Latex(fr\"\\text{{Угол между прямой AB и плоскостью CDM:}}\\ {latex(angle_ab_cdm)}\\approx {latex(round(angle_ab_cdm, 4))}\"))\n",
        "display(Latex(fr\"\\text{{Угол между прямыми AB и CM:}}\\ {latex(angle_ac_cm)}\\approx {latex(round(angle_ac_cm, 4))}\"))\n",
        "display(Latex(fr\"\\text{{Угол между плоскостями ABC и CDM:}}\\ {latex(angle_abc_cdm)}\\approx {latex(round(angle_abc_cdm, 4))}\"))\n",
        "display(Latex(fr\"\\text{{Уравнения:}}\"))\n",
        "display(Latex(fr\"\\text{{[A].}}\\ {latex(Eq(plane_abc_m.equation(), 0))}\"))\n",
        "display(Latex(fr\"\\text{{[B].}}\\ {latex(Eq(plane_abc_a_m.equation(), 0))}\"))\n",
        "display(Latex(fr\"\\text{{[C].}}\\ {latex(Find_Parametric_Eq(line_abc_c))}\"))\n"
      ]
    }
  ],
  "metadata": {
    "colab": {
      "provenance": []
    },
    "kernelspec": {
      "display_name": "Python 3",
      "language": "python",
      "name": "python3"
    },
    "language_info": {
      "codemirror_mode": {
        "name": "ipython",
        "version": 3
      },
      "file_extension": ".py",
      "mimetype": "text/x-python",
      "name": "python",
      "nbconvert_exporter": "python",
      "pygments_lexer": "ipython3",
      "version": "3.7.3"
    }
  },
  "nbformat": 4,
  "nbformat_minor": 0
}

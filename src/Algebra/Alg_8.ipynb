{
  "cells": [
    {
      "cell_type": "markdown",
      "metadata": {
        "id": "KqMzidc80GGB"
      },
      "source": [
        "# Практическое занятие 8\n",
        "# Компьютерный практикум по алгебре на Python\n",
        "## Численное решение систем линейных алгебраических уравнений (СЛАУ) с numpy."
      ]
    },
    {
      "cell_type": "markdown",
      "metadata": {
        "id": "675Fb5ND0GGK"
      },
      "source": [
        "https://numpy.org/doc/stable/reference/routines.linalg.html"
      ]
    },
    {
      "cell_type": "code",
      "execution_count": null,
      "metadata": {
        "id": "TNk5d0Si0GGK"
      },
      "outputs": [],
      "source": [
        "import numpy as np\n",
        "from numpy import linalg\n",
        "from google.colab import files\n",
        "import pandas as pd\n",
        "from IPython.display import display, Latex\n",
        "from sympy import latex"
      ]
    },
    {
      "cell_type": "code",
      "execution_count": null,
      "metadata": {
        "id": "6jYKypStU-Ab"
      },
      "outputs": [],
      "source": [
        "# @title Определим функции которыми будем пользоваться в заданиях\n",
        "\n",
        "# Функция для анализа решения СЛАУ\n",
        "def SLAE_Solution(matrix_full, text_necessary = True, check_solution = False):\n",
        "  vec_ans = []\n",
        "  solution_case = 0\n",
        "\n",
        "  mx_left = matrix_full[:, :-1]\n",
        "  n = len(mx_left)\n",
        "  rng_full = linalg.matrix_rank(matrix_full)\n",
        "  rng_left = linalg.matrix_rank(mx_left)\n",
        "\n",
        "  if (rng_left != rng_full):\n",
        "    if (text_necessary):\n",
        "      display(Latex(fr\"\\text{{СЛАУ несовместна. Решений нет. Rg(A) = }}{latex(rng_left)} \\neq {latex(rng_full)}\\text{{ = Rg(Ab)}}\"))\n",
        "\n",
        "  else:\n",
        "    if (rng_left == n):\n",
        "      vec_b = matrix_full[:, -1]\n",
        "      vec_ans = linalg.solve(mx_left, vec_b)\n",
        "      solution_case = 1\n",
        "      if (text_necessary):\n",
        "        display(Latex(fr\"\\text{{СЛАУ совместна и имеет единстенное решение X = }}{latex(vec_ans)}\"))\n",
        "        if (check_solution):\n",
        "          is_ans_correct = np.allclose(mx_left @ vec_ans, vec_b)\n",
        "          display(Latex(fr\"\\text{{Проверка решения подстановкой Ax = B - }}{latex(is_ans_correct)}\"))\n",
        "\n",
        "    elif (rng_left < n):\n",
        "      solution_case = 2\n",
        "      if (text_necessary):\n",
        "        display(Latex(fr\"\\text{{СЛАУ имеет более одного решения.}}\"))\n",
        "\n",
        "  return (solution_case, vec_ans)"
      ]
    },
    {
      "cell_type": "markdown",
      "metadata": {
        "id": "dMGJ1uQC0GGM"
      },
      "source": [
        "### Задание 1.\n",
        "Решить СЛАУ с помощью linalg.solve() и выполнить проверку.\n",
        "$$\n",
        "\\left\\{\n",
        "\\begin{matrix}\n",
        "-x+5y-3z=8\\\\\n",
        "4x-y+5z=-1\\\\\n",
        "3x+4y+5z=10\n",
        "\\end{matrix}\n",
        "\\right.\n",
        "$$"
      ]
    },
    {
      "cell_type": "code",
      "execution_count": null,
      "metadata": {
        "colab": {
          "base_uri": "https://localhost:8080/",
          "height": 58
        },
        "id": "sNsDjz5jHQDb",
        "outputId": "fcbfb705-13e7-46e6-b235-d9420ada5045"
      },
      "outputs": [],
      "source": [
        "# Сразу определим расширенную матрицу\n",
        "mx_1 = np.array([[-1, 5, -3, 8], [4, -1, 5, -1], [3, 4, 5, 10]])\n",
        "\n",
        "sol_case_1, ans_1 = SLAE_Solution(mx_1, check_solution = True)"
      ]
    },
    {
      "cell_type": "markdown",
      "metadata": {
        "id": "E6-UJMGKB8Ej"
      },
      "source": [
        "### Задание 2.\n",
        "Определить с помощью Теоремы Кронекера-Капелли и linalg.matrix_rank, совместна ли СЛАУ\n",
        "$$\n",
        "\\left\\{\n",
        "\\begin{matrix}\n",
        "-x+5y-3z=8\\\\\n",
        "4x-y+5z=-1\\\\\n",
        "3x+4y+2z=7\n",
        "\\end{matrix}\n",
        "\\right.\n",
        "$$\n",
        "\n",
        "Сделать вывод о числе решений (текстом)"
      ]
    },
    {
      "cell_type": "code",
      "execution_count": null,
      "metadata": {
        "colab": {
          "base_uri": "https://localhost:8080/",
          "height": 37
        },
        "id": "vWDsIP4VHRoa",
        "outputId": "7755910d-ba98-451c-d393-ae022ef54676"
      },
      "outputs": [],
      "source": [
        "mx_2 = np.array([[-1, 5, 3, 8], [4, -1, 5, -1], [3, 4, 2, 7]])\n",
        "\n",
        "sol_case_2, ans_2 = SLAE_Solution(mx_2)"
      ]
    },
    {
      "cell_type": "markdown",
      "metadata": {
        "id": "m8SPA6yz0GGP"
      },
      "source": [
        "### Задание 3\n",
        "В расширенной матрице СЛАУ из Задания 2\n",
        "\n",
        "1) выделить матрицу левой части\n",
        "\n",
        "2) выделить столбец правой части\n",
        "\n",
        "3) транспонировать матрицу, полученную в 1)\n",
        "\n",
        "4) получить расширенную матрицу из матрицы 3) и столбца 2)\n",
        "\n",
        "5) создать на основе списочного выражения np.array $3\\times 4$ из расположенных в шахматном порядке чисел 1 и $-1$."
      ]
    },
    {
      "cell_type": "code",
      "execution_count": null,
      "metadata": {
        "colab": {
          "base_uri": "https://localhost:8080/",
          "height": 417
        },
        "id": "LtWnxmLdHVA0",
        "outputId": "886700b0-794b-4cce-a9cf-bca1afdf9d20"
      },
      "outputs": [],
      "source": [
        "mx_A = mx_2[:, :-1]\n",
        "vec_b = mx_2[:, -1]\n",
        "mx_A_T = mx_A.T\n",
        "mx_full_3 = np.column_stack((mx_A_T, vec_b))\n",
        "mx_chess_field = np.array([[(-1) ** (i + j) for i in range(1, 4)] for j in range(1, 5)])\n",
        "display(Latex(fr\"\\bullet\\text{{Расширенная матрица Ab = }}\"))\n",
        "print(mx_2)\n",
        "display(Latex(fr\"\\bullet\\text{{Матрица левой части A = }}\"))\n",
        "print(mx_A)\n",
        "display(Latex(fr\"\\bullet\\text{{Вектор - столбец правой части b = }}{latex(vec_b)}\"))\n",
        "display(Latex(fr\"\\bullet \\text{{Транспонированная матрица A = }}\"))\n",
        "print(mx_A_T)\n",
        "display(Latex(fr\"\\bullet\\text{{Расширенная матрица из транспонированной матриы A и столбца b = }}\"))\n",
        "print(mx_full_3)\n",
        "display(Latex(fr\"\\bullet\\text{{Матрица с 1 и -1 расположенными в шахматном порядке = }}\"))\n",
        "print(mx_chess_field)"
      ]
    },
    {
      "cell_type": "markdown",
      "metadata": {
        "id": "3ezovPlhQWdy"
      },
      "source": [
        "### Задание 4.\n",
        "Исследовать на совместность СЛАУ с параметром $a$ при значениях параметра $a=-1$, $a=0$ и $a=1$ и найти решение, если оно единственно и провести проверку подстановкой.\n",
        "$$\n",
        "\\left\\{\n",
        "\\begin{matrix}\n",
        "-x+5y-3z=8a\\\\\n",
        "4x-ay+5z=-a\\\\\n",
        "3x+4y+2z=5a\n",
        "\\end{matrix}\n",
        "\\right.\n",
        "$$\n",
        "**Указание** - описать функцию check_SLAE от аргументов $A$ и $b$ (матрица левой части и столбец правой части), которая возвращает 0 для несовместной СЛАУ, 1 для совместной СЛАУ с единственным решением и 2 в остальных случаях.\n",
        "\n",
        "Затем в цикле по значениям параметра $a$ проверять с помощью check_SLAE совместность и единственность решения СЛАУ и выводить на экран значение параметра и решение СЛАУ, если оно существует и единственно или \"решений нет\" или \"решение не единственно\"."
      ]
    },
    {
      "cell_type": "code",
      "execution_count": null,
      "metadata": {
        "colab": {
          "base_uri": "https://localhost:8080/",
          "height": 284
        },
        "id": "M6GbeBFMHWqB",
        "outputId": "061ba318-126e-452f-dd69-17e7bd2046f6"
      },
      "outputs": [],
      "source": [
        "def matrix_param(a):\n",
        "  return np.array([[-1, 5, -3, 8 * a], [4, -a, 5, -a], [3, 4, 2, 5 * a]])\n",
        "\n",
        "for i in range(-1, 2):\n",
        "  display(Latex(fr\"\\text{{Значение параметра a = }}{latex(i)}\"))\n",
        "  cur_sol_case, cur_vec_ans = SLAE_Solution(matrix_param(i), check_solution= True)\n",
        "  print('\\n')"
      ]
    },
    {
      "cell_type": "markdown",
      "metadata": {
        "id": "AlxPOVRAYm_5"
      },
      "source": [
        "### Задание 5.\n",
        "Считать из файла 'SLAE_5.xlsx' матрицу левой части и столбец правой части с листов 'A5' и 'b5' и вывести их на экран.\n",
        "\n",
        "Решить СЛАУ $AX=b$ и вывести полученное решение на экран.\n",
        "\n",
        "Записать полученное решение в файл  'SLAE_5.xlsx' на лист 'X5'.\n",
        "\n",
        "Скачать полученный файл."
      ]
    },
    {
      "cell_type": "code",
      "execution_count": null,
      "metadata": {
        "colab": {
          "base_uri": "https://localhost:8080/",
          "height": 290
        },
        "id": "A5k0VYVtHZLO",
        "outputId": "ab53e6c5-1c3b-4e74-d565-1c8df76e8336"
      },
      "outputs": [],
      "source": [
        "uploaded_dct = files.upload()\n",
        "for file_name in uploaded_dct.keys():\n",
        "  print(f\"Заргужен файл {file_name}\")\n",
        "\n",
        "A_df = pd.read_excel(file_name, sheet_name = \"A5\", header = None)\n",
        "B_df = pd.read_excel(file_name, sheet_name = \"b5\", header = None)\n",
        "A_np = A_df.to_numpy()\n",
        "B_np = B_df.to_numpy()\n",
        "mx_full_5 = np.column_stack((A_np, B_np))\n",
        "display(Latex(fr\"\\bullet\\text{{Матрица левой части A = }}\"))\n",
        "print(A_np)\n",
        "display(Latex(fr\"\\bullet\\text{{Вектор-столбец правой части B = }}\"))\n",
        "print(B_np)\n",
        "sol_case_5, vec_ans_5 = SLAE_Solution(mx_full_5)\n",
        "\n",
        "ans_df = pd.DataFrame(vec_ans_5)\n",
        "\n",
        "with pd.ExcelWriter(file_name, mode = 'a') as writer_1:\n",
        "  ans_df.to_excel(writer_1, sheet_name = \"X5\", header = False, index = False)\n",
        "\n",
        "files.download(file_name)"
      ]
    },
    {
      "cell_type": "markdown",
      "metadata": {
        "id": "PtPxOU3a0GGR"
      },
      "source": [
        "### Индивидуальное задание.\n",
        "Исследовать на совместность СЛАУ с параметром $a$ при заданных значениях параметра $a$ и найти решение, если оно единственно и провести проверку подстановкой.\n",
        "\n",
        "На листы 'A1', 'A2' и т.п. файла 'Name_Ind_8_SLAE.xlsx' записать матрицы при заданных значениях параметра $a$, на листы 'b1', 'b2' и т.п. столбцы правой части СЛАУ, на листы 'X1', 'X2' и т.п. решения СЛАУ (если оно существует!).\n",
        "\n",
        "Варинат №43\n",
        "\n",
        "\\begin{align*}\n",
        " A = \\left[\\begin{matrix}a & -3 & -6 & -7\\\\-6 & -7 & 1 & 6\\\\-4 & 6 & 5 & -3\\\\-2 & 5 & 25 & 34\\end{matrix}\\right],\n",
        "    \\qquad b = \\left[\\begin{matrix}31\\\\23\\\\-22\\\\-133\\end{matrix}\\right], \\alpha = -1, \\alpha = 1, \\alpha = 2.\n",
        " \\end{align*}\n"
      ]
    },
    {
      "cell_type": "code",
      "execution_count": null,
      "metadata": {
        "colab": {
          "base_uri": "https://localhost:8080/",
          "height": 284
        },
        "id": "clATXRkyHZ8I",
        "outputId": "65ec8914-fbdc-4dc9-a31f-03a366f4b27a"
      },
      "outputs": [],
      "source": [
        "def matrix_param_ind(a):\n",
        "  return np.array([[a, -3, -6, -7, 31], [-6, -7, 1, 6, 23], [-4, 6, 5, -3, -22], [-2, 5, 25, 34, -133]])\n",
        "\n",
        "lst_params_a = [-1, 1, 2]\n",
        "file_name_cur = \"Name_Ind_8_SLAE.xlsx\"\n",
        "\n",
        "with pd.ExcelWriter(file_name_cur, mode = \"w\") as witer_w:\n",
        "  df_plug = pd.DataFrame([])\n",
        "  df_plug.to_excel(witer_w, sheet_name = 'Blank', header = False, index = False)\n",
        "\n",
        "with pd.ExcelWriter(file_name_cur, mode = \"a\") as writer_2:\n",
        "\n",
        "  for i in range(len(lst_params_a)):\n",
        "    cur_mx = matrix_param_ind(lst_params_a[i])\n",
        "    cur_left_mx_df = pd.DataFrame(cur_mx[:, :-1])\n",
        "    cur_b_vec_df = pd.DataFrame(cur_mx[:, -1])\n",
        "\n",
        "    display(Latex(fr\"\\bullet \\text{{Значение параметра a = }}{latex(lst_params_a[i])}\"))\n",
        "    sol_case_cur, vec_ans_cur = SLAE_Solution(cur_mx, check_solution= True)\n",
        "    print('\\n')\n",
        "\n",
        "    cur_left_mx_df.to_excel(writer_2, sheet_name = f\"A{i + 1}\", header = False, index = False)\n",
        "    cur_b_vec_df.to_excel(writer_2, sheet_name = f\"b{i + 1}\", header = False, index = False)\n",
        "\n",
        "    if (sol_case_cur == 1):\n",
        "      vec_ans_cur_df = pd.DataFrame(vec_ans_cur)\n",
        "      vec_ans_cur_df.to_excel(writer_2, sheet_name = f\"X{i + 1}\", header = False, index = False)\n",
        "\n",
        "files.download(file_name_cur)"
      ]
    }
  ],
  "metadata": {
    "colab": {
      "provenance": []
    },
    "kernelspec": {
      "display_name": "Python 3",
      "language": "python",
      "name": "python3"
    },
    "language_info": {
      "codemirror_mode": {
        "name": "ipython",
        "version": 3
      },
      "file_extension": ".py",
      "mimetype": "text/x-python",
      "name": "python",
      "nbconvert_exporter": "python",
      "pygments_lexer": "ipython3",
      "version": "3.7.3"
    }
  },
  "nbformat": 4,
  "nbformat_minor": 0
}

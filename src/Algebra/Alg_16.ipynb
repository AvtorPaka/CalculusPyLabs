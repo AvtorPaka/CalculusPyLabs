{
  "nbformat": 4,
  "nbformat_minor": 0,
  "metadata": {
    "kernelspec": {
      "display_name": "Python 3",
      "language": "python",
      "name": "python3"
    },
    "language_info": {
      "codemirror_mode": {
        "name": "ipython",
        "version": 3
      },
      "file_extension": ".py",
      "mimetype": "text/x-python",
      "name": "python",
      "nbconvert_exporter": "python",
      "pygments_lexer": "ipython3",
      "version": "3.7.3"
    },
    "colab": {
      "provenance": []
    }
  },
  "cells": [
    {
      "cell_type": "code",
      "metadata": {
        "id": "OkMZJCv7HRj8"
      },
      "source": [
        "import sympy\n",
        "import numpy as np\n",
        "from sympy import Eq, plot_implicit, Matrix, plot, symbols, latex, S, nonlinsolve\n",
        "from sympy.core import sympify\n",
        "from sympy.geometry.point import Point, Point2D, Point3D\n",
        "from sympy.geometry.line import Line\n",
        "from sympy.core.symbol import _symbol\n",
        "from sympy import pi as Pi\n",
        "from sympy import cos as Cos\n",
        "from sympy import sin as Sin\n",
        "from sympy.geometry.entity import GeometryEntity, GeometrySet\n",
        "import matplotlib.pyplot as plt\n",
        "from IPython.display import Latex, display"
      ],
      "execution_count": 3,
      "outputs": []
    },
    {
      "cell_type": "markdown",
      "metadata": {
        "id": "JBcJB2fWHRj_"
      },
      "source": [
        "# Практическое занятие 16\n",
        "# Компьютерный практикум по алгебре на Python\n",
        "## Кривые второго порядка на плоскости: парабола"
      ]
    },
    {
      "cell_type": "markdown",
      "metadata": {
        "id": "mmi1O2YqHRkC"
      },
      "source": [
        "### Задание 1\n",
        "Определить класс Parabola.\n",
        "\n",
        "Внутренние переменные $\\_p$, $\\_vertex$, $\\_angle$.\n",
        "\n",
        "Реализовать **атрибуты**:\n",
        "\n",
        "**параметр** $p$\n",
        "\n",
        "**вершина** (vertex) в виде точки Point\n",
        "\n",
        "**фокус** (focus) в виде точки Point\n",
        "\n",
        "**угол angle** по умолчанию 0 для параболы с осью, параллельной OX, и ветвями, направленными вправо\n",
        "\n",
        "**ось симметрии** (axis_symmetry) в виде прямой Line\n",
        "\n",
        "**директриса** (directrix) в виде прямой Line\n",
        "\n",
        "Реализовать **методы**\n",
        "\n",
        "**equation(self)** - уравнение параболы,\n",
        "\n",
        "**dir_equation(self)** - уравнение директрисы,\n",
        "\n",
        "**ax_sym_equation(self**) - уравнение оси симметрии,\n",
        "\n",
        "**rotate(self, angle)** - поворот на угол angle против часовой стрелки, метод не изменяет параболу, а возвращает параболу с теми же p и вершиной, но угол увеличен на angle по сравнению с исходной параболой.\n",
        "\n",
        "В конструкторе экземпляра класса  \n",
        "\n",
        "\\_\\_new\\_\\_(cls, p, vertex=None, angle=None)\n",
        "\n",
        "p - обязательный параметр, а вид параболы по умолчанию  - парабола с осью, параллельной оси OX,\n",
        "вершина по умолчанию в начале координат."
      ]
    },
    {
      "cell_type": "code",
      "source": [
        "x, y , x1 ,y1, p = sympy.symbols('x y x1 y1 p', real = True)\n",
        "\n",
        "class Parabola(GeometrySet):\n",
        "  def __new__(cls, p , vertex = None, angle = None, **kwargs):\n",
        "    return super().__new__(cls, p , vertex, angle, **kwargs)\n",
        "\n",
        "  def __init__(self,  p , vertex = None, angle = None, **kwargs):\n",
        "    if (vertex == None):\n",
        "      vertex = Point(0, 0)\n",
        "    else:\n",
        "      if (len(vertex) != 2):\n",
        "        display(Latex(fr\"\\text{{The vertex must be a 2 dimensional point, }} {latex(len(vertex))} \\text{{dimension point was given.}}\"))\n",
        "        if (len(vertex) < 2):\n",
        "          display(Latex(fr\"\\text{{Given vertrex will be replaced by (0, 0)}}\"))\n",
        "          vertex = Point(0, 0)\n",
        "        elif (len(vertex) > 2):\n",
        "          display(Latex(fr\"\\text{{Vertex length will be trimmed to the correct number of dimensions.}}\"))\n",
        "          vertex = Point(vertex[0], vertex[1])\n",
        "      else:\n",
        "        vertex = Point(vertex[0], vertex[1])\n",
        "\n",
        "    if (angle == None):\n",
        "      angle = 0\n",
        "\n",
        "    self._p = p\n",
        "    self._angle = angle\n",
        "    self._vertex = vertex\n",
        "\n",
        "  @property\n",
        "  def p(self):\n",
        "    return self._p\n",
        "\n",
        "  @property\n",
        "  def vertex(self):\n",
        "    return self._vertex\n",
        "\n",
        "  @property\n",
        "  def focus(self):\n",
        "    return self.vertex + Point(sympy.cos(self.angle) * S(self.p) / 2, sympy.sin(self.angle) * S(self.p) / 2)\n",
        "\n",
        "  @property\n",
        "  def angle(self):\n",
        "    return self._angle\n",
        "\n",
        "  @property\n",
        "  def axis_symmetry(self):\n",
        "    return Line(self.vertex, self.focus)\n",
        "\n",
        "  @property\n",
        "  def directrix(self):\n",
        "    return Line(self.vertex, self.focus).perpendicular_line(2 * self.vertex - self.focus)\n",
        "\n",
        "  def equation(self):\n",
        "    ver_x, ver_y = self.vertex.coordinates\n",
        "    angle_sin, angle_cos = sympy.sin(self.angle), sympy.cos(self.angle)\n",
        "    X = Matrix([[angle_cos, angle_sin], [-angle_sin, angle_cos]]) * Matrix([x - ver_x, y - ver_y])\n",
        "    return sympy.Eq(sympy.simplify(X[1] ** 2), sympy.simplify(2 * self.p * X[0]))\n",
        "\n",
        "  def dir_equation(self):\n",
        "    expr_tmp = self.directrix.equation(x = x, y = y)\n",
        "    free_cf = -expr_tmp.subs({x: 0, y: 0})\n",
        "    return sympy.Eq(expr_tmp + free_cf, free_cf)\n",
        "    # return sympy.Eq(self.directrix.equation(x = x, y = y), 0)\n",
        "\n",
        "  def ax_sym_equation(self):\n",
        "    expr_tmp = self.axis_symmetry.equation(x = x, y = y)\n",
        "    free_cf = -expr_tmp.subs({x: 0, y: 0})\n",
        "    return sympy.Eq(expr_tmp + free_cf, free_cf)\n",
        "    # return sympy.Eq(self.axis_symmetry.equation(x = x, y = y), 0)\n",
        "\n",
        "  def rotate(self, angle):\n",
        "    return Parabola(self.p, self.vertex, self.angle + angle)"
      ],
      "metadata": {
        "id": "DvdfbR5iPygV"
      },
      "execution_count": 115,
      "outputs": []
    },
    {
      "cell_type": "markdown",
      "metadata": {
        "id": "dojqIsnSHRkG"
      },
      "source": [
        "### Задание 2\n",
        "Построить параболу с $p = 3$, вершиной в (-5, 2), осью симметрии, образующей угол $\\pi/4$ с положительным направлением оси ОХ. Вывести на экран ее параметр p, вершину, угол, фокус, ось симметрии и директрису, а также уравнение параболы, оси симметрии и директрисы.\n",
        "\n",
        "Изобразить на общем графике параболу, ее ось симметрии и директрису, парабола зеленая, ось симметрии красная, директриса черная."
      ]
    },
    {
      "cell_type": "code",
      "source": [
        "def Get_Parabola_Data(parab):\n",
        "  dct_params = {'p': parab.p, \"vertex\": parab.vertex, \"angle\": parab.angle,\n",
        "                \"focus\": parab.focus, \"axis-symmetry\": parab.axis_symmetry,\n",
        "                \"directrix\": parab.directrix, \"Parabola-eq\": parab.equation(),\n",
        "                \"Directrix-eq\": parab.dir_equation(), \"Ax-sym-eq\": parab.ax_sym_equation()}\n",
        "  return dct_params\n",
        "\n",
        "parab_2 = Parabola(p = 3, vertex = (-5, 2), angle = S(sympy.pi)/4)\n",
        "dct_parab_2_data = Get_Parabola_Data(parab_2)\n",
        "display(Latex(fr\"\\text{{Данные параболы:}}\"))\n",
        "display(*[Latex(f'{key} : {latex(dct_parab_2_data[key])}') for key in dct_parab_2_data.keys()])\n",
        "print()\n",
        "\n",
        "lst_plot_data = [(dct_parab_2_data[\"Parabola-eq\"], \"green\"), (dct_parab_2_data[\"Ax-sym-eq\"], \"red\"), (dct_parab_2_data[\"Directrix-eq\"], \"black\")]\n",
        "\n",
        "for i in range(len(lst_plot_data)):\n",
        "  func, color_c = lst_plot_data[i]\n",
        "  if (i == 0):\n",
        "    plt = plot_implicit(func, (x, -12, 12), (y, -6, 15), legend = True, label = f\"${latex(func)}$\",  aspect_raio = (1, 1),\n",
        "                        line_color = color_c, xlabel='$x$', ylabel='$y$', show = False)\n",
        "  else:\n",
        "    plt.append(plot_implicit(func, (x, -12, 12), (y, -6, 15), legend = True, label = f\"${latex(func)}$\", aspect_raio = (1, 1),\n",
        "                             line_color = color_c, xlabel='$x$', ylabel='$y$', show = False)[0])\n",
        "\n",
        "plt.show()"
      ],
      "metadata": {
        "id": "TkKw-qeGP0g7",
        "colab": {
          "base_uri": "https://localhost:8080/",
          "height": 774
        },
        "outputId": "7702b65b-27a5-4c22-b10b-258d0f67949c"
      },
      "execution_count": 134,
      "outputs": [
        {
          "output_type": "display_data",
          "data": {
            "text/plain": [
              "<IPython.core.display.Latex object>"
            ],
            "text/latex": "\\text{Данные параболы:}"
          },
          "metadata": {}
        },
        {
          "output_type": "display_data",
          "data": {
            "text/plain": [
              "<IPython.core.display.Latex object>"
            ],
            "text/latex": "p : 3"
          },
          "metadata": {}
        },
        {
          "output_type": "display_data",
          "data": {
            "text/plain": [
              "<IPython.core.display.Latex object>"
            ],
            "text/latex": "vertex : \\operatorname{Point2D}\\left(-5, 2\\right)"
          },
          "metadata": {}
        },
        {
          "output_type": "display_data",
          "data": {
            "text/plain": [
              "<IPython.core.display.Latex object>"
            ],
            "text/latex": "angle : \\frac{\\pi}{4}"
          },
          "metadata": {}
        },
        {
          "output_type": "display_data",
          "data": {
            "text/plain": [
              "<IPython.core.display.Latex object>"
            ],
            "text/latex": "focus : \\operatorname{Point2D}\\left(-5 + \\frac{3 \\sqrt{2}}{4}, \\frac{3 \\sqrt{2}}{4} + 2\\right)"
          },
          "metadata": {}
        },
        {
          "output_type": "display_data",
          "data": {
            "text/plain": [
              "<IPython.core.display.Latex object>"
            ],
            "text/latex": "axis-symmetry : \\operatorname{Line2D}\\left(\\operatorname{Point2D}\\left(-5, 2\\right), \\operatorname{Point2D}\\left(-5 + \\frac{3 \\sqrt{2}}{4}, \\frac{3 \\sqrt{2}}{4} + 2\\right)\\right)"
          },
          "metadata": {}
        },
        {
          "output_type": "display_data",
          "data": {
            "text/plain": [
              "<IPython.core.display.Latex object>"
            ],
            "text/latex": "directrix : \\operatorname{Line2D}\\left(\\operatorname{Point2D}\\left(-5 - \\frac{3 \\sqrt{2}}{4}, 2 - \\frac{3 \\sqrt{2}}{4}\\right), \\operatorname{Point2D}\\left(-5 - \\frac{3 \\sqrt{2}}{2}, 2\\right)\\right)"
          },
          "metadata": {}
        },
        {
          "output_type": "display_data",
          "data": {
            "text/plain": [
              "<IPython.core.display.Latex object>"
            ],
            "text/latex": "Parabola-eq : \\frac{\\left(x - y + 7\\right)^{2}}{2} = 3 \\sqrt{2} \\left(x + y + 3\\right)"
          },
          "metadata": {}
        },
        {
          "output_type": "display_data",
          "data": {
            "text/plain": [
              "<IPython.core.display.Latex object>"
            ],
            "text/latex": "Directrix-eq : - \\frac{3 \\sqrt{2} x}{4} - \\frac{3 \\sqrt{2} y}{4} = \\frac{9}{4} + \\frac{9 \\sqrt{2}}{4}"
          },
          "metadata": {}
        },
        {
          "output_type": "display_data",
          "data": {
            "text/plain": [
              "<IPython.core.display.Latex object>"
            ],
            "text/latex": "Ax-sym-eq : - \\frac{3 \\sqrt{2} x}{4} + \\frac{3 \\sqrt{2} y}{4} = \\frac{21 \\sqrt{2}}{4}"
          },
          "metadata": {}
        },
        {
          "output_type": "stream",
          "name": "stdout",
          "text": [
            "\n"
          ]
        },
        {
          "output_type": "stream",
          "name": "stderr",
          "text": [
            "WARNING:matplotlib.legend:No artists with labels found to put in legend.  Note that artists whose label start with an underscore are ignored when legend() is called with no argument.\n"
          ]
        },
        {
          "output_type": "display_data",
          "data": {
            "text/plain": [
              "<Figure size 640x480 with 1 Axes>"
            ],
            "image/png": "[encoded data removed]"
          },
          "metadata": {}
        }
      ]
    },
    {
      "cell_type": "markdown",
      "metadata": {
        "id": "WlXyhdWhHRkH"
      },
      "source": [
        "### Индивидуальное задание\n",
        "Построить параболу $x^{2} = 2py$ с $p = 5$, построить другую параболу путем поворота исходной параболы  на угол $\\alpha = \\pi/5$ радиан. Вывести на экран вершину, угол, фокус, ось симметрии и директрису обеих парабол.\n",
        "\n",
        "Использовать уравнения повернутой параболы, ее оси симметрии и директрисы для построения графиков в одной координатной плоскости. Парабола фиолетовая, ось симметрии зеленая, директриса черная, название графика Парабола, подписи осей $x$ и $y$.\n",
        "\n",
        "Варинат №43\n",
        "\n",
        "\n",
        "Центр $\\operatorname{Point2D}\\left(3, -4\\right)$, парабола вида $x^{2} = 2py$ с $p = 3$. Угол поворота $2 \\pi / 3$."
      ]
    },
    {
      "cell_type": "code",
      "source": [
        "parab_ind_1 = Parabola(p = 3, vertex = (3, -4))\n",
        "parab_ind_2 = parab_ind_1.rotate(S(sympy.pi * 2)/3)\n",
        "\n",
        "dct_ind_1 = Get_Parabola_Data(parab_ind_1)\n",
        "dct_ind_2 = Get_Parabola_Data(parab_ind_2)\n",
        "\n",
        "display(Latex(fr\"\\text{{Данные исходной параболы:}}\"))\n",
        "display(*[Latex(f'{key} : {latex(dct_ind_1[key])}') for key in dct_ind_1.keys()])\n",
        "print()\n",
        "display(Latex(fr\"\\text{{Данные повернутой параболы:}}\"))\n",
        "display(*[Latex(f'{key} : {latex(dct_ind_2[key])}') for key in dct_ind_2.keys()])\n",
        "print()\n",
        "\n",
        "lst_plot_data_ind_full = [(dct_ind_1[\"Parabola-eq\"], \"blue\"), (dct_ind_1[\"Ax-sym-eq\"], \"red\"), (dct_ind_1[\"Directrix-eq\"], \"brown\"),\n",
        "                 (dct_ind_2[\"Parabola-eq\"], \"purple\"), (dct_ind_2[\"Ax-sym-eq\"], \"green\"), (dct_ind_2[\"Directrix-eq\"], \"black\")]\n",
        "\n",
        "lst_plot_data_ind = [(dct_ind_2[\"Parabola-eq\"], \"purple\"), (dct_ind_2[\"Ax-sym-eq\"], \"green\"), (dct_ind_2[\"Directrix-eq\"], \"black\")]\n",
        "\n",
        "for i in range(len(lst_plot_data_ind_full)):\n",
        "  func, color_c = lst_plot_data_ind_full[i]\n",
        "  if (i == 0):\n",
        "    plt = plot_implicit(func, (x, -15, 15), (y, -15, 15), title = \"Парабола\",  aspect_raio = (1, 1),\n",
        "                        line_color = color_c, xlabel='$x$', ylabel='$y$', show = False)\n",
        "  else:\n",
        "    plt.append(plot_implicit(func, (x, -15, 15), (y, -15, 15),  aspect_raio = (1, 1),\n",
        "                             line_color = color_c, xlabel='$x$', ylabel='$y$', show = False)[0])\n",
        "\n",
        "plt.show()"
      ],
      "metadata": {
        "id": "-_Xc-JTUP1dd",
        "colab": {
          "base_uri": "https://localhost:8080/",
          "height": 997
        },
        "outputId": "e16e5fa0-3d5e-42e5-b368-da87cccb5d95"
      },
      "execution_count": 135,
      "outputs": [
        {
          "output_type": "display_data",
          "data": {
            "text/plain": [
              "<IPython.core.display.Latex object>"
            ],
            "text/latex": "\\text{Данные исходной параболы:}"
          },
          "metadata": {}
        },
        {
          "output_type": "display_data",
          "data": {
            "text/plain": [
              "<IPython.core.display.Latex object>"
            ],
            "text/latex": "p : 3"
          },
          "metadata": {}
        },
        {
          "output_type": "display_data",
          "data": {
            "text/plain": [
              "<IPython.core.display.Latex object>"
            ],
            "text/latex": "vertex : \\operatorname{Point2D}\\left(3, -4\\right)"
          },
          "metadata": {}
        },
        {
          "output_type": "display_data",
          "data": {
            "text/plain": [
              "<IPython.core.display.Latex object>"
            ],
            "text/latex": "angle : 0"
          },
          "metadata": {}
        },
        {
          "output_type": "display_data",
          "data": {
            "text/plain": [
              "<IPython.core.display.Latex object>"
            ],
            "text/latex": "focus : \\operatorname{Point2D}\\left(\\frac{9}{2}, -4\\right)"
          },
          "metadata": {}
        },
        {
          "output_type": "display_data",
          "data": {
            "text/plain": [
              "<IPython.core.display.Latex object>"
            ],
            "text/latex": "axis-symmetry : \\operatorname{Line2D}\\left(\\operatorname{Point2D}\\left(3, -4\\right), \\operatorname{Point2D}\\left(\\frac{9}{2}, -4\\right)\\right)"
          },
          "metadata": {}
        },
        {
          "output_type": "display_data",
          "data": {
            "text/plain": [
              "<IPython.core.display.Latex object>"
            ],
            "text/latex": "directrix : \\operatorname{Line2D}\\left(\\operatorname{Point2D}\\left(\\frac{3}{2}, -4\\right), \\operatorname{Point2D}\\left(\\frac{3}{2}, -3\\right)\\right)"
          },
          "metadata": {}
        },
        {
          "output_type": "display_data",
          "data": {
            "text/plain": [
              "<IPython.core.display.Latex object>"
            ],
            "text/latex": "Parabola-eq : \\left(y + 4\\right)^{2} = 6 x - 18"
          },
          "metadata": {}
        },
        {
          "output_type": "display_data",
          "data": {
            "text/plain": [
              "<IPython.core.display.Latex object>"
            ],
            "text/latex": "Directrix-eq : x = \\frac{3}{2}"
          },
          "metadata": {}
        },
        {
          "output_type": "display_data",
          "data": {
            "text/plain": [
              "<IPython.core.display.Latex object>"
            ],
            "text/latex": "Ax-sym-eq : y = -4"
          },
          "metadata": {}
        },
        {
          "output_type": "stream",
          "name": "stdout",
          "text": [
            "\n"
          ]
        },
        {
          "output_type": "display_data",
          "data": {
            "text/plain": [
              "<IPython.core.display.Latex object>"
            ],
            "text/latex": "\\text{Данные повернутой параболы:}"
          },
          "metadata": {}
        },
        {
          "output_type": "display_data",
          "data": {
            "text/plain": [
              "<IPython.core.display.Latex object>"
            ],
            "text/latex": "p : 3"
          },
          "metadata": {}
        },
        {
          "output_type": "display_data",
          "data": {
            "text/plain": [
              "<IPython.core.display.Latex object>"
            ],
            "text/latex": "vertex : \\operatorname{Point2D}\\left(3, -4\\right)"
          },
          "metadata": {}
        },
        {
          "output_type": "display_data",
          "data": {
            "text/plain": [
              "<IPython.core.display.Latex object>"
            ],
            "text/latex": "angle : \\frac{2 \\pi}{3}"
          },
          "metadata": {}
        },
        {
          "output_type": "display_data",
          "data": {
            "text/plain": [
              "<IPython.core.display.Latex object>"
            ],
            "text/latex": "focus : \\operatorname{Point2D}\\left(\\frac{9}{4}, -4 + \\frac{3 \\sqrt{3}}{4}\\right)"
          },
          "metadata": {}
        },
        {
          "output_type": "display_data",
          "data": {
            "text/plain": [
              "<IPython.core.display.Latex object>"
            ],
            "text/latex": "axis-symmetry : \\operatorname{Line2D}\\left(\\operatorname{Point2D}\\left(3, -4\\right), \\operatorname{Point2D}\\left(\\frac{9}{4}, -4 + \\frac{3 \\sqrt{3}}{4}\\right)\\right)"
          },
          "metadata": {}
        },
        {
          "output_type": "display_data",
          "data": {
            "text/plain": [
              "<IPython.core.display.Latex object>"
            ],
            "text/latex": "directrix : \\operatorname{Line2D}\\left(\\operatorname{Point2D}\\left(\\frac{15}{4}, -4 - \\frac{3 \\sqrt{3}}{4}\\right), \\operatorname{Point2D}\\left(\\frac{15}{4} - \\frac{3 \\sqrt{3}}{4}, - \\frac{19}{4} - \\frac{3 \\sqrt{3}}{4}\\right)\\right)"
          },
          "metadata": {}
        },
        {
          "output_type": "display_data",
          "data": {
            "text/plain": [
              "<IPython.core.display.Latex object>"
            ],
            "text/latex": "Parabola-eq : \\frac{\\left(y + \\sqrt{3} \\left(x - 3\\right) + 4\\right)^{2}}{4} = - 3 x + 3 \\sqrt{3} \\left(y + 4\\right) + 9"
          },
          "metadata": {}
        },
        {
          "output_type": "display_data",
          "data": {
            "text/plain": [
              "<IPython.core.display.Latex object>"
            ],
            "text/latex": "Directrix-eq : \\frac{3 x}{4} - \\frac{3 \\sqrt{3} y}{4} = \\frac{9}{2} + 3 \\sqrt{3}"
          },
          "metadata": {}
        },
        {
          "output_type": "display_data",
          "data": {
            "text/plain": [
              "<IPython.core.display.Latex object>"
            ],
            "text/latex": "Ax-sym-eq : - \\frac{3 \\sqrt{3} x}{4} - \\frac{3 y}{4} = 3 - \\frac{9 \\sqrt{3}}{4}"
          },
          "metadata": {}
        },
        {
          "output_type": "stream",
          "name": "stdout",
          "text": [
            "\n"
          ]
        },
        {
          "output_type": "display_data",
          "data": {
            "text/plain": [
              "<Figure size 640x480 with 1 Axes>"
            ],
            "image/png": "[encoded data removed]"
          },
          "metadata": {}
        }
      ]
    }
  ]
}
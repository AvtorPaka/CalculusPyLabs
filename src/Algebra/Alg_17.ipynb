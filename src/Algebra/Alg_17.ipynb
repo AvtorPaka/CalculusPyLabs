{
  "cells": [
    {
      "cell_type": "code",
      "execution_count": null,
      "metadata": {
        "id": "icrkYljeEln7"
      },
      "outputs": [],
      "source": [
        "import sympy\n",
        "from sympy import Matrix, S, Symbol, symbols, I, zeros, eye\n",
        "from sympy import simplify, expand, expand_complex, latex\n",
        "import numpy as np\n",
        "from IPython.display import Latex, display\n",
        "import scipy\n",
        "import scipy.linalg\n",
        "import pandas as pd\n",
        "from sympy import matrix2numpy\n",
        "from google.colab import files"
      ]
    },
    {
      "cell_type": "markdown",
      "metadata": {
        "id": "t-ZvhFPEEln9"
      },
      "source": [
        "# Практическое занятие 17 Демченко Георгий Павлович\n",
        "# Компьютерный практикум по алгебре на Python\n",
        "## Матричные разложения: Холецкого, LDL, LU, QR. Жорданова форма."
      ]
    },
    {
      "cell_type": "markdown",
      "metadata": {
        "id": "iLYVC4z3Eln-"
      },
      "source": [
        "### Задание 1.\n",
        "Построить разложение Холецкого матриц\n",
        "$$\n",
        "M1=\\left(\n",
        "\\begin{matrix}\n",
        "1&-3&0\\\\\n",
        "-3&-2&10\\\\\n",
        "0&10&7\n",
        "\\end{matrix}\n",
        "\\right)\n",
        "\\quad\n",
        "M2=\\left(\n",
        "\\begin{matrix}\n",
        "18&1 - 2I& -2\\\\\n",
        "1 + 2I&4&-3I\\\\\n",
        "-2&3I&5\n",
        "\\end{matrix}\n",
        "\\right)\n",
        "$$\n",
        "Проверить положительную определенность эрмитовой матрицы."
      ]
    },
    {
      "cell_type": "code",
      "execution_count": null,
      "metadata": {
        "id": "x_DwFmtII5mG"
      },
      "outputs": [],
      "source": [
        "# @title Функция для проверки существования разложения Холецкого и его нахождения\n",
        "def CheckCholesky(matrix, needToCheckErmit = False):\n",
        "  if (needToCheckErmit and not matrix.is_positive_definite):\n",
        "    display(Latex(fr\"\\text{{Эрмитова матрица не имеет положительной определенности, разложение Холецкого невозможно}}\"))\n",
        "    return (None, None)\n",
        "  if (not matrix.is_symmetric() and not needToCheckErmit):\n",
        "    display(Latex(fr\"\\text{{Матрица не является симметричной, разложение Холецкого невозможно.}}\"))\n",
        "    return (None, None)\n",
        "\n",
        "  L_mx = sympy.simplify(matrix.cholesky(hermitian = needToCheckErmit))\n",
        "  Cholesky_decomposition = sympy.simplify(L_mx * L_mx.H) if  needToCheckErmit else sympy.simplify(L_mx * L_mx.T)\n",
        "  display(*[Latex(fr\"L \\  = \\  {latex(L_mx)}\"), Latex(fr\"L \\cdot L^{'H' if needToCheckErmit else 'T'} \\ = {latex(Cholesky_decomposition)}\")])\n",
        "  return (L_mx, Cholesky_decomposition)"
      ]
    },
    {
      "cell_type": "code",
      "execution_count": null,
      "metadata": {
        "colab": {
          "base_uri": "https://localhost:8080/",
          "height": 320
        },
        "id": "LnSv8-gKkaXJ",
        "outputId": "dd24dccc-d8ae-4403-b23b-be7b8efe0fd9"
      },
      "outputs": [],
      "source": [
        "M_1 = Matrix([[1, -3, 0], [-3, -2, 10], [0, 10, 7]])\n",
        "M_2 = Matrix([[18, 1 - 2 * I, -2], [1 + 2 * I, 4, -3 * I], [-2, 3 * I, 5]])\n",
        "\n",
        "display(Latex(fr\"\\text{{[1].}} M_{1}\"))\n",
        "L_m1, Check_m1 = CheckCholesky(M_1)\n",
        "display(Latex(fr\"\\text{{[2].}} M_{2}\"))\n",
        "L_m2, Check_m2 = CheckCholesky(M_2, True)"
      ]
    },
    {
      "cell_type": "markdown",
      "metadata": {
        "id": "qrvNv_U7EloA"
      },
      "source": [
        "### Задание 2.\n",
        "Построить  LDL разложение для матриц Задания 1."
      ]
    },
    {
      "cell_type": "code",
      "execution_count": null,
      "metadata": {
        "id": "nI6AdwUAI11a"
      },
      "outputs": [],
      "source": [
        "# @title Функция для проверки существования LDL разложения и его нахождения\n",
        "def LDLDecomposition(matrix, ermitMx = False):\n",
        "  if (ermitMx and not matrix.is_positive_definite):\n",
        "    display(Latex(fr\"\\text{{Эрмитова матрица не имеет положительной определенности, LDL разложение невозможно}}\"))\n",
        "    return (None, None, None)\n",
        "  if (not matrix.is_symmetric() and not ermitMx):\n",
        "    display(Latex(fr\"\\text{{Матрица не является симметричной, LDL разложение невозможно.}}\"))\n",
        "    return (None, None, None)\n",
        "  L_mx, D_mx = [sympy.simplify(mx) for mx in matrix.LDLdecomposition(hermitian = ermitMx)]\n",
        "  LDL_decomposition = sympy.simplify(L_mx * D_mx * L_mx.H) if ermitMx else sympy.simplify(L_mx * D_mx * L_mx.T)\n",
        "  display(*[Latex(fr\"L \\  = \\  {latex(L_mx)}\"), Latex(fr\"D \\ =  \\ {latex(D_mx)}\"), Latex(fr\"L \\cdot D \\cdot L^{'H' if ermitMx else 'T'} \\ = {latex(LDL_decomposition)}\")])\n",
        "  return (L_mx, D_mx, LDL_decomposition)"
      ]
    },
    {
      "cell_type": "code",
      "execution_count": null,
      "metadata": {
        "colab": {
          "base_uri": "https://localhost:8080/",
          "height": 428
        },
        "id": "FvDYSq0-kbvo",
        "outputId": "635d4cee-eca1-4387-bdd8-4bbaa74bff21"
      },
      "outputs": [],
      "source": [
        "display(Latex(fr\"\\text{{[1].}} M_{1}\"))\n",
        "L_m1, D_m1, Check_m1 = LDLDecomposition(M_1)\n",
        "display(Latex(fr\"\\text{{[2].}} M_{2}\"))\n",
        "L_m2, D_m2, Check_m2 = LDLDecomposition(M_2 , True)"
      ]
    },
    {
      "cell_type": "markdown",
      "metadata": {
        "id": "FVp0Db5lEloB"
      },
      "source": [
        "### Задание  3.\n",
        "Построить  LU разложение для матрицы\n",
        "$$\n",
        "V=\\left(\n",
        "\\begin{matrix}\n",
        "5&-2 - I&3 - 4I&1 + 4I\\\\\n",
        "1 - I&-2&5 - I&2 - I\\\\\n",
        "5&6 + I&0&5\n",
        "\\end{matrix}\n",
        "\\right)\n",
        "$$"
      ]
    },
    {
      "cell_type": "code",
      "execution_count": null,
      "metadata": {
        "id": "N-852saOkdKH"
      },
      "outputs": [],
      "source": [
        "# @title Функция для нахождения LU разложения произвольой матрицы\n",
        "def LUDecomposition(matrix):\n",
        "  LU_decomposition = None\n",
        "  L_mx, U_mx = [sympy.simplify(expand(mx)) for mx in matrix.LUdecomposition()[:2]]\n",
        "  perm_lst = matrix.LUdecomposition()[-1];\n",
        "  if (len(perm_lst) == 0):\n",
        "    LU_decomposition = L_mx * U_mx\n",
        "    # return (L_mx, U_mx, LU_decomposition)\n",
        "  no_rows, no_columns = matrix.shape\n",
        "  LU_decomposition = simplify(expand((L_mx * U_mx).permuteBkwd(perm_lst)))\n",
        "  display(*[Latex(fr\"L \\  = \\  {latex(L_mx)}\"), Latex(fr\"U \\ =  \\ {latex(U_mx)}\"), Latex(fr\"\\text{{permutations =}} {latex(perm_lst)}\"),Latex(fr\"L \\cdot U {'with permutations' if len(perm_lst) != 0 else ''} \\ = {latex(LU_decomposition)}\")])\n",
        "  return (L_mx, U_mx, LU_decomposition)"
      ]
    },
    {
      "cell_type": "code",
      "execution_count": null,
      "metadata": {
        "colab": {
          "base_uri": "https://localhost:8080/",
          "height": 221
        },
        "id": "PdK1EG08JxqB",
        "outputId": "c1d05a31-45c7-4584-9e77-bb3a28d43b96"
      },
      "outputs": [],
      "source": [
        "V_mx = Matrix([[5, -2 - I, 3 - 4 * I, 1 + 4 * I],\n",
        "               [1 - I, -2, 5 - I, 2 - I],\n",
        "               [5, 6 + I, 0 , 5]])\n",
        "\n",
        "L_v, U_v, Check_v = LUDecomposition(V_mx)"
      ]
    },
    {
      "cell_type": "markdown",
      "metadata": {
        "id": "w9-3cXYHEloC"
      },
      "source": [
        "### Задание  4.\n",
        "Построить  QR разложение для матрицы\n",
        "$$\n",
        "A=\\left(\n",
        "\\begin{matrix}\n",
        "3 + i&  2 & -i & 4 - 2i\\\\\n",
        "-2 & -3 &  i & -3 + i\\\\\n",
        "1 + i & -1 &  0 & 1 - i\\\\\n",
        "-1 + i &  -4 & i & -2\n",
        "\\end{matrix}\n",
        "\\right)\n",
        "$$\n",
        "показать, что $A = QR$."
      ]
    },
    {
      "cell_type": "code",
      "execution_count": null,
      "metadata": {
        "id": "kncVPg70kezP"
      },
      "outputs": [],
      "source": [
        "# @title Функция для нахождения QR разложения матрицы\n",
        "def QRDecompositionSympy(matrix, needSimplify = False):\n",
        "  if (needSimplify):\n",
        "    Q_mx, R_mx = [simplify(expand(mx)) for mx in matrix.QRdecomposition()]\n",
        "    QR_decomposition = sympy.simplify(expand(Q_mx * R_mx))\n",
        "  else:\n",
        "    Q_mx, R_mx = matrix.QRdecomposition()\n",
        "    QR_decomposition = simplify(Q_mx * R_mx)\n",
        "  display(*[Latex(fr\"Q \\  = \\  {latex(Q_mx)}\"), Latex(fr\"R \\ =  \\ {latex(R_mx)}\"), Latex(fr\"Q \\cdot R = {latex(QR_decomposition)}\")])\n",
        "  return (Q_mx, R_mx, QR_decomposition)\n",
        "\n",
        "\n",
        "def QRDecompositionNumPy(matrix):\n",
        "  Q_mx, R_mx = scipy.linalg.qr(matrix)\n",
        "  QR_decomposition = Q_mx @ R_mx\n",
        "  display(Latex(\"\"\"Q = {},\\\\\\\\ R = {}\"\"\".format(*map(latex, map(Matrix, (Q_mx, R_mx))))))\n",
        "  return (Q_mx, R_mx, QR_decomposition)"
      ]
    },
    {
      "cell_type": "code",
      "execution_count": null,
      "metadata": {
        "colab": {
          "base_uri": "https://localhost:8080/",
          "height": 615
        },
        "id": "7CD5UOR4RmiR",
        "outputId": "64620d75-619f-4208-8a4e-5b15f25c7818"
      },
      "outputs": [],
      "source": [
        "# При попытке упроситить числа в матрице с использованием simplify и expand получаются NaN, которые невозможно преобразовать к числам и приближенно посчитать\n",
        "A_mx = Matrix([[3 + I, 2, -I, 4 - 2 * I],\n",
        "            [-2, -3, I, -3 + I],\n",
        "            [1 + I, - 1, 0, 1 - I],\n",
        "            [-1 + I, -4, I, -2]])\n",
        "\n",
        "A_mx_np = np.array([[3 + 1j, 2, -1j, 4 - 2 * 1j],\n",
        "                    [-2, -3, 1j, -3 + 1j],\n",
        "                    [1 + 1j, -1, 0, 1 - 1j],\n",
        "                    [-1 + 1j, -4, 1j, -2]])\n",
        "\n",
        "display(Latex(fr\"\\text{{[1]. Применяя QR разложение через sympy:}}\"))\n",
        "Q_a, R_a, Check_a = QRDecompositionSympy(A_mx)\n",
        "display(Latex(fr\"\\text{{[2]. Применяя QR разложение через numpy:}}\"))\n",
        "Q_a_2, R_a_2, Check_a_2 = QRDecompositionNumPy(A_mx_np)"
      ]
    },
    {
      "cell_type": "markdown",
      "metadata": {
        "id": "gTTZBv9tEloE"
      },
      "source": [
        "### Задание  5.\n",
        "Найти SVD c sympy и numpy\n",
        "$$\n",
        "\\left(\n",
        "\\begin{matrix}\n",
        "1 & 0 & 0 & -2\\\\\n",
        "0 & 1 & 0 & 1\\\\\n",
        "0 & 0 & 3 & 1\n",
        "\\end{matrix}\n",
        "\\right)\n",
        "$$"
      ]
    },
    {
      "cell_type": "code",
      "execution_count": null,
      "metadata": {
        "colab": {
          "base_uri": "https://localhost:8080/",
          "height": 112
        },
        "id": "xxchQJQqlpMH",
        "outputId": "ac684eb8-1b73-4788-be2e-bff72e70a7c6"
      },
      "outputs": [],
      "source": [
        "# Будем находить через sympy\n",
        "Mx_5 = Matrix([[1, 0 , 0, -2], [0 , 1, 0, 1], [0, 0, 3, 1]])\n",
        "\n",
        "Mx_pow_2 = Mx_5.T * Mx_5\n",
        "lstEnums = [Mx_pow_2.eigenvects()[i][0] for i in range(len(Mx_pow_2.eigenvects()))]\n",
        "lstEVecs = [Mx_pow_2.eigenvects()[i][2][j] for i in range(len(Mx_pow_2.eigenvects())) for j in range(len(Mx_pow_2.eigenvects()[i][2]))]\n",
        "lst_norm_vec = [vector.normalized() for vector in lstEVecs]\n",
        "e0, e11, e12, e4 = lst_norm_vec\n",
        "\n",
        "e120 = e12\n",
        "e12 = (e12 - e11.dot(e12) * e11).normalized()\n",
        "P = e4.row_join(e11).row_join(e12).row_join(e0)\n",
        "e11, e12 = sympy.matrices.dense.GramSchmidt([e11, e120], orthonormal=True)\n",
        "\n",
        "sigma = (2, 1, 1)\n",
        "f1, f2, f3 = [Mx_5 * ei / sigma[i] for i, ei in enumerate((e4, e11, e12))]\n",
        "Q = f1.row_join(f2).row_join(f3)\n",
        "Sig = sympy.Matrix([[2, 0, 0, 0], [0, 1, 0, 0], [0, 0, 1, 0]])\n",
        "display(Latex('Q = {}, Sig = {},P = {}, Q  Sig  P^T = {}'.format(*map(latex, (Q, Sig, P, Q * Sig * P.T)))))"
      ]
    },
    {
      "cell_type": "markdown",
      "metadata": {
        "id": "HwVVeXkOlpc3"
      },
      "source": [
        "## Задача 6*\n",
        "Считать из файла \"matrix_task_6.xlsx\" матрицу $A$, построить для нее разложение lu, ldl и qr. Все полученные матрицы записать в файл \"matrix_task_6_ans.xlsx\" на отдельные листы"
      ]
    },
    {
      "cell_type": "code",
      "execution_count": null,
      "metadata": {
        "colab": {
          "base_uri": "https://localhost:8080/",
          "height": 73
        },
        "id": "XjlzKJr4lsOI",
        "outputId": "b94bfadc-5b4e-479d-fa55-335093f7ad3c"
      },
      "outputs": [],
      "source": [
        "uploaded_files_dct = files.upload()\n",
        "file_name = [name for name in uploaded_files_dct.keys()][0]\n",
        "matrix_df = pd.read_excel(file_name, sheet_name = \"Sheet1\", header = None)\n",
        "matrix_sympy = sympy.Matrix(matrix_df.to_numpy())"
      ]
    },
    {
      "cell_type": "code",
      "execution_count": null,
      "metadata": {
        "colab": {
          "base_uri": "https://localhost:8080/",
          "height": 864
        },
        "id": "Ms7kdnlSW_MV",
        "outputId": "cbe1a17c-3b4d-4f55-cab1-3a341da0be42"
      },
      "outputs": [],
      "source": [
        "# Заметим, что числа матрицы в эксель таблице заданы произвольно в промежутке от -10 до 10 :D, поэтому при каждом новом скачивании будет получается произвольная матрица\n",
        "display(Latex(fr\"\\text{{[0]. Исходная матрица:}} {latex(matrix_sympy)}\"))\n",
        "display(Latex(fr\"\\text{{[1]. LU разложение:}}\"))\n",
        "L_ind, U_ind, mx_check = LUDecomposition(matrix_sympy)\n",
        "display(Latex(fr\"\\text{{[2]. LDL разложение:}}\"))\n",
        "L_ind_2, D_ind, mx_check_2 = LDLDecomposition(matrix_sympy)\n",
        "display(Latex(fr\"\\text{{[3]. QR разложение:}}\"))\n",
        "Q_ind, R_ind, mx_check_3 = QRDecompositionSympy(matrix_sympy, True)\n",
        "\n",
        "lst_mx_data = [(L_ind, \"L\"), (U_ind, \"U\"), (mx_check, \"Matrix check LU\"), (Q_ind, \"Q\"), (R_ind, \"R\"), (mx_check_3, \"Matrix check QR\")]\n",
        "\n",
        "file_name_load = \"matrix_task_6_ans.xlsx\"\n",
        "with pd.ExcelWriter(file_name_load, mode = \"w\") as writer_w:\n",
        "  matrix_df.to_excel(writer_w, sheet_name = \"Matrix\", header = False, index = False)\n",
        "\n",
        "with pd.ExcelWriter(file_name_load, mode = \"a\") as writer_2:\n",
        "  for i in range(len(lst_mx_data)):\n",
        "    cur_mx, cur_name = lst_mx_data[i]\n",
        "    cur_np_array = np.array(cur_mx.tolist()).astype(np.float64)\n",
        "    cur_df = pd.DataFrame(data = cur_np_array)\n",
        "    cur_df.to_excel(writer_2, sheet_name = cur_name, header = False, index = False)\n",
        "\n",
        "files.download(file_name_load)"
      ]
    }
  ],
  "metadata": {
    "colab": {
      "provenance": []
    },
    "kernelspec": {
      "display_name": "Python 3",
      "language": "python",
      "name": "python3"
    },
    "language_info": {
      "codemirror_mode": {
        "name": "ipython",
        "version": 3
      },
      "file_extension": ".py",
      "mimetype": "text/x-python",
      "name": "python",
      "nbconvert_exporter": "python",
      "pygments_lexer": "ipython3",
      "version": "3.7.3"
    }
  },
  "nbformat": 4,
  "nbformat_minor": 0
}

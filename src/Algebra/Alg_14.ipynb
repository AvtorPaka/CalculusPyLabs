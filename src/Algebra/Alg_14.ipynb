{
  "cells": [
    {
      "cell_type": "code",
      "execution_count": null,
      "metadata": {
        "id": "nVsRFN7HPrjP"
      },
      "outputs": [],
      "source": [
        "import sympy\n",
        "from sympy import Eq, S, latex, plot_implicit, Matrix, symbols\n",
        "from sympy import simplify, expand, collect, solve, solveset\n",
        "from sympy import pi as Pi\n",
        "from sympy import cos as Cos\n",
        "from sympy import sin as Sin\n",
        "import numpy as np\n",
        "import pandas as pd\n",
        "from IPython.display import Latex\n",
        "from google.colab import files"
      ]
    },
    {
      "cell_type": "markdown",
      "metadata": {
        "id": "iy2K466yPrjR"
      },
      "source": [
        "# Практическое занятие 14\n",
        "# Компьютерный практикум по алгебре на Python\n",
        "### Задание 1.\n",
        "Составить матрицу квадратичной формы $16x^2-21y^2+3z^2-4xy-4xz+10yz$, проверить, что она определяет именно заданный многочлен.\n",
        "\n"
      ]
    },
    {
      "cell_type": "code",
      "execution_count": null,
      "metadata": {
        "colab": {
          "base_uri": "https://localhost:8080/",
          "height": 100
        },
        "id": "_U0A19rog2_l",
        "outputId": "00c767b2-9c5d-423c-822c-5618b0b0638a"
      },
      "outputs": [],
      "source": [
        "x, y, z = sympy.symbols('x y z')\n",
        "A = Matrix([[16, -2, -2], [-2, -21, 5], [-2, 5, 3]])\n",
        "X = Matrix([x, y, z])\n",
        "u = 16 * x **2 - 21 * y**2 + 3 * z**2 - 4 * x * y - 4 * x * z + 10 * y * z\n",
        "checkPolynomial = sympy.simplify(expand(X.T * A * X)[0])\n",
        "display(Latex(fr\"u = {latex(u)}, \\quad A = {latex(A)}\"))\n",
        "display(Latex(fr\"X^T A X = {latex(checkPolynomial )}, \\quad X^T A X - u = {latex(checkPolynomial - u)}\"))"
      ]
    },
    {
      "cell_type": "markdown",
      "metadata": {
        "id": "5SjHvz59du7t"
      },
      "source": [
        "### Задание 2.\n",
        "Заданы векторы  $e_1=(1, 0, 1)$, $e_2=(-1, 0, 1)$, $e_1=(0, 1, 0)$.\n",
        "Вывести (используя цикл!) на экран матрицу квадратичной формы Задания 1 в новом базисе из векторов\n",
        "\n",
        "\n",
        "1.   ($e_1$, $e_2$, $e_3$),\n",
        "2.   ($e_1$, $e_2 - e_1$, $e_3$),\n",
        "3.   ($e_1$, $e_2$, $e_3 - e_1$),\n",
        "4.   ($e_1$, $e_2 - e_1$, $e_3 - e_1$),\n",
        "5.   ($e_1 + e_2$, $e_2$, $e_3 + e_2$),\n",
        "\n",
        "при этом в файл \"task2.xlsx\" записать на листы $A_1$, $A_2$, ... матрицы в новом базисе, а на листы  $P_1$, $P_2$, ... соответствующие матрицы перехода."
      ]
    },
    {
      "cell_type": "code",
      "execution_count": 52,
      "metadata": {
        "colab": {
          "base_uri": "https://localhost:8080/",
          "height": 322
        },
        "id": "4AbF-qRtg4MD",
        "outputId": "daefaf76-3932-498a-e039-d8fa19907e0a"
      },
      "outputs": [
        {
          "data": {
            "text/latex": [
              "A_1 = \\left[\\begin{matrix}15 & -13 & 3\\\\-13 & 23 & 7\\\\3 & 7 & -21\\end{matrix}\\right]"
            ],
            "text/plain": [
              "<IPython.core.display.Latex object>"
            ]
          },
          "metadata": {},
          "output_type": "display_data"
        },
        {
          "data": {
            "text/latex": [
              "A_2 = \\left[\\begin{matrix}15 & -28 & 3\\\\-28 & 64 & 4\\\\3 & 4 & -21\\end{matrix}\\right]"
            ],
            "text/plain": [
              "<IPython.core.display.Latex object>"
            ]
          },
          "metadata": {},
          "output_type": "display_data"
        },
        {
          "data": {
            "text/latex": [
              "A_3 = \\left[\\begin{matrix}15 & -13 & -12\\\\-13 & 23 & 20\\\\-12 & 20 & -12\\end{matrix}\\right]"
            ],
            "text/plain": [
              "<IPython.core.display.Latex object>"
            ]
          },
          "metadata": {},
          "output_type": "display_data"
        },
        {
          "data": {
            "text/latex": [
              "A_4 = \\left[\\begin{matrix}15 & -28 & -12\\\\-28 & 64 & 32\\\\-12 & 32 & -12\\end{matrix}\\right]"
            ],
            "text/plain": [
              "<IPython.core.display.Latex object>"
            ]
          },
          "metadata": {},
          "output_type": "display_data"
        },
        {
          "data": {
            "text/latex": [
              "A_5 = \\left[\\begin{matrix}12 & 10 & 20\\\\10 & 23 & 30\\\\20 & 30 & 16\\end{matrix}\\right]"
            ],
            "text/plain": [
              "<IPython.core.display.Latex object>"
            ]
          },
          "metadata": {},
          "output_type": "display_data"
        },
        {
          "data": {
            "application/javascript": "\n    async function download(id, filename, size) {\n      if (!google.colab.kernel.accessAllowed) {\n        return;\n      }\n      const div = document.createElement('div');\n      const label = document.createElement('label');\n      label.textContent = `Downloading \"${filename}\": `;\n      div.appendChild(label);\n      const progress = document.createElement('progress');\n      progress.max = size;\n      div.appendChild(progress);\n      document.body.appendChild(div);\n\n      const buffers = [];\n      let downloaded = 0;\n\n      const channel = await google.colab.kernel.comms.open(id);\n      // Send a message to notify the kernel that we're ready.\n      channel.send({})\n\n      for await (const message of channel.messages) {\n        // Send a message to notify the kernel that we're ready.\n        channel.send({})\n        if (message.buffers) {\n          for (const buffer of message.buffers) {\n            buffers.push(buffer);\n            downloaded += buffer.byteLength;\n            progress.value = downloaded;\n          }\n        }\n      }\n      const blob = new Blob(buffers, {type: 'application/binary'});\n      const a = document.createElement('a');\n      a.href = window.URL.createObjectURL(blob);\n      a.download = filename;\n      div.appendChild(a);\n      a.click();\n      div.remove();\n    }\n  ",
            "text/plain": [
              "<IPython.core.display.Javascript object>"
            ]
          },
          "metadata": {},
          "output_type": "display_data"
        },
        {
          "data": {
            "application/javascript": "download(\"download_fa5e42d9-032c-4551-a82e-b28bc0e7eee9\", \"task2.xlsx\", 9742)",
            "text/plain": [
              "<IPython.core.display.Javascript object>"
            ]
          },
          "metadata": {},
          "output_type": "display_data"
        }
      ],
      "source": [
        "# Функция для составления матрицы перехода по n-ому количеству базисных векторов\n",
        "def CreateTransformMatrix(lstBazisVecs):\n",
        "  mx = Matrix([])\n",
        "  for i in range(len(lstBazisVecs)):\n",
        "    mx = mx.row_join(lstBazisVecs[i])\n",
        "  return mx\n",
        "\n",
        "e_1 = Matrix([1, 0, 1])\n",
        "e_2 = Matrix([-1, 0, 1])\n",
        "e_3 = Matrix([0, 1, 0])\n",
        "lstVecData = [[e_1, e_2, e_3], [e_1, e_2 - e_1, e_3], [e_1, e_2, e_3 - e_1], [e_1, e_2 - e_1, e_3 - e_1], [e_1 + e_2, e_2, e_3 + e_2]]\n",
        "\n",
        "file_name_cur = \"task2.xlsx\"\n",
        "with pd.ExcelWriter(file_name_cur, mode = \"w\") as witer_w:\n",
        "  df_plug = pd.DataFrame([])\n",
        "  df_plug.to_excel(witer_w, sheet_name = 'Blank', header = False, index = False)\n",
        "\n",
        "with pd.ExcelWriter(file_name_cur, mode = \"a\") as writer_2:\n",
        "  for i in range(len(lstVecData)):\n",
        "    P_cur = CreateTransformMatrix(lstVecData[i])\n",
        "\n",
        "    P_cur_np = np.array(P_cur).astype(np.float64)\n",
        "    A_new_np = np.array(P_cur.T * A * P_cur).astype(np.float64)\n",
        "    A_new_df = pd.DataFrame(A_new_np)\n",
        "    P_cur_df = pd.DataFrame(P_cur_np)\n",
        "\n",
        "    A_new_df.to_excel(writer_2, sheet_name = f\"A{i + 1}\", index = False, header = False)\n",
        "    P_cur_df.to_excel(writer_2, sheet_name = f\"P{i + 1}\", index = False, header = False)\n",
        "\n",
        "    display(Latex(fr\"A_{(i + 1)} = {latex(P_cur.T * A * P_cur)}\"))\n",
        "\n",
        "files.download(file_name_cur)"
      ]
    },
    {
      "cell_type": "markdown",
      "metadata": {
        "id": "9UM-8WNdPrjW"
      },
      "source": [
        "### Задание 3.\n",
        "В цикле из файла \"task3.xlsx\" считать матрицы, вывести на экран каждую матрицу и ее собственные числа и собственные векторы."
      ]
    },
    {
      "cell_type": "code",
      "execution_count": null,
      "metadata": {
        "colab": {
          "base_uri": "https://localhost:8080/",
          "height": 73
        },
        "id": "Ufyv8VbCg5SP",
        "outputId": "0193e47e-19ab-4d85-ef66-88c8a6e64e6d"
      },
      "outputs": [],
      "source": [
        "uploaded_files_dct = files.upload()\n",
        "file_name = [name for name in uploaded_files_dct.keys()][0]\n",
        "\n",
        "lstMatrix= []\n",
        "for i in range(5):\n",
        "  tmpMatrixDf = pd.read_excel(file_name, sheet_name = f\"A{i + 1}\", header = None)\n",
        "  tmpMatrix = sympy.Matrix(tmpMatrixDf.to_numpy())\n",
        "  lstMatrix.append(tmpMatrix)"
      ]
    },
    {
      "cell_type": "code",
      "execution_count": null,
      "metadata": {
        "colab": {
          "base_uri": "https://localhost:8080/",
          "height": 1000
        },
        "id": "ozDJ3W4Cs4zv",
        "outputId": "ba3934c1-e4d1-437b-d35b-5f68d1d399ad"
      },
      "outputs": [],
      "source": [
        "for i in range(len(lstMatrix)):\n",
        "  display(Latex(fr\"[{latex(i + 1)}]. \\ A_{latex(i + 1)} = {latex(lstMatrix[i])}\"))\n",
        "  lstEigenNums = [vecData[0] for vecData in lstMatrix[i].eigenvects()]\n",
        "  lstEigenVecs = [vecData[2][j].T for vecData in lstMatrix[i].eigenvects() for j in range(len(vecData[2]))]\n",
        "  display(Latex(fr\"\\text{{Собственные числа:}} {latex(lstEigenNums)}\"))\n",
        "  display(Latex(fr\"\\text{{Собственные вектора:}}\"))\n",
        "  for vec in lstEigenVecs:\n",
        "    display(Latex(fr\"{latex(vec)}\"))\n",
        "  print()"
      ]
    },
    {
      "cell_type": "markdown",
      "metadata": {
        "id": "PalqMShnV6wN"
      },
      "source": [
        "### Задание 4.\n",
        "Привести квадратичную форму с матрицей\n",
        "$$\n",
        "\\left[\\begin{matrix}-645 & -12 & -960\\\\-12 & 3 & 9\\\\-960 & 9 & -1205\\end{matrix}\\right]\n",
        "$$\n",
        "к каноническому виду с помощью перехода к новому базису из собственных векторов.\n",
        "\n",
        "Вывести на экран матрицу перехода к новому базису, матрицу квадратичной формы в новом базисе и квадратичную форму в старом и новом базисе (в виде многочлена от переменных $x$, $y$, $z$)."
      ]
    },
    {
      "cell_type": "code",
      "execution_count": null,
      "metadata": {
        "colab": {
          "base_uri": "https://localhost:8080/",
          "height": 254
        },
        "id": "7wmrB6odg64Z",
        "outputId": "74e1e09d-483a-4497-ad6a-b71825c0bfe3"
      },
      "outputs": [],
      "source": [
        "# Функция для нахождения матрицы перехода в базис из собственных нормированных векторов\n",
        "def EigenTransitionMx(mx):\n",
        "  lstEigenData = mx.eigenvects()\n",
        "  transitionMx = Matrix()\n",
        "  for i in range(len(lstEigenData)):\n",
        "    for eVec in lstEigenData[i][2]:\n",
        "      transitionMx = transitionMx.row_join(eVec.normalized())\n",
        "  return transitionMx\n",
        "\n",
        "X = Matrix([x, y, z])\n",
        "A_4 = Matrix([[-645, -12, -960], [-12, 3, 9], [-960, 9, -1205]])\n",
        "P_4 = EigenTransitionMx(A_4)\n",
        "oldQuadForm = sympy.simplify(expand(X.T * A_4 * X)[0])\n",
        "A_4_new = P_4.T * A_4 * P_4\n",
        "newQuadForm = sympy.simplify(expand(X.T * A_4_new * X)[0])\n",
        "display(Latex(fr\"A = {latex(A_4)}\"))\n",
        "display(Latex(fr\"u = {latex(oldQuadForm)}\"))\n",
        "display(Latex(fr\"\\text{{Матрица перехода к новому базису P = }} {latex(P_4)}\"))\n",
        "display(Latex(fr\"A_{{new}} \\ = {latex(A_4_new)}\"))\n",
        "display(Latex(fr\"u_{{new}} = {latex(newQuadForm)}\"))"
      ]
    },
    {
      "cell_type": "markdown",
      "metadata": {
        "id": "D7VmR2N5PrjY"
      },
      "source": [
        "### Задание 5*.\n",
        "Определить тип кривой второго порядка, заданной уравнением\n",
        "$$\n",
        "97x^2 - 144xy + 97y^2 + 482x - 532y = 3452\n",
        "$$\n",
        "Построить в одной координатной плоскости график заданного уравнения и канонического уравнения соответствующей кривой, каноническое уравнение сделать названием графика."
      ]
    },
    {
      "cell_type": "code",
      "execution_count": 139,
      "metadata": {
        "colab": {
          "base_uri": "https://localhost:8080/",
          "height": 509
        },
        "id": "PSszsSEpg8aX",
        "outputId": "898a5d8a-1747-4870-8211-fbd6476cf732"
      },
      "outputs": [
        {
          "data": {
            "image/png": "[encoded data removed]",
            "text/plain": [
              "<Figure size 640x480 with 1 Axes>"
            ]
          },
          "metadata": {},
          "output_type": "display_data"
        },
        {
          "data": {
            "text/latex": [
              "\\text{Тип кривой второго порядкa } 97 x^{2} - 144 x y + 482 x + 97 y^{2} - 532 y - 3456 = 0 \\ \\text{- Элипс}"
            ],
            "text/plain": [
              "<IPython.core.display.Latex object>"
            ]
          },
          "metadata": {},
          "output_type": "display_data"
        }
      ],
      "source": [
        "# Функция составляющая матрицу квадратичной формы по коэфиентам квадратичной формы 2-го порядка\n",
        "def ConvertQuadFormToMx(lstCoefs, needInt = True):\n",
        "  mxGrid = Matrix([[0] * 3 for i in range(3)])\n",
        "  lstDiagCoefs = [lstCoefs[i] for i in [0,2,5]]\n",
        "  lstNotDiagCoefs = [lstCoefs[i]/2 for i in [1, 3, 4]]\n",
        "  if (needInt):\n",
        "    lstNotDiagCoefs = [int(num) for num in lstNotDiagCoefs]\n",
        "  for i in range(len(lstDiagCoefs)):\n",
        "    mxGrid[i,i] = lstDiagCoefs[i]\n",
        "  mxGrid[1, 0] = lstNotDiagCoefs[0]\n",
        "  mxGrid[0, 1] = lstNotDiagCoefs[0]\n",
        "  mxGrid[0, 2] = lstNotDiagCoefs[1]\n",
        "  mxGrid[2, 0] = lstNotDiagCoefs[1]\n",
        "  mxGrid[2, 1] = lstNotDiagCoefs[2]\n",
        "  mxGrid[1, 2] = lstNotDiagCoefs[2]\n",
        "  return mxGrid\n",
        "\n",
        "# Функция для замены приближенных к нулю чисел после вычислений на 0\n",
        "def CorrectZeroRepr(mx):\n",
        "  for i in range(mx.shape[0]):\n",
        "    for j in range(mx.shape[1]):\n",
        "      if abs(mx[i, j]) < 10**(-13):\n",
        "        mx[i, j] = 0\n",
        "  return mx\n",
        "\n",
        "# Функция для преобразования уравнения к каноническому виду\n",
        "def ConvertToCanonical(eq):\n",
        "  freeCoef = eq.subs({'x': 0, 'y' : 0})\n",
        "  return Eq(eq/(-freeCoef) + 1, 1)\n",
        "\n",
        "X = Matrix([x, y, 1])\n",
        "quadForm5 = Eq(97 * x**2 - 144 * x * y + 97 * y**2 + 482 * x - 532 * y - 3456, 0)\n",
        "lstCoefs = [97, -144, 97, 482, -532, -3452]\n",
        "mxQuad5 = ConvertQuadFormToMx(lstCoefs, False)\n",
        "P_5 = EigenTransitionMx(mxQuad5)\n",
        "mxQuadNew5 = CorrectZeroRepr(P_5.T * mxQuad5 * P_5)\n",
        "quadFormNew5 = simplify(expand(X.T * mxQuadNew5 * X)[0])\n",
        "canonicalQuadForm5 = ConvertToCanonical(quadFormNew5)\n",
        "\n",
        "plt = plot_implicit(quadForm5, (x, -15, 15), (y, -15, 15),\n",
        "                  aspect_ratio = (1, 1),\n",
        "                  line_color='blue',\n",
        "                  xlabel='$x$', ylabel='$y$',\n",
        "                   title=f'{latex(canonicalQuadForm5, mode=\"inline\")}\\n',\n",
        "                   adaptive=False, show=False)\n",
        "plt.append((plot_implicit(canonicalQuadForm5, (x, -15, 15), (y, -15, 15),\n",
        "                       line_color='red', aspect_ratio = (1, 1),\n",
        "                        adaptive=False, show=False))[0])\n",
        "plt.show()\n",
        "\n",
        "display(Latex(fr\"\\text{{Тип кривой второго порядкa }} {latex(quadForm5)} \\ \\text{{- Элипс}}\"))"
      ]
    },
    {
      "cell_type": "markdown",
      "metadata": {
        "id": "goIfBxdUPrja"
      },
      "source": [
        "### Задание 6*.\n",
        "Определить тип кривой второго порядка, заданной уравнением\n",
        "$$\n",
        "x^2+2xy+y^2-4x+4y=4\n",
        "$$\n",
        "Построить в одной координатной плоскости график заданного уравнения и канонического уравнения соответствующей кривой, каноническое уравнение сделать названием графика.\n",
        "\n",
        "Указание: каноническое уравнение параболы $y^2 = 2px$ или $x^2 = 2py$; для того, чтобы выразить $x$ или $y$ можно воспользоваться solve или solveset."
      ]
    },
    {
      "cell_type": "code",
      "execution_count": 145,
      "metadata": {
        "colab": {
          "base_uri": "https://localhost:8080/",
          "height": 509
        },
        "id": "m2Ggtw7vg9az",
        "outputId": "d9c6939c-0223-4b1f-e81a-8ad82dfb15bb"
      },
      "outputs": [
        {
          "data": {
            "image/png": "[encoded data removed]",
            "text/plain": [
              "<Figure size 640x480 with 1 Axes>"
            ]
          },
          "metadata": {},
          "output_type": "display_data"
        },
        {
          "data": {
            "text/latex": [
              "\\text{Тип кривой второго порядкa } x^{2} + 2 x y - 4 x + y^{2} + 4 y - 4 = 0 \\ \\text{- Окружность/Элипс}"
            ],
            "text/plain": [
              "<IPython.core.display.Latex object>"
            ]
          },
          "metadata": {},
          "output_type": "display_data"
        }
      ],
      "source": [
        "X = Matrix([x, y, 1])\n",
        "quadForm6 = Eq(x**2 + 2 * x * y + y**2 -4 * x + 4 * y - 4, 0)\n",
        "lstCoefs = [1, 2, 1, -4, 4, -4]\n",
        "mxQuad6 = ConvertQuadFormToMx(lstCoefs, False)\n",
        "P_6 = EigenTransitionMx(mxQuad6)\n",
        "mxQuadNew6 = CorrectZeroRepr(P_6.T * mxQuad6 * P_6)\n",
        "quadNewForm6 = simplify(expand(X.T *mxQuadNew6 * X )[0])\n",
        "canonicalQuadForm6 = ConvertToCanonical(quadNewForm6)\n",
        "\n",
        "plt = plot_implicit(quadForm6, (x, -5, 20), (y, -20, 5),\n",
        "                  line_color='blue',\n",
        "                  xlabel='$x$', ylabel='$y$',\n",
        "                   title=f'{latex(canonicalQuadForm6, mode=\"inline\")}\\n',\n",
        "                   adaptive=False, show=False)\n",
        "plt.append((plot_implicit(canonicalQuadForm6, (x, -5, 20), (y, -20, 5),\n",
        "                       line_color='red',\n",
        "                        adaptive=False, show=False))[0])\n",
        "plt.show()\n",
        "\n",
        "display(Latex(fr\"\\text{{Тип кривой второго порядкa }} {latex(quadForm6)} \\ \\text{{- Окружность/Элипс}}\"))"
      ]
    },
    {
      "cell_type": "markdown",
      "metadata": {
        "id": "WM4LDoZIPrjc"
      },
      "source": [
        "###  Индивидуальное задание\n",
        "Составить матрицу квадратичной формы и привести ее к каноническому виду с помощью перехода к новому базису из собственных векторов. Векторы выводить на экран не нужно. Вывести на экран матрицу в исходном виде и канонической форме, а также саму квадратичную форму в каноническом виде.\n",
        "\n",
        "Варинат №43\n",
        "\n",
        "$$Q = 1397 x^{2} + 20 \\sqrt{3} x y + 18 \\sqrt{11} x z + 900 y^{2} - 60 \\sqrt{33} y z + 1103 z^{2}$$"
      ]
    },
    {
      "cell_type": "code",
      "execution_count": null,
      "metadata": {
        "colab": {
          "base_uri": "https://localhost:8080/",
          "height": 164
        },
        "id": "2SRsH12Rg-o3",
        "outputId": "ba648ddb-1dc3-4bb4-9ccc-084cfe438ef8"
      },
      "outputs": [],
      "source": [
        "X = Matrix([x, y, z])\n",
        "lstCoefs = [1397, 20 * sympy.sqrt(3), 900, 18 * sympy.sqrt(11), -60 * sympy.sqrt(33), 1103]\n",
        "mxQuadInd = ConvertQuadFormToMx(lstCoefs, False)\n",
        "P_ind = EigenTransitionMx(mxQuadInd)\n",
        "mxQuadNewInd = P_ind.T * mxQuadInd * P_ind\n",
        "quadFormInd = simplify(expand(X.T * mxQuadNewInd * X)[0])\n",
        "\n",
        "display(Latex(fr\"\\text{{Матрица к.ф в исходном виде = }} {latex(mxQuadInd)}\"))\n",
        "display(Latex(fr\"\\text{{Матрица к.ф в каноническом виде = }} {latex(mxQuadNewInd )}\"))\n",
        "display(Latex(fr\"\\text{{Квадратичная форма в каноническом виде = }} {latex(quadFormInd)}\"))"
      ]
    }
  ],
  "metadata": {
    "colab": {
      "provenance": []
    },
    "kernelspec": {
      "display_name": "Python 3",
      "language": "python",
      "name": "python3"
    },
    "language_info": {
      "codemirror_mode": {
        "name": "ipython",
        "version": 3
      },
      "file_extension": ".py",
      "mimetype": "text/x-python",
      "name": "python",
      "nbconvert_exporter": "python",
      "pygments_lexer": "ipython3",
      "version": "3.7.3"
    }
  },
  "nbformat": 4,
  "nbformat_minor": 0
}

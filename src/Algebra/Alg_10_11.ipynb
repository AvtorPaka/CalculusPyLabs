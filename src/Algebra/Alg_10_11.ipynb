{
  "cells": [
    {
      "cell_type": "code",
      "execution_count": null,
      "id": "35fSDoLC_UQ8",
      "metadata": {
        "id": "35fSDoLC_UQ8"
      },
      "outputs": [],
      "source": [
        "import numpy as np\n",
        "import numpy.linalg\n",
        "from numpy import linalg\n",
        "import pandas as pd\n",
        "from google.colab import files\n",
        "from IPython.display import display, Latex\n",
        "from sympy import latex\n",
        "from dataclasses import dataclass, field"
      ]
    },
    {
      "cell_type": "markdown",
      "id": "jIDJIfUaxyEC",
      "metadata": {
        "id": "jIDJIfUaxyEC"
      },
      "source": [
        "# Задание\n",
        "\n",
        "Описать **класс SLAE**\n",
        "\n",
        "**docstring** \"\"\"My SLAE Class\"\"\"\n",
        "\n",
        "класс произвольных СЛАУ\n",
        "\n",
        "**переменные** класса:\n",
        "\n",
        "***обязательные***\n",
        "\n",
        "*  name типа str - имя СЛАУ\n",
        "\n",
        "*  a - матрица левой части, тип np.array\n",
        "\n",
        "*  b - вектор правой части, тип np.array\n",
        "\n",
        "***необязательные***\n",
        "\n",
        "*  var_num число переменных СЛАУ, по умолчанию 0\n",
        "\n",
        "*  eq_num число уравнений СЛАУ, по умолчанию 0\n",
        "\n",
        "оба целые числа\n",
        "\n",
        "**атрибуты**\n",
        "\n",
        "*  get_a\n",
        "\n",
        "*  get_b\n",
        "\n",
        "*  get_var_num\n",
        "\n",
        "*  get_eq_num\n",
        "\n",
        "*  get_dim\n",
        "\n",
        "**методы**\n",
        "\n",
        "*  set_b\n",
        "\n",
        "*  set_b_zero\n",
        "\n",
        "*  x\n",
        "\n",
        "\n",
        "**Дочерний класс SLAEhomogeneous**\n",
        "\n",
        "**переменные** класса:\n",
        "\n",
        "b - вектор правой части, тип np.array со значением по умолчанию None, не должен выводиться на экран при выведении на экран экземпляра класса (хотя в родительском классе уже есть переменная b, здесь ее нужно переопределить, чтобы она стала переменной со значением по умолчанию)\n",
        "\n",
        "**атрибуты**\n",
        "\n",
        "*  get_b\n",
        "\n",
        "**методы**\n",
        "\n",
        "*  set_b\n",
        "\n",
        "*  x\n",
        "\n",
        "**Дочерний класс SLAEsquare**\n",
        "\n",
        "**переменные** класса:\n",
        "\n",
        "singular: bool = None\n",
        "\n",
        "square: bool = None\n",
        "\n",
        "a_inv - обратная матрица для матрицы левой части, тип np.array\n",
        "\n",
        "**атрибуты**\n",
        "\n",
        "is_square  - возвращает True, если матрица квадратная\n",
        "\n",
        "is_singular - возвращает True, если матрица вырождена\n",
        "\n",
        "get_inv - - возвращает обратную матрицу, если она существует\n",
        "\n",
        "**метод**\n",
        "\n",
        "\n",
        "x"
      ]
    },
    {
      "cell_type": "markdown",
      "id": "820iImWxzQWE",
      "metadata": {
        "id": "820iImWxzQWE"
      },
      "source": [
        "**класс SLAE**\n",
        "\n",
        "**docstring** \"\"\"My SLAE Class\"\"\"\n",
        "\n",
        "**атрибуты**\n",
        "\n",
        "*  get_a возвращает матрицу A\n",
        "\n",
        "*  get_b  возвращает b\n",
        "\n",
        "*  get_var_num сравнивает var_num с нулем, если 0, то вычисляет число столбцов A и перезаписывает var_num, возвращает var_num\n",
        "\n",
        "*  get_eq_num аналогично get_var_num дествует с числом уравнений eq_num\n",
        "\n",
        "*  get_dim возвращает кортеж tulpe из числа уравнений и числа переменных СЛАУ, использует get_eq_num и get_var_num\n",
        "\n",
        "**методы**\n",
        "\n",
        "*  set_b проверяет, что передаваемый в качестве аргумента вектор b соответствует матрице a по размерности, после чего перезаписывает значение переменной b экземпляра класса SLAE\n",
        "\n",
        "*  set_b_zero у этого метода  нет дополнительных аргументов, метод вычисляет, какой размерности должен быть вектор b, составляет вектор из нулей и вызывает set_b\n",
        "\n",
        "*  x возвращает кортеж, первый элемент True (если решение есть и единственно)  или False (иначе), второй - решение (если есть и единственно) или пустой np.array (np.array([]))"
      ]
    },
    {
      "cell_type": "markdown",
      "id": "VbTqnKltzbya",
      "metadata": {
        "id": "VbTqnKltzbya"
      },
      "source": [
        "**Дочерний класс SLAEhomogeneous**\n",
        "\n",
        "**переменные** класса:\n",
        "\n",
        "b - вектор правой части, тип np.array со значением по умолчанию None, не должен выводиться на экран при выведении на экран экземпляра класса (хотя в родительском классе уже есть переменная b, здесь ее нужно переопределить, чтобы она стала переменной со значением по умолчанию)\n",
        "\n",
        "**атрибуты**\n",
        "\n",
        "*  get_b этот атрибут нужно переопределить, чтобы он возвращал вектор из нулей, размерности, соответствуюшей матрице A\n",
        "\n",
        "**методы**\n",
        "\n",
        "*  set_b этот метод  нужно переопределить, чтобы он ничего не возвращал и не делал, а только выводил сообщение 'b = 0 in homogeneous SLAE, use get_b instead'\n",
        "\n",
        "*  x метод проверяет, что матрица квадратная и невырожденная, возвращает в этом случае кортеж с True и нулевым вектором соответствующей размерности, не использует np.linalg.solve,\n",
        "иначе False и пустой np.array"
      ]
    },
    {
      "cell_type": "markdown",
      "id": "26tbax0ZzfVq",
      "metadata": {
        "id": "26tbax0ZzfVq"
      },
      "source": [
        "\n",
        "\n",
        "**Дочерний класс SLAEsquare**\n",
        "\n",
        "**переменные** класса:\n",
        "\n",
        "singular: True если вырожденная матрица, иначе False\n",
        "\n",
        "square: True если квадратная матрица, иначе False\n",
        "\n",
        "a_inv обратная матрица, если существует, иначе None\n",
        "\n",
        "**атрибуты**\n",
        "\n",
        "is_square возвращает square, при необходимости предварительно вычисляя и заполняя эту переменную\n",
        "\n",
        "is_singular - возвращает singular, при необходимости предварительно вычисляя и заполняя эту переменную\n",
        "\n",
        "get_inv - - возвращает обратную матрицу, если она существует\n",
        "\n",
        "**метод**\n",
        "\n",
        "\n",
        "x проверяет невырожденность матрицы методами этого же класса, для невырожденной матрицы возвращает True и решение или False и  пустой np.array"
      ]
    },
    {
      "cell_type": "code",
      "execution_count": null,
      "id": "Ixv-fBbu6nCz",
      "metadata": {
        "id": "Ixv-fBbu6nCz"
      },
      "outputs": [],
      "source": [
        "# My SLAE Class\n",
        "@dataclass\n",
        "class SLAE:\n",
        "  name: str\n",
        "  a: np.array\n",
        "  b: np.array\n",
        "  var_num: int = field(default = 0, repr = False)\n",
        "  eq_num: int = field(default = 0, repr = False)\n",
        "\n",
        "  @property\n",
        "  def get_var_num(self) -> int:\n",
        "    if self.var_num <= 0 or self.var_num != (self.a.shape[1] if len(self.a.shape) >1 else self.a.shape[0]):\n",
        "      self.var_num = self.a.shape[1] if len(self.a.shape) >1 else self.a.shape[0]\n",
        "    return self.var_num\n",
        "\n",
        "  @property\n",
        "  def get_eq_num(self) -> int:\n",
        "    if self.eq_num <= 0 or self.eq_num != (self.a.shape[0] if len(self.a.shape) >1 else 1):\n",
        "      self.eq_num = self.a.shape[0] if len(self.a.shape) >1 else 1\n",
        "    return self.eq_num\n",
        "\n",
        "  def set_b(self, new_b):\n",
        "    if (len(new_b.shape) > 1):\n",
        "      display(Latex(fr\"\\text{{The given vector has invalid dimension(number of rows), it will be changed to the corresponding zero vector}}\"))\n",
        "      self.b = np.zeros(self.get_eq_num)\n",
        "    else:\n",
        "      n_columns = new_b.shape[0]\n",
        "      if (n_columns != self.get_eq_num):\n",
        "        display(Latex(fr\"\\text{{The given vector has invalid dimension(number of columns)}} ={(latex(n_columns))} \\text{{, it will be trimmed to the correct dimension}} = {latex(self.eq_num)} \\text{{ if it's possible.}}\"))\n",
        "        if (n_columns > self.eq_num):\n",
        "          self.b = new_b[:self.eq_num]\n",
        "        else:\n",
        "          self.b = np.zeros(self.eq_num)\n",
        "      else:\n",
        "        self.b = new_b\n",
        "\n",
        "  def set_b_zeros(self):\n",
        "    self.set_b(np.zeros(self.get_eq_num))\n",
        "\n",
        "  def x(self):\n",
        "    vec_ans = []\n",
        "    solution_case = False\n",
        "\n",
        "    n = self.get_eq_num\n",
        "    mx_full = np.column_stack((self.a, self.get_b))\n",
        "    rng_a = linalg.matrix_rank(self.a)\n",
        "    rng_full = linalg.matrix_rank(mx_full)\n",
        "\n",
        "    if (rng_a != rng_full):\n",
        "        solution_case = False\n",
        "    else:\n",
        "      if (rng_a == n):\n",
        "        vec_ans = linalg.solve(self.a, self.b)\n",
        "        solution_case = True\n",
        "      elif (rng_a < n):\n",
        "        solution_case = False\n",
        "\n",
        "    return (solution_case, np.array(vec_ans))\n",
        "\n",
        "  @property\n",
        "  def get_a(self) -> np.array:\n",
        "    return self.a\n",
        "\n",
        "  @property\n",
        "  def get_b(self) -> np.array:\n",
        "      self.set_b(self.b)\n",
        "      return self.b\n",
        "\n",
        "\n",
        "@dataclass\n",
        "class SLAEhomogeneous(SLAE):\n",
        "  b: np.array = field(default= None, repr = False)\n",
        "\n",
        "  @property\n",
        "  def get_b(self) -> np.array:\n",
        "    self.b = np.zeros(self.get_eq_num)\n",
        "    return self.b\n",
        "\n",
        "  def set_b(self, new_array):\n",
        "    display(Latex(fr\"\\text{{b = 0 in homogeneous SLAE, use get-b property instead}}\"))\n",
        "\n",
        "  def x(self):\n",
        "    vec_ans = []\n",
        "    solution_case = False\n",
        "\n",
        "    n, m = (self.get_eq_num, self.get_var_num)\n",
        "    if (n == m):\n",
        "      if (linalg.det(self.a) != 0):\n",
        "        solution_case = True\n",
        "        vec_ans = np.zeros(m)\n",
        "\n",
        "    return (solution_case, np.array(vec_ans))\n",
        "\n",
        "\n",
        "@dataclass\n",
        "class SLAEsquare(SLAE):\n",
        "  singular: bool = field(default = None, repr = False)\n",
        "  square: bool = field(default = None, repr = False)\n",
        "  a_inv: np.array = field(default = None, repr = False)\n",
        "\n",
        "  @property\n",
        "  def is_square(self) -> bool:\n",
        "    self.square = (self.get_eq_num == self.get_var_num)\n",
        "    return self.square\n",
        "\n",
        "  @property\n",
        "  def is_singular(self) -> bool:\n",
        "    if (self.is_square):\n",
        "      self.singular = (linalg.det(self.a) != 0)\n",
        "    else:\n",
        "      self.singular = False\n",
        "    return self.singular\n",
        "\n",
        "  @property\n",
        "  def get_inv(self) -> np.array:\n",
        "    if (self.is_singular):\n",
        "      self.a_inv = linalg.inv(self.a)\n",
        "    else:\n",
        "      display(Latex(fr\"\\text{{Inverse matrix doesnt exists, returned value will be 'None'.}}\"))\n",
        "    return self.a_inv\n",
        "\n",
        "  def x(self):\n",
        "    vec_ans = []\n",
        "    solution_case = False\n",
        "\n",
        "    if (self.is_singular):\n",
        "      solution_case = True\n",
        "      vec_ans = linalg.solve(self.a, self.b)\n",
        "    else:\n",
        "      display(Latex(fr\"\\text{{The matrix on the left side is non-singular or has no determinant, there is no solution.}}\"))\n",
        "\n",
        "    return (solution_case, np.array(vec_ans))\n"
      ]
    },
    {
      "cell_type": "code",
      "execution_count": null,
      "id": "q8NmH5hqnz3G",
      "metadata": {
        "id": "q8NmH5hqnz3G"
      },
      "outputs": [],
      "source": [
        "# Определим функцию для сохранения данных из формата xlsx в np.array\n",
        "def Load_Data(sa_name, sb_name):\n",
        "  uploaded_dct = files.upload()\n",
        "  file_name =[name for name in uploaded_dct.keys()][0]\n",
        "  mx_a = pd.read_excel(file_name, sheet_name = sa_name, header = None).to_numpy()\n",
        "  mx_b = pd.read_excel(file_name, sheet_name = sb_name, header = None).to_numpy()\n",
        "  return (mx_a, mx_b)"
      ]
    },
    {
      "cell_type": "markdown",
      "id": "zG7s-dtG0rS1",
      "metadata": {
        "id": "zG7s-dtG0rS1"
      },
      "source": [
        "Считать матрицу и вектор из файла 'ab1.xlsx'"
      ]
    },
    {
      "cell_type": "code",
      "execution_count": null,
      "id": "z5b-GXbb6okn",
      "metadata": {
        "colab": {
          "base_uri": "https://localhost:8080/",
          "height": 73
        },
        "id": "z5b-GXbb6okn",
        "outputId": "229a6672-73bc-4375-998b-376837a171db"
      },
      "outputs": [],
      "source": [
        "A1, b1_tmp = Load_Data(\"A\", \"b\")\n",
        "b1 = np.array([b1_tmp[i][0] for i in range(b1_tmp.shape[0])])"
      ]
    },
    {
      "cell_type": "markdown",
      "id": "G0s5Goby0y4I",
      "metadata": {
        "id": "G0s5Goby0y4I"
      },
      "source": [
        "Создать экземпляр класса SLAE с именем 'SLAE_1_1' и матрицей A1, вектором b1, вывести экземпляр на экран"
      ]
    },
    {
      "cell_type": "code",
      "execution_count": null,
      "id": "XiX0ltYr6pcL",
      "metadata": {
        "colab": {
          "base_uri": "https://localhost:8080/",
          "height": 113
        },
        "id": "XiX0ltYr6pcL",
        "outputId": "c932260f-417b-4175-dcca-cefe50046485"
      },
      "outputs": [],
      "source": [
        "slae_obj1 = SLAE(name = \"SLAE_1_1\", a = A1, b = b1)\n",
        "display(Latex(fr\"\\text{{Экземпляр класса }} {latex(slae_obj1)}\"))\n",
        "display(Latex(fr\"\\text{{Количество неизвестных в системе уравнений:}}\"))\n",
        "print(slae_obj1.get_var_num)\n",
        "display(Latex(fr\"\\text{{Количество уравнений в системе уравнений:}}\"))\n",
        "print(slae_obj1.get_eq_num)"
      ]
    },
    {
      "cell_type": "markdown",
      "id": "M6VOyhHk7z47",
      "metadata": {
        "id": "M6VOyhHk7z47"
      },
      "source": [
        "Вывести на экран атрибуты SLAE_1:\n",
        "\n",
        "a\n",
        "\n",
        "get_a\n",
        "\n",
        "b\n",
        "\n",
        "get_b"
      ]
    },
    {
      "cell_type": "code",
      "execution_count": null,
      "id": "eJtz5sg671P3",
      "metadata": {
        "colab": {
          "base_uri": "https://localhost:8080/",
          "height": 272
        },
        "id": "eJtz5sg671P3",
        "outputId": "0d58ad4b-a0f7-48fa-9c67-632dc70482a2"
      },
      "outputs": [],
      "source": [
        "display(Latex(fr\"\\text{{Обращение к полю а:}}\"))\n",
        "print(slae_obj1.a)\n",
        "display(Latex(fr\"\\text{{Обращение к свойству get-a:}}\"))\n",
        "print(slae_obj1.get_a)\n",
        "display(Latex(fr\"\\text{{Обращение к полю b:}}\"))\n",
        "print(slae_obj1.b)\n",
        "display(Latex(fr\"\\text{{Обращение к свойству get-b:}}\"))\n",
        "print(slae_obj1.get_b)"
      ]
    },
    {
      "cell_type": "markdown",
      "id": "iOYYeAwd1Ifd",
      "metadata": {
        "id": "iOYYeAwd1Ifd"
      },
      "source": [
        "заменить b на вектор из нулей\n",
        "\n",
        "вывести на экран текущее значение b"
      ]
    },
    {
      "cell_type": "code",
      "execution_count": null,
      "id": "eUHpW-zZ6qYf",
      "metadata": {
        "colab": {
          "base_uri": "https://localhost:8080/",
          "height": 55
        },
        "id": "eUHpW-zZ6qYf",
        "outputId": "af8d75ab-638d-4157-9924-9d7bc231b5b8"
      },
      "outputs": [],
      "source": [
        "display(Latex(fr\"\\text{{Значение b после замены вектора b на нулевой вектор:}}\"))\n",
        "slae_obj1.set_b_zeros()\n",
        "print(slae_obj1.get_b)"
      ]
    },
    {
      "cell_type": "markdown",
      "id": "DZQSa-y_8NCd",
      "metadata": {
        "id": "DZQSa-y_8NCd"
      },
      "source": [
        "заменить b на вектор [4, 5, 6, 7]\n",
        "\n",
        "вывести на экран текущее значение b"
      ]
    },
    {
      "cell_type": "code",
      "execution_count": null,
      "id": "GjfvfnpJ8OCv",
      "metadata": {
        "colab": {
          "base_uri": "https://localhost:8080/",
          "height": 55
        },
        "id": "GjfvfnpJ8OCv",
        "outputId": "dbb774f9-73a8-4ee4-86c1-a1cf868fca13"
      },
      "outputs": [],
      "source": [
        "display(Latex(fr\"\\text{{Значение b после вызова метода замены вектора b:}}\"))\n",
        "slae_obj1.set_b(np.array([4, 5, 6, 7]))\n",
        "print(slae_obj1.get_b)"
      ]
    },
    {
      "cell_type": "markdown",
      "id": "tvrAT9m44IIZ",
      "metadata": {
        "id": "tvrAT9m44IIZ"
      },
      "source": [
        "Попытаться заменить b на вектор [-1, 2, -3, 4, 5, 6, 7]\n",
        "\n",
        "вывести на экран текущее значение b и решение СЛАУ"
      ]
    },
    {
      "cell_type": "code",
      "execution_count": null,
      "id": "qotTWFLH6rbh",
      "metadata": {
        "colab": {
          "base_uri": "https://localhost:8080/",
          "height": 75
        },
        "id": "qotTWFLH6rbh",
        "outputId": "056375f3-d7ed-4ddd-fc74-98e75fc1864e"
      },
      "outputs": [],
      "source": [
        "display(Latex(fr\"\\text{{Значение b после вызова метода замены вектора b не неподходящий по размерности:}}\"))\n",
        "slae_obj1.set_b(np.array([-1, 2, -3, 4, 5, 6, 7]))\n",
        "print(slae_obj1.get_b)"
      ]
    },
    {
      "cell_type": "markdown",
      "id": "ILNtafyu8Yc5",
      "metadata": {
        "id": "ILNtafyu8Yc5"
      },
      "source": [
        "Создать экземпляр класса SLAEhomogeneous с именем 'SLAE_homo_1' и матрицей A1, вывести экземпляр на экран"
      ]
    },
    {
      "cell_type": "code",
      "execution_count": null,
      "id": "OM11nvvy8bPi",
      "metadata": {
        "colab": {
          "base_uri": "https://localhost:8080/",
          "height": 113
        },
        "id": "OM11nvvy8bPi",
        "outputId": "80c283bf-ba21-4d20-9b1d-5e86f14464b8"
      },
      "outputs": [],
      "source": [
        "slae_obj2 = SLAEhomogeneous(name = \"SLAE_homo_1\", a = A1)\n",
        "display(Latex(fr\"\\text{{Экземпляр класса }} {latex(slae_obj2)}\"))\n",
        "display(Latex(fr\"\\text{{Количество неизвестных в системе уравнений:}}\"))\n",
        "print(slae_obj2.get_var_num)\n",
        "display(Latex(fr\"\\text{{Количество уравнений в системе уравнений:}}\"))\n",
        "print(slae_obj2.get_eq_num)"
      ]
    },
    {
      "cell_type": "markdown",
      "id": "eZgis51-8bna",
      "metadata": {
        "id": "eZgis51-8bna"
      },
      "source": [
        "\n",
        "Вывести на экран атрибуты SLAE_homo_1:\n",
        "\n",
        "a\n",
        "\n",
        "get_a"
      ]
    },
    {
      "cell_type": "code",
      "execution_count": null,
      "id": "Xi5uNNRl8ct8",
      "metadata": {
        "colab": {
          "base_uri": "https://localhost:8080/",
          "height": 197
        },
        "id": "Xi5uNNRl8ct8",
        "outputId": "0403ee8f-a57e-4094-fe38-bb1e6e9d2bd3"
      },
      "outputs": [],
      "source": [
        "display(Latex(fr\"\\text{{Обращение к полю а:}}\"))\n",
        "print(slae_obj2.a)\n",
        "display(Latex(fr\"\\text{{Обращение к свойству get-a:}}\"))\n",
        "print(slae_obj2.get_a)"
      ]
    },
    {
      "cell_type": "markdown",
      "id": "nbskjaFi4V4M",
      "metadata": {
        "id": "nbskjaFi4V4M"
      },
      "source": [
        "вывести на экран текущее значение b\n",
        "\n",
        "попытаться заменить b на вектор [1, 2, 3, 4, 5, 6, 7]\n",
        "\n",
        "вывести на экран текущее значение b"
      ]
    },
    {
      "cell_type": "code",
      "execution_count": null,
      "id": "7S4WtVzE6sdy",
      "metadata": {
        "colab": {
          "base_uri": "https://localhost:8080/",
          "height": 113
        },
        "id": "7S4WtVzE6sdy",
        "outputId": "c9da7e21-406f-4815-e434-1123520c8cd6"
      },
      "outputs": [],
      "source": [
        "display(Latex(fr\"\\text{{Значение b до вызова метода замены вектора b:}}\"))\n",
        "print(slae_obj2.get_b)\n",
        "slae_obj2.set_b(np.array([i for i in range(1, 8)]))\n",
        "display(Latex(fr\"\\text{{Значение b после вызова метода замены вектора b:}}\"))\n",
        "print(slae_obj2.get_b)"
      ]
    },
    {
      "cell_type": "markdown",
      "id": "6smkCjly8hzr",
      "metadata": {
        "id": "6smkCjly8hzr"
      },
      "source": [
        "Создать экземпляр класса SLAEsquare с именем 'SLAE_sq_1' и матрицей A1, вектором b1 вывести экземпляр на экран\n",
        "\n",
        "Вывести на экран атрибуты SLAE_sq_1:\n",
        "\n",
        "a\n",
        "\n",
        "get_a\n",
        "\n",
        "вывести решение x"
      ]
    },
    {
      "cell_type": "code",
      "execution_count": null,
      "id": "Ao3BPwZX8jrZ",
      "metadata": {
        "colab": {
          "base_uri": "https://localhost:8080/",
          "height": 260
        },
        "id": "Ao3BPwZX8jrZ",
        "outputId": "25986c77-30c5-4c13-8f4c-33e30e3aceb1"
      },
      "outputs": [],
      "source": [
        "slae_obj3 = SLAEsquare(name = \"SLAE_sq_1\", a = A1, b = b1)\n",
        "display(Latex(fr\"\\text{{Экземпляр класса }} {latex(slae_obj3)}\"))\n",
        "display(Latex(fr\"\\text{{Обращение к полю а:}}\"))\n",
        "print(slae_obj3.a)\n",
        "display(Latex(fr\"\\text{{Обращение к свойству get-a:}}\"))\n",
        "print(slae_obj3.get_a)\n",
        "display(Latex(fr\"\\text{{Решение СЛАУ:}}\"))\n",
        "display(Latex(fr\"X = {latex(slae_obj3.x()[1])}\"))"
      ]
    },
    {
      "cell_type": "markdown",
      "id": "alvWKxkz405W",
      "metadata": {
        "id": "alvWKxkz405W"
      },
      "source": [
        "заменить b на нулевой вектор\n",
        "\n",
        "\n",
        "вывести на экран текущее значение b и решение x\n",
        "\n",
        "попытаться заменить b на вектор [1, 2, 3, 4, 5]\n",
        "\n",
        "вывести на экран текущее значение b"
      ]
    },
    {
      "cell_type": "code",
      "execution_count": null,
      "id": "n3RJ2BDM6tik",
      "metadata": {
        "colab": {
          "base_uri": "https://localhost:8080/",
          "height": 155
        },
        "id": "n3RJ2BDM6tik",
        "outputId": "068274b3-9dc5-45ee-c18e-980bdfceefff"
      },
      "outputs": [],
      "source": [
        "display(Latex(fr\"\\text{{Значение b после замены вектора b на нулевой вектор:}}\"))\n",
        "slae_obj3.set_b_zeros()\n",
        "print(slae_obj3.get_b)\n",
        "display(Latex(fr\"\\text{{Решение СЛАУ:}}\"))\n",
        "display(Latex(fr\"X = {latex(slae_obj3.x()[1])}\"))\n",
        "display(Latex(fr\"\\text{{Значение b после вызова метода замены вектора b не неподходящий по размерности:}}\"))\n",
        "slae_obj3.set_b(np.array([1, 2, 3, 4, 5]))\n",
        "print(slae_obj3.get_b)"
      ]
    },
    {
      "cell_type": "markdown",
      "id": "i0k9Skfm50ny",
      "metadata": {
        "id": "i0k9Skfm50ny"
      },
      "source": [
        "Считать матрицу и вектор из файла 'ab2.xlsx'"
      ]
    },
    {
      "cell_type": "code",
      "execution_count": null,
      "id": "7ggOKp7V6uso",
      "metadata": {
        "id": "7ggOKp7V6uso"
      },
      "outputs": [],
      "source": [
        "A2, b2_tmp = Load_Data(\"A\", \"b\")\n",
        "b2 = np.array([b2_tmp[i][0] for i in range(b2_tmp.shape[0])])"
      ]
    },
    {
      "cell_type": "markdown",
      "id": "xkjiMM9T59Wi",
      "metadata": {
        "id": "xkjiMM9T59Wi"
      },
      "source": [
        "Создать экземпляр класса SLAEsquare с именем 'SLAE_sq_2' и матрицей A2, вектором b2 вывести экземпляр на экран\n",
        "\n",
        "Вывести на экран атрибуты SLAE_sq_2:\n",
        "\n",
        "a\n",
        "\n",
        "get_a\n",
        "\n",
        "вывести решение x"
      ]
    },
    {
      "cell_type": "code",
      "execution_count": null,
      "id": "gdiB5Z7U6vg_",
      "metadata": {
        "colab": {
          "base_uri": "https://localhost:8080/",
          "height": 349
        },
        "id": "gdiB5Z7U6vg_",
        "outputId": "6dc4eb08-7e07-4f37-c042-2b2293d72fac"
      },
      "outputs": [],
      "source": [
        "slae_obj4= SLAEsquare(name = \"SLAE_sq_2\", a = A2, b = b2)\n",
        "display(Latex(fr\"\\text{{Экземпляр класса }} {latex(slae_obj4)}\"))\n",
        "display(Latex(fr\"\\text{{Обращение к полю а:}}\"))\n",
        "print(slae_obj4.a)\n",
        "display(Latex(fr\"\\text{{Обращение к свойству get-a:}}\"))\n",
        "print(slae_obj4.get_a)\n",
        "display(Latex(fr\"\\text{{Решение СЛАУ:}}\"))\n",
        "display(Latex(fr\"X = {latex(slae_obj4.x()[1])}\"))"
      ]
    },
    {
      "cell_type": "markdown",
      "id": "xnpADMm58pYI",
      "metadata": {
        "id": "xnpADMm58pYI"
      },
      "source": [
        "заменить b на нулевой вектор\n",
        "\n",
        "\n",
        "вывести на экран текущее значение b и решение x\n",
        "\n",
        "попытаться заменить b на вектор [1, 2, 3, 4, 5, 6]\n",
        "\n",
        "вывести на экран текущее значение b"
      ]
    },
    {
      "cell_type": "code",
      "execution_count": null,
      "id": "uKoF3kte8p9J",
      "metadata": {
        "colab": {
          "base_uri": "https://localhost:8080/",
          "height": 155
        },
        "id": "uKoF3kte8p9J",
        "outputId": "4987827a-2a03-425f-995c-c6bbcc904e70"
      },
      "outputs": [],
      "source": [
        "display(Latex(fr\"\\text{{Значение b после замены вектора b на нулевой вектор:}}\"))\n",
        "slae_obj4.set_b_zeros()\n",
        "print(slae_obj4.get_b)\n",
        "display(Latex(fr\"\\text{{Решение СЛАУ:}}\"))\n",
        "display(Latex(fr\"X = {latex(slae_obj4.x()[1])}\"))\n",
        "display(Latex(fr\"\\text{{Значение b после вызова метода замены вектора b:}}\"))\n",
        "slae_obj4.set_b(np.array([1, 2, 3, 4, 5, 6]))\n",
        "print(slae_obj4.get_b)"
      ]
    }
  ],
  "metadata": {
    "colab": {
      "provenance": []
    },
    "kernelspec": {
      "display_name": "Python 3 (ipykernel)",
      "language": "python",
      "name": "python3"
    },
    "language_info": {
      "codemirror_mode": {
        "name": "ipython",
        "version": 3
      },
      "file_extension": ".py",
      "mimetype": "text/x-python",
      "name": "python",
      "nbconvert_exporter": "python",
      "pygments_lexer": "ipython3",
      "version": "3.11.5"
    }
  },
  "nbformat": 4,
  "nbformat_minor": 5
}

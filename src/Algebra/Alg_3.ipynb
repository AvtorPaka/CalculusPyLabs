{
  "nbformat": 4,
  "nbformat_minor": 0,
  "metadata": {
    "kernelspec": {
      "display_name": "Python 3",
      "language": "python",
      "name": "python3"
    },
    "language_info": {
      "codemirror_mode": {
        "name": "ipython",
        "version": 3
      },
      "file_extension": ".py",
      "mimetype": "text/x-python",
      "name": "python",
      "nbconvert_exporter": "python",
      "pygments_lexer": "ipython3",
      "version": "3.7.3"
    },
    "colab": {
      "provenance": []
    }
  },
  "cells": [
    {
      "cell_type": "markdown",
      "metadata": {
        "id": "Lq_8i_zvJF8o"
      },
      "source": [
        "# Практическое занятие 3\n",
        "# Компьютерный практикум по алгебре на Python\n",
        "## Решение систем линейных алгебраических уравнений (СЛАУ)"
      ]
    },
    {
      "cell_type": "markdown",
      "metadata": {
        "id": "4pcXPsZ5JF8v"
      },
      "source": [
        "https://docs.sympy.org/latest/modules/solvers/solveset.html#sympy.solvers.solveset.linsolve"
      ]
    },
    {
      "cell_type": "code",
      "metadata": {
        "id": "fLJ7y0XDJF8w"
      },
      "source": [
        "import sympy\n",
        "from sympy import linsolve, Matrix, S, Symbol, symbols, Eq,\\\n",
        "linear_eq_to_matrix, simplify\n",
        "import math"
      ],
      "execution_count": 1,
      "outputs": []
    },
    {
      "cell_type": "markdown",
      "metadata": {
        "id": "ApqHKVFaJF8x"
      },
      "source": [
        "### Задание 1.\n",
        "Решить СЛАУ, представив их тремя различными способами (расширенная матрица, список уравнений, матричный вид)\n",
        "$$\n",
        "a)\\ \\left\\{\n",
        "\\begin{matrix}\n",
        "-x+5y-3z=8\\\\\n",
        "4x-y+5z=-1\\\\\n",
        "3x+4y+5z=10\n",
        "\\end{matrix}\n",
        "\\right., \\quad\n",
        "b)\\ \\left\\{\n",
        "\\begin{matrix}\n",
        "-x+5y-3z=8\\\\\n",
        "4x-y+5z=-1\\\\\n",
        "3x+4y+2z=7\n",
        "\\end{matrix}\n",
        "\\right., \\quad\n",
        "c)\\ \\left\\{\n",
        "\\begin{matrix}\n",
        "-x+5y-3z=8\\\\\n",
        "4x-y+5z=-1\\\\\n",
        "3x+4y+2z=5\n",
        "\\end{matrix}\n",
        "\\right.\n",
        "$$"
      ]
    },
    {
      "cell_type": "code",
      "source": [
        "xv, yv ,zv, var, x, y, z = symbols('xv, yv, zv, var, x, y, z')\n",
        "\n",
        "# Сделал через Matrix для того чтобы функции работали для подстановок значения параметра в номере 2\n",
        "A = Matrix([[-1, 5, -3, 8], [4, -1, 5, -1], [3, 4, 5, 10]])\n",
        "B = Matrix([[-1, 5, -3, 8], [4, -1, 5, -1], [3, 4, 2, 7]])\n",
        "C = Matrix([[-1, 5, -3, 8], [4, -1, 5, -1], [3, 4, 2, 5]])\n",
        "lst_all_SLE = [A, B ,C]\n",
        "\n",
        "# Здесь varSort отвечает за способ решения\n",
        "# 1 - Расширенная матрица\n",
        "# 2 - Список Уравнений\n",
        "# 3 - Матричный вид\n",
        "def Solver(mx, varSolve):\n",
        "  if (varSolve == 1):\n",
        "    print(f\"\\nРешение с помощью Расширенной матрицы:\\n\")\n",
        "    ans = linsolve(mx, x, y, z)\n",
        "  if (varSolve == 2):\n",
        "    print(f\"\\nРешение через список уравнений:\\n\")\n",
        "    eq1_lst = Create_Eq_lst(mx)\n",
        "    ans = linsolve(eq1_lst, x, y, z)\n",
        "  if (varSolve == 3):\n",
        "    print(f\"\\nРешение через матричный вид:\\n\")\n",
        "    eq2_lst = Create_Eq_lst(mx)\n",
        "    A_c, b = linear_eq_to_matrix(eq2_lst, [x, y, z])\n",
        "    ans = linsolve((A_c, b), x, y, z)\n",
        "  if (len(ans) == 0):\n",
        "    print(\"СЛАУ несовместна\")\n",
        "    return 0\n",
        "  return simplify(Matrix(*ans).T) #Сразу выводим упрощённое решение для случаев когда что-то не сократилось\n",
        "\n",
        "# Функция для создания списка уравнений по строкам из коэфицентов расширенной матрицы\n",
        "def Create_Eq_lst(mx_to_parse):\n",
        "  sample_eq = x * xv + y * yv + z * zv - var\n",
        "  lst_eq = [0 for i in range(3)]\n",
        "  for i in range(mx_to_parse.shape[0]):\n",
        "    cur_dct_sub = {xv: mx_to_parse[i, 0], yv: mx_to_parse[i, 1], zv:mx_to_parse[i, 2] , var: mx_to_parse[i, 3]}\n",
        "    lst_eq[i] = sample_eq.subs(cur_dct_sub)\n",
        "  return lst_eq\n",
        "\n",
        "for i in range(len(lst_all_SLE)):\n",
        "  print(f\"[{i + 1}].\\n\")\n",
        "  display(Matrix(lst_all_SLE[i]))\n",
        "  for j in range(1, 4):\n",
        "    display(Solver(lst_all_SLE[i], j))\n",
        "    print()"
      ],
      "metadata": {
        "id": "X9KtfDMZKjbj"
      },
      "execution_count": null,
      "outputs": []
    },
    {
      "cell_type": "markdown",
      "metadata": {
        "id": "uC_T9sNpJF9X"
      },
      "source": [
        "### Задание 2.\n",
        "\n",
        "Решить СЛАУ с параметром $a$, представив их списком уравнений, а затем приведя к матричному виду с помощью linear_eq_to_matrix\n",
        "$$\n",
        "a)\\ \\left\\{\n",
        "\\begin{matrix}\n",
        "ax+5y-3z=8\\\\\n",
        "4x-y+5z=-1\\\\\n",
        "3x+4y+5z=10\n",
        "\\end{matrix}\n",
        "\\right., \\quad\n",
        "b)\\ \\left\\{\n",
        "\\begin{matrix}\n",
        "(a-1)x+5y-3z=8\\\\\n",
        "(4+a)x-y+5z=-1\\\\\n",
        "(3+2a)x+4y+2z=7\n",
        "\\end{matrix}\n",
        "\\right., \\quad\n",
        "c) \\left\\{\n",
        "\\begin{matrix}\n",
        "-x+5y-3z=8a\\\\\n",
        "4x-ay+5z=-a\\\\\n",
        "3x+4y+2z=5a\n",
        "\\end{matrix}\n",
        "\\right.\n",
        "$$\n",
        "Решить СЛАУ а) при $a=-82/25$, b) при $a=-19/6$, $-3.17$ и $-3.167$, c) при $a=1$.\n",
        "\n",
        "Проанализировать результаты. Для каждого случая (кроме случая несовместной СЛАУ) провести проверку подстановкой.\n",
        "\n",
        "При подстановке дробей пользоваться конструкцией вида $S(num)/den$, например,\n",
        "$S(2)/3$"
      ]
    },
    {
      "cell_type": "code",
      "source": [
        "# Будем пользоваться функциями определёнными в решении задания 1\n",
        "a = Symbol('a')\n",
        "\n",
        "# Сделал через Matrix для того чтобы функции работали для подстановок значения параметра\n",
        "A = Matrix([[a, 5, -3, 8], [4, -1, 5, -1], [3, 4, 5, 10]])\n",
        "B = Matrix([[(a - 1), 5, -3 , 8], [(4 + a), -1, 5, -1], [(3 + 2*a), 4, 2, 7]])\n",
        "C = Matrix([[-1, 5, -3, 8*a], [4, -a, 5, -a], [3, 4, 2, 5*a]])\n",
        "lst_all_SLE = [A, B, C]\n",
        "\n",
        "# Функция для проверки решения подстановкой в исходную СЛАУ\n",
        "def Check_Solution(sol, original_mx):\n",
        "  print(\"Проверка решения подстановкой:\\n\")\n",
        "  mx_b = original_mx[:,-1] #выделение правой части из расширенной матрицы\n",
        "  mx_to_check = original_mx[:, :-1]\n",
        "  checked = (mx_to_check * sol.T - mx_b).T\n",
        "  to_display = Matrix([math.trunc(checked[i]) for i in range(checked.shape[1])]).T\n",
        "  display(to_display)\n",
        "\n",
        "# Функция для хорошей декомпозиции кода\n",
        "def Sub_Solution_Helper(mx_to_sub, param_val):\n",
        "  print(f\"\\nПри a = {param_val}:\\n\")\n",
        "  mx_sub = mx_to_sub.subs({a : param_val})\n",
        "  display(mx_sub)\n",
        "  ans_cur = Solver(mx_sub, 3)\n",
        "  display(ans_cur)\n",
        "  if (ans_cur != 0):\n",
        "    Check_Solution(ans_cur, mx_sub)\n",
        "\n",
        "\n",
        "for i in range(len(lst_all_SLE)):\n",
        "  print(f\"[{i + 1}].\\n\")\n",
        "  display(lst_all_SLE[i])\n",
        "  display(Solver(lst_all_SLE[i], 3))\n",
        "  print()\n",
        "\n",
        "print(\"Заметим, что в СЛАУ a) при a = -82/15, b) при a = -19/6, c) при a = 1 по этой формуле невозможно найти решения \\\n",
        "  \\nТак как будет происходит деление на 0\\nНайдём их отдельно, изначально подставив значения параметра в матрицу:\")\n",
        "\n",
        "print(\"\\n[1].Решение a)\")\n",
        "Sub_Solution_Helper(A, S(-82)/25)\n",
        "print(\"\\n[2].Решения b)\")\n",
        "lst_vals = [S(-19)/6, -3.17, -3.167]\n",
        "for val in lst_vals:\n",
        "  Sub_Solution_Helper(B, val)\n",
        "print(\"\\n[1].Решение с)\")\n",
        "Sub_Solution_Helper(C, 1)\n"
      ],
      "metadata": {
        "id": "qPKXsAVWKmY0"
      },
      "execution_count": null,
      "outputs": []
    },
    {
      "cell_type": "markdown",
      "metadata": {
        "id": "Zm2BtqFeJF90"
      },
      "source": [
        "### Задание 3\n",
        "В расширенной матрице СЛАУ из Задания 1 а)\n",
        "\n",
        "1) выделить матрицу левой части\n",
        "\n",
        "2) выделить столбец правой части\n",
        "\n",
        "3) транспонировать матрицу, полученную в 1)\n",
        "\n",
        "4) получить расширенную матрицу из матрицы 3) и столбца 2)\n",
        "\n",
        "5) создать на основе лямбда-функции матрицу $3\\times 4$ из расположенных в шахматном порядке чисел 1 и $-1$."
      ]
    },
    {
      "cell_type": "code",
      "source": [
        "A = Matrix([[-1, 5, -3, 8], [4, -1, 5, -1], [3, 4, 5, 10]])\n",
        "A_left = A[:, :3]\n",
        "B_right = A[:, -1]\n",
        "A_left_T = A_left.T\n",
        "mx_large = A_left_T.row_join(B_right)\n",
        "mx_lambda = Matrix(3, 4, lambda i, j : (-1)**(i + j))\n",
        "print(\"Матрица левой части:\")\n",
        "display(A_left)\n",
        "print(\"\\nСтолбец правой части:\")\n",
        "display(B_right)\n",
        "print(\"\\nТранспонированная матрица левой части:\")\n",
        "display(A_left_T)\n",
        "print(\"\\nРасширенная матрица:\")\n",
        "display(mx_large)\n",
        "print(\"\\nМатрица на основе лямбда-функции:\")\n",
        "display(mx_lambda)"
      ],
      "metadata": {
        "id": "85rYx6qZKp6z"
      },
      "execution_count": null,
      "outputs": []
    },
    {
      "cell_type": "markdown",
      "metadata": {
        "id": "M_AOl3WSJF91"
      },
      "source": [
        "### Индивидуальное задание.\n",
        "Вариант №43\n",
        "\n",
        "Решить СЛАУ c параметром тремя способами (расширенная матрица, список уравнений, матричная форма).\n",
        "\n",
        "Вначале составить список уравнений и решить вторым способом,\n",
        "затем список уравнений преобразовать в матричный вид и решить третьим способом.\n",
        "Затем составить из матрицы левой части и столбца правой расширенную матрицу СЛАУ и решить первым способом.\n",
        "После этого провести проверку подстановкой.\n",
        "\n",
        "Затем отдельно рассмотреть значение параметра, при котором решение СЛАУ нельзя найти по общей формуле,\n",
        "полученной ранее.\n",
        "Найти решение СЛАУ при этом значении параметра первым или третьим способом, используя подстановку subs.\n",
        "\\begin{align*}\n",
        "    A = \\left[\\begin{matrix}9 & 3 & -9 & 0\\\\2 & 2 & -5 & 1\\\\\\alpha & -6 & -6 & 9\\\\7 & 1 & -4 & -1\\end{matrix}\\right]\n",
        "\\qquad b = \\left[\\begin{matrix}57\\\\34\\\\48\\\\23\\end{matrix}\\right]\n",
        "\\end{align*}"
      ]
    },
    {
      "cell_type": "code",
      "source": [
        "# Для решения будем пользоваться переопределёнными функциями из задач выше\n",
        "xv, yv ,zv, gv, var, x, y, z, g, a = symbols('xv, yv, zv, gv, var, x, y, z, g, a')\n",
        "A = Matrix([[9, 3, -9, 0], [2, 2, -5, 1], [a, -6, -6, 9], [7, 1, -4, -1]])\n",
        "B = Matrix([57, 34, 48 , 23])\n",
        "Ab = A.row_join(B)\n",
        "Ab\n",
        "\n",
        "# Функция для проверки решения подстановкой в исходную СЛАУ\n",
        "def Solver2(mx, varSolve):\n",
        "  if (varSolve == 1):\n",
        "    print(f\"\\nРешение с помощью Расширенной матрицы:\\n\")\n",
        "    ans = linsolve(mx, x, y, z, g)\n",
        "  if (varSolve == 2):\n",
        "    print(f\"\\nРешение через список уравнений:\\n\")\n",
        "    eq1_lst = Create_Eq_lst2(mx)\n",
        "    ans = linsolve(eq1_lst, x, y, z, g)\n",
        "  if (varSolve == 3):\n",
        "    print(f\"\\nРешение через матричный вид:\\n\")\n",
        "    eq2_lst = Create_Eq_lst2(mx)\n",
        "    A_c, b = linear_eq_to_matrix(eq2_lst, [x, y, z, g])\n",
        "    ans = linsolve((A_c, b), x, y, z, g)\n",
        "  if (len(ans) == 0):\n",
        "    print(\"СЛАУ несовместна\")\n",
        "    return 0\n",
        "  return simplify(Matrix(*ans).T) #Сразу выводим упрощённое решение для случаев когда что-то не сократилось\n",
        "\n",
        "# Функция для создания списка уравнений по строкам из коэфицентов расширенной матрицы\n",
        "def Create_Eq_lst2(mx_to_parse):\n",
        "  sample_eq = x * xv + y * yv + z * zv + g * gv - var\n",
        "  lst_eq = [0 for i in range(4)]\n",
        "  for i in range(mx_to_parse.shape[0]):\n",
        "    cur_dct_sub = {xv: mx_to_parse[i, 0], yv: mx_to_parse[i, 1], zv:mx_to_parse[i, 2] , gv: mx_to_parse[i, 3], var: mx_to_parse[i, 4]}\n",
        "    lst_eq[i] = sample_eq.subs(cur_dct_sub)\n",
        "  return lst_eq\n",
        "\n",
        "# Функция для проверки решения подстановкой в исходную СЛАУ\n",
        "def Check_Solution2(sol, original_mx):\n",
        "  print(\"\\nПроверка решения подстановкой:\\n\")\n",
        "  mx_b = original_mx[:,-1] #выделение правой части из расширенной матрицы\n",
        "  mx_to_check = original_mx[:, :-1]\n",
        "  checked = (mx_to_check * sol.T - mx_b).T\n",
        "  display(simplify(checked))\n",
        "\n",
        "for i in range(1, 4):\n",
        "  display(Solver2(Ab, i))\n",
        "\n",
        "ans = Solver2(Ab, 1)\n",
        "Check_Solution2(ans, Ab)\n",
        "\n",
        "print(\"\\nЗаметим, что в данной СЛАУ при a = 78 невозможно найти решения по полученной ранее формуле, подставим a = 78 и найдём решения для него:\")\n",
        "\n",
        "Ab_sub = Ab.subs({a : 78})\n",
        "ans_sub = Solver2(Ab_sub, 1)\n",
        "display(ans_sub)\n",
        "Check_Solution2(ans_sub, Ab_sub)"
      ],
      "metadata": {
        "id": "gcMc3R68GuqK"
      },
      "execution_count": null,
      "outputs": []
    }
  ]
}
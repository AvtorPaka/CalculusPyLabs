{
  "cells": [
    {
      "cell_type": "code",
      "execution_count": null,
      "metadata": {
        "id": "89leUlBEO3kD"
      },
      "outputs": [],
      "source": [
        "from sympy import linsolve, Matrix, S, Symbol, symbols, linear_eq_to_matrix,\\\n",
        "Eq, zeros, latex, simplify, Subs\n",
        "from IPython.display import Latex"
      ]
    },
    {
      "cell_type": "markdown",
      "metadata": {
        "id": "PVEyzdFgO3kJ"
      },
      "source": [
        "# Занятие 5\n",
        "# Алгебра\n",
        "\n",
        "##  Прямые и плоскости в пространстве. Уравнения прямых и  плоскостей.\n",
        "### Задание 1.\n",
        "Определить, пересекаются ли плоскости (все сразу). Если пересекаются, найти точку пересечения.\n",
        "\n",
        "Составить СЛАУ в виде списка уравнений, решить с помощью linsolve.\n",
        "\n",
        "$-8x+5y-2z+28=0$\n",
        "\n",
        "$-11x-10y-16z+71=0$\n",
        "\n",
        "$-7x+3y+8z-27=0$."
      ]
    },
    {
      "cell_type": "code",
      "execution_count": null,
      "metadata": {
        "colab": {
          "base_uri": "https://localhost:8080/",
          "height": 39
        },
        "id": "6wKgw-cMH1ZM",
        "outputId": "84963c7c-1f2d-4cfe-b554-69d44f50f462"
      },
      "outputs": [],
      "source": [
        "# Запишм СЛАУ в виде расширенной матрицы, c помощью функции преобразуем её к списку уравнений\n",
        "mx_full = Matrix([[-8, 5, -2, 28], [-11, -10, -16, 71], [-7, 3, 8, -27]])\n",
        "\n",
        "x, y, z = symbols('x, y, z')\n",
        "\n",
        "# Функция для создания системы уравнений по строкам из коэфицентов расширенной матрицы\n",
        "def Create_Eq_lst(mx_to_parse):\n",
        "  lst_eq = [Eq(x * mx_to_parse[i, 0] + y * mx_to_parse[i, 1] + z * mx_to_parse[i, 2] + mx_to_parse[i, 3], 0) for i in range(mx_to_parse.shape[0])]\n",
        "  return lst_eq\n",
        "\n",
        "# Функция для определения точки в которой пересекаются плоскости, если они пересекаются\n",
        "def Find_Intersections_Planes(mx):\n",
        "  lst_eq = Create_Eq_lst(mx)\n",
        "  ans_lst = linsolve(lst_eq, x, y, z)\n",
        "  ans_mx = simplify(Matrix(*ans_lst).T)\n",
        "  if (len(ans_mx) != 0):\n",
        "    display(Latex(fr\"\\text{{Точка пересечения плоскостей :}}{latex(ans_mx)}\"))\n",
        "  else:\n",
        "    display(Latex(fr\"\\text{{Плоскости не пересекаются.}}\"))\n",
        "\n",
        "\n",
        "Find_Intersections_Planes(mx_full)"
      ]
    },
    {
      "cell_type": "markdown",
      "metadata": {
        "id": "ypS69_K9O3kQ"
      },
      "source": [
        "### Задание 2.\n",
        "Найти точку пересечения прямой, проходящей через точки $A(-3,5,1)$ и $B(5,2,-3)$ и плоскости, в которой лежат точки\n",
        "$K(4,3,0)$, $M(2,4,-2)$ и $N(-2,2,-1)$."
      ]
    },
    {
      "cell_type": "code",
      "execution_count": null,
      "metadata": {
        "colab": {
          "base_uri": "https://localhost:8080/",
          "height": 83
        },
        "id": "JP9b46XPH25D",
        "outputId": "40b2b16a-7364-4452-f01c-f3934e50cdac"
      },
      "outputs": [],
      "source": [
        "x, y, z, t = symbols('x y z t')\n",
        "mx_syms = Matrix([x, y, z])\n",
        "A = Matrix([-3, 5, 1])\n",
        "B = Matrix([5, 2, -3])\n",
        "K = Matrix([4, 3, 0])\n",
        "M = Matrix([2, 4, -2])\n",
        "N = Matrix([-2, 2, 1])\n",
        "\n",
        "# Функция для составление параметрического уравнения прямой по двум точкам\n",
        "def Line_Eq_Parametric(a, b):\n",
        "  vec_napr = b - a\n",
        "  lst_eq_line = [Eq(mx_syms[i], vec_napr[i] * t + a[i]) for i in range(len(vec_napr))]\n",
        "  return lst_eq_line\n",
        "\n",
        "# Функция для составления уравнения плоскости по 3м точкам лежащим в плоскости\n",
        "def Plane_Eq_Canon(a, b, c):\n",
        "  return Eq(Matrix([(row - a).T for row in (mx_syms, b, c)]).det(), 0)\n",
        "\n",
        "# Фунция для нахождения точки пересечения прямой и плоскости\n",
        "def Find_Intersection_Dot(eq_line, eq_plane):\n",
        "  lst_SLAE = [eq for eq in eq_line]\n",
        "  lst_SLAE.append(eq_plane)\n",
        "  return Matrix([*linsolve(lst_SLAE, x, y, z, t)])[: , :-1]\n",
        "\n",
        "\n",
        "line_eq = Line_Eq_Parametric(A, B)\n",
        "plane_eq = Plane_Eq_Canon(K, M , N)\n",
        "display(Latex(f\"Параметрическое\\ уравнение\\ прямой\\ {latex(line_eq)}\"))\n",
        "display(Latex(f\"Уравнение\\ плоскости\\ {latex(plane_eq)}\"))\n",
        "display(Latex(fr\"\\text{{Точка пересечения прямой и плоскости: }}{latex(Find_Intersection_Dot(line_eq, plane_eq))}\"))"
      ]
    },
    {
      "cell_type": "markdown",
      "metadata": {
        "id": "ok151h_IO3kS"
      },
      "source": [
        "### Задание 3.\n",
        "Составить параметрические уравнения прямой, являющейся линией пересечения плоскостей $𝑦+2𝑧−4=0$ и $4𝑥+3𝑦+2𝑧−4=0$.\n",
        "\n",
        "Указание: составить СЛАУ из уравнений плоскостей, воспользоваться linsolve(), заменить переменную в полученном решении на параметр t и составить СЛАУ из параметрических уравнений."
      ]
    },
    {
      "cell_type": "code",
      "execution_count": null,
      "metadata": {
        "colab": {
          "base_uri": "https://localhost:8080/",
          "height": 39
        },
        "id": "RbuMsA8EH4Ub",
        "outputId": "d37d7be9-1b59-4b69-83e3-d2a565fa42e1"
      },
      "outputs": [],
      "source": [
        "# Будем пользоваться функцией для составления системы уравнений, определённой в Задании 1\n",
        "mx_full_2 = Matrix([[0, 1, 2, -4], [4, 3, 2, -4]])\n",
        "\n",
        "# Функция для составления пааметрического уравнения прямой через 2 пересекающиеся плоскости\n",
        "def Line_Eq_Param_Plane(eq_lst):\n",
        "  dct_subs_sample = {x : t, y :t , z : t}\n",
        "  lst_param_val = Matrix([*linsolve(eq_lst, x, y, z)]).subs(dct_subs_sample)\n",
        "  return [Eq(mx_syms[i], lst_param_val[i]) for i in range(len(lst_param_val))]\n",
        "\n",
        "display(Latex(fr\"\\text{{Параметрическое уравнение прямой :}}{latex(Line_Eq_Param_Plane(Create_Eq_lst(mx_full_2)))}\"))"
      ]
    },
    {
      "cell_type": "markdown",
      "metadata": {
        "id": "kU3zatrMO3ka"
      },
      "source": [
        "###  Задание 4.\n",
        "Прямая задана параметрическими уравнениями:\n",
        "$$\n",
        "\\left\\{\\begin{matrix}\n",
        "x=2+5t\\\\\n",
        "y=-1-2t\\\\\n",
        "z=4-3t\n",
        "\\end{matrix}\\right..\n",
        "$$\n",
        "Представить прямую в виде линии пересечения двух плоскостей, одна из которых проходит через начало координат, а вторая плоскость перпендикулярна первой плоскости. Вывести на экран уравнения плоскостей.\n",
        "\n",
        "Указание: составить параметрические уравнения прямой в виде списка правых частей уравнений, затем по образцу Примера 5 составить уравнение плоскости, проходящей через начало координат (по трем точкам). Для составления второй плоскости заметим, что вектор нормали к первой плоскости и любой вектор прямой параллельны второй плоскости, поэтому можно применить формулу 4 уравнения плоскости.\n",
        "Вектор нормали можно составить вручную, глядя на уравнение первой плоскости."
      ]
    },
    {
      "cell_type": "code",
      "execution_count": null,
      "metadata": {
        "colab": {
          "base_uri": "https://localhost:8080/",
          "height": 61
        },
        "id": "CZIe6FSEH5qT",
        "outputId": "381ad047-c1e7-4a96-b1cb-131ef9f55c55"
      },
      "outputs": [],
      "source": [
        "# Будем пользоваться функцей составления уравнения плоскости по 3-м точкам из Задания 2\n",
        "eq_parametric = Matrix([2 + 5 * t, -1- 2 *t, 4 - 3 * t])\n",
        "dot_1 = zeros(3, 1)\n",
        "dot_2 = eq_parametric.subs({t : 0})\n",
        "dot_3 = eq_parametric.subs({t : 1})\n",
        "\n",
        "# Функция для составления уравнения плоскости по точке и 2м паралелльным векторам\n",
        "def Eq_Plane_Paralel(dot, vec_1, vec_2):\n",
        "  return Eq(simplify(Matrix([(mx_syms - dot).T, vec_1.T, vec_2.T]).det()), 0)\n",
        "\n",
        "\n",
        "vec_norm = Matrix([11, 26, 1])\n",
        "vec_2 = (dot_3 - dot_2) * S(1)/2\n",
        "\n",
        "display(Latex(fr\"\\text{{[1].Уравнение плоскости: }}{latex(Plane_Eq_Canon(dot_1, dot_2, dot_3))}\"))\n",
        "display(Latex(fr\"\\text{{[2].Уравнение плоскости: }}{latex(Eq_Plane_Paralel(dot_2, vec_norm, vec_2))}\"))"
      ]
    },
    {
      "cell_type": "markdown",
      "metadata": {
        "id": "-4N5c7jDO3kd"
      },
      "source": [
        "### Индивидуальное задание\n",
        "Вариант №43\n",
        "\n",
        "Даны точки $A\\left( 4, \\  5, \\  -4\\right)$, $B\\left( 5, \\  4, \\  -2\\right)$, $C\\left( 2, \\  4, \\  4\\right)$, $M\\left( -2, \\  -10, \\  5\\right)$, $K\\left( -8, \\  -4, \\  -7\\right)$ и $P\\left( -8, \\  -7, \\  5\\right)$.\n",
        "\n",
        "\n",
        "Составить уравнение плоскостей $АВС$ и $MKP$,\n",
        "найти линию пересечения плоскостей или установить их параллельность.\n",
        "\n",
        "Составить систему параметрических уравнений прямых $MK$ и $CN$,\n",
        "прямая $CN$ перпендикулярна плоскости $АВС$.\n",
        "Найти точку пересечения $MK$ и $CN$."
      ]
    },
    {
      "cell_type": "code",
      "execution_count": null,
      "metadata": {
        "colab": {
          "base_uri": "https://localhost:8080/",
          "height": 234
        },
        "id": "vBzbxNOtH7JL",
        "outputId": "e480462a-dcbd-420f-d5c1-16ffc9d7ee37"
      },
      "outputs": [],
      "source": [
        "# Будем пользоваться функцией составления уравнения плоскости по 3-м точкам из Задания 2 - Plane_Eq_Canon\n",
        "A = Matrix([4, 5, -4])\n",
        "B = Matrix([5, 4, -2])\n",
        "C = Matrix([2, 4, 4])\n",
        "M = Matrix([-2, -10, 5])\n",
        "K = Matrix([-8, -4, -7])\n",
        "P = Matrix([-8, -7, 5])\n",
        "\n",
        "# Функция для нахождения прямой пересечения двух плоскостей\n",
        "def Find_Intersection_Line(plane_1, plane_2):\n",
        "  ans = simplify(Matrix(*linsolve([plane_1, plane_2], x, y, z)).T)\n",
        "  if (len(ans) != 0):\n",
        "    display(Latex(fr\"\\text{{Прямая пересечения плоскостей :}}{latex(ans)}\"))\n",
        "  else:\n",
        "    display(Latex(fr\"\\text{{Плоскости паралелльны и не имеют прямой пересечения}}\"))\n",
        "\n",
        "# Функция для нахождения вектора нормали плоскости по 3м точкам\n",
        "def Find_Vec_Norm(a, b, c):\n",
        "  vec_1 = a - b\n",
        "  vec_2 = b- c\n",
        "  mx_vecs = Matrix([vec_1.T, vec_2.T])\n",
        "  x_n = mx_vecs[:, 1:3].det()\n",
        "  y_n = (mx_vecs[:, 0].row_join(mx_vecs[:, -1])).det() * -1\n",
        "  z_n = mx_vecs[:, 0:2].det()\n",
        "  vec_normal = Matrix([x_n, y_n, z_n]).T\n",
        "  return vec_normal\n",
        "\n",
        "# Функция для составление параметрического уравнения прямой по точке и направляющему вектору\n",
        "def Line_Eq_Parametric_Vec(a, vec_napr):\n",
        "  lst_eq_line = [Eq(mx_syms[i], vec_napr[i] * t + a[i]) for i in range(len(vec_napr))]\n",
        "  return lst_eq_line\n",
        "\n",
        "# Функция для нахождения точки пересечение двух прямых заданных параметрически\n",
        "def Lines_Intersection_Dot(line_1, line_2):\n",
        "  t1, t2 = symbols('t1 t2')\n",
        "  lst_SLAE = line_1 + line_2\n",
        "  for i in range(len(lst_SLAE)):\n",
        "    if (i <= 2):\n",
        "      lst_SLAE[i] = lst_SLAE[i].subs({t : t1})\n",
        "    else:\n",
        "      lst_SLAE[i] = lst_SLAE[i].subs({t : t2})\n",
        "  dot_ans = Matrix(*linsolve(lst_SLAE, x, y, z, t1, t2)).T\n",
        "  if (len(dot_ans) != 0):\n",
        "    return dot_ans[:, :3]\n",
        "  else:\n",
        "    display(Latex(fr\"\\text{{Прямые не пересекаются.}}\"))\n",
        "\n",
        "eq_plane_1 = Plane_Eq_Canon(A, B, C)\n",
        "eq_plane_2 = Plane_Eq_Canon(M, K, P)\n",
        "eq_line_1 = Line_Eq_Parametric(M, K)\n",
        "vec_napr_line_2 = Find_Vec_Norm(A, B, C)\n",
        "eq_line_2 = Line_Eq_Parametric_Vec(C, vec_napr_line_2)\n",
        "\n",
        "display(Latex(fr\"\\text{{Уравнение плоскости ABC : }}{latex(eq_plane_1)}\"))\n",
        "print()\n",
        "display(Latex(fr\"\\text{{Уравнение плоскости MKP : }}{latex(eq_plane_2)}\"))\n",
        "print()\n",
        "Find_Intersection_Line(eq_plane_1, eq_plane_2)\n",
        "print()\n",
        "display(Latex(fr\"\\text{{Параметрическое уравнение прямой MK : }}{latex(eq_line_1)}\"))\n",
        "print()\n",
        "display(Latex(fr\"\\text{{Параметрическое уравнение прямой CN : }}{latex(eq_line_2)}\"))\n",
        "print()\n",
        "display(Latex(fr\"\\text{{Точка пересечения прямых MK и CN: }}{latex(Lines_Intersection_Dot(eq_line_1, eq_line_2))}\"))"
      ]
    }
  ],
  "metadata": {
    "colab": {
      "provenance": []
    },
    "kernelspec": {
      "display_name": "Python 3",
      "language": "python",
      "name": "python3"
    },
    "language_info": {
      "codemirror_mode": {
        "name": "ipython",
        "version": 3
      },
      "file_extension": ".py",
      "mimetype": "text/x-python",
      "name": "python",
      "nbconvert_exporter": "python",
      "pygments_lexer": "ipython3",
      "version": "3.7.3"
    }
  },
  "nbformat": 4,
  "nbformat_minor": 0
}

{
  "cells": [
    {
      "cell_type": "markdown",
      "metadata": {
        "id": "B600zaglO8R5"
      },
      "source": [
        "## Занятие 4\n",
        "## Компьютерный практикум по алгебре на Python\n",
        "## Фундаментальная система решений однородной СЛАУ\n",
        "\n",
        "Демченко Г.П БПИ-235, время семинара - 11:20-12:30"
      ]
    },
    {
      "cell_type": "markdown",
      "metadata": {
        "id": "z-MBGjqlO8R-"
      },
      "source": [
        "https://docs.sympy.org/latest/modules"
      ]
    },
    {
      "cell_type": "code",
      "execution_count": null,
      "metadata": {
        "id": "mbuIM2VjO8SA"
      },
      "outputs": [],
      "source": [
        "import sympy\n",
        "from sympy import linsolve, Matrix, S, Symbol, symbols, Eq,\\\n",
        "linear_eq_to_matrix, zeros, latex, simplify\n",
        "from IPython.display import display, Latex"
      ]
    },
    {
      "cell_type": "markdown",
      "metadata": {
        "id": "MCakxRL6O8SC"
      },
      "source": [
        "### Задание 1.\n",
        "Проверить по теореме Кронекера-Капелли совместность СЛАУ $AX = b$, если\n",
        "\\begin{align*}\n",
        "a)&\\ A = \\left(\n",
        "\\begin{matrix}\n",
        "-1 & -3 & 5 & 2\\\\\n",
        "2 & -1 & 4 & 7\\\\\n",
        "3 & 4 & -1 & 0\\\\\n",
        "5 & 0 & 1 & -3\n",
        "\\end{matrix}\n",
        "\\right), \\quad\n",
        "b = \\left(\n",
        "\\begin{matrix}\n",
        "14\\\\ 56\\\\ 5\\\\ -6\n",
        "\\end{matrix}\n",
        "\\right), \\\\\n",
        "b)&\\ A = \\left(\n",
        "\\begin{matrix}\n",
        "1 & 3 & 5 & 2\\\\\n",
        "2 & -1 & 4 & 1\\\\\n",
        "3 & 4 & -1 & 0\\\\\n",
        "5 & 3 & 3 & 1\n",
        "\\end{matrix}\n",
        "\\right), \\quad\n",
        "b = \\left(\n",
        "\\begin{matrix}\n",
        "24\\\\ 20\\\\ 5\\\\ 5\n",
        "\\end{matrix}\n",
        "\\right), \\\\\n",
        "c)&\\ A = \\left(\n",
        "\\begin{matrix}\n",
        "1 & 3 & 5 & 2\\\\\n",
        "2 & -1 & 4 & 1\\\\\n",
        "3 & 2 & 9 & 3\\\\\n",
        "1 & -4 & -1 & -1\n",
        "\\end{matrix}\n",
        "\\right), \\quad\n",
        "b = \\left(\n",
        "\\begin{matrix}\n",
        "24\\\\ 20\\\\ 44\\\\ -4\n",
        "\\end{matrix}\n",
        "\\right)\n",
        "\\end{align*}"
      ]
    },
    {
      "cell_type": "code",
      "execution_count": null,
      "metadata": {
        "colab": {
          "base_uri": "https://localhost:8080/"
        },
        "id": "VKU7nfir1Yfq",
        "outputId": "8fdba293-e638-4723-d387-b0205c32ad74"
      },
      "outputs": [],
      "source": [
        "# Запишем матрицы сразу в расширенном виде\n",
        "A_b1 = Matrix([[-1, -3, 5, 2, 14], [2, -1, 4, 7, 56], [3, 4, -1, 0, 5], [5, 0, 1, -3, -6]])\n",
        "A_b2 = Matrix([[1, 3, 5, 2, 24], [2, -1, 4, 1, 20], [3, 4, -1, 0, 5], [5, 3, 3, 1, 5]])\n",
        "A_b3 = Matrix([[1, 3, 5, 2, 24], [2, -1, 4, 1, 20], [3, 2, 9, 3, 44], [1, -4, -1, -1, -4]])\n",
        "lst_matrix = [A_b1, A_b2, A_b3]\n",
        "\n",
        "# Функция определяющая , совеместна ли СЛАУ , по теореме Кронекера-Капелли\n",
        "def Check_Compability(mx):\n",
        "  rng_full = mx.rank()\n",
        "  rng_coef = mx[:, :-1].rank()\n",
        "  print(f\"СЛАУ AX = b {'не' * (rng_full != rng_coef)}совместна.\\nRank(A)={rng_coef} {'=' if (rng_full == rng_coef) else '!='} Rank(A{chr(124)}b)={rng_full}\\n\")\n",
        "\n",
        "for i in range(len(lst_matrix)):\n",
        "  print(f\"[{i + 1}].\\n\")\n",
        "  Check_Compability(lst_matrix[i])"
      ]
    },
    {
      "cell_type": "markdown",
      "metadata": {
        "id": "F3lXkJ3oO8SM"
      },
      "source": [
        "### Задание 2.\n",
        "\n",
        "Проверить единственность решения в совместных СЛАУ Задания 1."
      ]
    },
    {
      "cell_type": "code",
      "execution_count": null,
      "metadata": {
        "colab": {
          "base_uri": "https://localhost:8080/"
        },
        "id": "rPoixqcH1Zp6",
        "outputId": "560f4197-0c24-4257-bd6a-b60ec61b0c3e"
      },
      "outputs": [],
      "source": [
        "# Будем пользоваться списоком расширенных матрицы из Задания №1\n",
        "\n",
        "# Функция определяющая , совеместна ли СЛАУ, по теореме Кронекера-Капелли,\n",
        "# и ,если да, определяющая единственность решения СЛАУ\n",
        "def Check_Uniqie_Solution(mx):\n",
        "  rng_full = mx.rank()\n",
        "  mx_coef = mx[:, :-1]\n",
        "  rng_coef = mx_coef.rank()\n",
        "  if (rng_full == rng_coef):\n",
        "    num_var = mx_coef.shape[1]\n",
        "    print(f\"СЛАУ AX=b совместа и имеет {'одно' if (rng_coef == num_var) else 'больше чем одно'} решение.\")\n",
        "  else:\n",
        "    print(f\"СЛАУ AX=b несовместна\\nRank(A)={rng_coef} != Rank(A{chr(124)}b)={rng_full}\")\n",
        "\n",
        "for i in range(len(lst_matrix)):\n",
        "  print(f\"\\n[{i + 1}]\\n\")\n",
        "  Check_Uniqie_Solution(lst_matrix[i])\n"
      ]
    },
    {
      "cell_type": "markdown",
      "metadata": {
        "id": "cHZhM0_jO8SO"
      },
      "source": [
        "### Задание 3\n",
        "Для однородных СЛАУ, соответствующих СЛАУ из Задания 1 установить, есть ли у однородной СЛАУ нетривиальное решение."
      ]
    },
    {
      "cell_type": "code",
      "execution_count": null,
      "metadata": {
        "colab": {
          "base_uri": "https://localhost:8080/"
        },
        "id": "rhNGTcBi1axC",
        "outputId": "09d8f35f-12bd-4a21-c1b1-2739370d9708"
      },
      "outputs": [],
      "source": [
        "# Изменим список матриц из Задания №1 так, чтобы они образовывали однородные СЛАУ\n",
        "# И добавим в полученном списке матриц к каждой из них номер пунтка a), b) или c)\n",
        "lst_matrix_odn = [(lst_matrix[i][:, :-1], chr(97 + i)) for i in range(len(lst_matrix))]\n",
        "\n",
        "# Функция для определения имеется ли у однородной СЛАУ нетривиальное решение\n",
        "def Check_Non_Trivial_Solution(mx, num):\n",
        "  check = mx.rank() < mx.shape[1]\n",
        "  print(f\"У однородной СЛАУ ({num}) {'есть нетривиальное решение.' if check else 'нет нетривиального решения.'}\\n\")\n",
        "\n",
        "for i in range(len(lst_matrix_odn)):\n",
        "  print(f\"[{i + 1}].\\n\")\n",
        "  Check_Non_Trivial_Solution(lst_matrix_odn[i][0], lst_matrix_odn[i][1])"
      ]
    },
    {
      "cell_type": "markdown",
      "metadata": {
        "id": "wmJb1QrxO8SQ"
      },
      "source": [
        "### Задание 4\n",
        "Для однородных СЛАУ из Задания 3, имеющих нетривиальное решение, составить ФСР."
      ]
    },
    {
      "cell_type": "code",
      "execution_count": null,
      "metadata": {
        "colab": {
          "base_uri": "https://localhost:8080/",
          "height": 293
        },
        "id": "eS-_SBkc1btS",
        "outputId": "4641a185-bd79-4f2c-9bff-d4da54276d04"
      },
      "outputs": [],
      "source": [
        "# Воспользуемся списком с составленными однородными СЛАУ из Задания 3\n",
        "\n",
        "# Метод для нахождения полученной методом nullsplace ФСР и её парсинга из списка в матрицу\n",
        "def Parse_Fsos(mx):\n",
        "  fss = mx.nullspace()\n",
        "  mx_fss = Matrix([[fss[i][j] for j in range(len(fss[i]))] for i in range(len(fss))])\n",
        "  return simplify(mx_fss)\n",
        "\n",
        "\n",
        "# Фунция проверяющая имеет ли однородная СЛАУ нетривиальное решение\n",
        "# И ,если да, находящая ФСР для СЛАУ\n",
        "def Create_Fsos(mx, num):\n",
        "  check_non_trival = mx.rank() < mx.shape[1]\n",
        "  if (check_non_trival):\n",
        "    display(Latex(f\"ФСР\\  для\\  СЛАУ\\  ({num}):\\ {latex(Parse_Fsos(mx))}\\ . \\  Rng({num}) = {mx.rank()}\\ , \\ N = {mx.shape[1]}\"))\n",
        "    print()\n",
        "  else:\n",
        "    print(f\"СЛАУ ({num}) не имеент нетривального решения\\n\")\n",
        "\n",
        "display(Latex(fr\"N \\text{{ - число переменных/столбцов в матрице.}}\"))\n",
        "print()\n",
        "\n",
        "for i in range(len(lst_matrix_odn)):\n",
        "  print(f\"[{i + 1}].\\n\")\n",
        "  Create_Fsos(lst_matrix_odn[i][0], lst_matrix_odn[i][1])"
      ]
    },
    {
      "cell_type": "markdown",
      "metadata": {
        "id": "TbcC_Tc-O8ST"
      },
      "source": [
        "### Задание 5\n",
        "Для однородных СЛАУ из Задания 4 построить общее решение, используя построенную в Задании 4 ФСР. Сравнить с результатом, возвращаемым linsolve."
      ]
    },
    {
      "cell_type": "code",
      "execution_count": null,
      "metadata": {
        "colab": {
          "base_uri": "https://localhost:8080/",
          "height": 274
        },
        "id": "PdHLZ9tG1c2b",
        "outputId": "12fb7a54-5723-47ad-c9b6-9ae371e6cd98"
      },
      "outputs": [],
      "source": [
        "# Воспользуемся списком с составленными однородными СЛАУ из Задания 3\n",
        "# Также будет пользоваться методом для парсинга ФСР из списка в матрицу из Задания 3\n",
        "\n",
        "\n",
        "# Функция которая находит общее решение однородной и неоднородной СЛАУ с помощью linsolve и парсит его в матрицу\n",
        "def Parse_linsolve(mx, param):\n",
        "  # Случай когда матрица однородная\n",
        "  if (param == 0):\n",
        "    n, m = mx.shape\n",
        "    X_1 = linsolve((mx , zeros(n, 1)), symbols(\"x1:\" + str(m + 1)))\n",
        "  # Случай когда матрица неоднородная, тогда в качестве mx передаётся расширенная матрица\n",
        "  elif (param == 1):\n",
        "    mx_a = mx[:, :-1]\n",
        "    vec_b = mx[:, -1]\n",
        "    n, m = mx_a.shape\n",
        "    X_1 = linsolve((mx_a , vec_b), symbols(\"x1:\" + str(m + 1)))\n",
        "\n",
        "  return simplify(Matrix(*X_1, evaluate=False).T)\n",
        "\n",
        "# Фунция которая определяет имеет ли СЛАУ нетривиальное решение\n",
        "# Если да, то находит ФСР матрицы, строит по нему общее решение СЛАУ и проверяет\n",
        "# полученный результат с методом linsolve\n",
        "def Find_Check_Common_Solution(mx, num):\n",
        "  m = mx.shape[1]\n",
        "  check_non_trival = mx.rank() < m\n",
        "\n",
        "  if (check_non_trival):\n",
        "    mx_fss = Parse_Fsos(mx)\n",
        "    num_sol, num_var = mx_fss.shape\n",
        "    X_0 = zeros(1, num_var)\n",
        "\n",
        "    for i in range(num_sol):\n",
        "      X_0 += mx_fss[i, :] * Symbol('alpha' + str(i + 1))\n",
        "\n",
        "    X_1 = Parse_linsolve(mx, 0)\n",
        "\n",
        "    display(Latex(f\"Для\\ СЛАУ\\ ({num})\\  X_{0} = {latex(X_0)}\\ , X_{1} = {latex(X_1)}\"))\n",
        "    print()\n",
        "\n",
        "  else:\n",
        "    print(f\"СЛАУ ({num}) не имеент нетривального решения, а значит не имеет ФСР.\\n\")\n",
        "\n",
        "display(Latex(fr\"X_{0} - \\text{{общее решение через ФСР, }} \\ X_{1} - \\text{{общее решение через linsolve}}\"))\n",
        "print()\n",
        "\n",
        "for i in range(len(lst_matrix_odn)):\n",
        "  print(f\"[{i + 1}].\\n\")\n",
        "  Find_Check_Common_Solution(lst_matrix_odn[i][0], lst_matrix_odn[i][1])\n"
      ]
    },
    {
      "cell_type": "markdown",
      "metadata": {
        "id": "q96MSia2O8SU"
      },
      "source": [
        "### Индивидуальное задание.\n",
        "Вариант №43\n",
        "\n",
        "Дана СЛАУ $AX = b$,\n",
        "Проверить совместность по теореме Кронекера-Капелли. Если СЛАУ совместна, проверить единственность решения.\n",
        "Для соответствующей однородной СЛАУ проверить существование нетривиального решения. В случае, если оно существует,\n",
        "найти размерность пространства решений и составить ФСР и общее решение однородной  и неоднородной СЛАУ.\n",
        "\n",
        "\n",
        "\\begin{align*}\n",
        " A = \\left[\\begin{matrix}-2 & -3 & 1 & 8 & 5\\\\9 & 2 & -1 & 5 & 8\\\\-44 & -20 & 8 & 12 & -12\\\\-6 & 0 & -8 & 2 & 8\\\\9 & 3 & 4 & -3 & -9\\end{matrix}\\right],\n",
        "\\ b = \\left[\\begin{matrix}37\\\\65\\\\-112\\\\-26\\\\8\\end{matrix}\\right].\n",
        " \\end{align*}"
      ]
    },
    {
      "cell_type": "code",
      "execution_count": null,
      "metadata": {
        "colab": {
          "base_uri": "https://localhost:8080/",
          "height": 296
        },
        "id": "Q1V4ku_t1ejj",
        "outputId": "2f5e0266-2a08-46a0-d0bc-d32ce09cc556"
      },
      "outputs": [],
      "source": [
        "# Будем пользоваться функциями которые определили в предыдущих задачах и их изменёнными версиями:\n",
        "# 1)Нахождение и парсинг общего решения однородной и неоднородной СЛАУ через linsolve в матрицу - Parse_linsolve\n",
        "# 2)Нахождение и парсинг ФСР однородной и неоднородной СЛАУ из списка в матрицу - Parse_Fsos\n",
        "# 3)Переопределённая функция Create_Fsos\n",
        "# 4)Проверка совместности и единственности решения СЛАУ - Check_Uniqie_Solution\n",
        "\n",
        "# Фунция проверяющая имеет ли однородная СЛАУ нетривиальное решение\n",
        "# И ,если да, находящая ФСР для СЛАУ\n",
        "def Create_Fsos(mx):\n",
        "  check_non_trival = mx.rank() < mx.shape[1]\n",
        "  if (check_non_trival):\n",
        "    print(\"\\nОднородная СЛАУ имеет нетривиальное решение.\\n\")\n",
        "    display(Latex(f\"N\\ -\\ Rng(A)\\ =\\  {mx.shape[1] - mx.rank()}\\ -\\ размерность\\ пространства\\ решений\"))\n",
        "    return True\n",
        "  else:\n",
        "    print(f\"\\nСЛАУ не имеент нетривального решения\\n\")\n",
        "    return False\n",
        "\n",
        "A = Matrix([[-2, -3, 1, 8, 5], [9, 2, -1, 5, 8], [-44, -20, 8 ,12, -12], [-6, 0, -8, 2, 8], [9, 3, 4, -3, -9]])\n",
        "B = Matrix([37, 65, -112, 26, 8])\n",
        "mx_full = A.col_insert(5, B)\n",
        "\n",
        "Check_Uniqie_Solution(mx_full)\n",
        "print()\n",
        "display(Latex(fr\"\\bullet\\  N \\text{{ - число переменных/столбцов в матрице.}}\"))\n",
        "checked_fsos = Create_Fsos(A)\n",
        "\n",
        "if (checked_fsos):\n",
        "  print(\"\\n[1]. Однородная СЛАУ:\\n\")\n",
        "  display(Latex(f\"ФСР\\ : {latex(Parse_Fsos(A))}\\ ,\\  Общее\\  решение\\ :\\  {latex(Parse_linsolve(A, 0))}\"))\n",
        "  print(\"\\n[2].Неоднородная СЛАУ:\\n\")\n",
        "  display(Latex(f\"ФСР\\ : {latex(Parse_Fsos(A))}\\ ,\\  Общее\\  решение\\ :\\  {latex(Parse_linsolve(mx_full, 1))}\"))\n"
      ]
    }
  ],
  "metadata": {
    "colab": {
      "provenance": []
    },
    "kernelspec": {
      "display_name": "Python 3 (ipykernel)",
      "language": "python",
      "name": "python3"
    },
    "language_info": {
      "codemirror_mode": {
        "name": "ipython",
        "version": 3
      },
      "file_extension": ".py",
      "mimetype": "text/x-python",
      "name": "python",
      "nbconvert_exporter": "python",
      "pygments_lexer": "ipython3",
      "version": "3.10.7"
    }
  },
  "nbformat": 4,
  "nbformat_minor": 0
}

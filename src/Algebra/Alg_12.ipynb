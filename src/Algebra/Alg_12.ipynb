{
  "cells": [
    {
      "cell_type": "code",
      "execution_count": null,
      "metadata": {
        "id": "BQ-uTnJuCclQ"
      },
      "outputs": [],
      "source": [
        "import sympy\n",
        "from sympy import  Matrix, symbols, latex, S, simplify\n",
        "from sympy import  sin as Sin\n",
        "from sympy import  cos as Cos\n",
        "from sympy import  pi as Pi\n",
        "from sympy.vector import CoordSys3D, Vector, matrix_to_vector, AxisOrienter, express\n",
        "from IPython.display import Latex, display\n",
        "import pandas as pd\n",
        "from dataclasses import dataclass, field\n",
        "import numpy as np\n",
        "from itertools import product\n",
        "from google.colab import files"
      ]
    },
    {
      "cell_type": "markdown",
      "metadata": {
        "id": "HaZ4p6ZaCclc"
      },
      "source": [
        "# Практическое занятие 12\n",
        "# Компьютерный практикум по алгебре на Python\n",
        "## Векторы\n",
        "### Задание 1.\n",
        "Задать систему координат с именем '1'.\n",
        "Найти скалярное и векторное произведение векторов $a(-\\cos(\\pi/4), \\sin(\\pi/3), 1)$ и $b(2, -1, 3)$."
      ]
    },
    {
      "cell_type": "code",
      "execution_count": null,
      "metadata": {
        "colab": {
          "base_uri": "https://localhost:8080/",
          "height": 71
        },
        "id": "epNtfMZz1MXz",
        "outputId": "1c4a5caa-0fd5-47e8-87d7-dcb7ace15250"
      },
      "outputs": [],
      "source": [
        "Sys1 = CoordSys3D(\"1\")\n",
        "vec_a = -sympy.cos(Pi/4) * Sys1.i + sympy.sin(Pi/3) * Sys1.j + Sys1.k\n",
        "vec_b = 2 * Sys1.i - Sys1.j + 3 * Sys1.k\n",
        "\n",
        "display(*map(Latex, map('\\ =\\ '.join, zip(('a \\cdot b', 'a \\\\times b'), map(latex, (vec_a.dot(vec_b), vec_a.cross(vec_b)))))))"
      ]
    },
    {
      "cell_type": "markdown",
      "metadata": {
        "id": "B8Je98zJCclg"
      },
      "source": [
        "### Задание 2\n",
        "Ввести безымянную систему координат $M$ и символы $\\varphi$ и $c$.\n",
        "Вычислить $5u\\cdot(v - u)$ и $((2v + u)\\times(v - 3u)) $,\n",
        "\n",
        "$u = (\\cos(\\varphi), 2c - 5, \\sin(2\\varphi))$, $v = (\\sin(\\varphi), 2c  + 5, \\cos(2\\varphi))$.\n",
        "\n",
        "Скалярное произведение обозначено $\\cdot$, векторное $\\times$.\n",
        "Использовать  & и ^, скобки расставить как в условии, поскольку приоритет у & и ^ ниже, чем у + и -. Упростить полученное выражение."
      ]
    },
    {
      "cell_type": "code",
      "execution_count": null,
      "metadata": {
        "colab": {
          "base_uri": "https://localhost:8080/",
          "height": 158
        },
        "id": "JILe-FnA1NRK",
        "outputId": "716c5a60-4266-47b0-8d9b-42bc97d9efed"
      },
      "outputs": [],
      "source": [
        "phi, c = symbols(r'\\varphi, c')\n",
        "M = CoordSys3D('')\n",
        "vec_u = Cos(phi) * M.i + (2 * c - 5) * M.j + Sin(2 * phi) * M.k\n",
        "vec_v = Sin(phi) * M.i + (2 * c + 5) * M.j + Cos(2 * phi) * M.k\n",
        "\n",
        "expr_1 = (5 * vec_u) & (vec_v - vec_u)\n",
        "expr_2 = ((2 * vec_v + vec_u) ^ (vec_v - 3 * vec_u))\n",
        "expr_1_s = sympy.simplify(expr_1)\n",
        "expr_2_s = sympy.simplify(expr_2)\n",
        "display(*map(Latex, map('\\ =\\ '.join, zip(('Expr_1 = 5u \\cdot (v - u)', 'Simplified\\  Expr_1', 'Expr_2 = ((2v + u) \\\\times (v - 3u))', 'Simplified\\  Expr_2'), map(latex, (expr_1, expr_1_s, expr_2, expr_2_s))))))"
      ]
    },
    {
      "cell_type": "markdown",
      "metadata": {
        "id": "5M-6y40TCclh"
      },
      "source": [
        "### Задание 3\n",
        "Упростить вектор $g(-2p^2 + 5pq - 3q^2, \\cos(q) + 2\\sin(q - \\pi/2), \\sin^2(p) - \\cos^2(p))$.\n",
        "Вывести на экран координаты упрощенного вектора, его длину и проекции на координатные оси"
      ]
    },
    {
      "cell_type": "code",
      "execution_count": null,
      "metadata": {
        "colab": {
          "base_uri": "https://localhost:8080/",
          "height": 246
        },
        "id": "hp0A8kHt1OVu",
        "outputId": "4fce1b7a-093b-4452-f687-2be97354fff6"
      },
      "outputs": [],
      "source": [
        "p,q = symbols('p q')\n",
        "\n",
        "vec_g = (-2 * p**2 + 5 * p * q - 3 * q ** 2) * M.i + (Cos(q) + 2 * Sin(q - S(Pi)/2)) * M.j + (Sin(p)**2 - Cos(p)**2) * M.k\n",
        "lst_projections = [simplify(vec_g_s.projection(vec)) for vec in M.base_vectors()]\n",
        "display(*map(Latex, map('\\ =\\ '.join, zip(('q', 'q\\  simpl.', 'g\\  coords', 'g\\  length', 'g\\  proj. on\\  \\overline{i}', 'g\\  proj.\\  on\\  \\overline{j}', 'g\\  proj\\ . on\\  \\overline{k}'),\n",
        "                                          map(latex, (vec_g,  vec_g.simplify(), vec_g_s.components, vec_g_s.magnitude(), *lst_projections))))))"
      ]
    },
    {
      "cell_type": "markdown",
      "metadata": {
        "id": "nOqai9ifCclj"
      },
      "source": [
        "### Задание  4\n",
        "Преобразовать матрицу $\\left(\\begin{matrix}-q\\\\ p\\\\ q + p\\end{matrix}\\right)$ в вектор в системе координат из Заданий 1 и 2.\n",
        "\n",
        "Вывести на экран матрицу и ее представления в обеих системах координат, а затем вывести только векторное представление при $q = -1, 0, 1, 2$ и $p = -10, 12$ на отдельных строках (использовать цикл, рассмотреть все пары значений)"
      ]
    },
    {
      "cell_type": "code",
      "execution_count": null,
      "metadata": {
        "colab": {
          "base_uri": "https://localhost:8080/",
          "height": 244
        },
        "id": "mASJcb6u1PS2",
        "outputId": "1014b1f2-13c4-4df7-f1d8-59daa4ee85cf"
      },
      "outputs": [],
      "source": [
        "mx_coords = Matrix([-p, p, q + p])\n",
        "vec_coord_m = matrix_to_vector(mx_coords, M)\n",
        "display(*map(Latex, map(': \\ '.join, zip(('Coord\\ Syst.\\ 1', 'M'), map(latex, (matrix_to_vector(mx_coords, Sys1), vec_coord_m ))))))\n",
        "for q_p in range(-1, 3):\n",
        "  for p_p in [-10, 12]:\n",
        "    display(Latex(f\"q = {q_p}, p = {p_p} : \" + fr\"{latex(simplify(vec_coord_m.subs({q : q_p, p: p_p})))}\"))"
      ]
    },
    {
      "cell_type": "markdown",
      "metadata": {
        "id": "hfKN73PnCclj"
      },
      "source": [
        "### Задание 5.\n",
        "Ввести новую систему координат $S5$, которая получается поворотом системы координат $M$ из Задания 2 на угол $\\pi/4$ относительно оси $j$ по часовой стрелке.\n",
        "Определить вектор $b5$ на основе матрицы из Задания 4 в соответствии с системой координат M, затем получить представление в матричном виде вектора $b5\\_S5$ в системе координат $S5$.  Вывести на экран матрицу поворота, вектор $b5$ в системе координат $M$  и $S5$."
      ]
    },
    {
      "cell_type": "code",
      "execution_count": null,
      "metadata": {
        "colab": {
          "base_uri": "https://localhost:8080/",
          "height": 141
        },
        "id": "cdAdhdYs1QMA",
        "outputId": "bb9458d7-89b2-40f0-c68a-857e6a55ccc5"
      },
      "outputs": [],
      "source": [
        "S5 = M.orient_new_axis('S5', -S(Pi)/4, M.j)\n",
        "b5 = matrix_to_vector(mx_coords, M)\n",
        "b5_S5 = simplify(matrix_to_vector(b5.to_matrix(S5), S5))\n",
        "R_mx = M.rotation_matrix(S5)\n",
        "display(*map(Latex, map('\\ : \\ '.join, zip(('Rotation\\ matrix', 'b5_M', 'b5_{S5}'), map(latex, (R_mx, b5, b5_S5))))))"
      ]
    },
    {
      "cell_type": "markdown",
      "metadata": {
        "id": "wsupzWmVCclk"
      },
      "source": [
        "### Задание 6.\n",
        "Повернуть систему координат  M  из Задания 2 на $\\pi/3$ по часовой стрелке относительно оси, определяемой вектором $(3, -4, 12)$. Выразить вектор b5 в новой системе координат."
      ]
    },
    {
      "cell_type": "code",
      "execution_count": null,
      "metadata": {
        "colab": {
          "base_uri": "https://localhost:8080/",
          "height": 47
        },
        "id": "b2dpQInD1RKS",
        "outputId": "b5061093-3db8-4286-af0c-ce264184b597"
      },
      "outputs": [],
      "source": [
        "S6 = M.orient_new_axis('S6', -S(Pi)/3, 3 * M.i - 4 * M.j + 12 * M.k)\n",
        "b5_S6 = simplify(matrix_to_vector(b5.to_matrix(S6), S6))\n",
        "display(Latex(fr'\\text{{b5-S6}} = {latex(b5_S6)}'))"
      ]
    },
    {
      "cell_type": "markdown",
      "metadata": {
        "id": "AOb9_bau6vK1"
      },
      "source": [
        "### Задание 7*.\n",
        "Составить класс dataclass векторов в пространстве, имя класса my_vect.\n",
        "\n",
        "**Обязательные переменные класса** coord_sys_name - имя системы координат и coordinates - кортеж из координат.\n",
        "\n",
        "**Переременная со значением по умолчанию** : coord_sys - система координат в пространстве, по умолчанию None\n",
        "\n",
        "**Атрибуты класса:** get_coord_sys и vector\n",
        "\n",
        "**Метод класса:** characts\n",
        "\n",
        "get_coord_sys проверяет, заполнена ли переменная coord_sys, если coord_sys равна None, то заполняет coord_sys в соответствии и именем coord_sys_name и возвращает значение coord_sys\n",
        "\n",
        "vector возвращает вектор в системе координат coord_sys\n",
        "\n",
        "characts возвращает координаты вектора, длину и нормализованный вектор  (по умолчанию координаты вектора возвращать в виде словаря, но предусмотреть возможность возвращать координаты в виде кортежа, np.array и списка, для этого нужно использовать необязательный аргумент)\n",
        "\n",
        "Из файла 'task_12_7.xlsx' считать координаты векторов, составить векторы my_vect и вывести на экран на отдельных строках полученные экземпляры и характеристики  characts этих векторов. При этом координаты векторов из 1, 2 и 5 строки файла выводить в виде списка, из 3 строки в виде словаря, из 4 строки в виде np.array, а из остальных строк в виде кортежа."
      ]
    },
    {
      "cell_type": "code",
      "execution_count": null,
      "metadata": {
        "id": "9p-2zRLP1SRM"
      },
      "outputs": [],
      "source": [
        "@dataclass\n",
        "class my_vect:\n",
        "  coord_sys_name: str\n",
        "  coordinates: tuple\n",
        "  coord_sys: CoordSys3D = field(default = None, repr = False)\n",
        "\n",
        "  @property\n",
        "  def get_coord_sys(self) -> CoordSys3D:\n",
        "    if (self.coord_sys == None):\n",
        "      self.coord_sys = CoordSys3D(f'{self.coord_sys_name}', vector_names = ('i', 'j', 'k'))\n",
        "    return self.coord_sys\n",
        "\n",
        "  @property\n",
        "  def vector(self):\n",
        "    return matrix_to_vector(Matrix([*self.coordinates]), self.get_coord_sys)\n",
        "\n",
        "  def characts(self, vector_data_type = \"dict\"):\n",
        "    lst_data = []\n",
        "    cur_vec = self.vector\n",
        "    if (vector_data_type == 'dict'):\n",
        "      lst_data.append(cur_vec.components)\n",
        "    elif (vector_data_type == \"tuple\"):\n",
        "      lst_data.append(self.coordinates)\n",
        "    elif (vector_data_type == \"np.array\"):\n",
        "      lst_data.append(np.array([*self.coordinates]))\n",
        "    elif (vector_data_type == 'list'):\n",
        "      lst_data.append([*self.coordinates])\n",
        "    lst_data.append(cur_vec.magnitude())\n",
        "    lst_data.append(cur_vec.normalize())\n",
        "    return lst_data"
      ]
    },
    {
      "cell_type": "code",
      "execution_count": null,
      "metadata": {
        "colab": {
          "base_uri": "https://localhost:8080/",
          "height": 73
        },
        "id": "TIpwQjSrJjFx",
        "outputId": "847e8c60-9741-45d7-c48f-fe61ca5cb054"
      },
      "outputs": [],
      "source": [
        "# Скачаем данные из файла\n",
        "uploaded_files_dct = files.upload()\n",
        "file_name = [name for name in uploaded_files_dct.keys()][0]\n",
        "data_df = pd.read_excel(file_name, sheet_name = \"vects\", engine = 'openpyxl')"
      ]
    },
    {
      "cell_type": "code",
      "execution_count": null,
      "metadata": {
        "colab": {
          "base_uri": "https://localhost:8080/",
          "height": 1000
        },
        "id": "fO3TZOfmKypW",
        "outputId": "ad8e5d8e-f345-42af-e01b-7c0736e29489"
      },
      "outputs": [],
      "source": [
        "lst_my_vect = [my_vect(coord_sys_name = data_df['v'].iloc[i], coordinates = (data_df['x'].iloc[i], data_df['y'].iloc[i], data_df['z'].iloc[i])) for i in range(len(data_df))]\n",
        "\n",
        "for i in range(len(lst_my_vect)):\n",
        "  display(Latex(fr\"[{i + 1}].\"))\n",
        "  print()\n",
        "  my_vect_obj = lst_my_vect[i]\n",
        "  display(my_vect_obj)\n",
        "  cur_data_type = ''\n",
        "\n",
        "  if any([i == x for x in [0, 1, 4]]):\n",
        "    cur_data_type = 'list'\n",
        "  elif i == 2:\n",
        "    cur_data_type = 'dict'\n",
        "  elif i == 3:\n",
        "    cur_data_type = 'np.array'\n",
        "  else:\n",
        "    cur_data_type = 'tuple'\n",
        "  lst_data_obj = my_vect_obj.characts(cur_data_type)\n",
        "\n",
        "  display(*map(Latex, map('\\ : \\ '.join, zip(('Coordinates', 'Length', 'Normalized\\ vector'), map(latex, lst_data_obj)))))\n",
        "  print()"
      ]
    },
    {
      "cell_type": "markdown",
      "metadata": {
        "id": "LVIOHcc0Ccll"
      },
      "source": [
        "### Индивидуальное задание.\n",
        "Ввести безымянную систему координат XYZ, задать в ней векторы $v_1$ и $v_2$. Построить новую систему координат XYZ1 с именем Name поворотом  XYZ на $\\alpha$ по или против часовой стрелки относительно оси, определяемой вектором $b$, выразить векторы $v_1$ и $v_2$ в новой системе координат. Найти скалярное и векторное произведение векторов в новой и старой системе координат. Выразить вектор, равный векторному произведению $v_1$ и $v_2$ в старой системе координат через новую систему координат, сравнить с векторным произведением $v_1$ и $v_2$, выраженных в новой системе координат.\n",
        "\n",
        "Вариант N 43\n",
        "\n",
        "$v_1 = \\left(6\\right)\\mathbf{\\hat{i}_{}} + \\left(-6\\right)\\mathbf{\\hat{j}_{}} + \\left(-3\\right)\\mathbf{\\hat{k}_{}}$, $v_2 = \\left(6\\right)\\mathbf{\\hat{i}_{}} + \\left(-2\\right)\\mathbf{\\hat{j}_{}} + \\left(-2\\right)\\mathbf{\\hat{k}_{}}$, Name = d, угол поворота $- \\pi / 4$, ось $\\left(2\\right)\\mathbf{\\hat{i}_{}} + \\left(-9\\right)\\mathbf{\\hat{j}_{}}$"
      ]
    },
    {
      "cell_type": "code",
      "execution_count": null,
      "metadata": {
        "colab": {
          "base_uri": "https://localhost:8080/",
          "height": 251
        },
        "id": "0D-TLmEg1Tdo",
        "outputId": "93be9133-f1b0-40f8-de43-b90126c1e096"
      },
      "outputs": [],
      "source": [
        "XYZ = CoordSys3D('')\n",
        "vec_v1 = 6 * XYZ .i - 6 * XYZ .j - 3 * XYZ .k\n",
        "vec_v2 = 6 * XYZ .i - 2 * XYZ .j - 2 * XYZ .k\n",
        "XYZ1 = XYZ.orient_new_axis('d', -S(Pi)/4, 2 * XYZ.i - 9 * XYZ.j)\n",
        "vec_v1_new = simplify(matrix_to_vector(vec_v1.to_matrix(XYZ1), XYZ1))\n",
        "vec_v2_new = simplify(matrix_to_vector(vec_v2.to_matrix(XYZ1), XYZ1))\n",
        "scal_old = vec_v1.dot(vec_v2)\n",
        "scal_new = simplify(vec_v1_new.dot(vec_v2_new))\n",
        "vec_mul_old = vec_v1.cross(vec_v2)\n",
        "vec_mul_new = simplify(vec_v1_new.cross(vec_v2_new))\n",
        "vec_mul_old_to_new = simplify(matrix_to_vector(vec_mul_old.to_matrix(XYZ1), XYZ1))\n",
        "display(*map(Latex, map('\\ : \\ '.join, zip(('v_1', 'v_2', 'v_1\\ new', 'v_2\\ new', 'v_1 \\cdot v_2', 'new\\ v_1 \\cdot v_2', 'v_1 \\\\times v_2', 'new\\ v_1 \\\\times v_2', 'new\\ v_1 \\\\times v_2 \\ V2'),\n",
        "                                           map(latex, (vec_v1, vec_v2, vec_v1_new, vec_v2_new, scal_old, scal_new, vec_mul_old, vec_mul_new, vec_mul_old_to_new))))))"
      ]
    }
  ],
  "metadata": {
    "colab": {
      "provenance": []
    },
    "kernelspec": {
      "display_name": "Python 3",
      "language": "python",
      "name": "python3"
    },
    "language_info": {
      "codemirror_mode": {
        "name": "ipython",
        "version": 3
      },
      "file_extension": ".py",
      "mimetype": "text/x-python",
      "name": "python",
      "nbconvert_exporter": "python",
      "pygments_lexer": "ipython3",
      "version": "3.7.3"
    }
  },
  "nbformat": 4,
  "nbformat_minor": 0
}
